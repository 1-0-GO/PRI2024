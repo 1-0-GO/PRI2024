{
 "cells": [
  {
   "cell_type": "markdown",
   "id": "1c8699e0",
   "metadata": {},
   "source": [
    "# PRI Lab 2"
   ]
  },
  {
   "cell_type": "code",
   "execution_count": 1,
   "id": "cda616dd",
   "metadata": {},
   "outputs": [],
   "source": [
    "import warnings\n",
    "warnings.filterwarnings('ignore')"
   ]
  },
  {
   "cell_type": "code",
   "execution_count": 2,
   "id": "579bb0df",
   "metadata": {},
   "outputs": [],
   "source": [
    "import os, numpy as np, pandas as pd\n",
    "import matplotlib.pyplot as plt"
   ]
  },
  {
   "cell_type": "markdown",
   "id": "e1ce00a1",
   "metadata": {},
   "source": [
    "## Exercise 1"
   ]
  },
  {
   "cell_type": "code",
   "execution_count": 3,
   "id": "a5de69c8",
   "metadata": {},
   "outputs": [],
   "source": [
    "from whoosh import index, fields, qparser"
   ]
  },
  {
   "cell_type": "code",
   "execution_count": 4,
   "id": "995d271a",
   "metadata": {},
   "outputs": [],
   "source": [
    "def whoosh_indexing(file):\n",
    "    if not os.path.exists('index_lab2'): os.mkdir('index_lab2')\n",
    "    schema = fields.Schema(id=fields.NUMERIC(stored=True), content=fields.TEXT)\n",
    "    ix = index.create_in(\"index_lab2\", schema)\n",
    "    writer = ix.writer()\n",
    "    with open(file, 'r') as f:\n",
    "        for identifier, line in enumerate(f):\n",
    "            writer.add_document(id=identifier, content=line)\n",
    "    writer.commit()\n",
    "    return ix"
   ]
  },
  {
   "cell_type": "code",
   "execution_count": 5,
   "id": "70a37f34",
   "metadata": {},
   "outputs": [],
   "source": [
    "def retrieve_docs(index, query):\n",
    "    with index.searcher() as searcher:\n",
    "        q = qparser.QueryParser(\"content\", index.schema, group=qparser.OrGroup).parse(query)\n",
    "        return set(searcher.docs_for_query(q))"
   ]
  },
  {
   "cell_type": "code",
   "execution_count": 6,
   "id": "d63f9b86",
   "metadata": {},
   "outputs": [],
   "source": [
    "def precision(docs, relevant_docs):\n",
    "    return len(relevant_docs.intersection(docs))/len(docs)\n",
    "\n",
    "def recall(docs, relevant_docs):\n",
    "    return len(relevant_docs.intersection(docs))/len(relevant_docs)\n",
    "\n",
    "def F1(id_list, rel_set_ids):\n",
    "    p = precision(id_list,rel_set_ids)\n",
    "    r = recall(id_list,rel_set_ids)\n",
    "    if p+r == 0: return 0\n",
    "    return 2 * (p*r) / (p+r)"
   ]
  },
  {
   "cell_type": "code",
   "execution_count": 7,
   "id": "66369a09",
   "metadata": {},
   "outputs": [],
   "source": [
    "myindex = whoosh_indexing(\"pri_cfc.txt\")"
   ]
  },
  {
   "cell_type": "code",
   "execution_count": 8,
   "id": "de01b0f8",
   "metadata": {},
   "outputs": [
    {
     "name": "stdout",
     "output_type": "stream",
     "text": [
      "F1 for query Q0:0.052\n",
      "F1 for query Q1:0.006\n",
      "F1 for query Q2:0.073\n",
      "F1 for query Q3:0.016\n",
      "F1 for query Q4:0.144\n"
     ]
    }
   ],
   "source": [
    "with open('pri_queries.txt') as f:\n",
    "    limit = 5\n",
    "    query = True\n",
    "    docs = set()\n",
    "    for i,line in enumerate(f):\n",
    "        if i==limit*2: break\n",
    "        if query: docs = retrieve_docs(myindex, line)\n",
    "        else: \n",
    "            relevant_docs = {int(x) for x in line.split()}\n",
    "            print(\"F1 for query Q%d:%.3f\"%(i/2,F1(docs,relevant_docs)))\n",
    "        query = not(query)"
   ]
  },
  {
   "cell_type": "markdown",
   "id": "0cb722df",
   "metadata": {},
   "source": [
    "## Exercise 2"
   ]
  },
  {
   "cell_type": "code",
   "execution_count": 9,
   "id": "528d7566",
   "metadata": {},
   "outputs": [],
   "source": [
    "from sklearn.feature_extraction import text"
   ]
  },
  {
   "cell_type": "code",
   "execution_count": 10,
   "id": "dda8af4f",
   "metadata": {},
   "outputs": [],
   "source": [
    "def sklearn_vectorizer(documents, tfidf=False):\n",
    "    vectorizer = text.TfidfVectorizer() if tfidf else text.CountVectorizer()\n",
    "    data = vectorizer.fit_transform(documents)\n",
    "    features = vectorizer.get_feature_names_out()\n",
    "    return data, features"
   ]
  },
  {
   "cell_type": "code",
   "execution_count": 12,
   "id": "2a5d2ca8",
   "metadata": {},
   "outputs": [
    {
     "data": {
      "text/html": [
       "<div>\n",
       "<style scoped>\n",
       "    .dataframe tbody tr th:only-of-type {\n",
       "        vertical-align: middle;\n",
       "    }\n",
       "\n",
       "    .dataframe tbody tr th {\n",
       "        vertical-align: top;\n",
       "    }\n",
       "\n",
       "    .dataframe thead th {\n",
       "        text-align: right;\n",
       "    }\n",
       "</style>\n",
       "<table border=\"1\" class=\"dataframe\">\n",
       "  <thead>\n",
       "    <tr style=\"text-align: right;\">\n",
       "      <th></th>\n",
       "      <th>00</th>\n",
       "      <th>000</th>\n",
       "      <th>00001</th>\n",
       "      <th>00002</th>\n",
       "      <th>00003</th>\n",
       "      <th>00004</th>\n",
       "      <th>00005</th>\n",
       "      <th>00006</th>\n",
       "      <th>00007</th>\n",
       "      <th>00008</th>\n",
       "      <th>...</th>\n",
       "      <th>zeta</th>\n",
       "      <th>zh</th>\n",
       "      <th>zinc</th>\n",
       "      <th>zn2</th>\n",
       "      <th>zona</th>\n",
       "      <th>zone</th>\n",
       "      <th>zones</th>\n",
       "      <th>zymogen</th>\n",
       "      <th>zymograms</th>\n",
       "      <th>zz</th>\n",
       "    </tr>\n",
       "  </thead>\n",
       "  <tbody>\n",
       "    <tr>\n",
       "      <th>0</th>\n",
       "      <td>0.0</td>\n",
       "      <td>0.0</td>\n",
       "      <td>0.105743</td>\n",
       "      <td>0.000000</td>\n",
       "      <td>0.000000</td>\n",
       "      <td>0.000000</td>\n",
       "      <td>0.000000</td>\n",
       "      <td>0.0</td>\n",
       "      <td>0.0</td>\n",
       "      <td>0.0</td>\n",
       "      <td>...</td>\n",
       "      <td>0.0</td>\n",
       "      <td>0.0</td>\n",
       "      <td>0.0</td>\n",
       "      <td>0.0</td>\n",
       "      <td>0.0</td>\n",
       "      <td>0.0</td>\n",
       "      <td>0.0</td>\n",
       "      <td>0.0</td>\n",
       "      <td>0.0</td>\n",
       "      <td>0.0</td>\n",
       "    </tr>\n",
       "    <tr>\n",
       "      <th>1</th>\n",
       "      <td>0.0</td>\n",
       "      <td>0.0</td>\n",
       "      <td>0.000000</td>\n",
       "      <td>0.123161</td>\n",
       "      <td>0.000000</td>\n",
       "      <td>0.000000</td>\n",
       "      <td>0.000000</td>\n",
       "      <td>0.0</td>\n",
       "      <td>0.0</td>\n",
       "      <td>0.0</td>\n",
       "      <td>...</td>\n",
       "      <td>0.0</td>\n",
       "      <td>0.0</td>\n",
       "      <td>0.0</td>\n",
       "      <td>0.0</td>\n",
       "      <td>0.0</td>\n",
       "      <td>0.0</td>\n",
       "      <td>0.0</td>\n",
       "      <td>0.0</td>\n",
       "      <td>0.0</td>\n",
       "      <td>0.0</td>\n",
       "    </tr>\n",
       "    <tr>\n",
       "      <th>2</th>\n",
       "      <td>0.0</td>\n",
       "      <td>0.0</td>\n",
       "      <td>0.000000</td>\n",
       "      <td>0.000000</td>\n",
       "      <td>0.129105</td>\n",
       "      <td>0.000000</td>\n",
       "      <td>0.000000</td>\n",
       "      <td>0.0</td>\n",
       "      <td>0.0</td>\n",
       "      <td>0.0</td>\n",
       "      <td>...</td>\n",
       "      <td>0.0</td>\n",
       "      <td>0.0</td>\n",
       "      <td>0.0</td>\n",
       "      <td>0.0</td>\n",
       "      <td>0.0</td>\n",
       "      <td>0.0</td>\n",
       "      <td>0.0</td>\n",
       "      <td>0.0</td>\n",
       "      <td>0.0</td>\n",
       "      <td>0.0</td>\n",
       "    </tr>\n",
       "    <tr>\n",
       "      <th>3</th>\n",
       "      <td>0.0</td>\n",
       "      <td>0.0</td>\n",
       "      <td>0.000000</td>\n",
       "      <td>0.000000</td>\n",
       "      <td>0.000000</td>\n",
       "      <td>0.084758</td>\n",
       "      <td>0.000000</td>\n",
       "      <td>0.0</td>\n",
       "      <td>0.0</td>\n",
       "      <td>0.0</td>\n",
       "      <td>...</td>\n",
       "      <td>0.0</td>\n",
       "      <td>0.0</td>\n",
       "      <td>0.0</td>\n",
       "      <td>0.0</td>\n",
       "      <td>0.0</td>\n",
       "      <td>0.0</td>\n",
       "      <td>0.0</td>\n",
       "      <td>0.0</td>\n",
       "      <td>0.0</td>\n",
       "      <td>0.0</td>\n",
       "    </tr>\n",
       "    <tr>\n",
       "      <th>4</th>\n",
       "      <td>0.0</td>\n",
       "      <td>0.0</td>\n",
       "      <td>0.000000</td>\n",
       "      <td>0.000000</td>\n",
       "      <td>0.000000</td>\n",
       "      <td>0.000000</td>\n",
       "      <td>0.123472</td>\n",
       "      <td>0.0</td>\n",
       "      <td>0.0</td>\n",
       "      <td>0.0</td>\n",
       "      <td>...</td>\n",
       "      <td>0.0</td>\n",
       "      <td>0.0</td>\n",
       "      <td>0.0</td>\n",
       "      <td>0.0</td>\n",
       "      <td>0.0</td>\n",
       "      <td>0.0</td>\n",
       "      <td>0.0</td>\n",
       "      <td>0.0</td>\n",
       "      <td>0.0</td>\n",
       "      <td>0.0</td>\n",
       "    </tr>\n",
       "  </tbody>\n",
       "</table>\n",
       "<p>5 rows × 11225 columns</p>\n",
       "</div>"
      ],
      "text/plain": [
       "    00  000     00001     00002     00003     00004     00005  00006  00007  \\\n",
       "0  0.0  0.0  0.105743  0.000000  0.000000  0.000000  0.000000    0.0    0.0   \n",
       "1  0.0  0.0  0.000000  0.123161  0.000000  0.000000  0.000000    0.0    0.0   \n",
       "2  0.0  0.0  0.000000  0.000000  0.129105  0.000000  0.000000    0.0    0.0   \n",
       "3  0.0  0.0  0.000000  0.000000  0.000000  0.084758  0.000000    0.0    0.0   \n",
       "4  0.0  0.0  0.000000  0.000000  0.000000  0.000000  0.123472    0.0    0.0   \n",
       "\n",
       "   00008  ...  zeta   zh  zinc  zn2  zona  zone  zones  zymogen  zymograms  \\\n",
       "0    0.0  ...   0.0  0.0   0.0  0.0   0.0   0.0    0.0      0.0        0.0   \n",
       "1    0.0  ...   0.0  0.0   0.0  0.0   0.0   0.0    0.0      0.0        0.0   \n",
       "2    0.0  ...   0.0  0.0   0.0  0.0   0.0   0.0    0.0      0.0        0.0   \n",
       "3    0.0  ...   0.0  0.0   0.0  0.0   0.0   0.0    0.0      0.0        0.0   \n",
       "4    0.0  ...   0.0  0.0   0.0  0.0   0.0   0.0    0.0      0.0        0.0   \n",
       "\n",
       "    zz  \n",
       "0  0.0  \n",
       "1  0.0  \n",
       "2  0.0  \n",
       "3  0.0  \n",
       "4  0.0  \n",
       "\n",
       "[5 rows x 11225 columns]"
      ]
     },
     "execution_count": 12,
     "metadata": {},
     "output_type": "execute_result"
    }
   ],
   "source": [
    "collection = []\n",
    "with open(\"pri_cfc.txt\", 'r') as f:\n",
    "    for line in f:\n",
    "        collection.append(line)\n",
    "data, features = sklearn_vectorizer(collection,True)\n",
    "pd.DataFrame(np.array(data.toarray()),columns=features).head()"
   ]
  },
  {
   "cell_type": "code",
   "execution_count": 11,
   "id": "69625d1b",
   "metadata": {},
   "outputs": [],
   "source": [
    "import umap, umap.plot"
   ]
  },
  {
   "cell_type": "code",
   "execution_count": 14,
   "id": "922381d7",
   "metadata": {},
   "outputs": [
    {
     "data": {
      "image/png": "[encoded data removed]",
      "text/plain": [
       "<Figure size 800x800 with 1 Axes>"
      ]
     },
     "metadata": {},
     "output_type": "display_data"
    }
   ],
   "source": [
    "mapper = umap.UMAP(metric=\"cosine\", random_state=0).fit(data.toarray())\n",
    "umap.plot.points(mapper)\n",
    "plt.show()"
   ]
  },
  {
   "cell_type": "markdown",
   "id": "5868d7c9",
   "metadata": {},
   "source": [
    "### BERT"
   ]
  },
  {
   "cell_type": "markdown",
   "id": "339ac282",
   "metadata": {},
   "source": [
    "Note: BERT is originally prepared to produce single/paired sentence embeddings. Its application for multiple sentences can produce suboptimal results. "
   ]
  },
  {
   "cell_type": "code",
   "execution_count": 15,
   "id": "0c040367",
   "metadata": {},
   "outputs": [],
   "source": [
    "import torch\n",
    "from transformers import BertModel, BertTokenizer"
   ]
  },
  {
   "cell_type": "code",
   "execution_count": 16,
   "id": "fe6d399a",
   "metadata": {},
   "outputs": [],
   "source": [
    "tokenizer = BertTokenizer.from_pretrained('bert-base-uncased', truncation=True, do_lower_case=True)"
   ]
  },
  {
   "cell_type": "code",
   "execution_count": 17,
   "id": "92bbf709",
   "metadata": {},
   "outputs": [],
   "source": [
    "bert_model = BertModel.from_pretrained('bert-base-uncased', output_hidden_states=True)"
   ]
  },
  {
   "cell_type": "code",
   "execution_count": 18,
   "id": "c4a2759d",
   "metadata": {},
   "outputs": [
    {
     "name": "stdout",
     "output_type": "stream",
     "text": [
      "BertModel(\n",
      "  (embeddings): BertEmbeddings(\n",
      "    (word_embeddings): Embedding(30522, 768, padding_idx=0)\n",
      "    (position_embeddings): Embedding(512, 768)\n",
      "    (token_type_embeddings): Embedding(2, 768)\n",
      "    (LayerNorm): LayerNorm((768,), eps=1e-12, elementwise_affine=True)\n",
      "    (dropout): Dropout(p=0.1, inplace=False)\n",
      "  )\n",
      "  (encoder): BertEncoder(\n",
      "    (layer): ModuleList(\n",
      "      (0-11): 12 x BertLayer(\n",
      "        (attention): BertAttention(\n",
      "          (self): BertSelfAttention(\n",
      "            (query): Linear(in_features=768, out_features=768, bias=True)\n",
      "            (key): Linear(in_features=768, out_features=768, bias=True)\n",
      "            (value): Linear(in_features=768, out_features=768, bias=True)\n",
      "            (dropout): Dropout(p=0.1, inplace=False)\n",
      "          )\n",
      "          (output): BertSelfOutput(\n",
      "            (dense): Linear(in_features=768, out_features=768, bias=True)\n",
      "            (LayerNorm): LayerNorm((768,), eps=1e-12, elementwise_affine=True)\n",
      "            (dropout): Dropout(p=0.1, inplace=False)\n",
      "          )\n",
      "        )\n",
      "        (intermediate): BertIntermediate(\n",
      "          (dense): Linear(in_features=768, out_features=3072, bias=True)\n",
      "          (intermediate_act_fn): GELUActivation()\n",
      "        )\n",
      "        (output): BertOutput(\n",
      "          (dense): Linear(in_features=3072, out_features=768, bias=True)\n",
      "          (LayerNorm): LayerNorm((768,), eps=1e-12, elementwise_affine=True)\n",
      "          (dropout): Dropout(p=0.1, inplace=False)\n",
      "        )\n",
      "      )\n",
      "    )\n",
      "  )\n",
      "  (pooler): BertPooler(\n",
      "    (dense): Linear(in_features=768, out_features=768, bias=True)\n",
      "    (activation): Tanh()\n",
      "  )\n",
      ")\n"
     ]
    }
   ],
   "source": [
    "print(bert_model.eval())"
   ]
  },
  {
   "cell_type": "code",
   "execution_count": 19,
   "id": "a38021ef",
   "metadata": {},
   "outputs": [
    {
     "name": "stdout",
     "output_type": "stream",
     "text": [
      "Total number of params 109482240\n"
     ]
    }
   ],
   "source": [
    "print(\"Total number of params\", sum(p.numel() for p in bert_model.parameters()))"
   ]
  },
  {
   "cell_type": "code",
   "execution_count": 20,
   "id": "a691b26d",
   "metadata": {},
   "outputs": [],
   "source": [
    "def get_bert_output(tokenizer, model, sentence, mode='cls', optype='sumsum'):\n",
    "    tokenized_text = tokenizer.tokenize(sentence)\n",
    "    tokens_tensor = torch.tensor([tokenizer.convert_tokens_to_ids(tokenized_text)])\n",
    "    segments_tensors = torch.tensor([[1] * len(tokenized_text)])\n",
    "    outputs = model(tokens_tensor, segments_tensors)\n",
    "    if mode == 'cls': embedding = outputs[\"last_hidden_state\"].squeeze()[0]\n",
    "    elif mode == 'pooled': embedding = outputs[\"pooler_output\"].squeeze()\n",
    "    else: #'hidden'\n",
    "        layers = torch.stack(outputs['hidden_states'][-4:])\n",
    "        if optype == \"sumsum\": embedding = torch.sum(layers.sum(0).squeeze(), dim=0) \n",
    "        elif optype == \"summean\": embedding = torch.sum(layers.mean(0).squeeze(), dim=0) \n",
    "        elif optype == \"meanmean\": embedding = torch.mean(layers.mean(0).squeeze(), dim=0)    \n",
    "        else: embedding = torch.mean(layers.sum(0).squeeze(), dim=0)  \n",
    "    return embedding.detach().numpy()"
   ]
  },
  {
   "cell_type": "code",
   "execution_count": 21,
   "id": "6712adfa",
   "metadata": {},
   "outputs": [
    {
     "data": {
      "text/plain": [
       "array([-0.4561753 , -0.5301135 , -0.29728958,  0.02394348, -0.33440864,\n",
       "        0.2635137 ,  0.3446321 , -0.506187  ,  0.28424656], dtype=float32)"
      ]
     },
     "execution_count": 21,
     "metadata": {},
     "output_type": "execute_result"
    }
   ],
   "source": [
    "get_bert_output(tokenizer, bert_model, \"[CLS] \"+collection[0]+\" [SEP]\", mode='cls')[0:9]"
   ]
  },
  {
   "cell_type": "code",
   "execution_count": 22,
   "id": "1192fcc6",
   "metadata": {},
   "outputs": [
    {
     "data": {
      "text/plain": [
       "array([-0.7401288 , -0.44892102, -0.9735255 ,  0.42736003,  0.7727596 ,\n",
       "       -0.22928077, -0.21906333,  0.4749321 , -0.92802566], dtype=float32)"
      ]
     },
     "execution_count": 22,
     "metadata": {},
     "output_type": "execute_result"
    }
   ],
   "source": [
    "get_bert_output(tokenizer, bert_model, \"[CLS] \"+collection[0]+\" [SEP]\", mode='pooled')[0:9]"
   ]
  },
  {
   "cell_type": "code",
   "execution_count": 23,
   "id": "a6c2520d",
   "metadata": {},
   "outputs": [
    {
     "data": {
      "text/plain": [
       "array([-483.43835 ,   10.472988,  -31.468983,  -56.229652,  228.75642 ,\n",
       "        113.3151  ,  252.74164 ,  -63.401913,  153.59592 ], dtype=float32)"
      ]
     },
     "execution_count": 23,
     "metadata": {},
     "output_type": "execute_result"
    }
   ],
   "source": [
    "get_bert_output(tokenizer, bert_model, \"[CLS] \"+collection[0]+\" [SEP]\", mode='hidden')[0:9]"
   ]
  },
  {
   "cell_type": "code",
   "execution_count": 24,
   "id": "815c513a",
   "metadata": {},
   "outputs": [
    {
     "data": {
      "image/png": "[encoded data removed]",
      "text/plain": [
       "<Figure size 1500x500 with 3 Axes>"
      ]
     },
     "metadata": {},
     "output_type": "display_data"
    }
   ],
   "source": [
    "fig, axs = plt.subplots(1,3,figsize = (15,5))\n",
    "for i, mode in enumerate(['cls','hidden','pooled']):\n",
    "    embeddings = np.array([get_bert_output(tokenizer,bert_model,s,mode=mode) for s in collection[0:100]])\n",
    "    bert_mapper = umap.UMAP(metric=\"cosine\", random_state=0).fit(embeddings)\n",
    "    umap.plot.points(bert_mapper, width=200, height=200, ax=axs[i])\n",
    "plt.show()"
   ]
  }
 ],
 "metadata": {
  "kernelspec": {
   "display_name": "Python 3 (ipykernel)",
   "language": "python",
   "name": "python3"
  },
  "language_info": {
   "codemirror_mode": {
    "name": "ipython",
    "version": 3
   },
   "file_extension": ".py",
   "mimetype": "text/x-python",
   "name": "python",
   "nbconvert_exporter": "python",
   "pygments_lexer": "ipython3",
   "version": "3.11.5"
  }
 },
 "nbformat": 4,
 "nbformat_minor": 5
}
