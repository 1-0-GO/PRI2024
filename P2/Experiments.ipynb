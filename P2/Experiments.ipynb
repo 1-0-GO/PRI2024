{
 "cells": [
  {
   "cell_type": "code",
   "execution_count": 5,
   "metadata": {},
   "outputs": [],
   "source": [
    "from G11_code.data_collection import *\n",
    "from G11_code.helper_functions import *\n",
    "from G11_code.indexing import *\n",
    "from G11_code.clustering import *\n",
    "# from G11_code.evaluation import evaluation\n",
    "import seaborn as sns\n",
    "from tqdm import tqdm"
   ]
  },
  {
   "cell_type": "markdown",
   "metadata": {},
   "source": [
    "# Data Preparation"
   ]
  },
  {
   "cell_type": "code",
   "execution_count": 6,
   "metadata": {},
   "outputs": [
    {
     "name": "stdout",
     "output_type": "stream",
     "text": [
      "Article path: ..\\BBC News Summary\\BBC News Summary\\News Articles\n",
      "Summary path: ..\\BBC News Summary\\BBC News Summary\\Summaries\n",
      "Number of Categories: 5\n",
      "Number of Articles in 'business' Category: 510\n",
      "Number of Articles in 'entertainment' Category: 386\n",
      "Number of Articles in 'politics' Category: 417\n",
      "Number of Articles in 'sport' Category: 511\n",
      "Number of Articles in 'tech' Category: 401\n"
     ]
    }
   ],
   "source": [
    "article_path = os.path.join(\"..\", \"BBC News Summary\", \"BBC News Summary\", \"News Articles\")\n",
    "summary_path = os.path.join(\"..\", \"BBC News Summary\", \"BBC News Summary\", \"Summaries\")\n",
    "print(\"Article path:\", article_path)\n",
    "print(\"Summary path:\", summary_path)\n",
    "_article_file_paths_by_cat, _articles_by_cat, _summary_file_paths_by_cat, _summaries_by_cat, category_names = read_files(article_path, summary_path)"
   ]
  },
  {
   "cell_type": "code",
   "execution_count": 7,
   "metadata": {},
   "outputs": [
    {
     "name": "stdout",
     "output_type": "stream",
     "text": [
      "number of found summaries: 2217\n",
      "number of summaries: 2225\n",
      "99.64%\n"
     ]
    }
   ],
   "source": [
    "_summary_sentence_indices_by_cat, faulty_summary_ids = get_summary_sentence_indices(_articles_by_cat, _summaries_by_cat)"
   ]
  },
  {
   "cell_type": "code",
   "execution_count": 8,
   "metadata": {},
   "outputs": [],
   "source": [
    "articles_by_cat = remove_entries(_articles_by_cat, faulty_summary_ids)\n",
    "articles = flatten(articles_by_cat)\n",
    "article_file_paths_by_cat = remove_entries(_article_file_paths_by_cat, faulty_summary_ids)\n",
    "article_file_paths = flatten(article_file_paths_by_cat)\n",
    "summaries_by_cat = remove_entries(_summaries_by_cat, faulty_summary_ids)\n",
    "summaries = flatten(summaries_by_cat)\n",
    "summary_file_paths_by_cat = remove_entries(_summary_file_paths_by_cat, faulty_summary_ids)\n",
    "summary_file_paths = flatten(summary_file_paths_by_cat)\n",
    "summary_sentence_indices_by_cat = remove_entries(_summary_sentence_indices_by_cat, faulty_summary_ids)\n",
    "summary_sentence_indices = flatten(summary_sentence_indices_by_cat)"
   ]
  },
  {
   "cell_type": "code",
   "execution_count": 9,
   "metadata": {},
   "outputs": [],
   "source": [
    "dict_path_to_articleID = {path:i for i, path in enumerate(article_file_paths)}\n",
    "def map_path_to_articleID(path):\n",
    "    path = os.path.normpath(path)\n",
    "    return dict_path_to_articleID.get(path)"
   ]
  },
  {
   "cell_type": "markdown",
   "metadata": {},
   "source": [
    "# Options"
   ]
  },
  {
   "cell_type": "code",
   "execution_count": 10,
   "metadata": {},
   "outputs": [],
   "source": [
    "path = os.path.join(article_path, 'tech', '199.txt')\n",
    "d = map_path_to_articleID(path)\n",
    "compute_index = 1"
   ]
  },
  {
   "cell_type": "markdown",
   "metadata": {},
   "source": [
    "# Experiments"
   ]
  },
  {
   "cell_type": "markdown",
   "metadata": {},
   "source": [
    "## Unupervised"
   ]
  },
  {
   "cell_type": "code",
   "execution_count": 11,
   "metadata": {},
   "outputs": [],
   "source": [
    "match compute_index:\n",
    "    case 0 :\n",
    "        I = InvertedIndex(0,0)\n",
    "    case 1:\n",
    "        index_path = './index/Index.pkl'\n",
    "        I = indexing(None, index_path = index_path)\n",
    "    case 2:\n",
    "        I = indexing(articles)"
   ]
  },
  {
   "cell_type": "code",
   "execution_count": null,
   "metadata": {},
   "outputs": [],
   "source": [
    "print(I.doc_to_string(600))"
   ]
  },
  {
   "cell_type": "code",
   "execution_count": 13,
   "metadata": {},
   "outputs": [
    {
     "name": "stdout",
     "output_type": "stream",
     "text": [
      "$: dollar\n",
      "    $ -$ --$ A$ C$ HK$ M$ NZ$ S$ U.S.$ US$\n",
      "'': closing quotation mark\n",
      "    ' ''\n",
      "(: opening parenthesis\n",
      "    ( [ {\n",
      "): closing parenthesis\n",
      "    ) ] }\n",
      ",: comma\n",
      "    ,\n",
      "--: dash\n",
      "    --\n",
      ".: sentence terminator\n",
      "    . ! ?\n",
      ":: colon or ellipsis\n",
      "    : ; ...\n",
      "CC: conjunction, coordinating\n",
      "    & 'n and both but either et for less minus neither nor or plus so\n",
      "    therefore times v. versus vs. whether yet\n",
      "CD: numeral, cardinal\n",
      "    mid-1890 nine-thirty forty-two one-tenth ten million 0.5 one forty-\n",
      "    seven 1987 twenty '79 zero two 78-degrees eighty-four IX '60s .025\n",
      "    fifteen 271,124 dozen quintillion DM2,000 ...\n",
      "DT: determiner\n",
      "    all an another any both del each either every half la many much nary\n",
      "    neither no some such that the them these this those\n",
      "EX: existential there\n",
      "    there\n",
      "FW: foreign word\n",
      "    gemeinschaft hund ich jeux habeas Haementeria Herr K'ang-si vous\n",
      "    lutihaw alai je jour objets salutaris fille quibusdam pas trop Monte\n",
      "    terram fiche oui corporis ...\n",
      "IN: preposition or conjunction, subordinating\n",
      "    astride among uppon whether out inside pro despite on by throughout\n",
      "    below within for towards near behind atop around if like until below\n",
      "    next into if beside ...\n",
      "JJ: adjective or numeral, ordinal\n",
      "    third ill-mannered pre-war regrettable oiled calamitous first separable\n",
      "    ectoplasmic battery-powered participatory fourth still-to-be-named\n",
      "    multilingual multi-disciplinary ...\n",
      "JJR: adjective, comparative\n",
      "    bleaker braver breezier briefer brighter brisker broader bumper busier\n",
      "    calmer cheaper choosier cleaner clearer closer colder commoner costlier\n",
      "    cozier creamier crunchier cuter ...\n",
      "JJS: adjective, superlative\n",
      "    calmest cheapest choicest classiest cleanest clearest closest commonest\n",
      "    corniest costliest crassest creepiest crudest cutest darkest deadliest\n",
      "    dearest deepest densest dinkiest ...\n",
      "LS: list item marker\n",
      "    A A. B B. C C. D E F First G H I J K One SP-44001 SP-44002 SP-44005\n",
      "    SP-44007 Second Third Three Two * a b c d first five four one six three\n",
      "    two\n",
      "MD: modal auxiliary\n",
      "    can cannot could couldn't dare may might must need ought shall should\n",
      "    shouldn't will would\n",
      "NN: noun, common, singular or mass\n",
      "    common-carrier cabbage knuckle-duster Casino afghan shed thermostat\n",
      "    investment slide humour falloff slick wind hyena override subhumanity\n",
      "    machinist ...\n",
      "NNP: noun, proper, singular\n",
      "    Motown Venneboerger Czestochwa Ranzer Conchita Trumplane Christos\n",
      "    Oceanside Escobar Kreisler Sawyer Cougar Yvette Ervin ODI Darryl CTCA\n",
      "    Shannon A.K.C. Meltex Liverpool ...\n",
      "NNPS: noun, proper, plural\n",
      "    Americans Americas Amharas Amityvilles Amusements Anarcho-Syndicalists\n",
      "    Andalusians Andes Andruses Angels Animals Anthony Antilles Antiques\n",
      "    Apache Apaches Apocrypha ...\n",
      "NNS: noun, common, plural\n",
      "    undergraduates scotches bric-a-brac products bodyguards facets coasts\n",
      "    divestitures storehouses designs clubs fragrances averages\n",
      "    subjectivists apprehensions muses factory-jobs ...\n",
      "PDT: pre-determiner\n",
      "    all both half many quite such sure this\n",
      "POS: genitive marker\n",
      "    ' 's\n",
      "PRP: pronoun, personal\n",
      "    hers herself him himself hisself it itself me myself one oneself ours\n",
      "    ourselves ownself self she thee theirs them themselves they thou thy us\n",
      "PRP$: pronoun, possessive\n",
      "    her his mine my our ours their thy your\n",
      "RB: adverb\n",
      "    occasionally unabatingly maddeningly adventurously professedly\n",
      "    stirringly prominently technologically magisterially predominately\n",
      "    swiftly fiscally pitilessly ...\n",
      "RBR: adverb, comparative\n",
      "    further gloomier grander graver greater grimmer harder harsher\n",
      "    healthier heavier higher however larger later leaner lengthier less-\n",
      "    perfectly lesser lonelier longer louder lower more ...\n",
      "RBS: adverb, superlative\n",
      "    best biggest bluntest earliest farthest first furthest hardest\n",
      "    heartiest highest largest least less most nearest second tightest worst\n",
      "RP: particle\n",
      "    aboard about across along apart around aside at away back before behind\n",
      "    by crop down ever fast for forth from go high i.e. in into just later\n",
      "    low more off on open out over per pie raising start teeth that through\n",
      "    under unto up up-pp upon whole with you\n",
      "SYM: symbol\n",
      "    % & ' '' ''. ) ). * + ,. < = > @ A[fj] U.S U.S.S.R * ** ***\n",
      "TO: \"to\" as preposition or infinitive marker\n",
      "    to\n",
      "UH: interjection\n",
      "    Goodbye Goody Gosh Wow Jeepers Jee-sus Hubba Hey Kee-reist Oops amen\n",
      "    huh howdy uh dammit whammo shucks heck anyways whodunnit honey golly\n",
      "    man baby diddle hush sonuvabitch ...\n",
      "VB: verb, base form\n",
      "    ask assemble assess assign assume atone attention avoid bake balkanize\n",
      "    bank begin behold believe bend benefit bevel beware bless boil bomb\n",
      "    boost brace break bring broil brush build ...\n",
      "VBD: verb, past tense\n",
      "    dipped pleaded swiped regummed soaked tidied convened halted registered\n",
      "    cushioned exacted snubbed strode aimed adopted belied figgered\n",
      "    speculated wore appreciated contemplated ...\n",
      "VBG: verb, present participle or gerund\n",
      "    telegraphing stirring focusing angering judging stalling lactating\n",
      "    hankerin' alleging veering capping approaching traveling besieging\n",
      "    encrypting interrupting erasing wincing ...\n",
      "VBN: verb, past participle\n",
      "    multihulled dilapidated aerosolized chaired languished panelized used\n",
      "    experimented flourished imitated reunifed factored condensed sheared\n",
      "    unsettled primed dubbed desired ...\n",
      "VBP: verb, present tense, not 3rd person singular\n",
      "    predominate wrap resort sue twist spill cure lengthen brush terminate\n",
      "    appear tend stray glisten obtain comprise detest tease attract\n",
      "    emphasize mold postpone sever return wag ...\n",
      "VBZ: verb, present tense, 3rd person singular\n",
      "    bases reconstructs marks mixes displeases seals carps weaves snatches\n",
      "    slumps stretches authorizes smolders pictures emerges stockpiles\n",
      "    seduces fizzes uses bolsters slaps speaks pleads ...\n",
      "WDT: WH-determiner\n",
      "    that what whatever which whichever\n",
      "WP: WH-pronoun\n",
      "    that what whatever whatsoever which who whom whosoever\n",
      "WP$: WH-pronoun, possessive\n",
      "    whose\n",
      "WRB: Wh-adverb\n",
      "    how however whence whenever where whereby whereever wherein whereof why\n",
      "``: opening quotation mark\n",
      "    ` ``\n"
     ]
    }
   ],
   "source": [
    "nltk.help.upenn_tagset('.*')"
   ]
  },
  {
   "cell_type": "code",
   "execution_count": 14,
   "metadata": {},
   "outputs": [],
   "source": [
    "# load embeddings \n",
    "sentence_embeddings_path = os.path.join('./embeddings', 'sentence_embeddings.pkl')\n",
    "sentence_embeddings_by_cat = pickle_load(sentence_embeddings_path)\n",
    "document_embeddings_path = os.path.join('./embeddings', 'document_embeddings.pkl')\n",
    "document_embeddings_by_cat = pickle_load(document_embeddings_path)"
   ]
  },
  {
   "cell_type": "code",
   "execution_count": 74,
   "metadata": {},
   "outputs": [],
   "source": [
    "np.random.seed(42)\n",
    "d=10\n",
    "b = 0.5\n",
    "k = 1\n",
    "dM = bert_compute_dissimilarity_matrix(d, file_path=sentence_embeddings_path)\n",
    "dM0 = tf_idf_compute_dissimilarity_matrix(d, I)\n",
    "sim2diss1 = lambda S: np.exp(-k(S+b))\n",
    "sim2diss2 = lambda S: (2/np.pi) * np.arccos((1-b)*S+b)\n",
    "sim2diss3 = lambda S: b*(1-np.log(1+k*S)/np.log(1+k))\n",
    "dM2 = tf_idf_compute_dissimilarity_matrix(d, I, conversion_function=sim2diss2)\n",
    "dM3 = tf_idf_compute_dissimilarity_matrix(d, I, conversion_function=sim2diss3)"
   ]
  },
  {
   "cell_type": "code",
   "execution_count": 71,
   "metadata": {},
   "outputs": [
    {
     "data": {
      "text/plain": [
       "(array([ 0,  0,  0,  1,  1,  1,  1,  1,  1,  2,  2,  2,  2,  2,  2,  2,  3,\n",
       "         3,  3,  3,  4,  4,  4,  4,  4,  5,  5,  5,  5,  5,  5,  5,  5,  6,\n",
       "         6,  6,  6,  6,  6,  6,  7,  7,  7,  7,  7,  7,  7,  7,  8,  8,  8,\n",
       "         8,  8,  9,  9,  9,  9,  9,  9,  9,  9,  9,  9, 10, 10, 10, 10, 10,\n",
       "        10, 10], dtype=int64),\n",
       " array([ 7,  9, 10,  2,  5,  6,  7,  8,  9,  1,  3,  4,  6,  7,  9, 10,  2,\n",
       "         5,  6,  9,  2,  5,  7,  8,  9,  1,  3,  4,  6,  7,  8,  9, 10,  1,\n",
       "         2,  3,  5,  7,  9, 10,  0,  1,  2,  4,  5,  6,  9, 10,  1,  4,  5,\n",
       "         9, 10,  0,  1,  2,  3,  4,  5,  6,  7,  8, 10,  0,  2,  5,  6,  7,\n",
       "         8,  9], dtype=int64))"
      ]
     },
     "execution_count": 71,
     "metadata": {},
     "output_type": "execute_result"
    }
   ],
   "source": [
    "Q1, Q2, Q3 = np.percentile(dM2.compressed(), [25, 50, 75])\n",
    "IQR = Q3 - Q1\n",
    "ul = np.mean(dM2) + 1.5 * IQR\n",
    "np.where(dM2 >= Q3)"
   ]
  },
  {
   "cell_type": "code",
   "execution_count": 72,
   "metadata": {},
   "outputs": [
    {
     "data": {
      "text/plain": [
       "<Axes: ylabel='Density'>"
      ]
     },
     "execution_count": 72,
     "metadata": {},
     "output_type": "execute_result"
    },
    {
     "data": {
      "image/png": "[encoded data removed]",
      "text/plain": [
       "<Figure size 640x480 with 1 Axes>"
      ]
     },
     "metadata": {},
     "output_type": "display_data"
    }
   ],
   "source": [
    "sns.kdeplot(dM.compressed())"
   ]
  },
  {
   "cell_type": "code",
   "execution_count": 73,
   "metadata": {},
   "outputs": [
    {
     "data": {
      "text/plain": [
       "<Axes: ylabel='Density'>"
      ]
     },
     "execution_count": 73,
     "metadata": {},
     "output_type": "execute_result"
    },
    {
     "data": {
      "image/png": "[encoded data removed]",
      "text/plain": [
       "<Figure size 640x480 with 1 Axes>"
      ]
     },
     "metadata": {},
     "output_type": "display_data"
    }
   ],
   "source": [
    "sns.kdeplot(dM2.compressed())"
   ]
  },
  {
   "cell_type": "code",
   "execution_count": 75,
   "metadata": {},
   "outputs": [
    {
     "data": {
      "text/plain": [
       "<Axes: ylabel='Density'>"
      ]
     },
     "execution_count": 75,
     "metadata": {},
     "output_type": "execute_result"
    },
    {
     "data": {
      "image/png": "[encoded data removed]",
      "text/plain": [
       "<Figure size 640x480 with 1 Axes>"
      ]
     },
     "metadata": {},
     "output_type": "display_data"
    }
   ],
   "source": [
    "sns.kdeplot(dM3.compressed())"
   ]
  },
  {
   "cell_type": "code",
   "execution_count": 60,
   "metadata": {},
   "outputs": [
    {
     "data": {
      "text/plain": [
       "1.5707963267948966"
      ]
     },
     "execution_count": 60,
     "metadata": {},
     "output_type": "execute_result"
    }
   ],
   "source": [
    "np.arccos(np.min(1-dM2))"
   ]
  },
  {
   "cell_type": "code",
   "execution_count": 19,
   "metadata": {},
   "outputs": [
    {
     "data": {
      "text/plain": [
       "(10,\n",
       " 20,\n",
       " array([ 5,  9,  5,  8,  8,  2,  6,  2,  2,  5,  6,  7,  5,  3,  5,  5, 10,\n",
       "         4,  1,  1], dtype=int32))"
      ]
     },
     "execution_count": 19,
     "metadata": {},
     "output_type": "execute_result"
    }
   ],
   "source": [
    "n_clust, (labels,_) = sentence_clustering(dM2, algorithm='agglomerative', linkage='complete', kmax=len(dM2)//2)\n",
    "n_clust, len(labels), labels "
   ]
  },
  {
   "cell_type": "code",
   "execution_count": 20,
   "metadata": {},
   "outputs": [
    {
     "data": {
      "text/plain": [
       "(10,\n",
       " 20,\n",
       " array([0, 4, 2, 5, 5, 8, 5, 8, 2, 2, 5, 6, 7, 3, 4, 2, 9, 1, 8, 8],\n",
       "       dtype=uint64),\n",
       " array([ 0, 17,  9, 13, 14, 10, 11, 12, 18, 16], dtype=uint64))"
      ]
     },
     "execution_count": 20,
     "metadata": {},
     "output_type": "execute_result"
    }
   ],
   "source": [
    "n_clust, (labels, indices) = sentence_clustering(dM2, kmax=len(dM)//2)\n",
    "n_clust, len(labels), labels, indices"
   ]
  },
  {
   "cell_type": "code",
   "execution_count": 21,
   "metadata": {},
   "outputs": [
    {
     "data": {
      "text/plain": [
       "9"
      ]
     },
     "execution_count": 21,
     "metadata": {},
     "output_type": "execute_result"
    }
   ],
   "source": [
    "a = lambda y: lambda x: x+y\n",
    "b = a(1)\n",
    "b(8)"
   ]
  },
  {
   "cell_type": "code",
   "execution_count": 22,
   "metadata": {},
   "outputs": [],
   "source": [
    "a = TextBlob('Hello, I\\'m Inigo Montoya. You killed my wife. Prepare to die. You are dead.')"
   ]
  },
  {
   "cell_type": "code",
   "execution_count": 23,
   "metadata": {},
   "outputs": [
    {
     "name": "stdout",
     "output_type": "stream",
     "text": [
      "i\n"
     ]
    },
    {
     "data": {
      "text/plain": [
       "defaultdict(list,\n",
       "            {'I': [('PRP', 1)],\n",
       "             'm': [('VBP', 1)],\n",
       "             'appaled': [('VBN', 1)],\n",
       "             'that': [('IN', 1)],\n",
       "             'they': [('PRP', 1)],\n",
       "             'would': [('MD', 1)],\n",
       "             'refuse': [('VB', 1), ('NN', 1)],\n",
       "             'to': [('TO', 2)],\n",
       "             'permit': [('VB', 1), ('NN', 1)],\n",
       "             'us': [('PRP', 1)],\n",
       "             'obtain': [('VB', 1)],\n",
       "             'the': [('DT', 1)],\n",
       "             'state-of-the-art': [('JJ', 1)]})"
      ]
     },
     "execution_count": 23,
     "metadata": {},
     "output_type": "execute_result"
    }
   ],
   "source": [
    "from collections import Counter\n",
    "tokenizer = RegexpTokenizer(r'[\\w|-]+')\n",
    "sent = \"I'm appaled that they would refuse to permit us to obtain the state-of-the-art refuse permit\"\n",
    "a = nltk.word_tokenize(sent)\n",
    "a = tokenizer.tokenize(sent)\n",
    "for term in a:\n",
    "    print(term.lower())\n",
    "    break\n",
    "c = Counter(nltk.pos_tag(a))\n",
    "c_ = defaultdict(list)\n",
    "for ((term,pos), count) in c.items():\n",
    "    c_[term].append((pos, count))\n",
    "c_"
   ]
  },
  {
   "cell_type": "code",
   "execution_count": 24,
   "metadata": {},
   "outputs": [
    {
     "data": {
      "text/plain": [
       "[([2, 8, 9, 15], 9),\n",
       " ([3, 4, 6, 10], 10),\n",
       " ([5, 7, 18, 19], 18),\n",
       " ([1, 14], 14),\n",
       " ([0], 0),\n",
       " ([17], 17),\n",
       " ([13], 13),\n",
       " ([11], 11),\n",
       " ([12], 12),\n",
       " ([16], 16)]"
      ]
     },
     "execution_count": 24,
     "metadata": {},
     "output_type": "execute_result"
    }
   ],
   "source": [
    "n_cl, clusters = transform_labels(labels)\n",
    "sorted(zip(clusters, indices), key = lambda tup: len(tup[0]), reverse=True)"
   ]
  },
  {
   "cell_type": "code",
   "execution_count": 25,
   "metadata": {},
   "outputs": [
    {
     "data": {
      "text/plain": [
       "[[0],\n",
       " [17],\n",
       " [2, 8, 9, 15],\n",
       " [13],\n",
       " [1, 14],\n",
       " [3, 4, 6, 10],\n",
       " [11],\n",
       " [12],\n",
       " [5, 7, 18, 19],\n",
       " [16]]"
      ]
     },
     "execution_count": 25,
     "metadata": {},
     "output_type": "execute_result"
    }
   ],
   "source": [
    "clusters"
   ]
  },
  {
   "cell_type": "code",
   "execution_count": 26,
   "metadata": {},
   "outputs": [
    {
     "data": {
      "text/plain": [
       "[(array([0.]), 0),\n",
       " (array([0.]), 17),\n",
       " (array([0.01078181, 0.02202336, 0.02280171, 0.05349244]), 15),\n",
       " (array([0.]), 13),\n",
       " (array([ 0.00142233, -0.08791556]), 1),\n",
       " (array([0.01086221, 0.03144875, 0.0626584 , 0.13251165]), 10),\n",
       " (array([0.]), 11),\n",
       " (array([0.]), 12),\n",
       " (array([0.04849851, 0.04610888, 0.10882174, 0.09724382]), 18),\n",
       " (array([0.]), 16)]"
      ]
     },
     "execution_count": 26,
     "metadata": {},
     "output_type": "execute_result"
    }
   ],
   "source": [
    "silh = silhouette_samples(dM2, labels, metric='precomputed')\n",
    "silh_cl = [(silh[clust], clust[np.argmax(silh[clust])]) for clust in clusters]\n",
    "silh_cl"
   ]
  },
  {
   "cell_type": "code",
   "execution_count": 27,
   "metadata": {},
   "outputs": [
    {
     "data": {
      "text/plain": [
       "0.028038003320498578"
      ]
     },
     "execution_count": 27,
     "metadata": {},
     "output_type": "execute_result"
    }
   ],
   "source": [
    "from sklearn.metrics import silhouette_score\n",
    "silhouette_score(dM2, labels, metric='precomputed')"
   ]
  },
  {
   "cell_type": "code",
   "execution_count": 28,
   "metadata": {},
   "outputs": [
    {
     "data": {
      "text/plain": [
       "{18: 4, 10: 4, 15: 4, 1: 2, 0: 1, 17: 1, 13: 1, 11: 1, 12: 1}"
      ]
     },
     "execution_count": 28,
     "metadata": {},
     "output_type": "execute_result"
    }
   ],
   "source": [
    "summarization(dM2, labels)"
   ]
  },
  {
   "cell_type": "code",
   "execution_count": 29,
   "metadata": {},
   "outputs": [
    {
     "data": {
      "text/plain": [
       "3"
      ]
     },
     "execution_count": 29,
     "metadata": {},
     "output_type": "execute_result"
    }
   ],
   "source": [
    "clusters = transform_labels(labels)[1]\n",
    "len([c for c in clusters if len(c) > 3])"
   ]
  },
  {
   "cell_type": "code",
   "execution_count": 30,
   "metadata": {},
   "outputs": [],
   "source": [
    "def summarization_function(d, embed_method, clustering_algorithm, remove_outliers, find_subtopics, evaluate=None, linkage=None, ignore_medoid_centers=False):\n",
    "    match embed_method:\n",
    "        case 'tfidf':\n",
    "            dM = tf_idf_compute_dissimilarity_matrix(d, I)\n",
    "        case 'bert':\n",
    "            dM = bert_compute_dissimilarity_matrix(d, file_path=sentence_embeddings_path)\n",
    "    kmax=len(dM)//2\n",
    "\n",
    "    n_clust, (labels, cluster_centers) = sentence_clustering(dM, algorithm=clustering_algorithm, kmax=kmax, linkage=linkage, evaluate=evaluate)\n",
    "\n",
    "    cluster_centers = (not ignore_medoid_centers and cluster_centers) or None    \n",
    "    return summarization(dM, labels, remove_outliers=remove_outliers, find_subtopics=find_subtopics, cluster_centers=cluster_centers)"
   ]
  },
  {
   "cell_type": "code",
   "execution_count": null,
   "metadata": {},
   "outputs": [],
   "source": [
    "embed_method = 'tfidf'\n",
    "clustering_algorithm = 'agglomerative'\n",
    "remove_outliers = True\n",
    "find_subtopics = False\n",
    "evaluate = lambda dm,labs: silhouette_score(dm, labs, metric='precomputed')\n",
    "linkage = 'average'\n",
    "ignore_medoid_centers = True\n",
    "args = (embed_method, clustering_algorithm, remove_outliers, find_subtopics, evaluate, linkage, ignore_medoid_centers)\n",
    "summarize = lambda d: summarization_function(d, *args)\n",
    "\n",
    "all_accs = summary_compute(article_file_paths_by_cat, summarize, map_path_to_articleID)"
   ]
  },
  {
   "cell_type": "code",
   "execution_count": 34,
   "metadata": {},
   "outputs": [
    {
     "name": "stdout",
     "output_type": "stream",
     "text": [
      "Document id=10 → vocabulary and term frequencies:\n",
      "+-------------------------+------+--------+---------------------------------------------------------------------------------------+\n",
      "|       Vocabulary        | DF_t | TF_d_t |                                      TF/sentence                                      |\n",
      "+-------------------------+------+--------+---------------------------------------------------------------------------------------+\n",
      "|         profit          | 113  |   3    |            [(3, 1, [('NN', 1)]), (7, 1, [('NN', 1)]), (8, 1, [('NN', 1)])]            |\n",
      "|            â            | 646  |   1    |                                 [(1, 1, [('NN', 1)])]                                 |\n",
      "|          firm           | 459  |   2    |                      [(0, 1, [('NN', 1)]), (1, 1, [('NN', 1)])]                       |\n",
      "|           one           | 1042 |   1    |                                 [(6, 1, [('CD', 1)])]                                 |\n",
      "|        investor         | 101  |   1    |                                 [(8, 1, [('NN', 1)])]                                 |\n",
      "|         google          |  37  |   2    |                      [(3, 1, [('NN', 1)]), (10, 1, [('NN', 1)])]                      |\n",
      "|          sale           | 324  |   1    |                                 [(6, 1, [('NN', 1)])]                                 |\n",
      "|        internet         | 163  |   1    |                                 [(0, 1, [('JJ', 1)])]                                 |\n",
      "|         fourth          | 114  |   1    |                                 [(1, 1, [('JJ', 1)])]                                 |\n",
      "|         quarter         | 151  |   4    | [(1, 1, [('NN', 1)]), (3, 1, [('NN', 1)]), (4, 1, [('NN', 1)]), (10, 1, [('NN', 1)])] |\n",
      "|        business         | 302  |   1    |                                 [(6, 1, [('NN', 1)])]                                 |\n",
      "|           ha            | 1825 |   2    |                      [(0, 1, [('NN', 1)]), (5, 1, [('NN', 1)])]                       |\n",
      "|         fortune         |  36  |   1    |                                 [(0, 1, [('NN', 1)])]                                 |\n",
      "|         however         | 417  |   1    |                                 [(8, 1, [('RB', 1)])]                                 |\n",
      "|         company         | 534  |   1    |                                 [(6, 1, [('NN', 1)])]                                 |\n",
      "|       advertising       |  33  |   3    |            [(0, 1, [('NN', 1)]), (4, 1, [('NN', 1)]), (6, 1, [('NN', 1)])]            |\n",
      "|         revenue         | 102  |   1    |                                 [(1, 1, [('NN', 1)])]                                 |\n",
      "|        increase         | 205  |   1    |                                 [(7, 1, [('NN', 1)])]                                 |\n",
      "|         online          | 163  |   3    |            [(0, 1, [('JJ', 1)]), (4, 1, [('JJ', 1)]), (6, 1, [('JJ', 1)])]            |\n",
      "|         analyst         | 263  |   1    |                                [(10, 1, [('NN', 1)])]                                 |\n",
      "|       expectation       |  72  |   1    |                                [(10, 1, [('NN', 1)])]                                 |\n",
      "|          sharp          |  40  |   1    |                                 [(7, 1, [('JJ', 1)])]                                 |\n",
      "|          third          | 309  |   1    |                                 [(0, 1, [('JJ', 1)])]                                 |\n",
      "|            4            | 322  |   1    |                                 [(9, 1, [('CD', 1)])]                                 |\n",
      "|           wa            | 1746 |   1    |                                 [(3, 1, [('NN', 1)])]                                 |\n",
      "|        exceeding        |  3   |   1    |                                [(1, 1, [('VBG', 1)])]                                 |\n",
      "|          late           | 147  |   1    |                                 [(6, 1, [('NN', 1)])]                                 |\n",
      "|        thursday         | 147  |   1    |                                 [(7, 1, [('NN', 1)])]                                 |\n",
      "|         earlier         | 262  |   1    |                                [(3, 1, [('RBR', 1)])]                                 |\n",
      "|          taken          | 206  |   1    |                                [(5, 1, [('VBN', 1)])]                                 |\n",
      "|          year           | 1318 |   1    |                                 [(6, 1, [('NN', 1)])]                                 |\n",
      "|          fall           | 137  |   1    |                                [(10, 1, [('NN', 1)])]                                 |\n",
      "|           ask           |  70  |   3    |            [(0, 1, [('NN', 1)]), (2, 1, [('NN', 1)]), (8, 1, [('NN', 1)])]            |\n",
      "|          would          | 1143 |   1    |                                 [(6, 1, [('MD', 1)])]                                 |\n",
      "|          case           | 241  |   1    |                                 [(9, 1, [('NN', 1)])]                                 |\n",
      "|          news           | 369  |   1    |                                 [(8, 1, [('NN', 1)])]                                 |\n",
      "|          2004           | 390  |   1    |                                 [(1, 1, [('CD', 1)])]                                 |\n",
      "|          last           | 903  |   1    |                                 [(6, 1, [('JJ', 1)])]                                 |\n",
      "|         warned          | 179  |   1    |                                [(6, 1, [('VBD', 1)])]                                 |\n",
      "|         modest          |  19  |   1    |                                 [(2, 1, [('JJ', 1)])]                                 |\n",
      "|          share          | 254  |   1    |                                 [(9, 1, [('NN', 1)])]                                 |\n",
      "|          name           | 173  |   1    |                                 [(2, 1, [('NN', 1)])]                                 |\n",
      "|       relatively        |  41  |   2    |                      [(2, 1, [('RB', 1)]), (5, 1, [('RB', 1)])]                       |\n",
      "|         leading         | 137  |   2    |                      [(0, 1, [('JJ', 1)]), (6, 1, [('VBG', 1)])]                      |\n",
      "|         brought         | 115  |   1    |                                [(7, 1, [('VBN', 1)])]                                 |\n",
      "|          among          | 216  |   1    |                                 [(2, 1, [('IN', 1)])]                                 |\n",
      "|        marketing        |  55  |   1    |                                 [(6, 1, [('NN', 1)])]                                 |\n",
      "|         jeeves          |  10  |   3    |            [(0, 1, [('NN', 1)]), (2, 1, [('NN', 1)]), (8, 1, [('NN', 1)])]            |\n",
      "|         become          | 250  |   1    |                                [(0, 1, [('VBN', 1)])]                                 |\n",
      "|         search          |  60  |   1    |                                 [(0, 1, [('NN', 1)])]                                 |\n",
      "|          week           | 562  |   2    |                      [(0, 1, [('NN', 1)]), (3, 1, [('NN', 1)])]                       |\n",
      "|          thank          |  29  |   1    |                                 [(0, 1, [('VB', 1)])]                                 |\n",
      "|         revival         |  19  |   1    |                                 [(0, 1, [('NN', 1)])]                                 |\n",
      "|        improving        |  60  |   1    |                                [(0, 1, [('VBG', 1)])]                                 |\n",
      "|   online search firm    |  1   |   1    |                                 [(0, 1, [('NN', 1)])]                                 |\n",
      "|         nearly          |  96  |   1    |                                 [(1, 1, [('RB', 1)])]                                 |\n",
      "|         tripled         |  5   |   1    |                                [(1, 1, [('VBD', 1)])]                                 |\n",
      "|           86m           |  3   |   1    |                                 [(1, 1, [('CD', 1)])]                                 |\n",
      "|           46m           |  3   |   1    |                                 [(1, 1, [('CD', 1)])]                                 |\n",
      "|     firm 's revenue     |  1   |   1    |                                 [(1, 1, [('NN', 1)])]                                 |\n",
      "|          $ 86m          |  1   |   1    |                                 [(1, 1, [('NN', 1)])]                                 |\n",
      "|       best-known        |  8   |   1    |                                 [(2, 1, [('JJ', 1)])]                                 |\n",
      "|           web           |  94  |   1    |                                 [(2, 1, [('NN', 1)])]                                 |\n",
      "|         player          | 376  |   1    |                                 [(2, 1, [('NN', 1)])]                                 |\n",
      "|    best-known names     |  2   |   1    |                                 [(2, 1, [('NN', 1)])]                                 |\n",
      "|      modest player      |  1   |   1    |                                 [(2, 1, [('NN', 1)])]                                 |\n",
      "|           17m           |  9   |   1    |                                 [(3, 1, [('CD', 1)])]                                 |\n",
      "|         dwarfed         |  1   |   1    |                                [(3, 1, [('VBN', 1)])]                                 |\n",
      "|          204m           |  1   |   1    |                                 [(3, 1, [('CD', 1)])]                                 |\n",
      "|        announced        | 207  |   2    |                     [(3, 1, [('VBN', 1)]), (7, 1, [('VBD', 1)])]                      |\n",
      "|          rival          | 141  |   1    |                                 [(3, 1, [('JJ', 1)])]                                 |\n",
      "|      $ 17m profit       |  1   |   1    |                                 [(3, 1, [('NN', 1)])]                                 |\n",
      "|         $ 204m          |  1   |   1    |                                 [(3, 1, [('NN', 1)])]                                 |\n",
      "|          yahoo          |  17  |   1    |                                 [(4, 1, [('NN', 1)])]                                 |\n",
      "|         earned          |  36  |   1    |                                [(4, 1, [('VBD', 1)])]                                 |\n",
      "|          187m           |  1   |   1    |                                 [(4, 1, [('CD', 1)])]                                 |\n",
      "|         tipping         |  4   |   1    |                                [(4, 1, [('VBG', 1)])]                                 |\n",
      "|       resurgence        |  4   |   1    |                                 [(4, 1, [('NN', 1)])]                                 |\n",
      "|         $ 187m          |  1   |   1    |                                 [(4, 1, [('NN', 1)])]                                 |\n",
      "|          trend          |  64  |   1    |                                 [(5, 1, [('NN', 1)])]                                 |\n",
      "|          hold           | 176  |   1    |                                 [(5, 1, [('NN', 1)])]                                 |\n",
      "|         quickly         |  73  |   1    |                                 [(5, 1, [('RB', 1)])]                                 |\n",
      "|       doubleclick       |  1   |   2    |                      [(6, 1, [('NN', 1)]), (8, 1, [('NN', 1)])]                       |\n",
      "|        provider         |  43  |   1    |                                 [(6, 1, [('NN', 1)])]                                 |\n",
      "|           put           | 379  |   1    |                                [(6, 1, [('VBN', 1)])]                                 |\n",
      "|       turnaround        |  11  |   1    |                                 [(7, 1, [('NN', 1)])]                                 |\n",
      "|       unexpected        |  10  |   1    |                                 [(7, 1, [('JJ', 1)])]                                 |\n",
      "|    sharp turnaround     |  2   |   1    |                                 [(7, 1, [('NN', 1)])]                                 |\n",
      "|   unexpected increase   |  1   |   1    |                                 [(7, 1, [('NN', 1)])]                                 |\n",
      "|         neither         |  37  |   1    |                                 [(8, 1, [('NN', 1)])]                                 |\n",
      "|        thrilled         |  9   |   1    |                                [(8, 1, [('VBD', 1)])]                                 |\n",
      "|       profit news       |  1   |   1    |                                 [(8, 1, [('NN', 1)])]                                 |\n",
      "|          fell           | 112  |   1    |                                [(9, 1, [('VBD', 1)])]                                 |\n",
      "|       attributed        |  14  |   1    |                                [(10, 1, [('VBD', 1)])]                                |\n",
      "|        excessive        |  10  |   1    |                                [(10, 1, [('JJ', 1)])]                                 |\n",
      "|         fuelled         |  22  |   1    |                                [(10, 1, [('VBN', 1)])]                                |\n",
      "|        dramatic         |  32  |   1    |                                [(10, 1, [('JJ', 1)])]                                 |\n",
      "|     outperformance      |  1   |   1    |                                [(10, 1, [('NN', 1)])]                                 |\n",
      "|         tuesday         | 190  |   1    |                                [(10, 1, [('NN', 1)])]                                 |\n",
      "| excessive expectations  |  1   |   1    |                                [(10, 1, [('NN', 1)])]                                 |\n",
      "| dramatic outperformance |  1   |   1    |                                [(10, 1, [('NN', 1)])]                                 |\n",
      "+-------------------------+------+--------+---------------------------------------------------------------------------------------+\n"
     ]
    }
   ],
   "source": [
    "print(I.doc_to_string(10))"
   ]
  },
  {
   "cell_type": "code",
   "execution_count": null,
   "metadata": {},
   "outputs": [],
   "source": [
    "evaluation()"
   ]
  },
  {
   "cell_type": "code",
   "execution_count": null,
   "metadata": {},
   "outputs": [],
   "source": [
    "n_clust, (labels,_) = sentence_clustering(dM2, algorithm='k-medoids', linkage='complete', kmax=len(dM2)//2)"
   ]
  },
  {
   "cell_type": "code",
   "execution_count": 80,
   "metadata": {},
   "outputs": [
    {
     "data": {
      "text/plain": [
       "['giant',\n",
       " '$ 900m',\n",
       " 'u',\n",
       " 'mikhail khodorkovsky',\n",
       " 'yukos',\n",
       " 'menatep',\n",
       " 'u',\n",
       " 'mikhail khodorkovsky',\n",
       " 'sale',\n",
       " '$ 27.5bn tax claim',\n",
       " 'rosneft',\n",
       " 'sale',\n",
       " 'mikhail khodorkovsky',\n",
       " 'u',\n",
       " 'mikhail khodorkovsky',\n",
       " 'asset',\n",
       " 'rosneft',\n",
       " 'u',\n",
       " 'mikhail khodorkovsky']"
      ]
     },
     "execution_count": 80,
     "metadata": {},
     "output_type": "execute_result"
    }
   ],
   "source": [
    "res = keyword_extraction(2, labels, I)\n",
    "res"
   ]
  },
  {
   "cell_type": "markdown",
   "metadata": {},
   "source": [
    "## Finding the parameters for the sim2diss func via regression (just for fun)"
   ]
  },
  {
   "cell_type": "code",
   "execution_count": null,
   "metadata": {},
   "outputs": [],
   "source": [
    "ss = [tf_idf_compute_dissimilarity_matrix(d_i, I, conversion_function=lambda S: S).compressed() for d_i in tqdm(range(len(articles)))]"
   ]
  },
  {
   "cell_type": "code",
   "execution_count": null,
   "metadata": {},
   "outputs": [],
   "source": [
    "ds = [np.log(bert_compute_dissimilarity_matrix(d_i, file_path=sentence_embeddings_path).compressed()) for d_i in tqdm(range(len(articles)))]"
   ]
  },
  {
   "cell_type": "code",
   "execution_count": null,
   "metadata": {},
   "outputs": [],
   "source": [
    "fail = set([761, 1182, 1757])\n",
    "a1 = np.array([np.mean(sims) for i,sims in enumerate(ss) if i not in fail])\n",
    "b = np.array([np.mean(diss) for i,diss in enumerate(ds) if i not in fail])\n",
    "a2 = np.ones_like(a1)\n",
    "a = np.c_[a1, a2]\n",
    "x = np.linalg.lstsq(a,b,rcond=None)"
   ]
  },
  {
   "cell_type": "code",
   "execution_count": null,
   "metadata": {},
   "outputs": [],
   "source": [
    "fst = -x[0][0]\n",
    "snd = -x[0][1]/fst\n",
    "fst,snd"
   ]
  },
  {
   "cell_type": "code",
   "execution_count": null,
   "metadata": {},
   "outputs": [],
   "source": [
    "import scipy.optimize\n",
    "s_train = np.array(flatten([sims for i,sims in enumerate(ss) if i not in fail]))\n",
    "d_train = np.array(flatten([diss for i,diss in enumerate(ds) if i not in fail]))\n",
    "def fun(x, s, d):\n",
    "    return np.exp(-x[0]*(s+x[1])) - d\n",
    "res = scipy.optimize.least_squares(fun, np.array([1.5,1.5]), args=(s_train,d_train))\n",
    "res.x"
   ]
  },
  {
   "cell_type": "code",
   "execution_count": 77,
   "metadata": {},
   "outputs": [
    {
     "data": {
      "image/png": "[encoded data removed]",
      "text/plain": [
       "<Figure size 640x480 with 1 Axes>"
      ]
     },
     "metadata": {},
     "output_type": "display_data"
    }
   ],
   "source": [
    "ratios = np.array([len(nltk.sent_tokenize(articles[i]))/len(summary_sentence_indices[i]) for i in range(len(articles))])\n",
    "sns.boxplot(ratios)\n",
    "None"
   ]
  },
  {
   "cell_type": "markdown",
   "metadata": {},
   "source": [
    "## Supervised"
   ]
  },
  {
   "cell_type": "code",
   "execution_count": null,
   "metadata": {},
   "outputs": [],
   "source": [
    "from random import random\n",
    "from numpy import array\n",
    "from numpy import cumsum\n",
    "from keras.models import Sequential\n",
    "from keras.layers import LSTM\n",
    "from keras.layers import Dense\n",
    "from keras.layers import TimeDistributed\n",
    "\n",
    "# create a sequence classification instance\n",
    "def get_sequence(n_timesteps):\n",
    "\t# create a sequence of random numbers in [0,1]\n",
    "\tX = array([random() for _ in range(n_timesteps)])\n",
    "\t# calculate cut-off value to change class values\n",
    "\tlimit = n_timesteps/4.0\n",
    "\t# determine the class outcome for each item in cumulative sequence\n",
    "\ty = array([0 if x < limit else 1 for x in cumsum(X)])\n",
    "\t# reshape input and output data to be suitable for LSTMs\n",
    "\tX = X.reshape(1, n_timesteps, 1)\n",
    "\ty = y.reshape(1, n_timesteps, 1)\n",
    "\treturn X, y\n",
    "\n",
    "# define problem properties\n",
    "n_timesteps = 10\n",
    "# define LSTM\n",
    "model = Sequential()\n",
    "model.add(LSTM(20, input_shape=(None, 1), return_sequences=True))\n",
    "model.add(TimeDistributed(Dense(1, activation='sigmoid')))\n",
    "model.compile(loss='binary_crossentropy', optimizer='adam', metrics=['accuracy'])\n",
    "# train LSTM\n",
    "for epoch in range(1000):\n",
    "\t# generate new random sequence\n",
    "\tX,y = get_sequence(n_timesteps)\n",
    "\t# fit model for one epoch on this sequence\n",
    "\tmodel.fit(X, y, epochs=1, batch_size=1, verbose=2)\n",
    "# evaluate LSTM\n",
    "X,y = get_sequence(n_timesteps)\n",
    "yhat = model.predict_classes(X, verbose=0)\n",
    "for i in range(n_timesteps):\n",
    "\tprint('Expected:', y[0, i], 'Predicted', yhat[0, i])"
   ]
  },
  {
   "cell_type": "code",
   "execution_count": null,
   "metadata": {},
   "outputs": [],
   "source": [
    "\n",
    "from random import random\n",
    "import tqdm\n",
    "import numpy.random as rnd \n",
    "from numpy import array\n",
    "from numpy import cumsum\n",
    "from keras.models import Sequential\n",
    "from keras.layers import LSTM\n",
    "from keras.layers import Dense\n",
    "from keras.layers import TimeDistributed\n",
    "from keras.layers import Bidirectional"
   ]
  },
  {
   "cell_type": "code",
   "execution_count": null,
   "metadata": {},
   "outputs": [],
   "source": [
    "import tensorflow as tf\n",
    "print(tf.__version__)\n"
   ]
  },
  {
   "cell_type": "code",
   "execution_count": null,
   "metadata": {},
   "outputs": [],
   "source": [
    "import keras\n",
    "keras.__version__"
   ]
  },
  {
   "cell_type": "code",
   "execution_count": null,
   "metadata": {},
   "outputs": [],
   "source": [
    "# create a sequence classification instance\n",
    "def get_sequence(n_timesteps):\n",
    "\t# create a sequence of random numbers in [0,1]\n",
    "\tX = array([(random(),random()) for _ in range(n_timesteps)])\n",
    "\t# calculate cut-off value to change class values\n",
    "\tlimit = n_timesteps/4.0\n",
    "\t# determine the class outcome for each item in cumulative sequence\n",
    "\ty = array([0 if x[0] < limit else 1 for x in cumsum(X,axis=0)])\n",
    "\t# reshape input and output data to be suitable for LSTMs\n",
    "\tX = X.reshape(1, n_timesteps, 2)\n",
    "\ty = y.reshape(1, n_timesteps, 1)\n",
    "\treturn X, y\n",
    "\n",
    "# define LSTM\n",
    "model = Sequential()\n",
    "model.add(Bidirectional(LSTM(20, return_sequences=True), input_shape=(None, 2)))\n",
    "model.add(TimeDistributed(Dense(1, activation='sigmoid')))\n",
    "model.compile(loss='binary_crossentropy', optimizer='adam', metrics=['accuracy'])\n",
    "print(model.summary())\n",
    "# train LSTM\n",
    "for epoch in range(500):\n",
    "    #print(epoch, n_timesteps)\n",
    "    n_timesteps = rnd.randint(2,20)\n",
    "\t# generate new random sequence\n",
    "    X,y = get_sequence(n_timesteps)\n",
    "    print(X.shape, y.shape)\n",
    "\t# fit model for one epoch on this sequence\n",
    "    model.fit(X, y, epochs=1, batch_size=1, verbose=2)"
   ]
  },
  {
   "cell_type": "code",
   "execution_count": null,
   "metadata": {},
   "outputs": [],
   "source": [
    "model = keras.Sequential([\n",
    " keras.layers.SimpleRNN(input_shape= (None, 2),units=50, return_sequences= True),\n",
    " keras.layers.Dropout(0.2),\n",
    " keras.layers.SimpleRNN(units=50, return_sequences= True),\n",
    " keras.layers.Dropout(0.2),\n",
    " keras.layers.SimpleRNN(units=50, return_sequences= True),\n",
    " keras.layers.Dropout(0.2),\n",
    " keras.layers.Flatten(),\n",
    " keras.layers.Dense(10, activation='relu'),\n",
    " keras.layers.Dense(1, activation='sigmoid')\n",
    "])\n",
    "\n",
    "model.compile(loss='binary_crossentropy',\n",
    " optimizer='adam',\n",
    " metrics=['accuracy'])\n",
    "model.build()"
   ]
  }
 ],
 "metadata": {
  "kernelspec": {
   "display_name": "base",
   "language": "python",
   "name": "python3"
  },
  "language_info": {
   "codemirror_mode": {
    "name": "ipython",
    "version": 3
   },
   "file_extension": ".py",
   "mimetype": "text/x-python",
   "name": "python",
   "nbconvert_exporter": "python",
   "pygments_lexer": "ipython3",
   "version": "3.11.5"
  }
 },
 "nbformat": 4,
 "nbformat_minor": 2
}
