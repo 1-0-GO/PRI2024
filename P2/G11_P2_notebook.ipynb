{
 "cells": [
  {
   "cell_type": "markdown",
   "metadata": {},
   "source": [
    "<H3>PRI 2023/24: second\n",
    "    project delivery</H3>"
   ]
  },
  {
   "cell_type": "markdown",
   "metadata": {},
   "source": [
    "**GROUP 11**\n",
    "- Francisco Martins, 99068\n",
    "- Tunahan Güneş, 108108\n",
    "- Sebastian Weidinger, 111612"
   ]
  },
  {
   "cell_type": "code",
   "execution_count": 1,
   "metadata": {},
   "outputs": [
    {
     "name": "stderr",
     "output_type": "stream",
     "text": [
      "/home/mono/.local/lib/python3.10/site-packages/tqdm/auto.py:22: TqdmWarning: IProgress not found. Please update jupyter and ipywidgets. See https://ipywidgets.readthedocs.io/en/stable/user_install.html\n",
      "  from .autonotebook import tqdm as notebook_tqdm\n",
      "2024-03-28 11:08:40.524529: E external/local_xla/xla/stream_executor/cuda/cuda_dnn.cc:9261] Unable to register cuDNN factory: Attempting to register factory for plugin cuDNN when one has already been registered\n",
      "2024-03-28 11:08:40.524583: E external/local_xla/xla/stream_executor/cuda/cuda_fft.cc:607] Unable to register cuFFT factory: Attempting to register factory for plugin cuFFT when one has already been registered\n",
      "2024-03-28 11:08:40.525712: E external/local_xla/xla/stream_executor/cuda/cuda_blas.cc:1515] Unable to register cuBLAS factory: Attempting to register factory for plugin cuBLAS when one has already been registered\n",
      "2024-03-28 11:08:40.531383: I tensorflow/core/platform/cpu_feature_guard.cc:182] This TensorFlow binary is optimized to use available CPU instructions in performance-critical operations.\n",
      "To enable the following instructions: AVX2 FMA, in other operations, rebuild TensorFlow with the appropriate compiler flags.\n",
      "2024-03-28 11:08:41.296545: W tensorflow/compiler/tf2tensorrt/utils/py_utils.cc:38] TF-TRT Warning: Could not find TensorRT\n"
     ]
    }
   ],
   "source": [
    "from transformers import DistilBertTokenizer, DistilBertModel\n",
    "from G11_code.data_collection import *\n",
    "from G11_code.helper_functions import *\n",
    "from G11_code.indexing import *\n",
    "from G11_code.evaluation import *\n",
    "from G11_code.clustering import *\n",
    "from G11_code.supervised_classification import *"
   ]
  },
  {
   "cell_type": "code",
   "execution_count": 2,
   "metadata": {},
   "outputs": [
    {
     "name": "stdout",
     "output_type": "stream",
     "text": [
      "Article path: ../BBC News Summary/BBC News Summary/News Articles\n",
      "Summary path: ../BBC News Summary/BBC News Summary/Summaries\n",
      "Number of Categories: 5\n",
      "Number of Articles in 'tech' Category: 510\n",
      "Number of Articles in 'entertainment' Category: 386\n",
      "Number of Articles in 'sport' Category: 417\n",
      "Number of Articles in 'business' Category: 511\n",
      "Number of Articles in 'politics' Category: 401\n"
     ]
    }
   ],
   "source": [
    "article_path = os.path.join(\"..\", \"BBC News Summary\", \"BBC News Summary\", \"News Articles\")\n",
    "summary_path = os.path.join(\"..\", \"BBC News Summary\", \"BBC News Summary\", \"Summaries\")\n",
    "print(\"Article path:\", article_path)\n",
    "print(\"Summary path:\", summary_path)\n",
    "_article_file_paths_by_cat, _articles_by_cat, _summary_file_paths_by_cat, _summaries_by_cat, category_names = read_files(article_path, summary_path)"
   ]
  },
  {
   "cell_type": "code",
   "execution_count": 3,
   "metadata": {},
   "outputs": [
    {
     "name": "stdout",
     "output_type": "stream",
     "text": [
      "number of found summaries: 2220\n",
      "number of summaries: 2225\n",
      "99.78%\n"
     ]
    }
   ],
   "source": [
    "_summary_sentence_indices_by_cat, faulty_summary_ids = get_summary_sentence_indices(_articles_by_cat, _summaries_by_cat)"
   ]
  },
  {
   "cell_type": "code",
   "execution_count": 4,
   "metadata": {},
   "outputs": [],
   "source": [
    "articles_by_cat = remove_entries(_articles_by_cat, faulty_summary_ids)\n",
    "articles = flatten(articles_by_cat)\n",
    "article_file_paths_by_cat = remove_entries(_article_file_paths_by_cat, faulty_summary_ids)\n",
    "article_file_paths = flatten(article_file_paths_by_cat)\n",
    "summaries_by_cat = remove_entries(_summaries_by_cat, faulty_summary_ids)\n",
    "summaries = flatten(summaries_by_cat)\n",
    "summary_file_paths_by_cat = remove_entries(_summary_file_paths_by_cat, faulty_summary_ids)\n",
    "summary_file_paths = flatten(summary_file_paths_by_cat)\n",
    "summary_sentence_indices_by_cat = remove_entries(_summary_sentence_indices_by_cat, faulty_summary_ids)\n",
    "summary_sentence_indices = flatten(summary_sentence_indices_by_cat)"
   ]
  },
  {
   "cell_type": "code",
   "execution_count": 5,
   "metadata": {},
   "outputs": [],
   "source": [
    "dict_path_to_articleID = {path:i for i, path in enumerate(article_file_paths)}\n",
    "def map_path_to_articleID(path):\n",
    "    path = os.path.normpath(path)\n",
    "    return dict_path_to_articleID.get(path)"
   ]
  },
  {
   "cell_type": "code",
   "execution_count": 6,
   "metadata": {},
   "outputs": [],
   "source": [
    "I = indexing(articles)"
   ]
  },
  {
   "cell_type": "code",
   "execution_count": 7,
   "metadata": {},
   "outputs": [],
   "source": [
    "path = os.path.join(article_path, 'tech', '199.txt')\n",
    "d = map_path_to_articleID(path)"
   ]
  },
  {
   "cell_type": "code",
   "execution_count": 8,
   "metadata": {},
   "outputs": [
    {
     "name": "stdout",
     "output_type": "stream",
     "text": [
      "Document id=2017 → vocabulary and term frequencies:\n",
      "+-------------------------------------+------+--------+--------------------------------------------------------------------------------------------------+\n",
      "|             Vocabulary              | DF_t | TF_d_t |                                           TF/sentence                                            |\n",
      "+-------------------------------------+------+--------+--------------------------------------------------------------------------------------------------+\n",
      "|                month                | 577  |   2    |                                        [(28, 1), (34, 1)]                                        |\n",
      "|                 one                 | 1042 |   6    |                      [(3, 1), (13, 1), (16, 1), (20, 1), (23, 1), (24, 1)]                       |\n",
      "|              internet               | 163  |   1    |                                             [(4, 1)]                                             |\n",
      "|             connection              |  75  |   1    |                                            [(29, 1)]                                             |\n",
      "|                said                 | 1884 |   1    |                                             [(8, 1)]                                             |\n",
      "|                  2                  | 388  |   1    |                                             [(0, 1)]                                             |\n",
      "|                 10                  | 387  |   1    |                                            [(34, 1)]                                             |\n",
      "|                 le                  | 248  |   2    |                                        [(0, 1), (11, 1)]                                         |\n",
      "|                user                 | 186  |   2    |                                            [(21, 2)]                                             |\n",
      "|                time                 | 877  |   2    |                                        [(23, 1), (25, 1)]                                        |\n",
      "|                 ha                  | 1825 |   8    |                   [(5, 1), (6, 1), (9, 1), (18, 1), (25, 1), (29, 2), (30, 1)]                   |\n",
      "|                 000                 | 480  |   1    |                                             [(0, 1)]                                             |\n",
      "|             underlying              |  14  |   1    |                                            [(38, 1)]                                             |\n",
      "|                back                 | 548  |   1    |                                            [(36, 1)]                                             |\n",
      "|                hope                 | 239  |   2    |                                        [(34, 1), (43, 1)]                                        |\n",
      "|              increase               | 205  |   1    |                                            [(38, 1)]                                             |\n",
      "|               service               | 368  |   1    |                                            [(45, 1)]                                             |\n",
      "|                also                 | 1261 |   1    |                                            [(10, 1)]                                             |\n",
      "|               better                | 272  |   1    |                                            [(33, 1)]                                             |\n",
      "|                third                | 309  |   1    |                                            [(14, 1)]                                             |\n",
      "|                  4                  | 322  |   1    |                                             [(0, 1)]                                             |\n",
      "|                 wa                  | 1746 |   1    |                                            [(10, 1)]                                             |\n",
      "|               around                | 313  |   1    |                                            [(11, 1)]                                             |\n",
      "|                part                 | 461  |   1    |                                            [(26, 1)]                                             |\n",
      "|               market                | 390  |   1    |                                            [(12, 1)]                                             |\n",
      "|                 set                 | 496  |   3    |                                    [(1, 1), (15, 1), (16, 1)]                                    |\n",
      "|                 way                 | 582  |   3    |                                    [(4, 1), (5, 1), (44, 1)]                                     |\n",
      "|               reduce                |  66  |   2    |                                            [(38, 2)]                                             |\n",
      "|                 new                 | 962  |   1    |                                            [(19, 1)]                                             |\n",
      "|               concern               | 171  |   1    |                                             [(7, 1)]                                             |\n",
      "|                think                | 399  |   7    |                   [(1, 1), (4, 1), (6, 1), (10, 1), (12, 1), (34, 1), (37, 1)]                   |\n",
      "|                much                 | 450  |   1    |                                            [(27, 1)]                                             |\n",
      "|               improve               |  81  |   1    |                                            [(38, 1)]                                             |\n",
      "|                year                 | 1318 |   1    |                                             [(0, 1)]                                             |\n",
      "|                worry                |  62  |   1    |                                            [(16, 1)]                                             |\n",
      "|                call                 | 168  |   1    |                                            [(20, 1)]                                             |\n",
      "|                major                | 230  |   1    |                                            [(26, 1)]                                             |\n",
      "|                point                | 282  |   1    |                                            [(25, 1)]                                             |\n",
      "|                  -                  | 1087 |   5    |                               [(9, 1), (20, 1), (22, 2), (35, 1)]                                |\n",
      "|                many                 | 525  |   5    |                                [(3, 1), (7, 2), (16, 1), (32, 1)]                                |\n",
      "|                could                | 869  |   3    |                                        [(11, 1), (36, 2)]                                        |\n",
      "|               enough                | 188  |   1    |                                            [(13, 1)]                                             |\n",
      "|               looking               | 232  |   1    |                                            [(32, 1)]                                             |\n",
      "|                need                 | 418  |   1    |                                            [(23, 1)]                                             |\n",
      "|                unit                 |  88  |   1    |                                            [(34, 1)]                                             |\n",
      "|                group                | 390  |   1    |                                            [(11, 1)]                                             |\n",
      "|                 say                 | 665  |   10   |    [(7, 1), (14, 1), (24, 1), (26, 1), (27, 1), (31, 1), (32, 1), (34, 1), (35, 1), (38, 1)]     |\n",
      "|               demand                | 194  |   1    |                                            [(24, 1)]                                             |\n",
      "|               expert                | 107  |   1    |                                             [(9, 1)]                                             |\n",
      "|                would                | 1143 |   4    |                                [(1, 1), (6, 1), (14, 1), (40, 1)]                                |\n",
      "|                real                 | 216  |   1    |                                            [(37, 1)]                                             |\n",
      "|              connected              |  19  |   1    |                                            [(33, 1)]                                             |\n",
      "|                case                 | 241  |   1    |                                             [(2, 1)]                                             |\n",
      "|              official               | 202  |   1    |                                            [(36, 1)]                                             |\n",
      "|               action                | 252  |   1    |                                            [(36, 1)]                                             |\n",
      "|                high                 | 264  |   1    |                                            [(24, 1)]                                             |\n",
      "|                last                 | 903  |   1    |                                             [(1, 1)]                                             |\n",
      "|               pretty                |  74  |   1    |                                             [(6, 1)]                                             |\n",
      "|                good                 | 457  |   2    |                                        [(6, 1), (29, 1)]                                         |\n",
      "|                state                | 269  |   1    |                                            [(28, 1)]                                             |\n",
      "|               product               | 165  |   1    |                                            [(13, 1)]                                             |\n",
      "|               example               | 111  |   1    |                                            [(36, 1)]                                             |\n",
      "|                start                | 294  |   1    |                                            [(28, 1)]                                             |\n",
      "|                world                | 667  |   5    |                                [(0, 1), (3, 1), (11, 1), (45, 2)]                                |\n",
      "|             two-thirds              |  16  |   1    |                                             [(0, 1)]                                             |\n",
      "|                 buy                 | 144  |   1    |                                             [(3, 1)]                                             |\n",
      "|               figure                | 274  |   1    |                                             [(6, 1)]                                             |\n",
      "|               making                | 265  |   2    |                                        [(13, 1), (26, 1)]                                        |\n",
      "|               picture               | 116  |   2    |                                        [(22, 1), (36, 1)]                                        |\n",
      "|                mean                 | 288  |   1    |                                            [(23, 1)]                                             |\n",
      "|                 net                 | 188  |   1    |                                            [(29, 1)]                                             |\n",
      "|                first                | 779  |   2    |                                        [(6, 1), (16, 1)]                                         |\n",
      "|               getting               | 182  |   1    |                                             [(1, 1)]                                             |\n",
      "|               limited               |  74  |   1    |                                            [(28, 1)]                                             |\n",
      "|                india                |  71  |   1    |                                            [(16, 1)]                                             |\n",
      "|                make                 | 685  |   2    |                                        [(5, 1), (33, 1)]                                         |\n",
      "|             developing              |  67  |   1    |                                             [(3, 1)]                                             |\n",
      "|                like                 | 543  |   3    |                                    [(7, 1), (21, 1), (22, 1)]                                    |\n",
      "|                order                | 161  |   1    |                                            [(14, 1)]                                             |\n",
      "|             population              |  53  |   2    |                                         [(0, 1), (7, 1)]                                         |\n",
      "|         world 's population         |  4   |   1    |                                             [(0, 1)]                                             |\n",
      "|               country               | 440  |   1    |                                            [(16, 1)]                                             |\n",
      "|                cheap                |  39  |   1    |                                             [(4, 1)]                                             |\n",
      "|                 use                 | 352  |   4    |                                [(8, 1), (9, 1), (21, 1), (36, 1)]                                |\n",
      "|               indian                |  58  |   4    |                               [(11, 1), (12, 1), (28, 1), (34, 1)]                               |\n",
      "|               million               | 388  |   2    |                                        [(11, 1), (12, 1)]                                        |\n",
      "|                local                | 158  |   1    |                                            [(36, 1)]                                             |\n",
      "|              possible               | 176  |   2    |                                        [(27, 1), (44, 1)]                                        |\n",
      "|               farmer                |  16  |   2    |                                            [(36, 2)]                                             |\n",
      "|               wanted                | 168  |   1    |                                             [(9, 1)]                                             |\n",
      "|               become                | 250  |   1    |                                            [(18, 1)]                                             |\n",
      "|                want                 | 492  |   1    |                                             [(6, 1)]                                             |\n",
      "|                 aid                 |  89  |   2    |                                        [(10, 1), (11, 1)]                                        |\n",
      "|                poor                 | 106  |   3    |                                    [(5, 1), (6, 1), (11, 1)]                                     |\n",
      "|               people                | 796  |   8    |                    [(0, 1), (3, 1), (5, 1), (6, 1), (9, 2), (11, 1), (15, 1)]                    |\n",
      "|                spent                | 113  |   1    |                                             [(5, 1)]                                             |\n",
      "|                power                | 200  |   2    |                                        [(23, 1), (33, 1)]                                        |\n",
      "|                 bbc                 | 475  |   1    |                                            [(45, 1)]                                             |\n",
      "|            correspondent            |  38  |   1    |                                            [(45, 1)]                                             |\n",
      "|                 go                  | 492  |   4    |                                        [(16, 2), (33, 2)]                                        |\n",
      "|                come                 | 487  |   2    |                                         [(4, 1), (7, 1)]                                         |\n",
      "|                give                 | 324  |   4    |                                [(3, 1), (4, 1), (11, 1), (14, 1)]                                |\n",
      "|               decided               | 114  |   1    |                                            [(12, 1)]                                             |\n",
      "|                daily                |  67  |   1    |                                             [(3, 1)]                                             |\n",
      "|              although               | 265  |   1    |                                            [(29, 1)]                                             |\n",
      "|             capability              |  35  |   1    |                                            [(34, 1)]                                             |\n",
      "|                mail                 |  35  |   2    |                                        [(22, 1), (35, 1)]                                        |\n",
      "|                 250                 |  38  |   2    |                                        [(11, 1), (12, 1)]                                        |\n",
      "|               package               |  47  |   1    |                                            [(10, 1)]                                             |\n",
      "|                must                 | 183  |   2    |                                        [(9, 1), (14, 1)]                                         |\n",
      "|                 due                 | 251  |   1    |                                            [(28, 1)]                                             |\n",
      "|               control               | 202  |   1    |                                            [(21, 1)]                                             |\n",
      "|                today                | 167  |   1    |                                            [(15, 1)]                                             |\n",
      "|               advice                |  38  |   1    |                                             [(9, 1)]                                             |\n",
      "|             technology              | 241  |   5    |                           [(5, 1), (35, 1), (39, 1), (41, 1), (45, 1)]                           |\n",
      "|                might                | 185  |   2    |                                         [(1, 1), (6, 1)]                                         |\n",
      "|                break                | 114  |   1    |                                            [(26, 1)]                                             |\n",
      "|                link                 |  73  |   1    |                                            [(33, 1)]                                             |\n",
      "|            communication            |  61  |   1    |                                            [(37, 1)]                                             |\n",
      "|              potential              | 128  |   1    |                                            [(12, 1)]                                             |\n",
      "|               trying                | 165  |   1    |                                             [(5, 1)]                                             |\n",
      "|                 get                 | 593  |   2    |                                        [(16, 1), (33, 1)]                                        |\n",
      "|                idea                 | 156  |   2    |                                        [(6, 1), (19, 1)]                                         |\n",
      "|                even                 | 351  |   1    |                                            [(41, 1)]                                             |\n",
      "|               reason                | 125  |   1    |                                            [(33, 1)]                                             |\n",
      "|               problem               | 343  |   2    |                                        [(13, 1), (38, 1)]                                        |\n",
      "|               person                |  83  |   1    |                                            [(23, 1)]                                             |\n",
      "|                wrong                | 111  |   1    |                                            [(10, 1)]                                             |\n",
      "|                work                 | 448  |   3    |                                        [(29, 1), (33, 2)]                                        |\n",
      "|                trial                | 119  |   1    |                                            [(28, 1)]                                             |\n",
      "|                 dvd                 |  56  |   1    |                                            [(34, 1)]                                             |\n",
      "|                video                | 161  |   5    |                          [(22, 1), (23, 1), (24, 1), (27, 1), (35, 1)]                           |\n",
      "|                 100                 | 161  |   1    |                                            [(23, 1)]                                             |\n",
      "|                clear                | 185  |   1    |                                             [(9, 1)]                                             |\n",
      "|                look                 | 295  |   1    |                                            [(21, 1)]                                             |\n",
      "|               health                | 112  |   1    |                                            [(38, 1)]                                             |\n",
      "|                send                 |  74  |   2    |                                            [(36, 2)]                                             |\n",
      "|                thing                | 311  |   2    |                                        [(1, 1), (32, 1)]                                         |\n",
      "|                done                 | 192  |   1    |                                            [(29, 1)]                                             |\n",
      "|                clark                |  19  |   1    |                                            [(45, 1)]                                             |\n",
      "|              presence               |  25  |   1    |                                            [(33, 1)]                                             |\n",
      "|               normal                |  39  |   1    |                                            [(20, 1)]                                             |\n",
      "|                know                 | 305  |   1    |                                             [(7, 1)]                                             |\n",
      "|                kind                 |  93  |   2    |                                        [(10, 1), (37, 1)]                                        |\n",
      "|             indian-born             |  2   |   1    |                                             [(4, 1)]                                             |\n",
      "|                 see                 | 454  |   1    |                                            [(32, 1)]                                             |\n",
      "|                alone                |  64  |   1    |                                            [(11, 1)]                                             |\n",
      "|               ensure                | 125  |   1    |                                            [(29, 1)]                                             |\n",
      "|                reach                | 111  |   1    |                                            [(44, 1)]                                             |\n",
      "|               course                | 115  |   1    |                                            [(36, 1)]                                             |\n",
      "|               battle                | 107  |   2    |                                        [(40, 1), (41, 1)]                                        |\n",
      "|               poverty               |  45  |   1    |                                            [(38, 1)]                                             |\n",
      "|               cheaper               |  37  |   1    |                                            [(27, 1)]                                             |\n",
      "|              education              |  94  |   1    |                                             [(9, 1)]                                             |\n",
      "|                tough                | 107  |   1    |                                            [(26, 1)]                                             |\n",
      "|              expensive              |  54  |   1    |                                            [(11, 1)]                                             |\n",
      "|                 let                 | 187  |   1    |                                            [(11, 1)]                                             |\n",
      "|               ca n't                |  85  |   1    |                                            [(25, 1)]                                             |\n",
      "|                team                 | 246  |   1    |                                            [(27, 1)]                                             |\n",
      "|               wealth                |  21  |   1    |                                            [(38, 1)]                                             |\n",
      "|               afford                |  31  |   1    |                                             [(3, 1)]                                             |\n",
      "|              graduate               |  11  |   1    |                                            [(24, 1)]                                             |\n",
      "|             university              |  89  |   1    |                                            [(30, 1)]                                             |\n",
      "|              approach               |  88  |   1    |                                            [(10, 1)]                                             |\n",
      "|               becomes               |  34  |   1    |                                            [(13, 1)]                                             |\n",
      "|             television              | 113  |   6    |                      [(1, 1), (15, 1), (16, 1), (20, 1), (21, 1), (34, 1)]                       |\n",
      "|                asked                | 175  |   1    |                                            [(11, 1)]                                             |\n",
      "|                find                 | 209  |   1    |                                             [(5, 1)]                                             |\n",
      "|                step                 | 127  |   1    |                                             [(6, 1)]                                             |\n",
      "|           infrastructure            |  36  |   1    |                                            [(29, 1)]                                             |\n",
      "|                 run                 | 261  |   1    |                                            [(20, 1)]                                             |\n",
      "|              personal               | 178  |   2    |                                        [(6, 1), (20, 1)]                                         |\n",
      "|                 lot                 | 268  |   1    |                                            [(33, 1)]                                             |\n",
      "|              reliable               |  8   |   1    |                                            [(29, 1)]                                             |\n",
      "|               memory                |  53  |   1    |                                            [(23, 1)]                                             |\n",
      "|               answer                |  62  |   1    |                                            [(31, 1)]                                             |\n",
      "|              anything               | 122  |   1    |                                            [(25, 1)]                                             |\n",
      "|               project               | 133  |   1    |                                            [(27, 1)]                                             |\n",
      "|              hardware               |  29  |   1    |                                            [(27, 1)]                                             |\n",
      "|               instead               | 149  |   1    |                                            [(12, 1)]                                             |\n",
      "|              proposed               |  64  |   1    |                                            [(36, 1)]                                             |\n",
      "|               billion               |  76  |   2    |                                        [(0, 1), (11, 1)]                                         |\n",
      "|                live                 | 144  |   1    |                                             [(0, 1)]                                             |\n",
      "|               access                | 142  |   2    |                                         [(4, 1), (9, 1)]                                         |\n",
      "|            long-distance            |  8   |   1    |                                            [(33, 1)]                                             |\n",
      "|               brewer                |  7   |   2    |                                        [(30, 1), (31, 1)]                                        |\n",
      "|               network               | 167  |   1    |                                            [(33, 1)]                                             |\n",
      "|              important              | 220  |   1    |                                            [(18, 1)]                                             |\n",
      "|              computer               | 178  |   7    |                   [(1, 1), (4, 1), (6, 1), (11, 1), (20, 1), (23, 1), (33, 1)]                   |\n",
      "|                 pc                  | 125  |   3    |                                    [(8, 1), (9, 1), (27, 1)]                                     |\n",
      "|               talking               |  75  |   2    |                                            [(24, 2)]                                             |\n",
      "|             application             |  58  |   2    |                                        [(21, 1), (22, 1)]                                        |\n",
      "|                never                | 227  |   1    |                                            [(26, 1)]                                             |\n",
      "|                word                 |  83  |   2    |                                        [(8, 1), (22, 1)]                                         |\n",
      "|                bulk                 |  14  |   1    |                                             [(5, 1)]                                             |\n",
      "|               enable                |  30  |   1    |                                            [(39, 1)]                                             |\n",
      "|             aid package             |  6   |   1    |                                            [(10, 1)]                                             |\n",
      "|              software               | 135  |   1    |                                            [(27, 1)]                                             |\n",
      "|                reddy                |  2   |   11   | [(5, 1), (6, 1), (7, 1), (10, 1), (12, 1), (14, 1), (24, 1), (30, 1), (34, 1), (35, 1), (37, 1)] |\n",
      "|             major part              |  7   |   1    |                                            [(26, 1)]                                             |\n",
      "|               matter                | 124  |   1    |                                            [(25, 1)]                                             |\n",
      "|              professor              |  30  |   2    |                                         [(5, 1), (6, 1)]                                         |\n",
      "|               harmful               |  10  |   1    |                                            [(36, 1)]                                             |\n",
      "|             accessible              |  22  |   1    |                                             [(5, 1)]                                             |\n",
      "|              telephone              |  44  |   1    |                                            [(20, 1)]                                             |\n",
      "|             processing              |  25  |   1    |                                             [(8, 1)]                                             |\n",
      "|               village               |  22  |   2    |                                         [(7, 1), (9, 1)]                                         |\n",
      "|              pressing               |  12  |   1    |                                            [(25, 1)]                                             |\n",
      "|               machine               |  74  |   1    |                                            [(20, 1)]                                             |\n",
      "|                voice                |  68  |   1    |                                            [(22, 1)]                                             |\n",
      "|               career                | 140  |   1    |                                             [(5, 1)]                                             |\n",
      "|              introduce              |  43  |   1    |                                            [(35, 1)]                                             |\n",
      "|                 tv                  | 199  |   2    |                                        [(3, 1), (22, 1)]                                         |\n",
      "|             compelling              |  9   |   2    |                                        [(13, 1), (14, 1)]                                        |\n",
      "|               pay-off               |  4   |   1    |                                            [(37, 1)]                                             |\n",
      "|               turned                | 115  |   1    |                                            [(33, 1)]                                             |\n",
      "|               uphill                |  6   |   2    |                                        [(40, 1), (41, 1)]                                        |\n",
      "|                care                 |  81  |   1    |                                            [(38, 1)]                                             |\n",
      "|               mellon                |  3   |   2    |                                        [(5, 1), (27, 1)]                                         |\n",
      "|                rent                 |  12  |   1    |                                            [(34, 1)]                                             |\n",
      "|              primarily              |  10  |   1    |                                             [(9, 1)]                                             |\n",
      "|             health care             |  4   |   1    |                                            [(38, 1)]                                             |\n",
      "|                 us                  |  61  |   1    |                                             [(8, 1)]                                             |\n",
      "|            entertainment            |  88  |   2    |                                        [(9, 1), (18, 1)]                                         |\n",
      "|              wireless               |  55  |   1    |                                            [(33, 1)]                                             |\n",
      "|                eric                 |  20  |   1    |                                            [(30, 1)]                                             |\n",
      "|               screen                | 101  |   1    |                                            [(22, 1)]                                             |\n",
      "|            professional             |  48  |   1    |                                             [(5, 1)]                                             |\n",
      "|             completely              |  65  |   1    |                                            [(19, 1)]                                             |\n",
      "|              engineer               |  15  |   1    |                                             [(4, 1)]                                             |\n",
      "|                mouse                |  17  |   1    |                                            [(21, 1)]                                             |\n",
      "|              built-in               |  17  |   1    |                                            [(27, 1)]                                             |\n",
      "|                lease                |  5   |   1    |                                            [(34, 1)]                                             |\n",
      "|          personal computer          |  2   |   2    |                                        [(6, 1), (20, 1)]                                         |\n",
      "|               desktop               |  19  |   1    |                                            [(20, 1)]                                             |\n",
      "|              bandwidth              |  15  |   1    |                                            [(24, 1)]                                             |\n",
      "|             california              |  36  |   1    |                                            [(30, 1)]                                             |\n",
      "|              literate               |  2   |   1    |                                            [(21, 1)]                                             |\n",
      "|               nobody                |  31  |   1    |                                             [(8, 1)]                                             |\n",
      "|              possibly               |  26  |   1    |                                            [(11, 1)]                                             |\n",
      "|             poor people             |  2   |   3    |                                    [(5, 1), (6, 1), (11, 1)]                                     |\n",
      "|                 --                  |  7   |   1    |                                            [(11, 1)]                                             |\n",
      "|               fairly                |  20  |   1    |                                            [(29, 1)]                                             |\n",
      "|                tool                 |  62  |   1    |                                            [(42, 1)]                                             |\n",
      "|              fortunate              |  12  |   1    |                                            [(11, 1)]                                             |\n",
      "|                prof                 |  18  |   9    |         [(7, 1), (10, 1), (12, 1), (14, 1), (24, 1), (30, 1), (31, 1), (34, 1), (37, 1)]         |\n",
      "|                mind                 |  89  |   1    |                                             [(1, 1)]                                             |\n",
      "|               e-mail                |  73  |   1    |                                            [(22, 1)]                                             |\n",
      "|             dependence              |  4   |   1    |                                            [(23, 1)]                                             |\n",
      "|                boyd                 |  10  |   1    |                                            [(45, 1)]                                             |\n",
      "|               andhra                |  2   |   2    |                                        [(28, 1), (29, 1)]                                        |\n",
      "|               pradesh               |  2   |   2    |                                        [(28, 1), (29, 1)]                                        |\n",
      "|           andhra pradesh            |  2   |   2    |                                        [(28, 1), (29, 1)]                                        |\n",
      "|            indian state             |  3   |   1    |                                            [(28, 1)]                                             |\n",
      "|              berkeley               |  2   |   1    |                                            [(30, 1)]                                             |\n",
      "|               student               |  44  |   1    |                                            [(24, 1)]                                             |\n",
      "|               remote                |  21  |   1    |                                            [(21, 1)]                                             |\n",
      "|               webcam                |  5   |   1    |                                            [(36, 1)]                                             |\n",
      "|            co-production            |  10  |   1    |                                            [(45, 1)]                                             |\n",
      "|               teamed                |  4   |   1    |                                            [(30, 1)]                                             |\n",
      "|                audio                |  30  |   3    |                                   [(23, 1), (24, 1), (27, 1)]                                    |\n",
      "|              keyboard               |  22  |   1    |                                            [(21, 1)]                                             |\n",
      "|                surf                 |  6   |   1    |                                            [(21, 1)]                                             |\n",
      "|            conventional             |  14  |   1    |                                             [(8, 1)]                                             |\n",
      "|              carnegie               |  2   |   2    |                                        [(5, 1), (27, 1)]                                         |\n",
      "|                 raj                 |  2   |   1    |                                             [(5, 1)]                                             |\n",
      "|                meal                 |  5   |   3    |                                    [(3, 1), (14, 1), (16, 1)]                                    |\n",
      "|               hotspot               |  9   |   1    |                                            [(32, 1)]                                             |\n",
      "|             illiteracy              |  4   |   1    |                                            [(38, 1)]                                             |\n",
      "|                tying                |  2   |   1    |                                            [(10, 1)]                                             |\n",
      "|            uphill battle            |  3   |   2    |                                        [(40, 1), (41, 1)]                                        |\n",
      "|               graphic               |  35  |   1    |                                            [(23, 1)]                                             |\n",
      "|                 phd                 |  2   |   1    |                                            [(23, 1)]                                             |\n",
      "|              withstand              |  2   |   1    |                                            [(25, 1)]                                             |\n",
      "|         professional career         |  2   |   1    |                                             [(5, 1)]                                             |\n",
      "|           remote control            |  3   |   1    |                                            [(21, 1)]                                             |\n",
      "|               usable                |  3   |   1    |                                             [(9, 1)]                                             |\n",
      "|                wi-fi                |  11  |   1    |                                            [(31, 1)]                                             |\n",
      "|             wgbh-boston             |  8   |   1    |                                            [(45, 1)]                                             |\n",
      "|             clark boyd              |  8   |   1    |                                            [(45, 1)]                                             |\n",
      "|      technology correspondent       |  8   |   1    |                                            [(45, 1)]                                             |\n",
      "|            world service            |  9   |   1    |                                            [(45, 1)]                                             |\n",
      "|            exponentially            |  3   |   1    |                                            [(24, 1)]                                             |\n",
      "|              new idea               |  2   |   1    |                                            [(19, 1)]                                             |\n",
      "|             illiterate              |  2   |   5    |                           [(7, 1), (9, 1), (21, 1), (23, 1), (24, 1)]                            |\n",
      "|             daily meals             |  1   |   1    |                                             [(3, 1)]                                             |\n",
      "|          computer engineer          |  1   |   1    |                                             [(4, 1)]                                             |\n",
      "|            cheap access             |  1   |   1    |                                             [(4, 1)]                                             |\n",
      "| carnegie mellon professor raj reddy |  1   |   1    |                                             [(5, 1)]                                             |\n",
      "|        technology accessible        |  2   |   1    |                                             [(5, 1)]                                             |\n",
      "|           professor reddy           |  1   |   1    |                                             [(6, 1)]                                             |\n",
      "|          pretty good idea           |  1   |   1    |                                             [(6, 1)]                                             |\n",
      "|             prof reddy              |  1   |   8    |             [(7, 1), (10, 1), (12, 1), (14, 1), (24, 1), (30, 1), (34, 1), (37, 1)]              |\n",
      "|             powerpoint              |  1   |   1    |                                             [(8, 1)]                                             |\n",
      "|          conventional uses          |  1   |   1    |                                             [(8, 1)]                                             |\n",
      "|           word processing           |  1   |   1    |                                             [(8, 1)]                                             |\n",
      "|            telemedicine             |  1   |   1    |                                             [(9, 1)]                                             |\n",
      "|          illiterate people          |  1   |   1    |                                             [(9, 1)]                                             |\n",
      "|            expert advice            |  1   |   1    |                                             [(9, 1)]                                             |\n",
      "|           wrong approach            |  1   |   1    |                                            [(10, 1)]                                             |\n",
      "|              aid group              |  1   |   1    |                                            [(11, 1)]                                             |\n",
      "|         expensive computers         |  1   |   1    |                                            [(11, 1)]                                             |\n",
      "|          potential market           |  1   |   1    |                                            [(12, 1)]                                             |\n",
      "|            personalized             |  1   |   1    |                                            [(18, 1)]                                             |\n",
      "|               hatched               |  1   |   1    |                                            [(19, 1)]                                             |\n",
      "|                pctvt                |  1   |   4    |                               [(20, 1), (28, 1), (35, 1), (36, 1)]                               |\n",
      "|       normal desktop machine        |  1   |   1    |                                            [(20, 1)]                                             |\n",
      "|          illiterate users           |  1   |   1    |                                            [(21, 1)]                                             |\n",
      "|              designate              |  1   |   1    |                                            [(22, 1)]                                             |\n",
      "|       designate applications        |  1   |   1    |                                            [(22, 1)]                                             |\n",
      "|            video e-mail             |  1   |   1    |                                            [(22, 1)]                                             |\n",
      "|       illiterate person needs       |  1   |   1    |                                            [(23, 1)]                                             |\n",
      "|              prassana               |  1   |   1    |                                            [(24, 1)]                                             |\n",
      "|              rambathla              |  1   |   1    |                                            [(24, 1)]                                             |\n",
      "|         prassana rambathla          |  1   |   1    |                                            [(24, 1)]                                             |\n",
      "|        's graduate students         |  1   |   1    |                                            [(24, 1)]                                             |\n",
      "|           high bandwidth            |  1   |   1    |                                            [(24, 1)]                                             |\n",
      "|                choke                |  1   |   1    |                                            [(25, 1)]                                             |\n",
      "|              foolproof              |  1   |   1    |                                            [(26, 1)]                                             |\n",
      "|           carnegie mellon           |  1   |   1    |                                            [(27, 1)]                                             |\n",
      "|           built-in audio            |  1   |   1    |                                            [(27, 1)]                                             |\n",
      "|           video hardware            |  1   |   1    |                                            [(27, 1)]                                             |\n",
      "|         good infrastructure         |  1   |   1    |                                            [(29, 1)]                                             |\n",
      "|        reliable connections         |  1   |   1    |                                            [(29, 1)]                                             |\n",
      "|             eric brewer             |  1   |   1    |                                            [(30, 1)]                                             |\n",
      "|             prof brewer             |  1   |   1    |                                            [(31, 1)]                                             |\n",
      "|              starbuck               |  1   |   1    |                                            [(32, 1)]                                             |\n",
      "|            intermittency            |  1   |   1    |                                            [(33, 1)]                                             |\n",
      "|       long-distance wireless        |  1   |   1    |                                            [(33, 1)]                                             |\n",
      "|            network work             |  1   |   1    |                                            [(33, 1)]                                             |\n",
      "|               pctvts                |  1   |   1    |                                            [(34, 1)]                                             |\n",
      "|               insect                |  1   |   1    |                                            [(36, 1)]                                             |\n",
      "|              's webcam              |  1   |   1    |                                            [(36, 1)]                                             |\n",
      "|           harmful insect            |  1   |   1    |                                            [(36, 1)]                                             |\n",
      "|            real pay-off             |  1   |   1    |                                            [(37, 1)]                                             |\n",
      "|             postulating             |  1   |   1    |                                            [(39, 1)]                                             |\n",
      "+-------------------------------------+------+--------+--------------------------------------------------------------------------------------------------+\n"
     ]
    },
    {
     "data": {
      "text/plain": [
       "<matplotlib.image.AxesImage at 0x76b3af1cca30>"
      ]
     },
     "execution_count": 8,
     "metadata": {},
     "output_type": "execute_result"
    },
    {
     "data": {
      "image/png": "[encoded data removed]",
      "text/plain": [
       "<Figure size 480x480 with 1 Axes>"
      ]
     },
     "metadata": {},
     "output_type": "display_data"
    }
   ],
   "source": [
    "print(I.doc_to_string(d))\n",
    "dissimilarity_matrix_tfidf = tf_idf_compute_dissimilarity_matrix(d, I)\n",
    "plt.matshow(dissimilarity_matrix_tfidf)"
   ]
  },
  {
   "cell_type": "code",
   "execution_count": 9,
   "metadata": {},
   "outputs": [
    {
     "data": {
      "text/plain": [
       "<matplotlib.image.AxesImage at 0x76b3ad047a30>"
      ]
     },
     "execution_count": 9,
     "metadata": {},
     "output_type": "execute_result"
    },
    {
     "data": {
      "image/png": "[encoded data removed]",
      "text/plain": [
       "<Figure size 480x480 with 1 Axes>"
      ]
     },
     "metadata": {},
     "output_type": "display_data"
    }
   ],
   "source": [
    "# If using another function to map the similarity matrix into a dissimilarity matrix such as d_ij = (1-s_ij^0.5)^2\n",
    "plt.matshow((1-np.power(1 - dissimilarity_matrix_tfidf, 1/2))**2)"
   ]
  },
  {
   "cell_type": "code",
   "execution_count": 10,
   "metadata": {},
   "outputs": [
    {
     "data": {
      "image/png": "[encoded data removed]",
      "text/plain": [
       "<Figure size 640x480 with 1 Axes>"
      ]
     },
     "metadata": {},
     "output_type": "display_data"
    }
   ],
   "source": [
    "ratios = np.array([len(nltk.sent_tokenize(articles[i]))/len(summary_sentence_indices[i]) for i in range(len(articles))])\n",
    "plt.boxplot(ratios)\n",
    "None"
   ]
  },
  {
   "cell_type": "code",
   "execution_count": 11,
   "metadata": {},
   "outputs": [
    {
     "name": "stderr",
     "output_type": "stream",
     "text": [
      "Some weights of the model checkpoint at distilbert-base-uncased were not used when initializing DistilBertModel: ['vocab_layer_norm.bias', 'vocab_transform.weight', 'vocab_transform.bias', 'vocab_layer_norm.weight', 'vocab_projector.weight', 'vocab_projector.bias']\n",
      "- This IS expected if you are initializing DistilBertModel from the checkpoint of a model trained on another task or with another architecture (e.g. initializing a BertForSequenceClassification model from a BertForPreTraining model).\n",
      "- This IS NOT expected if you are initializing DistilBertModel from the checkpoint of a model that you expect to be exactly identical (initializing a BertForSequenceClassification model from a BertForSequenceClassification model).\n"
     ]
    },
    {
     "name": "stderr",
     "output_type": "stream",
     "text": [
      "/home/mono/.local/lib/python3.10/site-packages/torch/cuda/__init__.py:83: UserWarning: CUDA initialization: CUDA unknown error - this may be due to an incorrectly set up environment, e.g. changing env variable CUDA_VISIBLE_DEVICES after program start. Setting the available devices to be zero. (Triggered internally at  ../c10/cuda/CUDAFunctions.cpp:109.)\n",
      "  return torch._C._cuda_getDeviceCount() > 0\n"
     ]
    },
    {
     "data": {
      "text/plain": [
       "DistilBertModel(\n",
       "  (embeddings): Embeddings(\n",
       "    (word_embeddings): Embedding(30522, 768, padding_idx=0)\n",
       "    (position_embeddings): Embedding(512, 768)\n",
       "    (LayerNorm): LayerNorm((768,), eps=1e-12, elementwise_affine=True)\n",
       "    (dropout): Dropout(p=0.1, inplace=False)\n",
       "  )\n",
       "  (transformer): Transformer(\n",
       "    (layer): ModuleList(\n",
       "      (0): TransformerBlock(\n",
       "        (attention): MultiHeadSelfAttention(\n",
       "          (dropout): Dropout(p=0.1, inplace=False)\n",
       "          (q_lin): Linear(in_features=768, out_features=768, bias=True)\n",
       "          (k_lin): Linear(in_features=768, out_features=768, bias=True)\n",
       "          (v_lin): Linear(in_features=768, out_features=768, bias=True)\n",
       "          (out_lin): Linear(in_features=768, out_features=768, bias=True)\n",
       "        )\n",
       "        (sa_layer_norm): LayerNorm((768,), eps=1e-12, elementwise_affine=True)\n",
       "        (ffn): FFN(\n",
       "          (dropout): Dropout(p=0.1, inplace=False)\n",
       "          (lin1): Linear(in_features=768, out_features=3072, bias=True)\n",
       "          (lin2): Linear(in_features=3072, out_features=768, bias=True)\n",
       "          (activation): GELUActivation()\n",
       "        )\n",
       "        (output_layer_norm): LayerNorm((768,), eps=1e-12, elementwise_affine=True)\n",
       "      )\n",
       "      (1): TransformerBlock(\n",
       "        (attention): MultiHeadSelfAttention(\n",
       "          (dropout): Dropout(p=0.1, inplace=False)\n",
       "          (q_lin): Linear(in_features=768, out_features=768, bias=True)\n",
       "          (k_lin): Linear(in_features=768, out_features=768, bias=True)\n",
       "          (v_lin): Linear(in_features=768, out_features=768, bias=True)\n",
       "          (out_lin): Linear(in_features=768, out_features=768, bias=True)\n",
       "        )\n",
       "        (sa_layer_norm): LayerNorm((768,), eps=1e-12, elementwise_affine=True)\n",
       "        (ffn): FFN(\n",
       "          (dropout): Dropout(p=0.1, inplace=False)\n",
       "          (lin1): Linear(in_features=768, out_features=3072, bias=True)\n",
       "          (lin2): Linear(in_features=3072, out_features=768, bias=True)\n",
       "          (activation): GELUActivation()\n",
       "        )\n",
       "        (output_layer_norm): LayerNorm((768,), eps=1e-12, elementwise_affine=True)\n",
       "      )\n",
       "      (2): TransformerBlock(\n",
       "        (attention): MultiHeadSelfAttention(\n",
       "          (dropout): Dropout(p=0.1, inplace=False)\n",
       "          (q_lin): Linear(in_features=768, out_features=768, bias=True)\n",
       "          (k_lin): Linear(in_features=768, out_features=768, bias=True)\n",
       "          (v_lin): Linear(in_features=768, out_features=768, bias=True)\n",
       "          (out_lin): Linear(in_features=768, out_features=768, bias=True)\n",
       "        )\n",
       "        (sa_layer_norm): LayerNorm((768,), eps=1e-12, elementwise_affine=True)\n",
       "        (ffn): FFN(\n",
       "          (dropout): Dropout(p=0.1, inplace=False)\n",
       "          (lin1): Linear(in_features=768, out_features=3072, bias=True)\n",
       "          (lin2): Linear(in_features=3072, out_features=768, bias=True)\n",
       "          (activation): GELUActivation()\n",
       "        )\n",
       "        (output_layer_norm): LayerNorm((768,), eps=1e-12, elementwise_affine=True)\n",
       "      )\n",
       "      (3): TransformerBlock(\n",
       "        (attention): MultiHeadSelfAttention(\n",
       "          (dropout): Dropout(p=0.1, inplace=False)\n",
       "          (q_lin): Linear(in_features=768, out_features=768, bias=True)\n",
       "          (k_lin): Linear(in_features=768, out_features=768, bias=True)\n",
       "          (v_lin): Linear(in_features=768, out_features=768, bias=True)\n",
       "          (out_lin): Linear(in_features=768, out_features=768, bias=True)\n",
       "        )\n",
       "        (sa_layer_norm): LayerNorm((768,), eps=1e-12, elementwise_affine=True)\n",
       "        (ffn): FFN(\n",
       "          (dropout): Dropout(p=0.1, inplace=False)\n",
       "          (lin1): Linear(in_features=768, out_features=3072, bias=True)\n",
       "          (lin2): Linear(in_features=3072, out_features=768, bias=True)\n",
       "          (activation): GELUActivation()\n",
       "        )\n",
       "        (output_layer_norm): LayerNorm((768,), eps=1e-12, elementwise_affine=True)\n",
       "      )\n",
       "      (4): TransformerBlock(\n",
       "        (attention): MultiHeadSelfAttention(\n",
       "          (dropout): Dropout(p=0.1, inplace=False)\n",
       "          (q_lin): Linear(in_features=768, out_features=768, bias=True)\n",
       "          (k_lin): Linear(in_features=768, out_features=768, bias=True)\n",
       "          (v_lin): Linear(in_features=768, out_features=768, bias=True)\n",
       "          (out_lin): Linear(in_features=768, out_features=768, bias=True)\n",
       "        )\n",
       "        (sa_layer_norm): LayerNorm((768,), eps=1e-12, elementwise_affine=True)\n",
       "        (ffn): FFN(\n",
       "          (dropout): Dropout(p=0.1, inplace=False)\n",
       "          (lin1): Linear(in_features=768, out_features=3072, bias=True)\n",
       "          (lin2): Linear(in_features=3072, out_features=768, bias=True)\n",
       "          (activation): GELUActivation()\n",
       "        )\n",
       "        (output_layer_norm): LayerNorm((768,), eps=1e-12, elementwise_affine=True)\n",
       "      )\n",
       "      (5): TransformerBlock(\n",
       "        (attention): MultiHeadSelfAttention(\n",
       "          (dropout): Dropout(p=0.1, inplace=False)\n",
       "          (q_lin): Linear(in_features=768, out_features=768, bias=True)\n",
       "          (k_lin): Linear(in_features=768, out_features=768, bias=True)\n",
       "          (v_lin): Linear(in_features=768, out_features=768, bias=True)\n",
       "          (out_lin): Linear(in_features=768, out_features=768, bias=True)\n",
       "        )\n",
       "        (sa_layer_norm): LayerNorm((768,), eps=1e-12, elementwise_affine=True)\n",
       "        (ffn): FFN(\n",
       "          (dropout): Dropout(p=0.1, inplace=False)\n",
       "          (lin1): Linear(in_features=768, out_features=3072, bias=True)\n",
       "          (lin2): Linear(in_features=3072, out_features=768, bias=True)\n",
       "          (activation): GELUActivation()\n",
       "        )\n",
       "        (output_layer_norm): LayerNorm((768,), eps=1e-12, elementwise_affine=True)\n",
       "      )\n",
       "    )\n",
       "  )\n",
       ")"
      ]
     },
     "execution_count": 11,
     "metadata": {},
     "output_type": "execute_result"
    }
   ],
   "source": [
    "pretrained_weights = 'distilbert-base-uncased'\n",
    "bert_tokenizer = DistilBertTokenizer.from_pretrained(pretrained_weights, do_lower_case=True)\n",
    "bert_model = DistilBertModel.from_pretrained(pretrained_weights)\n",
    "device = torch.device('cuda' if torch.cuda.is_available() else 'cpu')\n",
    "bert_model.to(device)"
   ]
  },
  {
   "cell_type": "code",
   "execution_count": 12,
   "metadata": {},
   "outputs": [],
   "source": [
    "sentence_embeddings_path = './embeddings/sentence_embeddings.pkl'\n",
    "bert_params = (bert_tokenizer, bert_model, device)\n",
    "dissimilarity_matrix_bert = bert_compute_dissimilarity_matrix(0, articles, bert_params, sentence_embeddings_path)"
   ]
  },
  {
   "cell_type": "code",
   "execution_count": 13,
   "metadata": {},
   "outputs": [
    {
     "data": {
      "text/plain": [
       "<matplotlib.image.AxesImage at 0x76b3acf60640>"
      ]
     },
     "execution_count": 13,
     "metadata": {},
     "output_type": "execute_result"
    },
    {
     "data": {
      "image/png": "[encoded data removed]",
      "text/plain": [
       "<Figure size 480x480 with 1 Axes>"
      ]
     },
     "metadata": {},
     "output_type": "display_data"
    }
   ],
   "source": [
    "plt.matshow(dissimilarity_matrix_bert)"
   ]
  },
  {
   "cell_type": "code",
   "execution_count": 14,
   "metadata": {},
   "outputs": [
    {
     "name": "stdout",
     "output_type": "stream",
     "text": [
      "TimeWarner is to restate its accounts as part of efforts to resolve an inquiry into AOL by US market regulators.\n",
      "It will now book the sale of its stake in AOL Europe as a loss on the value of that stake.\n",
      "0.028776646\n",
      "---\n",
      "The firm's revenue nearly tripled in the fourth quarter of 2004, exceeding $86m (£46m).\n",
      "But on Thursday, it announced that a sharp turnaround had brought about an unexpected increase in profits.\n",
      "0.03652972\n",
      "---\n",
      "Unusually, the runners-up in categories were also named with Clint Eastwood's Million Dollar Baby just missing out on the best film award.\n",
      "The best director runner-up was Martin Scorsese for The Aviator.\n",
      "0.03291732\n",
      "---\n",
      "Twelve films competing in the new world cinema documentary category focus on countries and people under siege.\n",
      "The 16 films competing in the new world cinema dramatic category include works from Germany, South Korea, Angola, China, Denmark and Australia.\n",
      "0.024558902\n",
      "---\n"
     ]
    },
    {
     "name": "stdout",
     "output_type": "stream",
     "text": [
      "Prof Joni Lovenduski, who conducted the study with the help of Margaret Moran MP and a team of journalists, said she was shocked at the findings.\n",
      "This was mainly because there were more women present in Parliament who were not prepared to \"put up with\" the sexist attitudes they came across, Prof Lovenduski said.\n",
      "0.037931204\n",
      "---\n",
      "Between 1.1 and 1.5 million people, mainly Jews, were killed at Auschwitz.\n",
      "Altogether, some six million people, mainly Jews, perished in the Holocaust.\n",
      "0.03375292\n",
      "---\n"
     ]
    }
   ],
   "source": [
    "# print two closest sentences according to bert\n",
    "for d in (0, 10, 600, 610, 900, 910):\n",
    "    bert_params = (bert_tokenizer, bert_model, device)\n",
    "    dissimilarity_matrix_bert = bert_compute_dissimilarity_matrix(d, articles, bert_params)\n",
    "    index_closest_bert = np.argmin(dissimilarity_matrix_bert)\n",
    "    tokenized_article = nltk.sent_tokenize(articles[d])\n",
    "    num_sent = len(tokenized_article)\n",
    "    sent1 = index_closest_bert//num_sent\n",
    "    sent2 = index_closest_bert%num_sent\n",
    "    print(tokenized_article[sent1])\n",
    "    print(tokenized_article[sent2])\n",
    "    print(dissimilarity_matrix_bert[sent1, sent2])\n",
    "    print('---')"
   ]
  },
  {
   "cell_type": "code",
   "execution_count": 15,
   "metadata": {},
   "outputs": [
    {
     "name": "stdout",
     "output_type": "stream",
     "text": [
      "It lost 464,000 subscribers in the fourth quarter profits were lower than in the preceding three quarters.\n",
      "Time Warner's fourth quarter profits were slightly better than analysts' expectations.\n",
      "0.5712966777812147\n",
      "---\n",
      "Ask Jeeves has become the third leading online search firm this week to thank a revival in internet advertising for improving fortunes.\n",
      "Late last year, marketing company Doubleclick, one of the leading providers of online advertising, warned that some or all of its business would have to be put up for sale.\n",
      "0.7983408935807431\n",
      "---\n",
      "The awards will be handed out on 13 January at a ceremony in Las Vegas.\n",
      "A career achievement award will be handed to veteran actor and comic Jerry Lewis at the ceremony next year.\n",
      "0.765904440541825\n",
      "---\n",
      "Twelve films competing in the new world cinema documentary category focus on countries and people under siege.\n",
      "The 16 films competing in the new world cinema dramatic category include works from Germany, South Korea, Angola, China, Denmark and Australia.\n",
      "0.7247999329491835\n",
      "---\n",
      "The research team, under Professor Joni Lovenduski, had set out to look at the achievements and experiences of women at Westminster.\n",
      "Prof Joni Lovenduski, who conducted the study with the help of Margaret Moran MP and a team of journalists, said she was shocked at the findings.\n",
      "0.7226401475664914\n",
      "---\n",
      "Between 1.1 and 1.5 million people, mainly Jews, were killed at Auschwitz.\n",
      "Altogether, some six million people, mainly Jews, perished in the Holocaust.\n",
      "0.5710280509013355\n",
      "---\n"
     ]
    }
   ],
   "source": [
    "# print two closest sentences according to tfidf\n",
    "for d in (0, 10, 600, 610, 900, 910):\n",
    "    dissimilarity_matrix_tfidf = tf_idf_compute_dissimilarity_matrix(d, I)\n",
    "    index_closest_tfidf = np.argmin(dissimilarity_matrix_tfidf)\n",
    "    tokenized_article = nltk.sent_tokenize(articles[d])\n",
    "    num_sent = len(tokenized_article)\n",
    "    sent1 = index_closest_tfidf//num_sent\n",
    "    sent2 = index_closest_tfidf%num_sent\n",
    "    print(tokenized_article[sent1])\n",
    "    print(tokenized_article[sent2])\n",
    "    print(dissimilarity_matrix_tfidf[sent1, sent2])\n",
    "    print('---')"
   ]
  },
  {
   "cell_type": "code",
   "execution_count": 16,
   "metadata": {},
   "outputs": [
    {
     "name": "stderr",
     "output_type": "stream",
     "text": [
      "Some weights of the model checkpoint at distilbert-base-uncased were not used when initializing DistilBertModel: ['vocab_layer_norm.bias', 'vocab_transform.weight', 'vocab_transform.bias', 'vocab_layer_norm.weight', 'vocab_projector.weight', 'vocab_projector.bias']\n",
      "- This IS expected if you are initializing DistilBertModel from the checkpoint of a model trained on another task or with another architecture (e.g. initializing a BertForSequenceClassification model from a BertForPreTraining model).\n",
      "- This IS NOT expected if you are initializing DistilBertModel from the checkpoint of a model that you expect to be exactly identical (initializing a BertForSequenceClassification model from a BertForSequenceClassification model).\n"
     ]
    },
    {
     "name": "stdout",
     "output_type": "stream",
     "text": [
      "Files exist in folder ./embeddings\n"
     ]
    }
   ],
   "source": [
    "# save sentence and document embeddings \n",
    "pretrained_weights = 'distilbert-base-uncased'\n",
    "bert_tokenizer = DistilBertTokenizer.from_pretrained(pretrained_weights, do_lower_case=True)\n",
    "bert_model = DistilBertModel.from_pretrained(pretrained_weights)\n",
    "device = torch.device('cuda' if torch.cuda.is_available() else 'cpu')\n",
    "bert_model.to(device)\n",
    "path = './embeddings'\n",
    "if not os.listdir(path): \n",
    "    save_embeddings(articles, bert_tokenizer, bert_model, device, path)\n",
    "else: \n",
    "    print(f'Files exist in folder {path}')"
   ]
  },
  {
   "cell_type": "code",
   "execution_count": 17,
   "metadata": {},
   "outputs": [],
   "source": [
    "# load embeddings \n",
    "sentence_embeddings_path = os.path.join('./embeddings', 'sentence_embeddings.pkl')\n",
    "sentence_embeddings_by_cat = pickle_load(sentence_embeddings_path)\n",
    "document_embeddings_path = os.path.join('./embeddings', 'document_embeddings.pkl')\n",
    "document_embeddings_by_cat = pickle_load(document_embeddings_path)"
   ]
  },
  {
   "cell_type": "code",
   "execution_count": 18,
   "metadata": {},
   "outputs": [],
   "source": [
    "from G11_code.training import *\n",
    "\n",
    "train_emb_by_cat, test_emb_by_cat, train_ind_by_cat, test_ind_by_cat = split_by_cat(sentence_embeddings_by_cat, summary_sentence_indices_by_cat)\n",
    "\n",
    "X_train, Y_train = get_XY(train_emb_by_cat, train_ind_by_cat)\n",
    "X_test, Y_test = get_XY(test_emb_by_cat, test_ind_by_cat)\n",
    "X_train = flatten(X_train)\n",
    "X_test = flatten(X_test)\n",
    "Y_train = flatten(Y_train)\n",
    "Y_test = flatten(Y_test)"
   ]
  },
  {
   "cell_type": "code",
   "execution_count": 19,
   "metadata": {},
   "outputs": [],
   "source": [
    "n_components = 200"
   ]
  },
  {
   "cell_type": "markdown",
   "metadata": {},
   "source": [
    "Number of Articles in 'tech' Category: 510\n",
    "Number of Articles in 'entertainment' Category: 386\n",
    "Number of Articles in 'sport' Category: 417\n",
    "Number of Articles in 'business' Category: 511\n",
    "Number of Articles in 'politics' Category: 401"
   ]
  },
  {
   "cell_type": "code",
   "execution_count": 20,
   "metadata": {},
   "outputs": [
    {
     "data": {
      "image/png": "[encoded data removed]",
      "text/plain": [
       "<Figure size 640x480 with 1 Axes>"
      ]
     },
     "metadata": {},
     "output_type": "display_data"
    }
   ],
   "source": [
    "# visualize documents by category\n",
    "categories = ['tech', 'entertainment', 'sport', 'business', 'politics']\n",
    "all_doc_emb = flatten(flatten(document_embeddings_by_cat))\n",
    "#reducer = fit_UMAP(X_train, n_components=2)\n",
    "reducer = fit_UMAP(all_doc_emb, n_components=2)\n",
    "for i, cat in enumerate(document_embeddings_by_cat): \n",
    "    samples = np.array(flatten(cat)) \n",
    "    #idx = np.random.randint(samples.shape[0], size=100)\n",
    "    #samples = samples[idx,:]\n",
    "    X_train_trans = transform_UMAP(reducer, samples)\n",
    "    plt.scatter(X_train_trans[:,0], X_train_trans[:,1], label=categories[i])\n",
    "plt.legend(categories)\n",
    "plt.xlabel(\"Dimension 1\")\n",
    "plt.ylabel(\"Dimension 2\")\n",
    "plt.show()\n",
    "#X_test_trans = transform_UMAP(reducer, X_test)"
   ]
  },
  {
   "cell_type": "code",
   "execution_count": 21,
   "metadata": {},
   "outputs": [],
   "source": [
    "pca = fit_PCA(X_train, n_components=n_components)\n",
    "X_train_trans = transform_PCA(pca, X_train)\n",
    "X_test_trans = transform_PCA(pca, X_test)"
   ]
  },
  {
   "cell_type": "code",
   "execution_count": 22,
   "metadata": {},
   "outputs": [],
   "source": [
    "from sklearn.metrics import accuracy_score, classification_report\n",
    "\n",
    "xgb_model = training(train_emb_by_cat, train_ind_by_cat, model_name=\"XGBoost\", use_pca=True, n_components=n_components)"
   ]
  },
  {
   "cell_type": "markdown",
   "metadata": {},
   "source": [
    "              precision    recall  f1-score   support\n",
    "\n",
    "           0       0.62      0.75      0.68      4970\n",
    "           1       0.52      0.37      0.43      3609\n",
    "\n",
    "    accuracy                           0.59      8579\n",
    "   macro avg       0.57      0.56      0.55      8579\n",
    "weighted avg       0.58      0.59      0.57      8579"
   ]
  },
  {
   "cell_type": "code",
   "execution_count": 23,
   "metadata": {},
   "outputs": [
    {
     "name": "stdout",
     "output_type": "stream",
     "text": [
      "              precision    recall  f1-score   support\n",
      "\n",
      "           0       0.60      0.72      0.65      4970\n",
      "           1       0.46      0.32      0.38      3609\n",
      "\n",
      "    accuracy                           0.56      8579\n",
      "   macro avg       0.53      0.52      0.52      8579\n",
      "weighted avg       0.54      0.56      0.54      8579\n",
      "\n"
     ]
    }
   ],
   "source": [
    "predictions = xgb_model.predict(X_test_trans)\n",
    "accuracy = accuracy_score(Y_test, predictions)\n",
    "print(classification_report(Y_test, predictions))"
   ]
  },
  {
   "cell_type": "code",
   "execution_count": 24,
   "metadata": {},
   "outputs": [
    {
     "name": "stdout",
     "output_type": "stream",
     "text": [
      "Classifier XGBoost - Precision: 0.4684014869888476 | Recall: 0.3491271820448878 | AUC: 0.5307004119479972\n"
     ]
    }
   ],
   "source": [
    "precision, recall, auc = supervised_evaluation(test_emb_by_cat, test_ind_by_cat, xgb_model, model_name=\"XGBoost\", use_pca=True, X_train=X_train, n_components=n_components)\n",
    "#precision, recall, auc = supervised_evaluation(test_emb_by_cat, test_ind_by_cat, model, model_name=\"XGBoost\")\n",
    "print(f'Classifier XGBoost - Precision: {precision} | Recall: {recall} | AUC: {auc}')"
   ]
  },
  {
   "cell_type": "code",
   "execution_count": 25,
   "metadata": {},
   "outputs": [
    {
     "name": "stdout",
     "output_type": "stream",
     "text": [
      "  1/269 [..............................] - ETA: 32s"
     ]
    },
    {
     "name": "stderr",
     "output_type": "stream",
     "text": [
      "2024-03-28 11:09:58.009884: E external/local_xla/xla/stream_executor/cuda/cuda_driver.cc:274] failed call to cuInit: CUDA_ERROR_UNKNOWN: unknown error\n",
      "2024-03-28 11:09:58.009944: I external/local_xla/xla/stream_executor/cuda/cuda_diagnostics.cc:129] retrieving CUDA diagnostic information for host: mono-laptop\n",
      "2024-03-28 11:09:58.009957: I external/local_xla/xla/stream_executor/cuda/cuda_diagnostics.cc:136] hostname: mono-laptop\n",
      "2024-03-28 11:09:58.010240: I external/local_xla/xla/stream_executor/cuda/cuda_diagnostics.cc:159] libcuda reported version is: NOT_FOUND: was unable to find libcuda.so DSO loaded into this program\n",
      "2024-03-28 11:09:58.010302: I external/local_xla/xla/stream_executor/cuda/cuda_diagnostics.cc:163] kernel reported version is: 535.161.7\n"
     ]
    },
    {
     "name": "stdout",
     "output_type": "stream",
     "text": [
      "269/269 [==============================] - 0s 465us/step\n",
      "              precision    recall  f1-score   support\n",
      "\n",
      "           0       0.58      0.56      0.57      4970\n",
      "           1       0.43      0.45      0.44      3609\n",
      "\n",
      "    accuracy                           0.51      8579\n",
      "   macro avg       0.51      0.51      0.51      8579\n",
      "weighted avg       0.52      0.51      0.52      8579\n",
      "\n"
     ]
    }
   ],
   "source": [
    "if os.listdir('./nn_model/'):\n",
    "    nn_model = NNModel(n_components)\n",
    "    nn_model.load_weights('./nn_model/final_model')\n",
    "else:\n",
    "    nn_model = training(train_emb_by_cat, train_ind_by_cat, model_name=\"NN\", use_pca=True, n_components=n_components)\n",
    "predictions = np.round(nn_model.predict(X_test_trans)).astype(int)\n",
    "print(classification_report(Y_test, predictions))"
   ]
  },
  {
   "cell_type": "code",
   "execution_count": 26,
   "metadata": {},
   "outputs": [
    {
     "name": "stdout",
     "output_type": "stream",
     "text": [
      "269/269 [==============================] - 0s 462us/step\n",
      "Classifier NN - Precision: 0.4292591602032629 | Recall: 0.44472152950955945 | AUC: 0.5076726359821438\n"
     ]
    }
   ],
   "source": [
    "precision, recall, auc = supervised_evaluation(test_emb_by_cat, test_ind_by_cat, nn_model, model_name=\"NN\", use_pca=True, X_train=X_train, n_components=n_components)\n",
    "print(f'Classifier NN - Precision: {precision} | Recall: {recall} | AUC: {auc}')"
   ]
  },
  {
   "cell_type": "code",
   "execution_count": 27,
   "metadata": {},
   "outputs": [],
   "source": [
    "if not os.listdir('./nn_model'):\n",
    "    nn_model.save_weights('./nn_model/final_model')"
   ]
  },
  {
   "cell_type": "code",
   "execution_count": 28,
   "metadata": {},
   "outputs": [],
   "source": [
    "if os.listdir('./lstm_model/'):\n",
    "    lstm_model = LSTMModel(128, n_components)\n",
    "    lstm_model.load_weights('./lstm_model/final_model')\n",
    "else:\n",
    "    lstm_model = training(train_emb_by_cat, train_ind_by_cat, model_name=\"LSTM\", use_pca=True, n_components=n_components)"
   ]
  },
  {
   "cell_type": "code",
   "execution_count": 31,
   "metadata": {},
   "outputs": [],
   "source": [
    "if not os.listdir('./lstm_model'):\n",
    "    lstm_model.save_weights('./lstm_model/final_model')"
   ]
  },
  {
   "cell_type": "code",
   "execution_count": 30,
   "metadata": {},
   "outputs": [
    {
     "name": "stdout",
     "output_type": "stream",
     "text": [
      "Classifier LSTM - Precision: 0.4256198347107438 | Recall: 0.42809642560266004 | AUC: 0.504289661493483\n"
     ]
    }
   ],
   "source": [
    "precision, recall, auc = supervised_evaluation(test_emb_by_cat, test_ind_by_cat, lstm_model, model_name=\"LSTM\", use_pca=True, X_train=X_train, n_components=n_components)\n",
    "print(f'Classifier LSTM - Precision: {precision} | Recall: {recall} | AUC: {auc}')"
   ]
  },
  {
   "cell_type": "code",
   "execution_count": 32,
   "metadata": {},
   "outputs": [
    {
     "data": {
      "text/plain": [
       "'\\nX_test, y_test = get_XY(test_emb_by_cat, test_ind_by_cat)\\nX_test_trans = [transform_PCA(pca, x) for x in X_test]\\nall_predictions = list()\\nall_ytest = np.array(flatten(y_test))\\nfor X, y in zip(X_test_trans, y_test): \\n    #X = np.array(transform_PCA(pca, X))\\n    X = np.array(X)\\n    X = np.expand_dims(X, axis=0)\\n    y = np.array(y)\\n    predictions = lstm_model.predict(X, verbose=0)\\n    predictions = np.round(predictions.squeeze()).astype(int)\\n    all_predictions.extend(predictions)\\nprecision = sklearn.metrics.precision_score(all_ytest, all_predictions)\\nrecall = sklearn.metrics.recall_score(all_ytest, all_predictions)\\nfpr, tpr, thresholds = sklearn.metrics.roc_curve(all_ytest, all_predictions)  \\nauc = sklearn.metrics.auc(fpr, tpr)\\n   \\nprint(precision)\\nprint(recall)\\nprint(auc)\\nprint(classification_report(all_ytest, all_predictions))\\n'"
      ]
     },
     "execution_count": 32,
     "metadata": {},
     "output_type": "execute_result"
    }
   ],
   "source": [
    "'''\n",
    "X_test, y_test = get_XY(test_emb_by_cat, test_ind_by_cat)\n",
    "X_test_trans = [transform_PCA(pca, x) for x in X_test]\n",
    "all_predictions = list()\n",
    "all_ytest = np.array(flatten(y_test))\n",
    "for X, y in zip(X_test_trans, y_test): \n",
    "    #X = np.array(transform_PCA(pca, X))\n",
    "    X = np.array(X)\n",
    "    X = np.expand_dims(X, axis=0)\n",
    "    y = np.array(y)\n",
    "    predictions = lstm_model.predict(X, verbose=0)\n",
    "    predictions = np.round(predictions.squeeze()).astype(int)\n",
    "    all_predictions.extend(predictions)\n",
    "precision = sklearn.metrics.precision_score(all_ytest, all_predictions)\n",
    "recall = sklearn.metrics.recall_score(all_ytest, all_predictions)\n",
    "fpr, tpr, thresholds = sklearn.metrics.roc_curve(all_ytest, all_predictions)  \n",
    "auc = sklearn.metrics.auc(fpr, tpr)\n",
    "   \n",
    "print(precision)\n",
    "print(recall)\n",
    "print(auc)\n",
    "print(classification_report(all_ytest, all_predictions))\n",
    "'''"
   ]
  },
  {
   "cell_type": "code",
   "execution_count": null,
   "metadata": {},
   "outputs": [
    {
     "data": {
      "text/plain": [
       "'\\nfrom keras.models import Sequential\\nfrom keras.layers import LSTM, TimeDistributed, Dense, Bidirectional, Dropout\\nfrom keras.metrics import Recall\\n\\nLSTM_units = 32\\n\\nmodel = Sequential()\\nmodel.add(Bidirectional(LSTM(units=LSTM_units, \\n               input_shape=(None, n_components), \\n               return_sequences=True)))\\nmodel.add(Dropout(0.1))\\nmodel.add(Bidirectional(LSTM(units=LSTM_units, return_sequences=True)))\\nmodel.add(Dropout(0.1))\\nmodel.add(Bidirectional(LSTM(units=LSTM_units, return_sequences=True)))\\nmodel.add(Dropout(0.1))\\nmodel.add(TimeDistributed(Dense(1, activation=\\'sigmoid\\')))\\nmodel.compile(loss=\\'binary_crossentropy\\', optimizer=\\'adam\\', metrics=[\"AUC\"])\\nmodel.build(input_shape=(None, None, n_components))\\nprint(model.summary())\\n'"
      ]
     },
     "execution_count": 26,
     "metadata": {},
     "output_type": "execute_result"
    }
   ],
   "source": [
    "'''\n",
    "from keras.models import Sequential\n",
    "from keras.layers import LSTM, TimeDistributed, Dense, Bidirectional, Dropout\n",
    "from keras.metrics import Recall\n",
    "\n",
    "LSTM_units = 32\n",
    "\n",
    "model = Sequential()\n",
    "model.add(Bidirectional(LSTM(units=LSTM_units, \n",
    "               input_shape=(None, n_components), \n",
    "               return_sequences=True)))\n",
    "model.add(Dropout(0.1))\n",
    "model.add(Bidirectional(LSTM(units=LSTM_units, return_sequences=True)))\n",
    "model.add(Dropout(0.1))\n",
    "model.add(Bidirectional(LSTM(units=LSTM_units, return_sequences=True)))\n",
    "model.add(Dropout(0.1))\n",
    "model.add(TimeDistributed(Dense(1, activation='sigmoid')))\n",
    "model.compile(loss='binary_crossentropy', optimizer='adam', metrics=[\"AUC\"])\n",
    "model.build(input_shape=(None, None, n_components))\n",
    "print(model.summary())\n",
    "'''"
   ]
  },
  {
   "cell_type": "code",
   "execution_count": 34,
   "metadata": {},
   "outputs": [
    {
     "data": {
      "text/plain": [
       "'\\nfrom itertools import groupby\\nX_train, Y_train = get_XY(train_emb_by_cat, train_ind_by_cat)\\nX_train_trans = [transform_PCA(pca, x) for x in X_train]\\nY_train = [y for _, y in sorted(zip(X_train_trans, Y_train), key=lambda x: len(x[0]))]\\nX_train_trans.sort(key=len)\\nX_train_groups = [list(g) for k, g in groupby(X_train_trans, key=len)]\\nY_train_groups = [list(g) for k, g in groupby(Y_train, key=len)]\\n'"
      ]
     },
     "execution_count": 34,
     "metadata": {},
     "output_type": "execute_result"
    }
   ],
   "source": [
    "'''\n",
    "from itertools import groupby\n",
    "X_train, Y_train = get_XY(train_emb_by_cat, train_ind_by_cat)\n",
    "X_train_trans = [transform_PCA(pca, x) for x in X_train]\n",
    "Y_train = [y for _, y in sorted(zip(X_train_trans, Y_train), key=lambda x: len(x[0]))]\n",
    "X_train_trans.sort(key=len)\n",
    "X_train_groups = [list(g) for k, g in groupby(X_train_trans, key=len)]\n",
    "Y_train_groups = [list(g) for k, g in groupby(Y_train, key=len)]\n",
    "'''"
   ]
  },
  {
   "cell_type": "code",
   "execution_count": 33,
   "metadata": {},
   "outputs": [
    {
     "data": {
      "text/plain": [
       "'\\nX_test, y_test = get_XY(test_emb_by_cat, test_ind_by_cat)\\nX_test_trans = [transform_PCA(pca, x) for x in X_test]\\n\\ny_t = list()\\nall_predictions = list()\\nn = 100  # for 2 random indices\\nindex = np.random.choice(len(X_test_trans), n, replace=False)\\nfor k in index: \\n    y_t.extend(y_test[k])\\n\\nepochs = 100\\nfor i in range(epochs):\\n    for X, y in zip(X_train_groups, Y_train_groups):\\n        X = np.array(X)\\n        X = X.reshape(len(X), len(X[0]), n_components)\\n        y = np.array(y)\\n        y = y.reshape(len(y), len(y[0]), 1)\\n        history = model.fit(X, y, epochs=1, batch_size=32, verbose=0, shuffle=True)\\n    avg_loss = np.mean(history.history[\\'loss\\'][-100:])\\n    avg_auc = np.mean(history.history[\\'auc\\'][-100:])\\n\\n    all_predictions = list()\\n    for k in index: \\n        x = X_test_trans[k]\\n        x = np.expand_dims(x, axis=0)\\n        predictions = model.predict(x, verbose=0)\\n        predictions = np.round(predictions.squeeze()).astype(int)\\n        all_predictions.extend(predictions)\\n    print(classification_report(y_t, all_predictions))\\n    print(f\"Loss:{avg_loss} | AUC:{avg_auc}\")\\n'"
      ]
     },
     "execution_count": 33,
     "metadata": {},
     "output_type": "execute_result"
    }
   ],
   "source": [
    "'''\n",
    "X_test, y_test = get_XY(test_emb_by_cat, test_ind_by_cat)\n",
    "X_test_trans = [transform_PCA(pca, x) for x in X_test]\n",
    "\n",
    "y_t = list()\n",
    "all_predictions = list()\n",
    "n = 100  # for 2 random indices\n",
    "index = np.random.choice(len(X_test_trans), n, replace=False)\n",
    "for k in index: \n",
    "    y_t.extend(y_test[k])\n",
    "\n",
    "epochs = 100\n",
    "for i in range(epochs):\n",
    "    for X, y in zip(X_train_groups, Y_train_groups):\n",
    "        X = np.array(X)\n",
    "        X = X.reshape(len(X), len(X[0]), n_components)\n",
    "        y = np.array(y)\n",
    "        y = y.reshape(len(y), len(y[0]), 1)\n",
    "        history = model.fit(X, y, epochs=1, batch_size=32, verbose=0, shuffle=True)\n",
    "    avg_loss = np.mean(history.history['loss'][-100:])\n",
    "    avg_auc = np.mean(history.history['auc'][-100:])\n",
    "\n",
    "    all_predictions = list()\n",
    "    for k in index: \n",
    "        x = X_test_trans[k]\n",
    "        x = np.expand_dims(x, axis=0)\n",
    "        predictions = model.predict(x, verbose=0)\n",
    "        predictions = np.round(predictions.squeeze()).astype(int)\n",
    "        all_predictions.extend(predictions)\n",
    "    print(classification_report(y_t, all_predictions))\n",
    "    print(f\"Loss:{avg_loss} | AUC:{avg_auc}\")\n",
    "'''"
   ]
  },
  {
   "cell_type": "markdown",
   "metadata": {},
   "source": [
    "<H2>Main facilities</H2>"
   ]
  },
  {
   "cell_type": "markdown",
   "metadata": {},
   "source": [
    "<h3>Part I: clustering</h3>"
   ]
  },
  {
   "cell_type": "markdown",
   "metadata": {},
   "source": [
    "*A) Clustering*"
   ]
  },
  {
   "cell_type": "code",
   "execution_count": null,
   "metadata": {},
   "outputs": [],
   "source": [
    "#code, statistics and/or charts here"
   ]
  },
  {
   "cell_type": "markdown",
   "metadata": {},
   "source": [
    "*B) Summarization*"
   ]
  },
  {
   "cell_type": "code",
   "execution_count": null,
   "metadata": {},
   "outputs": [],
   "source": [
    "#code, statistics and/or charts here"
   ]
  },
  {
   "cell_type": "markdown",
   "metadata": {},
   "source": [
    "*C) Keyword extraction*"
   ]
  },
  {
   "cell_type": "code",
   "execution_count": null,
   "metadata": {},
   "outputs": [],
   "source": [
    "#code, statistics and/or charts here"
   ]
  },
  {
   "cell_type": "markdown",
   "metadata": {},
   "source": [
    "*D) Evaluation*"
   ]
  },
  {
   "cell_type": "code",
   "execution_count": null,
   "metadata": {},
   "outputs": [],
   "source": [
    "#code, statistics and/or charts here"
   ]
  },
  {
   "cell_type": "markdown",
   "metadata": {},
   "source": [
    "<h3>Part II: classification</h3>"
   ]
  },
  {
   "cell_type": "markdown",
   "metadata": {},
   "source": [
    "*A) Feature extraction*"
   ]
  },
  {
   "cell_type": "code",
   "execution_count": null,
   "metadata": {},
   "outputs": [],
   "source": [
    "# load embeddings \n",
    "sentence_embeddings_path = os.path.join('./embeddings', 'sentence_embeddings.pkl')\n",
    "sentence_embeddings_by_cat = pickle_load(sentence_embeddings_path)\n",
    "sentence_embeddings = flatten(sentence_embeddings_by_cat)\n",
    "document_embeddings_path = os.path.join('./embeddings', 'document_embeddings.pkl')\n",
    "document_embeddings_by_cat = pickle_load(document_embeddings_path)\n",
    "document_embeddings = flatten(document_embeddings_by_cat)"
   ]
  },
  {
   "cell_type": "code",
   "execution_count": null,
   "metadata": {},
   "outputs": [],
   "source": [
    "doc_ids_by_cat = generate_doc_ids_cat()\n",
    "X_train, y_train, X_test, y_test = construct_df_and_split(doc_ids_by_cat=doc_ids_by_cat,\n",
    "                                                          summary_sentence_indices_by_cat=summary_sentence_indices_by_cat,\n",
    "                                                          sent_embeddings=sentence_embeddings,\n",
    "                                                          doc_embeddings=document_embeddings,\n",
    "                                                          article_file_paths=article_file_paths,\n",
    "                                                          articles=articles,\n",
    "                                                          train_size=0.8,\n",
    "                                                          k=0.2,\n",
    "                                                          b=0.75,\n",
    "                                                          p_keywords=10)\n",
    "#X_train.to_csv('./dataframes/X_train.csv', index=False)\n",
    "#np.save('./dataframes/y_train.npy', y_train)\n",
    "#X_test.to_csv('./dataframes/X_test.csv', index=False)\n",
    "#np.save('./dataframes/y_test.npy', y_test)"
   ]
  },
  {
   "cell_type": "code",
   "execution_count": null,
   "metadata": {},
   "outputs": [],
   "source": [
    "X_train = pd.read_csv('./dataframes/X_train.csv')\n",
    "y_train = np.load('./dataframes/y_train.npy')\n",
    "X_test = pd.read_csv('./dataframes/X_test.csv')\n",
    "y_test = np.load('./dataframes/y_test.npy')"
   ]
  },
  {
   "cell_type": "code",
   "execution_count": null,
   "metadata": {},
   "outputs": [],
   "source": [
    "from sklearn.metrics import accuracy_score, classification_report\n",
    "\n",
    "#model = training(train_emb_by_cat, train_ind_by_cat, model_name=\"XGBoost\", use_pca=True, n_components=n_components)\n",
    "model = training(X_train, y_train, model_name=\"XGBoost\", use_extracted_features=True)\n",
    "\n",
    "predictions = model.predict(X_test)\n",
    "\n",
    "accuracy = accuracy_score(y_test, predictions)\n",
    "print(classification_report(y_test, predictions))"
   ]
  },
  {
   "cell_type": "code",
   "execution_count": null,
   "metadata": {},
   "outputs": [],
   "source": [
    "from sklearn.metrics import accuracy_score, classification_report\n",
    "\n",
    "#model = training(train_emb_by_cat, train_ind_by_cat, model_name=\"XGBoost\", use_pca=True, n_components=n_components)\n",
    "model = training(X_train, y_train, model_name=\"NN\", use_extracted_features=True,use_val=True, X_val=X_test, y_val=y_test)\n",
    "\n",
    "predictions = np.rint(model.predict(X_test))\n",
    "precitions = np.squeeze(predictions)\n",
    "accuracy = accuracy_score(y_test, predictions)\n",
    "print(classification_report(y_test, predictions))"
   ]
  },
  {
   "cell_type": "markdown",
   "metadata": {},
   "source": [
    "*B) Classification*"
   ]
  },
  {
   "cell_type": "code",
   "execution_count": null,
   "metadata": {},
   "outputs": [],
   "source": [
    "#code here"
   ]
  },
  {
   "cell_type": "markdown",
   "metadata": {},
   "source": [
    "*C) Ranking extension*"
   ]
  },
  {
   "cell_type": "code",
   "execution_count": null,
   "metadata": {},
   "outputs": [],
   "source": [
    "#code here"
   ]
  },
  {
   "cell_type": "markdown",
   "metadata": {},
   "source": [
    "*D) Evaluation*"
   ]
  },
  {
   "cell_type": "code",
   "execution_count": null,
   "metadata": {},
   "outputs": [],
   "source": [
    "#code, statistics and/or charts here"
   ]
  },
  {
   "cell_type": "markdown",
   "metadata": {},
   "source": [
    "<H2>Question materials (optional)</H2>"
   ]
  },
  {
   "cell_type": "markdown",
   "metadata": {},
   "source": [
    "<H3>Part I: clustering</H3>"
   ]
  },
  {
   "cell_type": "markdown",
   "metadata": {},
   "source": [
    "**(1)** Do clustering-guided summarization alters the behavior and efficacy of the IR system?"
   ]
  },
  {
   "cell_type": "code",
   "execution_count": null,
   "metadata": {},
   "outputs": [],
   "source": [
    "#code, statistics and/or charts here"
   ]
  },
  {
   "cell_type": "markdown",
   "metadata": {},
   "source": [
    "**(2)** How sentence representations, clustering choices, and rank criteria impact summarization?"
   ]
  },
  {
   "cell_type": "code",
   "execution_count": null,
   "metadata": {},
   "outputs": [],
   "source": [
    "#code, statistics and/or charts here"
   ]
  },
  {
   "cell_type": "markdown",
   "metadata": {},
   "source": [
    "**...** (additional questions with empirical results)"
   ]
  },
  {
   "cell_type": "markdown",
   "metadata": {},
   "source": [
    "<H3>END</H3>"
   ]
  },
  {
   "cell_type": "code",
   "execution_count": null,
   "metadata": {},
   "outputs": [],
   "source": []
  }
 ],
 "metadata": {
  "kernelspec": {
   "display_name": "Python 3 (ipykernel)",
   "language": "python",
   "name": "python3"
  },
  "language_info": {
   "codemirror_mode": {
    "name": "ipython",
    "version": 3
   },
   "file_extension": ".py",
   "mimetype": "text/x-python",
   "name": "python",
   "nbconvert_exporter": "python",
   "pygments_lexer": "ipython3",
   "version": "3.11.5"
  }
 },
 "nbformat": 4,
 "nbformat_minor": 4
}
