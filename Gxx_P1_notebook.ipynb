{
 "cells": [
  {
   "cell_type": "markdown",
   "metadata": {},
   "source": [
    "<H3>PRI 2023/24: first project delivery</H3>"
   ]
  },
  {
   "cell_type": "markdown",
   "metadata": {},
   "source": [
    "**GROUP 11**\n",
    "- Francisco Martins, 99068\n",
    "- Tunahan Güneş, 108108\n",
    "- Sebastian Weidinger, 111612"
   ]
  },
  {
   "cell_type": "markdown",
   "metadata": {},
   "source": [
    "<H3>Part I: demo of facilities</H3>"
   ]
  },
  {
   "cell_type": "code",
   "execution_count": 22,
   "metadata": {},
   "outputs": [],
   "source": [
    "import os\n",
    "import json\n",
    "from nltk.tokenize import sent_tokenize\n",
    "import nltk\n",
    "import re"
   ]
  },
  {
   "cell_type": "code",
   "execution_count": 23,
   "metadata": {},
   "outputs": [
    {
     "name": "stderr",
     "output_type": "stream",
     "text": [
      "[nltk_data] Downloading package punkt to /home/mono/nltk_data...\n",
      "[nltk_data]   Package punkt is already up-to-date!\n",
      "[nltk_data] Downloading package stopwords to /home/mono/nltk_data...\n",
      "[nltk_data]   Package stopwords is already up-to-date!\n",
      "[nltk_data] Downloading package wordnet to /home/mono/nltk_data...\n",
      "[nltk_data]   Package wordnet is already up-to-date!\n"
     ]
    },
    {
     "data": {
      "text/plain": [
       "True"
      ]
     },
     "execution_count": 23,
     "metadata": {},
     "output_type": "execute_result"
    }
   ],
   "source": [
    "nltk.download('punkt')\n",
    "nltk.download('stopwords')\n",
    "nltk.download('wordnet')"
   ]
  },
  {
   "cell_type": "code",
   "execution_count": 24,
   "metadata": {},
   "outputs": [],
   "source": [
    "for model in ('tf_idf', 'bm25', 'bert', 'rrf', 'mmr'):\n",
    "  bert_extract_path = f'testing/extracts/{model}'\n",
    "  os.makedirs(bert_extract_path, exist_ok=True)\n",
    "bert_extract_path = 'testing/reference/'\n",
    "os.makedirs(bert_extract_path, exist_ok=True)"
   ]
  },
  {
   "cell_type": "code",
   "execution_count": 25,
   "metadata": {},
   "outputs": [],
   "source": [
    "def preprocess_article(text: str) -> str: \n",
    "    text = text.split(\"\\n\\n\")\n",
    "    # remove title\n",
    "    text = text[1:]\n",
    "    text = \" \".join(text)\n",
    "    text = text.strip()\n",
    "    text = text.replace(\" ?\", \"?\")\n",
    "    text = text.replace(\" !\", \"!\")\n",
    "    text = re.sub(r'\\s+', r' ', text)\n",
    "    return text "
   ]
  },
  {
   "cell_type": "code",
   "execution_count": 26,
   "metadata": {},
   "outputs": [],
   "source": [
    "def preprocess_summary(text: str) -> str: \n",
    "    text = text.replace(\" ?\", \"?\")\n",
    "    text = text.replace(\" !\", \"!\")\n",
    "    text = re.sub(r'\\s+', r' ', text)\n",
    "    return text"
   ]
  },
  {
   "cell_type": "code",
   "execution_count": 27,
   "metadata": {},
   "outputs": [],
   "source": [
    "def read_files(article_path, summary_path):\n",
    "    articles = []\n",
    "    summaries = []\n",
    "    article_file_paths = []\n",
    "    summary_file_paths = []\n",
    "    category_names = list()\n",
    "    for folder in os.listdir(article_path):\n",
    "        category_names.append(folder)\n",
    "        article_category_path = os.path.join(article_path, folder)\n",
    "        summary_category_path = os.path.join(summary_path, folder)\n",
    "        articles.append([])\n",
    "        summaries.append([])\n",
    "        article_file_paths.append([])\n",
    "        summary_file_paths.append([])\n",
    "        for file in os.listdir(article_category_path):\n",
    "            article_file_path = os.path.join(article_category_path, file)\n",
    "            summary_file_path = os.path.join(summary_category_path, file)\n",
    "            article_file_paths[-1].append(article_file_path)\n",
    "            summary_file_paths[-1].append(summary_file_path)\n",
    "            # articles\n",
    "            with open(article_file_path, \"r\", errors=\"ignore\") as f:\n",
    "                text = f.read()\n",
    "                text = preprocess_article(text)\n",
    "                articles[-1].append(text)\n",
    "            #summaries \n",
    "            with open(summary_file_path, \"r\", errors=\"ignore\") as f: \n",
    "                text = f.read()\n",
    "                text = preprocess_summary(text)\n",
    "                summaries[-1].append(text)\n",
    "                \n",
    "    print(\"Number of Categories:\",len(os.listdir(article_path)))\n",
    "    for i in range(len(os.listdir(article_path))):\n",
    "        print(\"Number of Articles in\", \"'\"+os.listdir(article_path)[i]+\"'\", \"Category:\",len(articles[i]))\n",
    "    \n",
    "    return article_file_paths, articles, summary_file_paths, summaries, category_names"
   ]
  },
  {
   "cell_type": "code",
   "execution_count": 28,
   "metadata": {},
   "outputs": [
    {
     "name": "stdout",
     "output_type": "stream",
     "text": [
      "Article path: BBC News Summary/BBC News Summary/News Articles\n",
      "Summary path: BBC News Summary/BBC News Summary/Summaries\n",
      "Number of Categories: 5\n",
      "Number of Articles in 'tech' Category: 401\n",
      "Number of Articles in 'entertainment' Category: 386\n",
      "Number of Articles in 'sport' Category: 511\n",
      "Number of Articles in 'business' Category: 510\n",
      "Number of Articles in 'politics' Category: 417\n"
     ]
    }
   ],
   "source": [
    "article_path = os.path.join(\"BBC News Summary\", \"BBC News Summary\", \"News Articles\")\n",
    "summary_path = os.path.join(\"BBC News Summary\", \"BBC News Summary\", \"Summaries\")\n",
    "print(\"Article path:\", article_path)\n",
    "print(\"Summary path:\", summary_path)\n",
    "categorized_article_file_paths, categorized_articles, summary_file_paths, categorized_summaries, category_names= read_files(article_path, summary_path)"
   ]
  },
  {
   "cell_type": "code",
   "execution_count": 29,
   "metadata": {},
   "outputs": [
    {
     "name": "stdout",
     "output_type": "stream",
     "text": [
      "For gaming fans, the word GoldenEye evokes excited memories not only of the James Bond revival flick of 1995, but also the classic shoot-em-up that accompanied it and left N64 owners glued to their consoles for many an hour. Adopting that hallowed title somewhat backfires on this new game, for it fails to deliver on the promise of its name and struggles to generate the original's massive sense of fun. This however is not a sequel, nor does it relate to the GoldenEye film. You are the eponymous renegade spy, an agent who deserts to the Bond world's extensive ranks of criminal masterminds, after being deemed too brutal for MI6. Your new commander-in-chief is the portly Auric Goldfinger, last seen in 1964, but happily running around bent on world domination. With a determination to justify its name which is even less convincing than that of Tina Turner's similarly-titled theme song, the game literally gives the player a golden eye following an injury, which enables a degree of X-ray vision. Rogue Agent signals its intentions by featuring James Bond initially and proceeding to kill him off within moments, squashed by a plummeting helicopter. The notion is of course to add a novel dark edge to a 007 game, but the premise simply does not get the juices flowing like it needs to. Recent Bond games like Nightfire and Everything Or Nothing were very competent and did a fine job of capturing the sense of flair, invention and glamour of the film franchise. This title lacks that aura, and when the Bond magic shines through, it feels like a lucky accident. The central problem is that the gameplay just is not good enough. Quite aside from the bizarre inability to jump, the even more bizarre glaring graphical bugs and dubious enemy AI, the levels simply are not put together with much style or imagination. Admittedly the competition has been tough, even in recent weeks, with the likes of Halo 2 and Half Life 2 triumphing in virtually every department. What the game is good at is enveloping you in noisy, dynamic scenes of violent chaos. As is the trend of late, you are made to feel like you are in the midst of a really messy and fraught encounter. Sadly that sense of action is outweighed by the difficulty of navigating and battling within the chaos, meaning that frustration is often the outcome. And irregular save points mean you have to backtrack each time you are killed. A minute red dot passes for a crosshair, although the collision-detection is so suspect that the difficulties of aiming weapons are compensated for. Shooting enemies from a distance can be tricky, and you will not always know you have picked them off, since dead enemies vanish literally before they have fully hit the floor, and they do so in some woefully uninspiring death animations. It is perhaps indicative of a lack of confidence that the game maker's allow you several different weapons almost immediately and throw you quickly into raging firefights - no time is risked with a measured build-up. By far the most satisfying element of the game is seeing old favourites like Dr No, Goldfinger, hat-fiend Oddjob and crazed Russian sex beast Xenia Onatopp resurrected after all these years, and with their faces rendered in an impressively recognisable fashion. There is a real thrill from doing battle with these legendary villains, and it is a testament to the power of the Bond universe that they can cut such a dash. But the in-game niggles, combined with a story and presentation that just do not feel sufficiently well thought-through, will make this a disappointment for most. Diehard fans of Bond will probably find enough here to make it a worthwhile purchase and try to ignore the failings. The game is weak, not completely unplayable. Then again, 007 fanatics may also take umbrage at the cavalier blending of characters from different eras. Given James Bond's healthy pedigree in past games, there is every reason to hope that this is just a blip, a commendable idea that just has not worked, that will be rectified when the character inevitably makes his return. GoldenEye: Rogue Agent is out now\n",
      "[]\n",
      "Recent Bond games like Nightfire and Everything Or Nothing were very competent and did a fine job of capturing the sense of flair, invention and glamour of the film franchise.This title lacks that aura, and when the Bond magic shines through, it feels like a lucky accident.The notion is of course to add a novel dark edge to a 007 game, but the premise simply does not get the juices flowing like it needs to.What the game is good at is enveloping you in noisy, dynamic scenes of violent chaos.Rogue Agent signals its intentions by featuring James Bond initially and proceeding to kill him off within moments, squashed by a plummeting helicopter.It is perhaps indicative of a lack of confidence that the game maker's allow you several different weapons almost immediately and throw you quickly into raging firefights - no time is risked with a measured build-up.The game is weak, not completely unplayable.Adopting that hallowed title somewhat backfires on this new game, for it fails to deliver on the promise of its name and struggles to generate the original's massive sense of fun.GoldenEye: Rogue Agent is out nowBy far the most satisfying element of the game is seeing old favourites like Dr No, Goldfinger, hat-fiend Oddjob and crazed Russian sex beast Xenia Onatopp resurrected after all these years, and with their faces rendered in an impressively recognisable fashion.Diehard fans of Bond will probably find enough here to make it a worthwhile purchase and try to ignore the failings.For gaming fans, the word GoldenEye evokes excited memories not only of the James Bond revival flick of 1995, but also the classic shoot-em-up that accompanied it and left N64 owners glued to their consoles for many an hour.\n"
     ]
    }
   ],
   "source": [
    "#Examplary text. The structure of the read file is: articles[category_no][document_no]. \n",
    "print(categorized_articles[0][0])\n",
    "print(categorized_article_file_paths[0][508:512])\n",
    "print(categorized_summaries[0][0])"
   ]
  },
  {
   "cell_type": "code",
   "execution_count": 30,
   "metadata": {},
   "outputs": [],
   "source": [
    "def flatten(lists) -> list: \n",
    "    return [element for sublist in lists for element in sublist]"
   ]
  },
  {
   "cell_type": "code",
   "execution_count": 31,
   "metadata": {},
   "outputs": [],
   "source": [
    "def get_summary_sentence_indices(articles: list, summaries: list) -> list: \n",
    "    categorized_summary_indices = list()\n",
    "    categorized_article_summary = list(zip(articles, summaries))\n",
    "    found_summary = 0\n",
    "    faulty_summaries = list()\n",
    "    for category_id, category in enumerate(categorized_article_summary): \n",
    "        article_summary_tuples = list(zip(category[0], category[1]))\n",
    "        categorized_summary_indices.append([])\n",
    "        for article_id, (article, summary) in enumerate(article_summary_tuples):\n",
    "            sentence_indices = list()\n",
    "            recreated_summary = \"\"\n",
    "            article_sents = sent_tokenize(article)\n",
    "            article_sents = set(article_sents)\n",
    "            for sent_id, sent in enumerate(article_sents): \n",
    "                if summary.find(sent) != -1: \n",
    "                    sentence_indices.append(sent_id)\n",
    "                    recreated_summary += sent\n",
    "            categorized_summary_indices[-1].append(sentence_indices)\n",
    "            summary_length = len(summary)\n",
    "            recreated_summary_length = len(recreated_summary)\n",
    "            if abs(summary_length - recreated_summary_length) < 3: \n",
    "                found_summary += 1\n",
    "            else: \n",
    "                faulty_summaries.append((category_id, article_id))\n",
    "    print(f\"number of found summaries: {found_summary}\")\n",
    "    print(f\"number of summaries: {len(flatten(summaries))}\")\n",
    "    print(f\"{float(found_summary)/float(len(flatten(summaries))) * 100 :.2f}%\")\n",
    "    return categorized_summary_indices, faulty_summaries\n",
    "                    "
   ]
  },
  {
   "cell_type": "code",
   "execution_count": 32,
   "metadata": {},
   "outputs": [
    {
     "name": "stdout",
     "output_type": "stream",
     "text": [
      "number of found summaries: 2220\n",
      "number of summaries: 2225\n",
      "99.78%\n",
      "[[[0, 1, 3, 6, 8, 10, 11, 14, 20, 22, 24, 27], [2, 3, 4, 9, 12, 13], [0, 1, 4, 6, 11, 14, 15], [4, 5, 9, 12, 13, 14, 16, 17, 18, 20, 21], [0, 1, 3, 6, 9], [0, 1, 3, 4, 7, 8, 13, 15, 20], [1, 3, 5, 6, 8, 9, 11, 15, 16, 17, 18, 21], [0, 2, 7, 9, 10, 12, 15], [0, 2, 6, 7, 10, 15, 16, 17, 23, 24, 25], [3, 5, 8, 9], [8, 9, 12, 13, 17, 18, 19, 21, 27, 29, 32, 34, 36, 38, 40, 41, 43, 44, 45], [2, 7, 9, 11, 14, 17, 18, 19, 20, 21, 26, 28, 29, 32], [0, 3, 5, 6, 8, 14], [0, 5, 6, 7, 11, 13], [3, 6, 8, 9, 10, 14, 16, 17], [0, 8, 9, 10, 11], [1, 3, 6, 7, 8, 11, 16, 18, 20], [3, 4, 7, 8, 9, 12], [5, 7, 8, 10, 11, 12], [2, 3, 4, 8, 10, 11], [3, 4, 7, 10, 11, 13], [1, 3, 4, 5, 10, 11, 13, 19], [3, 5, 8, 9], [1, 4, 5, 6, 8, 15, 21, 23, 24, 28, 29, 31, 32, 33, 35], [7, 9, 10, 11, 12, 15, 16], [1, 3, 11, 14, 15, 18, 19, 22, 26, 27, 28, 29], [1, 5, 7, 8, 9], [0, 1, 3, 8, 10, 13, 15, 19], [0, 1, 2, 8, 13, 16, 17, 19], [0, 2, 5, 7, 8, 12], [0, 2, 3, 4, 5, 7, 9, 12], [0, 5, 7, 9, 10, 14, 15], [1, 3, 8, 11, 12, 14, 15, 17], [0, 4, 6, 7, 9, 10, 13, 17, 19, 21, 22, 23, 27, 31, 32, 34, 35, 36, 44, 45, 48, 52], [3, 5, 8, 9, 12, 14, 15, 16, 19, 20], [0, 2, 3, 4, 6, 9, 12, 13, 21], [5, 7, 8, 10, 11, 12], [1, 4, 6, 7, 10, 12, 13, 14, 15, 19, 22, 23, 28], [1, 5, 6, 10, 12, 14, 18, 19, 21, 24, 25], [0, 6, 7, 8, 10, 14, 15], [4, 6, 9, 10, 11, 13], [0, 2, 5, 8, 10, 11, 12, 13, 17, 23, 24, 27, 28, 29, 34, 42, 43, 45, 48, 49, 54, 55, 56, 57], [4, 5, 6, 8, 9], [1, 6, 10, 11, 12, 14, 15, 17, 19, 21, 23, 24, 27, 29, 30, 35, 37, 40, 43, 44, 46, 51, 54, 55, 57, 58, 59, 66, 68, 74], [5, 6, 7, 9, 10, 13, 15, 19], [1, 5, 7, 8, 9, 11, 12, 16, 19, 23, 24, 25, 29], [0, 1, 3, 6, 11, 14, 15, 18, 19, 22, 25], [2, 5, 6, 8, 11, 12, 16], [5, 6, 7, 8, 9, 11, 15], [0, 1, 3, 5, 9, 11, 12, 14], [5, 9, 10, 12, 14, 15, 17, 19, 21, 22], [0, 1, 3, 4, 6, 7, 10, 13], [1, 4, 5, 7, 8, 13, 15], [0, 2, 4, 6, 8, 10, 11, 12, 17, 21], [0, 1, 6, 7, 9, 10, 12], [0, 2, 5, 6, 7, 8, 16], [0, 1, 4, 10, 13, 14], [0, 4, 5, 6, 9, 13, 14, 16], [3, 4, 5, 7, 8, 9, 12, 14, 19, 21, 22, 25], [1, 3, 9, 10, 12, 16, 17, 19, 20, 22, 30, 31, 32, 33, 36, 39], [6, 7, 8, 10, 12, 13, 14], [0, 1, 3, 4, 6, 9, 16, 21, 22, 23, 24, 28, 29], [0, 1, 4, 11, 13, 14, 16, 21, 27, 28, 31, 33, 37, 39, 42, 44, 47, 51, 52, 53, 55, 56, 60, 69, 70, 71, 73, 75, 78, 81, 84, 87, 89, 90, 91, 92, 98, 99, 103, 105, 109, 110, 112, 118, 120, 122, 124, 125, 126, 127, 129, 134, 138, 140, 141, 142, 144, 145, 146, 147], [0, 1, 3, 4, 12, 13], [1, 2, 10, 14, 16, 17, 20, 22, 23, 24, 25, 26, 27, 31, 36, 37], [0, 2, 4, 7, 9, 11], [1, 2, 3, 4, 5, 9, 11, 12, 13, 15, 21, 25, 28, 29, 30, 34, 36], [2, 3, 4, 6, 7, 12], [1, 2, 4, 5, 9, 10, 13, 15, 18, 19, 22, 30, 32, 37, 38, 39, 42, 43], [4, 6, 9, 10, 12, 14, 16, 18], [2, 6, 8, 10, 11, 12, 14, 17, 20, 21, 26], [0, 4, 6, 8, 10, 11, 12, 14], [7, 8, 9, 13, 16, 17, 18, 19], [3, 4, 7, 10, 11, 13], [2, 4, 5, 6, 10], [1, 2, 9, 15, 16, 18, 21, 22, 24, 26, 27, 28, 29, 33, 35, 37, 41], [0, 3, 5, 6, 13, 15, 17, 18], [2, 5, 8, 13, 15, 16, 18, 19, 20, 21, 23], [0, 3, 5, 8, 9, 14], [0, 3, 7, 9, 11, 13, 14], [0, 8, 9, 10, 11], [1, 3, 4, 10, 11, 15, 16, 19, 23, 25, 26, 27], [0, 3, 4, 7, 9, 12, 13], [0, 2, 6, 8, 12, 15, 17, 18, 19], [7, 12, 13, 14, 16, 17, 18, 21, 22, 25, 27, 28, 32, 33], [1, 2, 4, 8, 11, 12], [4, 7, 8, 11, 13, 16, 18, 19, 20, 23, 26, 28, 32, 33, 36, 39, 40], [0, 4, 5, 8, 9, 13], [1, 2, 3, 6], [0, 5, 7, 10, 12, 13], [1, 3, 4, 5, 9, 13, 14, 18], [2, 3, 9, 11, 12, 14], [0, 2, 8, 9, 10, 12, 17, 18, 23, 24], [0, 4, 5, 6, 9, 13, 14, 16], [0, 5, 7, 9, 10, 14, 15], [1, 4, 9, 13, 14, 15, 16, 18, 19, 20, 23, 26], [0, 2, 13, 14, 17, 24, 25, 28, 29, 31, 33, 35, 36, 38, 39, 41, 42, 43, 44], [0, 1, 3, 4, 12, 13], [0, 4, 5, 8, 12, 15, 19, 25, 26, 28, 30, 32, 34, 37, 38, 40, 42, 44, 45, 46, 49], [0, 1, 2, 7, 8, 10], [1, 3, 7, 10, 11, 14], [6, 9, 11, 12, 13, 15, 18, 19, 22, 23], [0, 3, 5, 8, 9, 14], [0, 1, 10, 11, 12, 13, 14, 22, 23, 24, 25, 26, 29], [1, 3, 5, 8, 14, 15, 17, 21, 24, 25, 26, 28], [0, 3, 5, 10, 13, 14], [2, 10, 12, 13, 14, 16, 22, 23, 24, 25, 27, 29], [1, 4, 6, 7, 8, 9, 10, 11, 12], [5, 10, 11, 12, 13, 14, 15, 17, 19], [6, 9, 11, 12, 13, 15, 18, 19, 22, 23], [2, 5, 8, 10, 12, 15, 16, 17, 18, 19, 20, 22, 26, 29], [0, 2, 4, 7, 10, 13, 14, 17], [0, 1, 2, 5, 6, 7, 15], [1, 3, 4, 8, 11, 13, 20, 21, 22, 23], [0, 6, 7, 9, 14, 16, 17, 18, 20, 25, 26, 28], [1, 4, 9, 10, 11, 12, 15, 16, 19, 21], [0, 1, 4, 8], [0, 5, 7, 10, 12, 13], [1, 4, 5, 6, 10, 11, 13, 17, 20, 23, 25, 28, 30], [0, 3, 5, 6, 7, 9, 11, 14, 19, 21], [0, 1, 2, 6, 9], [1, 6, 8, 10, 12, 14, 15, 18], [0, 3, 4, 6, 7, 8, 9, 11, 14, 16, 17, 18, 23, 26, 28, 32, 35, 37, 44], [0, 2, 4, 6, 8, 10, 14, 16, 17], [0, 1, 3, 4, 6, 7, 10, 13], [1, 4, 5, 9, 10], [3, 5, 7, 9, 10, 12, 16, 17, 19, 20], [7, 9, 10, 11, 12, 15, 16], [0, 2, 7, 8, 9, 10, 16, 17, 21, 22], [0, 2, 6, 7, 8, 14, 17, 18], [0, 1, 3, 8, 10, 13, 15, 19], [1, 2, 4, 9], [5, 6, 8, 9, 11, 12, 13, 16], [0, 2, 3, 5, 11, 12, 14, 15, 17, 21, 22, 25], [1, 2, 3, 6, 11, 13, 15], [1, 3, 8, 11, 13, 14], [1, 2, 3, 6, 10, 11, 14, 17, 26, 28, 31, 32, 33, 34, 35, 36, 39, 43, 45, 47, 48], [0, 2, 3, 6, 7, 9, 14, 15, 19, 21, 25, 28, 29], [0, 1, 6, 7, 9, 10, 12], [0, 1, 3, 5, 9, 13], [1, 4, 9, 13, 14, 15, 16, 18, 19, 20, 23, 26], [0, 1, 2, 3, 5, 7, 16, 18, 21, 24, 25], [0, 5, 6, 8, 9, 14, 16, 21, 22, 24, 27, 29, 32, 33], [5, 6, 7, 10, 11, 14, 18, 19], [2, 8, 9, 11, 12, 14, 16, 18], [0, 2, 7, 12, 15, 16, 18, 19, 22, 24, 25, 28], [2, 5, 10, 11, 12, 15, 17, 18, 19], [0, 1, 2, 3, 5, 6, 12, 16, 18, 19, 22, 27], [0, 5, 7, 8, 10, 14, 15, 18], [0, 3, 4, 6, 8, 11, 12, 14, 15, 22], [0, 4, 8, 10, 12, 17, 21, 23, 24, 25, 26, 30, 32, 33, 34], [1, 3, 6, 7, 8, 10, 15, 16, 20, 22, 24, 26, 30, 31, 35], [0, 3, 4, 6, 7, 8, 12, 13, 19, 24], [1, 4, 5, 12, 13, 14, 16, 18, 20, 21, 23, 24, 30, 32, 36, 40, 41, 43], [1, 2, 4, 5, 10, 11, 12, 15, 17, 23], [1, 3, 5, 7, 8, 13, 18, 19, 23, 24, 25, 28], [1, 2, 8, 10, 11, 12, 13, 15], [3, 4, 5, 9, 10, 11, 14, 17, 21, 22], [1, 4, 6, 7, 8, 9, 10, 11, 12], [0, 3, 7, 8, 10], [3, 4, 7, 11, 12, 16, 17, 18, 19, 20], [3, 8, 10, 12, 14, 15, 18, 19, 21, 23, 26, 28], [0, 1, 3, 4, 6, 7], [0, 1, 4, 7, 8, 11], [0, 3, 6, 14, 15, 16, 17, 18, 19, 22, 26], [3, 5, 6, 7, 9, 10, 11, 14, 20], [0, 1, 4, 9, 10, 13, 14, 16, 19, 20, 26, 27, 28], [0, 2, 6, 9, 11, 12, 13, 14], [3, 4, 5, 7, 9, 15, 16, 20, 23, 24, 25, 28, 30, 31, 33], [1, 4, 5, 8, 10, 11, 19, 20, 21], [0, 3, 4, 9, 11, 12], [3, 5, 10, 11, 12, 13, 19, 20, 21, 23, 26, 28, 33, 34, 36, 39, 40], [0, 1, 3, 6, 9, 12], [0, 4, 7, 10, 11, 12, 19, 20, 23, 24], [0, 3, 4, 7, 11, 13, 15, 17], [1, 2, 4, 6, 7, 8, 12, 16, 18, 22, 23, 24, 26], [0, 3, 4, 5, 8, 11, 14, 15, 17, 18, 19, 20, 22, 26, 32, 40, 42, 44, 48, 50, 52, 53, 57, 58, 61], [0, 1, 6, 7, 11], [1, 2, 4, 5, 8, 9, 14, 15, 17, 20, 22, 23], [3, 4, 5, 7, 9, 13, 14, 15, 18, 19, 20, 22, 23, 27, 33, 38], [0, 2, 4, 10, 11, 14, 15, 17], [1, 5, 7, 8, 9, 10, 11, 12, 13, 14, 16, 29, 30, 31], [0, 1, 3, 5, 6, 8, 9, 10, 15, 17, 19, 22, 27, 28, 32], [0, 3, 4, 6, 10, 14, 16], [1, 4, 6, 9, 10], [0, 1, 7, 8, 10, 11, 12, 13, 14, 22], [2, 3, 7, 14, 15, 16, 17, 19, 22, 23, 24], [4, 5, 8, 9, 13, 14], [0, 3, 4, 5, 6, 10, 11, 12, 15, 24, 25, 26, 30], [0, 2, 3, 6, 19, 20, 21, 23, 26, 27, 28, 29, 31, 32, 35], [2, 3, 4, 8, 10, 11], [0, 5, 6, 8, 10, 13, 14, 15], [4, 5, 8, 10, 12, 15, 17, 19, 21, 26, 29, 30, 31], [0, 3, 5, 6, 7, 17, 20, 21, 23, 25, 27, 29, 30], [1, 3, 6, 10, 13, 14, 16, 20, 21], [0, 1, 2, 5, 12, 15, 16, 18, 19], [0, 2, 3, 5, 6, 8], [0, 6, 8, 10, 11, 12], [2, 5, 6, 8, 9, 11, 13, 15, 22, 23, 24, 26], [1, 2, 6, 8, 10, 12, 14, 15, 18, 20, 21, 26], [0, 1, 2, 5, 10, 14, 15, 18, 20], [1, 5, 6, 8, 10, 14, 18, 19, 22, 24, 25, 26], [3, 4, 6, 8, 9, 11, 12, 13, 15, 19, 24, 27], [1, 2, 6, 7, 10, 11], [1, 2, 4, 6, 8, 9, 13, 16, 18, 19, 24, 32, 33, 36, 37, 39, 40, 44], [1, 5, 6, 7, 9, 10], [1, 2, 4, 5, 7, 9, 13, 14, 20, 21], [0, 1, 5, 8, 10, 11], [3, 4, 8, 11, 12, 14, 15], [3, 4, 5, 8, 12, 13, 15], [0, 3, 6, 9, 10, 11, 12, 13, 17, 18, 20, 22, 25, 27, 29, 31, 36, 38], [1, 2, 3, 4, 6, 9, 13, 15, 17, 21, 22, 23, 26, 33], [0, 1, 3, 5, 8, 9, 13, 14, 18, 22], [1, 2, 6, 7, 10, 11], [0, 2, 5, 9, 10, 13, 17, 19, 21, 22, 24, 26], [0, 3, 7, 8, 10], [1, 2, 5, 6, 7, 11, 17], [1, 2, 4, 6, 8, 9, 15, 16], [2, 3, 4, 5, 8, 10, 12, 14], [1, 6, 7, 9, 11, 12, 13, 20, 24, 26, 29, 30, 31, 33, 34], [1, 2, 3, 4, 10, 11, 12, 17], [1, 2, 5, 8, 9, 11, 13, 17], [0, 9, 13, 14, 15, 16, 17, 19, 21, 22, 30, 31, 32, 33], [4, 5, 9, 12, 13, 14, 16, 17, 18, 20, 21], [0, 4, 7, 8, 10, 13, 14, 15], [0, 2, 4, 5, 10, 14, 15, 18], [0, 4, 5, 6, 7, 15, 17, 18, 21, 24, 26, 27, 30], [2, 4, 6, 8, 10, 11], [0, 1, 7, 8, 11, 12, 14, 16, 17, 21, 23, 26, 31, 32, 35, 36, 42, 43], [1, 2, 4, 7, 10, 14, 16, 19], [0, 1, 2, 3, 4, 6, 8, 10, 18, 25, 28, 29], [0, 1, 6, 9, 11, 13, 15, 17], [1, 4, 5, 6, 10, 11, 13, 17, 20, 23, 25, 28, 30], [1, 6, 7, 10, 14, 15, 17, 19, 20, 21, 23, 34, 35, 36, 38, 39], [2, 4, 7, 9, 11, 13, 15], [5, 6, 7, 10, 11, 14, 18, 19], [0, 2, 3, 4, 7, 8, 17, 20, 22, 23, 26], [0, 7, 9, 10, 11, 12], [2, 3, 7, 8, 9, 10, 12], [1, 3, 7, 8, 10], [0, 3, 4, 5, 8, 10], [3, 5, 8, 9, 10, 12, 14], [1, 3, 6, 7, 8, 11, 16, 18, 20], [0, 1, 7, 9, 10, 11, 14, 16], [1, 5, 6, 8, 11, 14], [6, 7, 9, 10, 12, 16, 18, 19, 22, 23, 24, 25], [0, 1, 3, 6, 8, 9, 11, 16], [1, 2, 4, 8, 9, 13, 14, 19, 21], [0, 1, 3, 7], [2, 3, 6, 9, 10, 13, 14, 15, 18, 19, 20, 24, 26, 29, 34, 37], [2, 5, 7, 9, 13, 14, 16, 17, 18, 19, 24, 25], [2, 10, 12, 13, 14, 16, 22, 23, 24, 25, 27, 29], [5, 6, 8, 9, 11, 12, 13, 16], [3, 5, 6, 7, 10, 11, 16], [0, 1, 2, 8, 9, 11], [1, 2, 8, 9, 11, 12, 16, 17], [0, 2, 6, 7, 8, 9, 13, 19], [2, 5, 7, 8, 9, 12, 13, 14, 15, 20, 22, 25, 28, 31], [1, 2, 6, 7], [0, 5, 6, 8, 10, 13, 14, 15], [0, 2, 3, 8, 11, 13, 14, 16], [1, 2, 4, 6, 8, 13, 15, 16, 18, 19, 21, 22, 25, 31, 37, 39], [0, 4, 6, 8, 10, 11, 14, 15, 17, 21, 25, 26, 28, 30, 31, 32, 34, 35], [0, 1, 2, 5, 6, 7, 15], [0, 2, 5, 6, 9, 12, 14, 15, 19, 20, 21, 25], [2, 4, 6, 10, 12, 15, 16, 19, 23, 24, 26, 27, 29], [0, 6, 7, 11, 12, 13, 14, 16], [0, 6, 7, 9, 14, 16, 17, 18, 20, 25, 26, 28], [0, 4, 8, 12, 14, 17, 20, 23, 25, 26, 27, 28, 29, 31, 32, 35, 37, 41], [0, 4, 6, 7, 11, 12], [3, 5, 7, 8, 10, 12, 15, 16, 18, 21, 23], [0, 1, 5, 6, 9], [3, 5, 6, 7, 8, 9, 10, 12, 21], [0, 2, 5, 9, 10, 13, 17, 19, 21, 22, 24, 26], [1, 2, 4, 7, 8, 9, 13, 14, 15, 16, 17, 19, 27, 28, 32, 33, 39, 41, 44, 46, 52, 57, 58, 59, 60, 69, 70, 76, 81, 82, 84, 85, 88, 90, 92, 94, 96, 98, 100, 101, 102, 105, 106, 110, 111], [2, 5, 8, 13, 15, 16, 18, 19, 20, 21, 23], [3, 5, 8, 9, 10, 12, 14], [1, 4, 5, 8, 11, 14, 15, 20, 23, 24, 26, 28], [2, 5, 10, 11, 12, 15, 17, 18, 19], [1, 4, 9, 11, 12, 14, 15], [1, 2, 4, 6, 7, 8, 12, 16, 18, 22, 23, 24, 26], [2, 3, 4, 8, 10, 11, 12, 15], [0, 3, 4, 7, 9, 12, 13], [0, 1, 3, 6, 9, 12], [3, 5, 7, 10, 14, 15, 16], [0, 3, 5, 9, 10, 11, 12, 19, 21], [2, 3, 5, 7, 11, 13, 14, 15, 18, 24, 26, 27], [1, 6, 12, 13, 14, 17, 18, 19], [3, 5, 8, 9, 12, 14, 15, 16, 19, 20], [0, 4, 6, 7, 8, 10, 11, 15, 18, 22, 23, 24, 28], [0, 5, 6, 7, 10, 15, 18, 19, 22, 25, 26], [2, 3, 8, 11, 15, 16, 20, 21, 22, 24], [4, 5, 6, 8, 9], [0, 2, 4, 10, 11, 14, 15, 17], [2, 3, 4, 7, 9, 13, 14, 16], [1, 3, 8, 9, 12, 18, 19, 21, 23, 24, 29, 31, 32, 35, 38, 39], [2, 4, 5, 6, 10], [0, 5, 6, 8, 9, 14, 16, 20, 21, 23, 26, 28, 32, 33], [1, 2, 5, 11, 14, 15, 18, 20, 22, 27, 30, 31, 32, 33], [1, 2, 3, 5, 6], [1, 5, 8, 9, 12, 13, 16, 17], [2, 3, 5, 6, 8, 10, 13, 16, 18, 20, 28, 30, 31, 33, 36, 37, 38, 40, 45], [0, 4, 6, 7, 11, 12], [0, 2, 3, 4, 11], [3, 4, 6, 14, 17, 18, 19, 22, 23, 24, 25], [3, 6, 7, 8, 11, 12, 15], [0, 1, 2, 3, 7, 10], [0, 1, 2, 3, 4, 8, 13, 17, 20, 21], [0, 1, 3, 4, 5, 10, 11, 13, 20, 21, 25, 28], [3, 5, 6, 9, 13, 14], [0, 1, 4, 9, 10, 11, 13, 20, 21, 23], [0, 1, 7, 8, 11, 12, 14, 16, 17, 21, 23, 26, 31, 32, 35, 36, 42, 43], [0, 2, 6, 9, 11, 13, 15, 21, 22, 24, 26, 29, 31, 35, 38, 39, 42], [1, 2, 3, 4, 5, 7, 14, 15, 17, 19, 26, 28, 30, 31, 32, 36, 37], [2, 3, 4, 7, 9, 13, 17, 18], [1, 4, 6, 7, 11, 12, 14, 15, 17, 18, 19, 26], [0, 2, 3, 5, 6, 9, 10, 11, 12, 16, 17, 28], [0, 1, 2, 3, 5, 6, 12, 16, 18, 19, 22, 27], [1, 4, 7, 10, 12, 17, 18, 19], [3, 5, 6, 7, 10, 11, 15], [3, 4, 8, 11, 12, 14, 15], [2, 3, 4, 6, 10, 11, 12, 14], [0, 2, 6, 9, 12, 14, 15], [0, 6, 8, 12, 14, 16, 17, 18], [0, 2, 5, 6, 9, 12, 14, 15, 19, 20, 21, 25], [0, 9, 13, 14, 15, 16, 17, 19, 21, 22, 30, 31, 32, 33], [1, 2, 6, 10, 16, 18, 19, 20, 21, 22, 23, 25], [0, 1, 2, 3, 6, 7, 19, 20, 22, 23, 27, 28, 29], [0, 1, 2, 4, 8, 10, 13], [0, 3, 5, 9, 10, 11, 12, 14, 17, 20], [1, 3, 4, 5, 7, 8, 9, 10, 21, 25, 26, 30, 31, 33, 35, 37, 41, 42, 45, 46, 58, 59, 60, 64, 69, 70, 72, 75, 76, 77, 79, 82, 84, 85, 88, 89, 92, 93], [1, 5, 6, 8, 10, 14, 18, 19, 22, 24, 25, 26], [0, 1, 4, 7, 9, 12], [3, 5, 7, 12, 13, 17, 18, 19, 20, 21], [2, 5, 9, 11, 14, 17, 21, 22, 26, 27, 28, 31, 33, 34, 36, 37, 38, 39, 44], [0, 2, 4, 5, 10, 14, 15, 18], [1, 2, 4, 6, 8, 9, 15, 16], [2, 4, 6, 7, 10, 11, 14, 16], [2, 3, 7, 8, 9, 10, 12], [0, 1, 3, 7, 9, 12, 15], [1, 4, 6, 7, 10, 12, 13, 14, 15, 19, 22, 23, 28], [2, 5, 6, 8, 11, 12, 16], [0, 3, 5, 11, 12, 13], [2, 3, 4, 7, 9, 13, 17, 18], [2, 6, 9, 11, 12, 14, 16, 17, 19], [0, 2, 3, 6, 7, 9], [0, 3, 6, 7, 9, 12], [2, 3, 4, 5, 10, 11, 12, 19, 20], [1, 2, 4, 5, 9, 11, 14, 18, 20, 24], [1, 3, 4, 5, 6, 9, 10, 18], [1, 4, 10, 11, 12, 13, 14, 15, 20, 21], [1, 2, 4, 5, 8, 10, 12, 16, 24, 25, 26], [0, 1, 3, 4, 8, 10, 12, 17, 18], [2, 5, 6, 10, 11, 12, 15, 18, 20, 21, 24, 27], [2, 8, 10, 11, 12, 14, 15, 17], [1, 2, 4, 5, 7], [0, 1, 4, 7, 8, 11], [1, 2, 7, 8, 12, 13], [0, 3, 5, 7, 10, 11, 12, 14], [0, 1, 3, 5, 9, 11, 12, 14], [3, 7, 8, 10, 11, 12, 15, 16], [1, 2, 4, 5, 7, 10, 13, 14, 16, 18, 25, 27, 30, 33], [0, 3, 5, 9, 10, 11, 15, 16, 19, 20, 24, 25, 27, 29, 31, 33, 36, 39], [2, 3, 4, 9, 12, 13], [1, 6, 9, 13, 14, 15, 17, 18, 21, 22, 26, 30, 35, 36, 37, 38], [0, 4, 6, 8, 10, 11, 14, 15, 17, 21, 25, 26, 28, 30, 31, 32, 34, 35], [1, 3, 4, 5, 6, 9, 10, 18], [0, 1, 2, 3, 4, 6, 8, 10, 18, 25, 28, 29], [0, 3, 4, 5, 8, 11, 13, 19, 21, 24, 28, 30, 31], [3, 6, 9, 10, 11, 13, 15, 17, 19, 22], [1, 3, 4, 5, 11, 13, 14, 15, 20, 23, 25, 27, 29, 32, 34], [6, 8, 10, 12, 14, 15, 17, 19], [3, 5, 7, 8, 9, 11, 14, 17], [2, 5, 8, 9, 11, 12, 15, 16], [0, 1, 3, 6, 9, 13], [0, 2, 5, 7, 8, 12], [1, 3, 5, 7, 9, 10, 13, 14, 15], [1, 2, 4, 8, 11, 12], [0, 3, 5, 7, 8, 12, 13, 17, 21, 23, 27, 30, 31], [1, 4, 5, 12, 13, 14, 16, 18, 20, 21, 23, 24, 29, 31, 36, 41, 42, 44], [1, 3, 4, 9, 10, 13, 19, 20, 22, 24, 25, 31, 32, 35, 38, 39], [0, 1, 3, 7, 9, 12, 15], [4, 5, 6, 9, 12, 14, 15, 16], [7, 8, 11, 12, 14, 15, 17, 18], [0, 1, 3, 4, 8, 10, 12, 17, 18], [2, 4, 6, 9, 11, 13], [0, 1, 2, 3, 5, 7, 10, 12, 13, 19, 23, 24, 28], [1, 2, 4, 5, 7, 10, 13, 14, 16, 18, 25, 27, 30, 33], [0, 1, 4, 6, 7, 8, 14, 17, 21, 22], [1, 3, 5, 7, 9, 10, 13, 14, 18], [2, 8, 9, 11, 12, 14, 16, 18], [1, 2, 4, 9], [2, 7, 10, 12, 14, 16, 18, 19, 20, 21, 25, 27], [0, 1, 2, 5, 8, 11, 14, 16], [1, 2, 7, 9, 12, 16, 17, 19, 20], [0, 1, 3, 4, 7, 8, 13, 15, 20], [0, 2, 6, 7, 10, 11, 12, 14, 17], [2, 3, 10, 12, 13, 14, 15, 18, 19, 24], [0, 2, 6, 9, 13, 14, 21, 25, 26, 28, 32, 33, 34, 35, 36, 37, 41], [1, 5, 7, 8, 9], [1, 4, 7, 8, 9, 10, 13, 14, 19]], [[1, 5, 8, 11, 13, 14, 15, 17], [0, 1, 4, 7, 9], [1, 2, 3, 7, 9, 14, 17, 18, 19], [2, 3, 6, 9], [1, 3, 5, 6, 9, 10, 15], [0, 4, 7, 8, 9, 11], [0, 8, 10, 11, 12, 14, 15, 17, 18, 19, 23, 26, 27, 31, 32, 34, 35, 37], [4, 5, 6, 8], [1, 2, 3, 6, 10], [0, 1, 3, 4, 5, 7], [2, 4, 5, 6, 7, 11], [0, 1, 3, 4, 6, 9, 10, 14], [1, 2, 3, 7, 10, 11, 14, 17], [2, 7, 9, 11, 12, 14, 16, 17, 18, 19], [2, 3, 5, 6, 9, 13], [1, 5, 8, 10, 15, 16, 17, 19, 20], [1, 4, 5, 6], [0, 1, 2, 3, 4, 7], [0, 5, 6, 8, 9], [1, 2, 5, 6, 11], [1, 2, 7, 8, 10, 13], [0, 2, 5, 7], [0, 1, 4, 8, 11, 13, 15], [0, 1, 2, 3, 10], [2, 4, 5, 6, 11, 12], [0, 1, 4, 6, 9, 12], [0, 5, 6, 7], [0, 5, 6, 11, 12, 15, 16, 19, 20], [0, 1, 3, 4, 12, 13, 14, 16, 18, 21, 24, 25, 28, 30, 31, 33, 34, 35, 40, 43, 47, 50, 51, 54, 59, 60], [1, 3, 6, 9, 11, 13], [0, 1, 3, 9, 10, 12, 14, 15], [0, 1, 2, 6, 9, 10], [3, 4, 6, 10, 11, 12], [1, 3, 4, 5, 8, 11, 14], [1, 3, 7, 9, 10, 12], [1, 4, 6, 7], [1, 2, 3, 4, 7], [4, 5, 6, 7, 9, 12, 16, 18], [1, 4, 7, 8, 9], [0, 1, 2, 7], [2, 3, 8, 9, 10, 13], [4, 5, 6, 9, 10], [2, 3, 6, 7], [4, 5, 6, 8], [0, 1, 3, 5, 6, 9, 12, 15, 16, 18, 23, 25], [0, 1, 4, 8, 11, 13], [4, 5, 6, 9, 10, 12, 13, 16], [0, 1, 2, 5], [0, 6, 8, 12, 14, 15, 16], [0, 1, 2, 3, 5, 9, 12, 14], [3, 5, 6, 7], [0, 1, 6, 9, 11, 12], [1, 2, 6, 7], [0, 1, 4, 8, 11, 12], [0, 1, 5, 6], [0, 5, 6, 7, 12, 13], [0, 2, 7, 8, 9, 11, 14, 15, 19, 21], [1, 2, 3, 4, 7, 12], [0, 2, 3, 9], [0, 1, 3, 5, 6, 9], [5, 6, 7, 9, 10, 11, 14, 17], [0, 3, 4, 7], [1, 5, 10, 11, 16, 17, 20, 21, 22, 23], [2, 4, 5, 9], [1, 2, 4, 6, 10, 11, 12, 14, 19, 21, 24, 26, 27, 30, 31, 32, 33, 34, 38, 39, 40, 47, 48, 49, 50, 53, 54, 59, 61, 63, 67, 68, 69, 75, 85, 88, 90, 93, 94, 100, 109, 114, 117, 118, 123, 124, 125, 126, 127, 129, 132, 137, 138, 139, 144, 145, 147, 149, 152, 155, 160, 161, 162, 163, 165, 169, 171, 172, 174, 175, 176, 177, 181, 182, 183, 187, 189, 190, 195, 197, 198, 200, 203, 204, 205, 210, 213, 215, 220, 223, 226, 229, 230], [0, 4, 6, 7], [0, 2, 3, 4, 7, 12], [0, 1, 3, 4, 8], [0, 3, 5, 8], [0, 4, 5, 7, 8, 10, 11, 12, 13, 19, 21], [3, 4, 7, 9], [0, 5, 10, 14, 15, 16, 18, 22, 24, 26, 27, 32, 33, 34, 35, 36, 38, 39, 40, 45, 50], [1, 3, 5, 6, 8, 11], [1, 8, 9, 10, 12, 13], [0, 1, 2, 4, 6, 9], [1, 2, 3, 4], [1, 3, 4, 8], [3, 5, 6, 8, 10], [0, 5, 8, 9, 12, 14, 20, 21, 23, 24, 25], [0, 1, 5, 6, 7, 13, 14], [0, 2, 5], [0, 4, 5, 9], [0, 3, 4, 6, 7], [0, 2, 4, 6, 9, 12], [0, 4, 7, 9, 10, 16, 17, 21, 22, 23, 25, 26, 28, 30, 31, 32, 35], [1, 3, 5, 6], [0, 3, 5, 10, 11, 13], [1, 3, 6, 7], [0, 4, 6, 10, 11, 14, 15, 17, 18, 19, 21, 27], [3, 4, 6, 7, 9], [0, 4, 5, 6, 7, 11, 12, 16, 19, 20, 23], [0, 1, 4, 8, 13, 14, 16], [0, 1, 2, 3, 7], [1, 2, 9, 11, 12, 13, 15], [0, 1, 3, 9], [0, 1, 6, 7, 8, 9, 11, 14, 19, 20, 23, 27], [1, 2, 5, 9, 10], [0, 2, 4, 6, 7, 9, 13], [1, 2, 6, 8], [0, 1, 3, 9, 10, 13, 15], [0, 4, 8, 9, 12, 14], [0, 3, 4, 8], [1, 3, 4, 5, 8, 9], [0, 2, 8, 10, 11, 13], [1, 3, 8, 12, 13, 14, 17, 18, 19, 21], [0, 3, 5, 6, 10, 11, 15, 19], [0, 3, 6, 7], [0, 2, 6, 8, 9, 11], [0, 1, 6, 8, 10, 12, 13, 14], [3, 4, 7, 10, 11], [2, 4, 6, 10, 11, 12], [1, 3, 4, 6, 9], [1, 2, 6, 7, 12, 13], [0, 1, 3, 6, 9, 11, 14, 15], [0, 4, 6, 9, 10, 12, 13], [3, 4, 5, 6, 7], [0, 1, 3, 4, 5, 9, 10, 14, 16, 18, 22], [0, 6, 7, 8, 10, 12, 13, 18, 21, 24, 25], [3, 4, 5, 6, 7, 9, 12], [6, 7, 8, 9, 12, 13], [2, 5, 6, 9, 11, 14, 15, 17, 23, 24, 26, 30, 31, 32], [0, 4, 6, 7], [0, 3, 5, 10, 11], [3, 5, 6, 7, 8, 10], [4, 5, 6], [0, 1, 6, 8, 10], [0, 1, 2, 3, 9, 11], [0, 2, 4, 8], [0, 4, 6, 9, 10, 12, 13], [1, 3, 8, 9, 10], [0, 4, 6, 7, 10, 12], [1, 2, 8, 10, 11, 14, 15, 17], [1, 6, 7, 11, 13, 15, 16, 19, 20, 24, 26, 27], [1, 2, 4, 6, 10], [0, 2, 4, 5, 12, 13, 14, 15], [1, 4, 5, 7, 9, 11], [3, 6, 7, 8], [4, 7, 8, 9, 11], [0, 1, 3, 4, 6, 10], [1, 4, 7, 8, 11, 14, 16, 20, 21], [1, 2, 3, 4, 6], [1, 4, 6, 7, 8], [0, 2, 4, 9, 12, 13, 14, 15, 18, 19, 22], [0, 4, 7, 9, 10], [0, 4, 5, 6, 8], [1, 8, 13, 14, 18, 20, 21, 22, 24, 25, 26, 29, 30, 31], [1, 2, 6, 8], [1, 3, 5, 6, 9, 13], [1, 2, 3, 4, 8, 13, 14, 16, 18, 21], [7, 8, 10, 11, 12, 13, 16, 20, 22, 23], [1, 3, 4, 6, 9], [0, 3, 4, 6, 8], [2, 4, 6, 7, 8, 9, 10, 12, 15, 16, 17, 20, 28, 35, 36, 37, 38, 42], [0, 6, 9, 10, 11], [1, 3, 4, 5, 10], [1, 2, 4, 5, 6, 12, 15, 16, 17, 20, 26, 28], [0, 3, 5, 6, 7, 11], [2, 3, 6], [3, 5, 6, 9, 10], [1, 8, 11, 13, 15, 16, 17, 18], [1, 4, 5, 8, 10], [1, 4, 5, 6, 9, 13, 14, 15], [0, 8, 9, 10, 11], [2, 4, 5, 6, 7, 10, 12, 15, 16, 23, 24, 25, 29, 32, 36], [0, 1, 3, 5, 8], [1, 2, 5, 7, 10], [3, 6, 7, 8], [0, 4, 5, 9, 12, 13, 14], [0, 1, 2, 4, 6, 8, 11, 12, 13, 15, 17, 18, 20, 23, 27, 28, 31, 36, 38, 42, 44, 45, 46, 48, 52, 54, 56, 60, 61, 62, 66, 70, 71, 72, 73, 78, 79, 83, 84, 86, 90, 91, 101, 102, 103, 107, 110, 117, 119, 121, 122, 125, 126, 128, 129], [2, 3, 4, 6, 11], [1, 2, 4, 8, 9], [0, 1, 4, 10, 12, 13], [0, 2, 7, 8], [1, 5, 6, 8, 10], [4, 6, 10, 11, 12, 14, 15, 17], [0, 8, 9, 10, 11], [1, 5, 6, 8, 9], [2, 3, 6, 8, 9, 11], [3, 6, 11, 12, 13, 17, 18, 20, 23, 24, 28, 31, 32, 33], [0, 1, 5, 7, 11], [0, 1, 2, 6, 7, 11, 14, 15], [6, 7, 8, 9, 11, 12], [3, 6, 7, 10, 12, 14, 16, 21, 23, 24, 26, 27, 30, 32, 34], [1, 5, 8, 10, 11, 13, 15, 17, 18, 19], [3, 6, 8, 9, 12, 13], [0, 2, 6, 7, 10, 11, 14, 15], [2, 6, 7, 8, 10], [0, 2, 6, 7, 14, 15, 17, 18], [4, 5, 6, 9], [4, 6, 7, 8, 14, 17, 19, 20, 21], [2, 7, 8, 9, 10, 11, 12, 16], [1, 3, 5, 7, 8, 13, 14, 15], [0, 1, 2, 5, 9, 12, 15, 18, 20, 22, 26, 28, 34, 35, 39, 40, 43, 45, 46, 52, 53, 55, 56, 57, 58, 59, 62, 63, 64, 66, 70, 71, 72, 84, 86, 88, 91, 93, 95, 97, 102, 104, 106, 110, 111, 112, 113, 114, 116, 117, 123, 126, 131, 136, 138, 139], [0, 1, 2, 3, 8, 12, 15, 16, 17, 19, 20, 21, 22], [1, 2, 4, 7, 9, 12, 15, 17, 18, 19, 20, 21, 24, 28, 29, 32, 38, 40], [0, 1, 2, 6, 8], [0, 1, 2, 3, 10], [2, 3, 6, 7, 10], [2, 7, 8, 10, 11], [0, 2, 3, 7, 9], [0, 6, 8, 9], [1, 5, 6, 7, 9, 10, 14, 15, 16, 18, 21], [1, 2, 3, 8], [4, 5, 8, 9, 11, 15, 17, 19, 20, 22, 24, 26], [0, 3, 5, 7, 8, 11], [0, 1, 7, 8], [1, 4, 6, 10, 11, 12], [3, 5, 7, 8], [0, 3, 9, 10, 11, 12], [3, 5, 7, 9, 10], [3, 4, 6, 8], [1, 3, 4, 10, 11, 14], [0, 1, 6, 7], [2, 4, 8, 9], [1, 3, 5, 8, 9], [0, 2, 3, 8, 10, 12, 20, 21, 22, 23, 24], [1, 2, 5, 6, 8, 11, 12, 14], [1, 5, 7, 8], [8, 9, 10, 14, 15, 16, 17, 18, 20, 22, 25, 26], [1, 3, 8, 9, 10], [0, 3, 6, 11, 12, 16, 19, 20, 22, 23, 24, 25, 29, 31, 33, 35, 36, 39, 41, 43, 45], [3, 5, 6, 7, 8], [0, 1, 2, 4], [0, 3, 5, 7], [0, 1, 2, 3, 9, 11], [2, 4, 8, 9, 10, 11, 14, 16], [0, 2, 4, 9, 13, 15, 16], [1, 3, 5, 8, 9, 11], [0, 3, 6, 8, 12, 15, 16, 20, 21, 22, 26], [1, 6, 7, 8, 10], [0, 2, 3, 4, 6, 10], [1, 2, 9, 10, 11], [0, 1, 4, 6, 8], [0, 6, 8, 9], [2, 3, 4, 6], [0, 2, 3, 4, 7, 12], [3, 5, 8, 9, 12, 13, 18, 22, 23, 24, 25, 28], [1, 3, 6, 7, 8, 14, 15], [0, 1, 2, 7], [0, 2, 4, 7], [3, 4, 7, 9], [3, 4, 7, 8, 10], [1, 6, 7, 8], [0, 1, 6, 7], [4, 6, 7, 11, 12, 13], [0, 2, 6, 7], [4, 5, 7, 8], [2, 3, 5, 9, 10], [0, 2, 6, 9], [3, 4, 6, 9], [0, 2, 4, 5, 6, 9], [0, 1, 3, 4, 9], [0, 2, 6, 8, 10], [1, 4, 5, 7], [0, 5, 8, 9, 12, 13, 16, 18], [0, 5, 8, 9, 12, 14, 18, 19, 20], [0, 1, 4, 5, 13, 19, 20, 21, 22, 23, 24, 25], [0, 2, 5, 6, 7, 8], [0, 2, 3, 5, 9], [0, 1, 2, 3], [4, 6, 7, 8, 10, 11, 12, 15, 19, 23], [0, 5, 6, 9], [0, 4, 8, 9], [1, 3, 6, 10, 11, 13], [0, 1, 5, 8, 9, 12], [0, 3, 4, 6, 8, 10, 15, 16], [1, 3, 5, 7], [0, 1, 2, 5, 12, 15, 18, 19, 20, 23], [4, 5, 7, 8, 9, 12], [1, 3, 4, 7, 9], [0, 1, 2, 7, 10], [1, 4, 6, 8], [1, 3, 8, 9, 11], [2, 5, 7, 9, 10], [1, 2, 5, 7, 8, 11], [1, 2, 4, 7, 9, 10, 14], [1, 3, 6, 7, 8], [0, 1, 3, 9, 10, 13], [3, 7, 8, 10, 13, 14, 16], [2, 6, 7, 8], [0, 1, 5, 6, 7, 13, 14], [1, 3, 4, 8, 10, 12], [2, 3, 4, 5], [1, 6, 7, 8, 9], [1, 2, 5, 7, 11, 14], [0, 4, 7, 12, 13, 14, 16, 18], [0, 2, 3, 4, 5, 10, 11, 15], [0, 4, 5, 6, 8], [1, 4, 6, 7, 8], [2, 3, 8, 9, 12, 14, 15], [0, 3, 4, 6, 8], [0, 2, 3, 6, 7, 12], [0, 6, 7, 8, 11, 12], [1, 2, 3, 5, 6, 12], [1, 2, 5, 7, 8], [0, 2, 4, 10, 11, 13], [1, 4, 8, 9, 12, 13], [0, 1, 2, 3, 4, 7, 8, 13], [0, 2, 4, 6], [0, 3, 7, 9, 10, 14, 15, 16], [0, 1, 2, 3, 6, 7, 13, 16, 19], [5, 7, 11, 12, 13, 14, 15, 20, 21], [1, 2, 4, 7, 8, 10], [2, 3, 4, 7, 8, 11], [0, 4, 7, 8, 12, 13], [1, 3, 4, 7, 9], [0, 1, 2, 3], [3, 5, 6, 7, 10], [1, 2, 7, 8, 10, 13], [0, 1, 3, 4, 5, 7], [2, 3, 7, 8, 10, 14, 15, 16, 17, 22], [0, 1, 4, 8, 11, 12], [2, 6, 11, 14, 15, 17, 19, 20, 25, 26, 27, 29], [2, 3, 4, 5, 10], [0, 5, 6, 7, 8, 11, 13], [1, 2, 4, 5, 6, 10, 13, 18, 20, 21, 22, 25], [0, 1, 5, 6, 11, 13, 16, 17], [1, 2, 3, 4, 6, 7, 8, 13, 20], [1, 6, 9, 11, 12, 14], [2, 3, 5, 7, 13, 14, 15], [2, 4, 6, 7, 8, 9], [0, 1, 4, 8, 13, 14, 16], [0, 1, 5, 7, 8, 12], [2, 3, 8, 9], [2, 6, 8, 11, 15, 16, 17, 18, 20, 22], [2, 3, 4, 6, 10, 11, 16, 18], [0, 1, 2, 7], [0, 1, 7, 8, 10, 11, 13], [0, 1, 2, 7, 11], [0, 3, 6, 7, 13, 16, 17, 19, 21, 23, 26, 27, 28, 29, 33], [0, 2, 3, 6], [0, 4, 5, 6, 8], [0, 1, 3, 6, 8, 9], [0, 2, 5, 6], [0, 3, 5, 6, 7, 11], [1, 3, 5], [2, 3, 8, 9, 10, 13], [0, 4, 6], [3, 6, 7, 8], [0, 1, 2, 3, 4, 7, 8, 13], [1, 2, 5, 7, 8], [0, 1, 2, 5, 7, 10, 12, 16], [2, 3, 6, 8, 11, 12], [0, 4, 5, 6, 10, 12, 13, 14, 19], [0, 6, 7, 8, 10], [2, 3, 5, 6, 7], [0, 2, 7, 9, 11, 12], [0, 2, 3, 4, 5, 7, 13], [1, 2, 3, 6], [1, 2, 3, 10, 11], [1, 2, 3, 4], [1, 5, 8, 10, 11, 13, 16, 17, 19], [2, 5, 6, 7, 10, 12], [1, 3, 6, 7], [1, 2, 4, 8, 9, 10], [1, 4, 6, 7, 9], [0, 6, 7, 8, 11, 12], [1, 3, 4, 10, 11], [0, 3, 8, 9], [1, 2, 3, 5], [1, 2, 4, 5, 7, 8], [1, 3, 4, 8], [1, 3, 4, 6], [2, 6, 8, 9, 10], [3, 5, 6, 7], [2, 3, 4, 5], [2, 6, 8, 10, 12, 14, 16, 20, 21, 22], [0, 5, 7, 8], [1, 2, 3, 9], [11, 12, 13, 14, 15, 16, 18, 22, 24, 26, 29, 32, 33, 34, 35], [1, 2, 4, 5], [0, 2, 4, 8], [0, 1, 2, 4, 6, 9, 10, 12, 18, 19, 20], [3, 4, 7, 10, 11, 12], [3, 4, 6, 7, 9, 10, 11], [0, 1, 3, 5, 6, 9], [3, 5, 6, 8, 10], [1, 2, 5, 6, 10], [0, 1, 3, 9, 10, 12, 14, 15], [2, 4, 7, 9, 10, 12], [1, 2, 8, 9, 10, 11], [0, 2, 6, 7], [0, 1, 2, 3, 7, 9, 12, 15], [0, 3, 5, 7, 8, 9, 13], [2, 7, 9, 10, 13, 14], [0, 2, 3, 5, 7, 10]], [[0, 5, 6, 10, 11, 13], [0, 1, 3, 4, 6, 10], [1, 3, 5, 6], [0, 2, 6, 8, 9, 13], [0, 1, 3, 4, 5, 7, 11, 15, 17, 22], [0, 2, 4, 6, 9, 11], [1, 3, 4, 5], [1, 2, 6, 8, 10], [0, 3, 4, 8], [2, 3, 6, 8, 10], [1, 4, 6, 7, 9], [1, 2, 5, 7], [1, 4, 8, 9, 10, 11], [3, 4, 7, 10, 12, 13, 15, 19, 20], [1, 2, 3, 8], [0, 2, 4, 8, 9, 12], [0, 1, 2, 5, 7, 11], [0, 2, 3, 5, 8], [1, 4, 5, 8, 9], [2, 3, 4, 5, 6, 7, 16, 17, 18, 19, 21, 26, 31, 34], [0, 4, 6, 7], [3, 5, 6, 7], [1, 2, 3, 8], [3, 4, 6, 8], [1, 2, 6, 8, 10, 12], [0, 3, 4, 8, 9], [2, 3, 6], [0, 3, 4, 8, 11, 12], [0, 1, 4, 7, 10, 13, 14, 15, 18, 20], [1, 6, 10, 11, 12, 13], [3, 7, 8, 9, 12, 15, 16], [2, 3, 7, 8, 9, 11, 14], [1, 3, 6], [1, 2, 3, 4, 6, 10], [0, 4, 6, 7, 10, 14, 18, 19, 20, 21, 23, 25], [1, 3, 4, 7, 10, 12], [2, 4, 5, 8, 12, 13, 14, 16, 19], [0, 1, 4, 6, 10], [0, 2, 5, 6], [0, 2, 8, 12, 13, 14, 18, 20, 21, 24], [3, 4, 6], [0, 5, 8, 9, 13, 15, 16], [1, 2, 3, 6], [1, 5, 7, 9, 10, 12, 16, 17, 19], [2, 3, 5], [1, 3, 5, 6, 8, 12, 13], [2, 3, 5, 9, 10, 12, 14, 15, 16, 18, 25, 27], [4, 6, 7, 8, 10, 19, 20, 21, 22, 24, 25, 28, 30, 34, 35], [3, 5, 6, 7], [2, 3, 4], [0, 5, 7, 8, 9, 10], [6, 8, 10, 11, 12, 14, 15], [1, 5, 6, 8, 9, 12, 16, 20, 23, 26, 28, 29, 30], [1, 3, 5, 6, 12, 14, 15, 18], [1, 2, 4, 6, 11], [0, 2, 4, 5, 8, 12], [2, 6, 7, 12, 13, 15, 17, 20, 22, 25, 26], [5, 7, 9, 10, 12, 15, 16, 21, 23, 24, 26], [0, 3, 4, 5, 9, 12], [1, 3, 4, 5, 6, 11], [1, 2, 5, 6, 8], [0, 5, 6, 7, 8], [2, 6, 8, 9, 11, 12, 14, 17, 18, 19, 22, 25, 28, 31], [1, 4, 6, 9], [0, 3, 5, 6, 9, 11, 14, 15, 16, 20], [2, 3, 5, 6, 9, 11, 12], [0, 1, 2, 5], [0, 2, 4, 7, 14, 15, 16], [0, 1, 2, 3, 8, 10], [0, 4, 5], [0, 4, 6, 8, 13, 14, 15], [0, 5, 6, 10, 11, 12], [2, 5, 6, 7, 9, 10], [0, 2, 3, 7], [1, 2, 4, 7, 10], [0, 3, 4, 5, 6, 9, 13, 14, 16, 20, 21], [1, 3, 4, 7, 8, 15, 18, 21, 23, 24, 26, 27], [2, 4, 5, 7, 9], [0, 1, 2], [5, 8, 9, 10, 11], [0, 3, 4, 5], [0, 1, 5, 8, 14, 17, 18, 21, 22, 24], [1, 3, 6, 7, 10, 11, 14], [1, 3, 6], [2, 3, 5, 7, 9, 11, 12, 14, 16, 23, 24], [1, 4, 6, 8, 10, 11, 16, 17], [0, 1, 7, 8, 10, 12, 15], [3, 5, 6], [2, 6, 8, 9], [0, 2, 4, 6, 10], [2, 6, 9, 11, 12, 13, 16, 18, 20, 22], [0, 1, 10, 11, 15, 17, 18, 20, 21, 22], [0, 3, 5, 7, 8, 11, 13, 16], [1, 4, 6, 7], [0, 2, 3, 5, 7, 10, 15], [1, 4, 7, 8], [0, 1, 2, 3, 5, 9, 10, 18, 19, 21], [0, 6, 9, 11, 14, 15, 18, 19, 24, 27, 29, 30, 35, 36, 37, 38, 42, 43, 48, 49, 52, 54, 55, 56, 58, 60, 61, 63, 64, 67, 68, 75], [1, 4, 5, 6, 11, 14, 16, 17], [2, 3, 5, 6], [3, 7, 9, 10, 11], [1, 2, 3, 4, 10, 11, 12, 18], [2, 4, 5, 6, 9, 12, 16, 22, 23, 24], [2, 4, 8, 9, 12, 14], [1, 3, 6, 8], [1, 3, 6, 7, 8], [0, 4, 5, 8], [1, 3, 4, 8, 9, 10, 13, 16, 19, 20, 21], [1, 6, 7, 10, 11, 15, 16, 17], [3, 4, 5], [4, 7, 8, 9, 10, 12, 14, 16], [0, 3, 6, 7, 9, 12], [0, 1, 2, 6, 9, 12, 13], [2, 6, 10, 11, 12, 13, 14, 17], [0, 1, 4, 6, 9, 11], [2, 4, 5, 8], [0, 2, 5, 7, 11, 13, 16], [1, 2, 4, 7, 10], [2, 5, 8, 9, 11, 13, 15, 16, 18, 19, 21], [2, 3, 4, 7, 10, 13], [0, 2, 6], [1, 4, 7, 9, 11, 16, 19, 21, 22, 23], [0, 1, 2, 8, 9, 12, 14, 16], [1, 4, 10, 11, 12, 13], [0, 3, 5], [1, 4, 5, 6], [0, 1, 7, 8], [1, 2, 5, 8, 10, 12, 18, 20, 21, 22], [0, 3, 5, 8, 13, 14, 16, 17, 19, 21, 24], [1, 2, 4, 6], [2, 3, 4], [3, 6, 8, 10, 11, 13, 14], [1, 3, 5], [0, 5, 6, 8], [2, 5, 6, 8, 10], [1, 3, 5, 6], [4, 5, 6, 7, 9, 10, 16, 18, 19], [1, 3, 6, 9], [1, 3, 5, 6, 8, 12], [0, 2, 4, 7, 8, 9, 12, 18, 21], [1, 2, 3, 6, 9, 14], [3, 5, 6, 10, 11, 12], [5, 6, 7, 9, 10], [0, 1, 4, 6, 10], [2, 5, 6, 7], [1, 3, 6, 7, 9, 13, 17, 18, 20, 22], [3, 4, 7, 9, 10, 13], [0, 3, 5], [0, 3, 5, 6, 7], [0, 1, 8, 9, 10, 14, 16, 22, 24, 25, 27, 30, 32, 34, 35, 38, 39], [0, 3, 4], [1, 2, 8, 10, 11, 14, 18, 19, 21, 22, 23], [2, 4, 6, 7, 8, 13, 17, 19, 21], [0, 2, 6, 10, 11, 14, 15], [0, 1, 2, 10, 12, 14, 16, 18], [2, 3, 4, 5, 11, 13, 14], [0, 3, 5, 7, 14, 17, 18, 20, 21, 22, 24, 28, 30], [0, 3, 5, 7, 9], [4, 5, 6, 7, 8, 9, 11, 12, 13, 14, 21, 27], [1, 4, 5, 8, 9], [0, 1, 3, 9, 11, 13, 14, 18, 21, 23], [0, 3, 8, 10, 14, 15, 16, 17], [0, 2, 3, 8, 9, 12, 16], [1, 2, 3, 6, 9, 14], [0, 1, 2, 5, 8], [3, 5, 6, 9], [5, 6, 7, 9, 10, 13, 17, 18, 19, 22], [0, 1, 4], [0, 2, 4, 5, 8, 12, 16], [0, 2, 3, 4, 5, 7, 14, 17, 19, 20, 22], [1, 3, 5, 6, 8, 11], [1, 2, 4, 10, 11, 12], [0, 1, 5, 6, 7, 8, 9, 17], [0, 1, 2, 5, 7, 8, 15, 16], [0, 1, 4], [4, 5, 8, 11, 12, 13, 14, 19, 22, 23], [0, 1, 5, 6, 7, 9, 11, 14, 15, 19, 20, 28], [0, 2, 3, 4, 10], [0, 1, 7, 10, 11, 13, 15], [1, 4, 6, 9, 10, 13, 16, 17], [2, 5, 7, 9], [0, 6, 7, 8, 9, 14, 16, 18, 20, 23, 25], [1, 4, 6, 7, 10, 12, 14, 16, 17, 20, 23, 26, 28, 29], [0, 2, 4, 5, 6], [1, 5, 8, 10, 11], [0, 2, 5, 7], [0, 2, 4, 7, 10, 11], [2, 4, 7, 9, 10], [3, 4, 5, 6, 7, 13, 14, 16, 17], [0, 4, 9, 12, 16, 18, 22, 24, 25, 26, 27, 30, 31, 33, 34, 35, 41, 45, 46], [10, 11, 15, 16, 17, 19, 20, 22, 23, 24, 25, 26], [0, 1, 5, 6, 10, 13, 15], [0, 2, 3, 4, 8, 9, 17, 18, 20], [2, 4, 6, 7, 9, 11], [0, 1, 4, 9], [0, 1, 3, 5, 6, 8], [0, 2, 3, 9, 10, 12, 13, 14, 20, 21], [1, 3, 5, 8], [0, 1, 2, 7], [0, 1, 3, 5, 12, 14], [0, 1, 3, 4, 6], [2, 3, 4, 5], [1, 3, 5, 6, 9, 12, 15, 16, 17], [0, 2, 8, 9, 11, 13, 15, 17], [2, 6, 8, 11, 13, 14, 15], [2, 5, 6, 9, 10, 12, 16, 17, 18, 19, 24], [1, 2, 5, 10, 14, 15, 16, 19, 21, 22, 23, 24, 26, 29, 33], [2, 3, 4, 8, 10], [2, 3, 4, 8, 9, 10, 12], [9, 10, 11, 12, 13, 16, 17, 19, 21], [0, 4, 7, 10, 11], [2, 3, 4, 7, 8, 10], [3, 4, 5], [1, 4, 5, 6, 8], [0, 1, 3, 5, 12, 14], [1, 2, 5, 7, 8, 10], [3, 5, 9, 12, 13, 14, 16, 18, 19, 22], [0, 3, 5, 7, 10], [1, 2, 6], [2, 3, 7, 9, 10, 12, 16, 18], [3, 5, 6, 8, 9, 14, 15, 20, 21, 25, 26, 27, 31, 33], [2, 5, 7, 8, 12, 14], [0, 6, 8, 10, 15, 17, 19, 22, 23, 25, 26, 27, 28], [1, 3, 4, 7, 10, 11, 14], [2, 4, 8, 9, 10], [2, 3, 4, 5, 9], [1, 3, 4, 8, 9, 13, 14, 15, 19, 20], [0, 1, 2, 3, 9, 14, 15, 17, 18, 19, 20, 24, 27, 30, 32, 35, 38, 41, 42, 44], [0, 1, 3], [0, 4, 7, 8, 9, 14, 16], [0, 1, 4, 6, 7, 9], [5, 7, 9, 10, 12, 15, 16, 21, 23, 24, 26], [0, 1, 5, 8, 11, 14, 16, 19, 21, 22], [4, 8, 10, 11, 12, 16, 17, 18], [0, 5, 6, 7, 9, 16, 17, 18], [0, 2, 6], [0, 4, 8, 9, 10], [0, 1, 4], [2, 4, 5], [3, 4, 5, 8], [2, 3, 4, 6, 7, 9], [0, 6, 7, 8, 9], [2, 4, 6], [0, 4, 5, 6, 7, 8, 10, 12], [1, 2, 4, 5, 7, 10, 19, 24, 26, 27, 28, 29], [0, 2, 4], [1, 2, 4, 10, 11], [0, 4, 6, 7], [1, 2, 6], [0, 4, 5, 6], [1, 2, 4, 5, 10, 11, 13, 17], [0, 1, 3, 5], [0, 4, 5, 6, 10, 12, 18, 20, 23, 24, 26], [0, 2, 6, 7, 10, 13], [1, 2, 4, 8, 10], [0, 2, 3, 8, 12, 13, 18, 19, 20, 26, 27, 30, 31, 32, 35], [2, 3, 4, 5, 9], [3, 4, 5, 8, 10, 11, 14, 18, 20, 23, 25, 26, 27, 30], [0, 3, 4, 7, 10, 12, 13, 16, 18, 22, 23, 26], [1, 5, 6, 7], [0, 4, 5, 10, 12, 14], [1, 2, 5], [0, 2, 8, 9, 11], [0, 3, 4, 7], [0, 2, 4, 5, 6, 9], [2, 4, 5, 7, 8, 9, 17, 18, 19, 23], [1, 2, 3, 7, 11, 13, 15, 23, 26, 27, 28, 29], [0, 1, 3, 5, 7, 8, 13, 19, 20, 21, 23, 26, 29, 34, 36, 39, 41], [3, 4, 5, 10, 11, 13], [4, 6, 7, 8, 10], [3, 6, 11, 12, 13, 16, 17, 19, 21, 23], [0, 1, 2, 3, 10], [1, 2, 4, 5], [0, 5, 6, 8, 9], [0, 1, 4, 7, 9, 10, 13, 17, 19, 22], [0, 2, 3, 4, 15, 17, 18, 20, 22, 23], [0, 5, 7, 8], [0, 3, 6, 7], [0, 1, 2, 6, 8, 9], [1, 4, 7, 8, 12, 13, 14, 17, 18, 19], [1, 3, 5, 12, 13, 15, 16, 17], [1, 2, 7, 9, 10, 12, 14, 15, 16], [0, 2, 3, 4, 9, 11, 13, 16, 23, 24, 26, 28, 29, 31, 32, 33, 34], [3, 7, 8, 10, 11, 12], [1, 3, 4, 5, 6, 9], [0, 3, 4], [1, 3, 6, 7, 10, 11], [0, 2, 3, 4, 7, 8, 11, 16, 17, 19, 25], [0, 2, 3, 4, 8, 14, 15, 17], [1, 2, 4, 7, 10, 16, 17, 18, 20, 25, 28, 29, 30], [0, 2, 4, 5, 11, 14, 17, 18, 21, 23, 24, 25], [1, 3, 6, 7, 9], [3, 5, 8, 9, 12, 13, 15, 17, 20, 23], [1, 3, 5, 7], [2, 3, 4, 9], [2, 5, 6, 7], [0, 4, 5, 6], [0, 2, 8, 9, 10, 11, 14, 17], [1, 2, 3, 5, 10, 11], [3, 7, 8, 10, 11, 12, 13], [1, 3, 5, 7], [0, 2, 3, 4, 6, 10], [0, 1, 2, 4, 5, 8, 9, 13, 17, 18], [2, 4, 5], [0, 3, 5, 10, 12, 14, 18, 19, 23, 25, 26, 28, 32, 35, 36, 37], [2, 4, 5], [5, 7, 8, 9, 12, 13], [3, 4, 6, 8], [0, 1, 3, 10, 13, 14], [1, 3, 4, 5, 6, 8, 10, 14, 19], [0, 3, 4, 9, 10, 14, 16, 17], [0, 1, 5, 6, 9], [1, 4, 6], [1, 2, 4, 6], [1, 3, 5, 7, 8, 9, 12, 16, 17], [0, 2, 4, 7, 8, 9, 11, 13, 21, 23, 25], [0, 1, 2, 7], [0, 4, 5, 9, 10, 12, 13, 14], [0, 1, 2, 6, 8, 9, 15, 20, 22, 23, 24, 29], [0, 2, 4, 5], [0, 1, 2, 3, 9, 11, 14], [0, 1, 5, 9, 10, 14, 16, 17], [3, 4, 5, 8, 9, 12], [3, 5, 7, 10, 13, 14, 15, 18], [1, 3, 6, 7, 10, 14], [2, 4, 5, 6, 7, 8, 10, 12, 20], [1, 6, 7, 9], [2, 7, 10, 11, 15, 17, 18, 24, 25, 26, 27, 28], [0, 1, 5, 8], [0, 3, 4, 6, 7, 10, 12, 16], [1, 4, 9, 10, 12, 15, 18, 19, 20, 21, 26, 27, 31], [2, 3, 7, 9, 10, 13], [0, 6, 8, 10, 15, 17, 19, 22, 23, 25, 26, 27, 28], [0, 2, 3, 4, 8, 13], [0, 3, 4, 5], [0, 2, 3, 4, 10, 15, 16, 17, 18, 20, 24], [0, 2, 4, 10, 13, 15, 18, 19, 21, 23, 26, 27, 30], [3, 7, 10, 11, 12, 13], [2, 3, 5, 6, 10], [0, 6, 7, 9, 10], [1, 2, 4, 9, 11, 13], [0, 4, 6, 9, 10, 11], [0, 2, 6, 9, 12, 13], [0, 2, 9, 11, 12, 13, 15], [0, 2, 4], [2, 6, 7, 12, 13, 15, 17, 20, 22, 25, 26], [0, 1, 2, 9, 13, 15, 16, 19], [2, 4, 6, 7, 10, 11, 14, 17, 21, 23, 25, 26, 27, 30, 32, 35], [1, 4, 5], [3, 7, 8, 9, 12, 13, 17, 18, 22, 24], [2, 3, 4, 5, 6, 9, 10, 11, 13, 15, 21, 23, 26, 31, 32], [0, 2, 5, 9, 11], [0, 1, 4, 5], [2, 4, 5, 6, 7, 11, 14], [0, 2, 5], [1, 2, 3, 8], [1, 2, 4, 6, 10], [0, 3, 4, 7, 11, 12, 14, 17], [2, 4, 5, 6], [0, 4, 5, 7, 11, 12, 13, 16, 17, 22, 25], [0, 1, 2, 7], [0, 6, 9, 11, 14, 15, 18, 19, 24, 27, 29, 30, 35, 36, 37, 38, 42, 43, 48, 49, 52, 54, 55, 56, 58, 60, 61, 63, 64, 67, 68, 75], [1, 2, 5], [0, 1, 3, 7, 10], [0, 2, 4, 7], [2, 4, 9, 10, 11, 12, 14], [2, 3, 5, 7, 10], [0, 2, 4, 5, 11], [1, 4, 5, 9, 10, 11, 12, 16, 17, 18, 21], [2, 3, 4, 6, 12, 13, 15, 17, 19], [1, 2, 3, 4, 7, 11], [3, 5, 7, 8, 11, 12, 19, 23, 26, 30, 31, 33, 34, 36, 38, 39, 41, 43, 44, 45], [1, 5, 8, 10, 15, 16, 17, 18], [3, 5, 7, 9], [0, 1, 4, 7, 10, 14], [0, 4, 5, 7, 8, 13, 14], [2, 3, 5, 8, 9], [4, 5, 7, 11, 13, 15, 16, 18, 19], [0, 4, 6, 7, 8, 10, 13, 16, 22, 24], [1, 2, 3, 4, 7, 11, 15, 16], [1, 3, 4, 8, 10], [0, 1, 4, 6, 8, 9, 14, 16, 17, 23, 24, 25, 26, 27, 28, 29, 31, 42, 44], [0, 1, 2, 4], [0, 4, 5], [0, 2, 3, 4, 6, 10], [1, 3, 4, 6, 7, 15, 17, 18, 19, 22], [1, 2, 6, 8, 14, 15, 16, 19, 21, 25, 26, 28, 29, 33, 35], [1, 3, 4, 8, 9, 13, 14, 15, 19, 20], [0, 1, 2, 3, 9], [3, 6, 8, 10, 11, 12, 14, 15, 17, 25, 27, 28, 30], [3, 4, 7, 9, 11, 13, 16, 19], [0, 2, 6, 9, 13, 16, 17, 18, 21], [0, 1, 5, 7, 10, 15, 16, 17, 20, 21], [0, 1, 3, 9, 13, 14, 15, 19, 21, 24], [0, 1, 2, 7, 9], [1, 2, 6, 8], [0, 2, 3, 7, 13, 15, 16], [0, 1, 2, 5, 6, 12, 14, 18, 22, 23, 26], [1, 4, 9, 10, 11, 12, 14, 18, 19, 22], [0, 4, 6], [1, 6, 7, 8, 11, 15, 16, 18, 22, 23, 24], [3, 4, 5, 8], [0, 6, 7, 9, 11, 12], [0, 6, 8, 9, 11, 15, 17, 18, 21, 24, 26], [1, 5, 11, 12, 13, 16, 17, 19], [2, 3, 5, 6, 8], [0, 2, 4, 5], [1, 2, 3, 4, 5, 9, 12, 14, 16, 20, 22], [0, 1, 2, 5, 6, 9, 12, 17, 19, 23], [5, 8, 9, 10, 11], [0, 4, 6, 8], [3, 6, 10, 11, 14, 15, 16], [0, 1, 3, 4, 5, 10, 13, 16, 18, 19, 20, 23, 28, 33, 37, 40, 43, 44, 45], [4, 6, 7, 8], [0, 2, 7, 9, 11], [2, 3, 5, 7, 12, 13, 16, 17], [0, 1, 2, 3, 6, 9], [1, 3, 5], [2, 3, 4, 6, 10], [1, 2, 4, 6], [1, 4, 5, 7], [3, 4, 5], [4, 6, 7, 9, 14, 15, 17, 18, 19], [0, 1, 6, 8, 11, 14, 15, 17, 18], [4, 5, 6, 8, 10], [2, 3, 4, 6, 9, 13], [2, 3, 7, 8, 9, 10, 14], [6, 9, 10, 13, 14, 15, 16, 17, 20, 22], [0, 3, 4, 7, 12, 13], [0, 2, 4, 7, 11, 14, 15, 17, 20, 22, 26, 28, 29, 32, 35, 36, 37, 38, 42, 43, 44, 45, 50, 53, 55, 58, 59, 63, 72, 73, 74, 75, 79], [0, 2, 3, 7, 8, 11, 15], [1, 6, 7, 8], [0, 3, 5, 6, 8, 9, 12, 13, 20], [2, 6, 9, 11, 12, 13, 16, 18, 20, 22], [3, 4, 8, 9, 12, 13], [1, 2, 4, 7, 8, 9, 12, 14, 20], [2, 6, 8, 9, 13, 15, 16, 20, 22, 25, 26, 29], [1, 2, 5, 7], [2, 5, 8, 10, 13, 14, 15, 18], [1, 2, 3, 5], [0, 1, 4, 7, 11, 13, 17, 18, 20, 21, 25, 27], [0, 2, 3, 4], [1, 4, 5], [3, 4, 6, 8, 9, 12], [1, 3, 5, 7, 12, 14], [1, 4, 6, 9, 14, 15, 16, 17], [3, 4, 5, 10, 13, 14, 17, 18], [0, 1, 3, 7, 13, 15, 16], [1, 5, 7, 8, 12, 16, 17, 18, 20], [0, 3, 5, 8, 12, 13, 14], [2, 3, 4, 6], [1, 5, 6], [6, 7, 8, 9, 10, 12, 13, 16, 20, 22, 23, 24], [3, 4, 6, 7], [0, 1, 2], [0, 2, 4], [1, 2, 4, 6, 14, 15, 16, 17, 19, 23, 25, 27], [0, 6, 8, 9, 10, 11, 12, 17], [4, 5, 7, 8, 9, 10, 15, 17, 21, 23, 24, 26, 31], [1, 2, 3, 4, 5, 9, 12, 14, 16, 20, 22], [2, 3, 5, 7, 8, 11, 14], [0, 2, 5, 6, 8], [0, 4, 7, 10, 11, 13, 15, 17, 19, 23, 24, 25], [6, 7, 10, 11, 12, 13, 16, 18, 21], [5, 6, 10, 11, 12, 13], [4, 5, 6, 8, 9, 11, 14, 17], [4, 8, 9, 10, 11], [0, 2, 7, 8, 10, 12, 16, 17, 20], [6, 7, 8, 9, 10, 13, 15, 19], [1, 4, 5, 7, 8, 9, 12], [2, 3, 4, 8, 9, 10, 12], [0, 1, 3, 9, 10], [0, 1, 7, 11, 14, 16, 18, 19, 23, 24, 25, 30, 35, 36, 37, 40, 41, 42, 43, 48, 50, 53], [2, 3, 5], [0, 5, 7, 10, 11, 12, 16], [6, 10, 13, 14, 15, 16, 17, 18, 20], [0, 1, 4, 5], [0, 1, 2, 4], [1, 2, 5, 9, 10, 13, 14, 17, 19, 20], [1, 3, 4, 5, 6], [3, 10, 12, 17, 18, 19, 20, 23, 24, 26, 27, 28], [0, 2, 3, 5, 6, 9, 14, 17, 19, 20, 23], [1, 3, 5, 6, 8, 9, 12], [0, 2, 4, 7, 12, 14, 16, 21, 22, 23, 24, 26], [2, 8, 9, 11, 12, 13, 16, 18, 24, 25, 26], [2, 4, 5, 6, 7, 10, 16, 17, 19, 21], [0, 2, 3, 4, 9, 10, 13, 16, 17, 18, 23, 26, 29], [0, 1, 6, 8], [1, 3, 4, 5, 9], [2, 3, 5, 7, 11, 13], [0, 1, 3, 7], [0, 2, 4, 5], [0, 3, 4, 6, 8, 14], [0, 1, 8, 9, 10, 11, 12, 19, 23, 24, 26, 27, 29], [0, 1, 4, 7, 13, 15, 16], [1, 2, 4, 9, 10, 13], [1, 3, 4, 6, 7, 15, 17, 18, 19, 22], [0, 2, 7, 8, 10], [2, 3, 6, 7], [0, 2, 5, 8, 9, 13, 14, 18], [0, 1, 3, 5, 7, 8, 10, 13, 17, 23, 26, 28, 32, 33, 34, 36], [1, 2, 3, 5, 7, 11, 12, 14], [1, 2, 4, 6, 10, 13, 15], [1, 2, 5, 8, 11, 12, 13], [0, 2, 6, 7, 8, 14, 15, 17, 19, 22], [0, 1, 5, 6, 8, 15, 16, 17, 19, 21, 22], [0, 1, 2, 6, 8, 9, 15, 20, 22, 23, 24, 29], [1, 3, 5], [0, 2, 3, 8], [0, 2, 6, 7, 8, 14], [0, 3, 4, 7, 9, 11, 15, 16, 18, 20]], [[1, 2, 6, 8, 10, 12, 13, 15, 17, 18, 19, 22, 24, 25, 26, 29, 32, 35, 42, 44], [2, 5, 9, 11, 12, 13], [2, 6, 8, 9, 12, 13, 16], [0, 2, 5, 6, 7, 13, 16, 17, 22, 23, 27, 28], [0, 2, 3, 7, 10, 13], [1, 3, 5], [0, 2, 7, 10, 11, 13], [0, 3, 4, 5, 8, 10], [0, 2, 4, 5], [2, 4, 5], [1, 2, 5, 9, 13, 14], [0, 2, 3, 6], [1, 3, 5, 6, 8, 9, 12, 14, 19, 20], [0, 3, 4, 6, 7, 11, 12, 14], [2, 3, 6, 7, 13, 14], [2, 5, 7, 8, 10, 11, 13, 14, 18, 20, 22, 23, 27, 31], [2, 4, 5], [0, 1, 4, 6, 7, 9], [0, 4, 5, 7, 8, 13], [2, 3, 7, 8, 9], [0, 1, 6, 8, 9, 13], [0, 1, 3, 5, 8, 9, 14, 18], [2, 3, 5, 7, 9, 11, 15], [0, 1, 3, 9, 10, 14, 17, 20, 23, 24, 25], [0, 1, 2, 3, 6, 12], [1, 2, 3, 6], [1, 3, 7, 8, 13, 15, 17, 18], [0, 1, 3, 5, 8, 12], [0, 1, 2], [1, 3, 6, 9, 12, 13, 15], [0, 1, 4, 6, 7, 9], [0, 1, 2, 5, 6, 10, 13, 15, 18], [2, 4, 5, 6], [0, 3, 9, 12, 15, 16, 19, 20, 21, 22], [2, 3, 7, 9], [3, 5, 8, 9, 10, 11, 15], [0, 1, 2, 7], [2, 3, 4, 8, 11, 12], [0, 1, 6, 7, 8, 9, 10, 16, 19], [0, 3, 4, 6, 10, 11, 15], [0, 3, 4, 5, 11, 12], [0, 8, 10, 11, 12, 13, 15], [4, 6, 8, 10, 11, 12], [0, 2, 3, 11, 12, 13, 15, 17], [0, 3, 6, 9, 12, 13, 15, 16, 21], [0, 2, 5, 8, 10, 14], [2, 3, 5, 10, 11, 14, 16], [1, 3, 4, 9, 10], [0, 1, 2, 8, 9], [1, 6, 8, 10, 14, 16, 17, 18, 19, 21, 25], [2, 3, 6, 9, 10], [4, 5, 6, 8, 12, 14, 15, 18], [1, 2, 5, 8, 9, 10, 15], [5, 6, 8, 10, 11, 12], [0, 1, 2, 4, 5, 7, 16, 18], [2, 3, 4, 5, 12, 14, 17, 18, 19, 20, 22, 23, 32, 35, 37, 38, 39, 43, 44], [2, 4, 5, 11, 12, 13], [0, 1, 5, 6, 11], [1, 2, 3, 5, 7, 11, 13], [0, 6, 10, 11, 12, 13], [0, 1, 2, 7], [1, 2, 7, 11, 12, 13, 16, 17], [1, 4, 10, 12, 13, 15, 17], [1, 2, 5, 10, 11, 12, 13, 17, 20, 23, 24, 26], [0, 8, 9, 11, 13, 14, 17, 18], [0, 2, 5, 6, 9, 12, 13, 16, 19], [1, 2, 3, 7, 8, 11, 13, 14, 15, 19, 23], [1, 2, 3, 9], [0, 1, 7, 8, 12, 13], [3, 5, 6, 9, 11, 13], [0, 1, 3, 6, 7, 10, 15], [3, 4, 5, 6, 10, 12], [0, 1, 5, 6, 8, 12, 15], [1, 2, 3, 4, 10], [0, 1, 2, 3, 9, 11], [0, 2, 3, 4, 8, 10], [3, 4, 9, 10, 13, 15, 16], [1, 4, 5, 6], [0, 1, 3, 6, 8, 12], [0, 1, 2, 6, 7, 9, 10, 15], [1, 3, 4, 9, 10, 11, 14, 16], [1, 3, 7, 9, 11, 13], [0, 1, 5, 8, 9, 10], [1, 5, 6, 9, 11, 14, 20, 21, 22, 23], [0, 3, 8, 10, 11], [0, 6, 7, 8, 14, 17, 18, 20, 21, 22], [0, 3, 4, 7, 11], [1, 5, 6, 7, 10], [1, 3, 7, 9, 10], [0, 3, 4, 8, 9], [0, 1, 2, 4, 7, 8, 9, 11, 13, 20, 24, 26, 29, 30], [3, 4, 5, 7, 13, 14], [1, 5, 7, 11, 13, 15, 17, 18, 22, 23], [0, 1, 2, 5], [1, 3, 4, 5, 6], [1, 2, 4, 6, 9], [0, 1, 2, 3, 7, 8, 9, 14, 21], [2, 3, 4, 7, 9, 13], [1, 2, 3, 8, 9], [1, 3, 4, 5, 7, 10], [1, 3, 6], [2, 4, 6, 8, 10, 14], [1, 2, 3, 10, 11], [1, 4, 5, 6, 7, 10, 11], [3, 6, 7, 9, 11], [1, 3, 5, 8], [2, 6, 8, 9, 11, 12], [1, 3, 5, 8, 9], [0, 2, 7, 10, 11], [0, 1, 5, 6, 9, 10, 12, 14, 18, 23, 25, 26, 28, 32], [0, 1, 2, 7], [1, 4, 6, 8, 11, 12, 15], [0, 3, 4, 5, 14, 16, 17, 19, 21, 26, 27, 29], [2, 5, 8, 10, 11, 12, 14], [1, 3, 8, 9, 10], [0, 1, 3, 4, 8, 12, 16, 17], [0, 1, 4, 9, 10, 12, 15], [0, 2, 4, 5], [1, 2, 4, 5, 9, 12, 17, 18], [1, 7, 8, 9, 11, 12], [0, 1, 3, 4, 5, 11], [2, 4, 7, 8], [0, 3, 7, 8, 11, 13, 16], [0, 4, 5, 6, 11, 14], [0, 2, 5, 8, 9, 12, 13, 17, 18, 21, 22, 26], [4, 6, 7, 10, 12, 13], [0, 3, 7, 9, 10], [0, 1, 2, 4, 5], [1, 4, 5, 7, 8], [0, 4, 5, 6, 7, 14], [0, 1, 5, 6, 8, 12], [3, 6, 7, 8, 10], [3, 6, 10, 14, 17, 18, 19, 20, 23, 24], [2, 4, 5, 7], [3, 4, 5, 7, 10], [0, 2, 8, 12, 13, 15, 16, 18], [5, 6, 8, 10, 11, 14], [2, 4, 6, 7], [0, 3, 5, 7, 11, 12], [2, 6, 8, 9, 11, 15, 16, 17, 19, 20], [2, 4, 6, 11, 13, 14], [0, 4, 6, 12, 13, 14], [0, 2, 3, 7, 8], [0, 2, 4, 7, 8], [0, 3, 7, 8, 9, 10, 11, 12, 17], [0, 2, 7, 8, 11], [1, 4, 6, 7, 8, 9, 12], [0, 1, 5, 8, 9, 10], [1, 3, 4, 7, 8, 10, 11, 17], [0, 4, 8, 9], [0, 3, 4, 8, 9], [3, 4, 5, 7, 9, 14], [1, 3, 5, 6, 11, 13, 14], [1, 3, 5, 9, 13, 14, 16, 18], [3, 4, 5, 9, 10, 11, 15, 16], [0, 2, 4, 7, 8, 10], [1, 2, 4, 9], [1, 4, 5, 6, 10, 11, 12, 22, 23, 24, 28, 29, 30], [4, 5, 6], [0, 4, 8, 10, 11, 13, 18, 19, 23, 25, 27, 28], [3, 9, 11, 12, 15, 16, 17, 19, 21, 24, 25, 26, 29, 31, 33, 35, 36, 40, 45], [0, 1, 2, 7, 9], [1, 4, 5, 7, 9], [1, 4, 5, 7, 8, 10], [2, 4, 6, 8, 9, 14], [3, 5, 8, 12, 13, 14], [0, 2, 4, 8, 10], [0, 1, 5, 6, 10, 11, 14, 15, 17], [2, 4, 5, 6, 11, 13, 14], [4, 8, 11, 12, 13, 16, 18, 21, 23, 24], [2, 3, 4, 5, 10, 16, 17, 18], [0, 4, 5, 10, 11, 12, 13], [0, 1, 2, 4], [4, 6, 7, 9, 12, 13, 14, 16], [0, 1, 3, 6, 10], [1, 2, 3, 10, 11, 12, 14], [5, 7, 9, 10, 11, 13], [0, 2, 4, 7, 10], [0, 1, 3, 8, 9, 11], [1, 3, 5, 7, 8, 10], [1, 2, 6, 9, 11, 13, 15], [0, 1, 2, 4], [1, 2, 5, 6, 10, 13], [1, 4, 6, 9, 11, 12], [0, 1, 3, 4, 6, 8], [0, 1, 3, 9, 10, 12, 13, 15, 16, 20, 23, 29, 30, 31], [0, 1, 6, 8], [2, 5, 6, 7, 11, 12], [0, 2, 8, 9, 12, 13], [0, 1, 8, 9, 10, 12], [0, 3, 4, 9, 10], [1, 2, 4, 8, 11, 13], [1, 4, 5, 7, 8, 12, 14], [0, 2, 5, 7, 9, 12], [4, 5, 6, 8, 9], [1, 4, 8, 9, 10, 12], [0, 3, 6, 9, 11, 12], [2, 4, 6, 7, 11, 13], [1, 3, 4, 9, 12, 13], [1, 4, 5, 7], [0, 1, 4, 5, 8], [0, 1, 2, 3, 6, 10, 12, 14, 16, 21, 24], [2, 5, 7, 10, 15, 16, 17, 19, 21], [0, 2, 6, 7, 9], [0, 1, 4, 8], [1, 5, 6, 8], [3, 4, 5, 7], [2, 4, 6, 9, 10], [0, 1, 5, 6, 7, 9], [0, 2, 4, 9, 11, 12], [1, 2, 3, 5, 9, 10], [0, 1, 2, 6, 7, 10], [2, 4, 5, 10, 12, 13, 16, 18], [0, 1, 5], [0, 1, 2, 3, 7, 8, 9, 14, 21], [0, 4, 5, 11, 12, 13, 15, 17], [0, 2, 3, 6, 7, 8, 13, 14, 18, 22, 23, 24, 29], [0, 1, 2, 3, 7, 10, 12, 14, 16, 17, 19, 27, 28, 36, 39, 40, 41], [0, 1, 3, 5], [1, 2, 3, 4, 8, 9, 15, 20, 21, 22], [1, 2, 5, 6, 8, 10], [1, 5, 6, 7], [2, 3, 5, 7, 10, 14, 15], [2, 4, 8, 11, 12, 14, 15, 17, 18, 22, 24], [1, 3, 4, 5, 8, 9, 12, 14, 25, 26, 29, 30, 33, 34, 35, 39], [2, 4, 6, 8, 10], [2, 3, 6, 12, 13, 14, 15], [1, 2, 4, 5], [0, 1, 5, 8, 9, 10, 14, 18], [1, 3, 7, 9], [0, 3, 8, 9], [1, 3, 4, 5, 13, 17, 19, 20, 21], [0, 1, 2, 3, 9, 12, 13, 17, 19], [1, 3, 7, 9], [3, 5, 6, 8, 13, 14, 16], [2, 3, 8, 10, 12, 13], [0, 2, 7, 8, 9, 10, 11, 13, 19, 21], [1, 4, 7, 9, 11, 13, 15, 16, 19, 22], [2, 4, 5, 9], [2, 3, 4, 7, 8, 14], [1, 2, 3, 6, 7, 8, 9, 16, 17, 21], [1, 3, 6, 7, 11, 13, 18, 19], [0, 1, 5, 10, 11, 12], [0, 1, 2, 3, 6, 7], [1, 3, 4, 8, 9, 12], [0, 3, 4, 7, 8], [0, 1, 2, 9, 11, 12, 14], [2, 3, 4, 8], [0, 1, 2, 3, 6, 13], [0, 1, 6, 7, 9], [3, 9, 10, 11, 12, 13, 16, 17], [3, 6, 7, 9, 11, 14], [0, 1, 3, 5, 11, 12, 15], [1, 2, 4, 8], [0, 4, 5, 6, 7, 9], [2, 4, 7, 8], [0, 3, 5, 8], [0, 4, 5, 8, 9, 11], [0, 1, 2, 7, 8, 12, 13], [2, 3, 5, 8], [0, 2, 3, 7, 10, 12, 16, 18, 21, 22], [0, 1, 2, 5, 7], [1, 2, 9, 12, 15, 16, 20, 23, 24, 25, 26], [0, 1, 4, 5], [0, 1, 8, 10, 11, 12], [0, 4, 5, 7, 8, 10], [1, 3, 5, 7, 9, 12, 13, 14, 15, 17, 21, 27], [0, 1, 4, 5, 11, 12], [0, 3, 4, 8, 9, 17, 18, 19], [1, 4, 5, 8, 10, 12], [0, 1, 2, 5, 7], [0, 1, 4, 6, 7, 12], [5, 7, 10, 11, 14, 16, 18, 19, 20, 21], [3, 4, 5, 7, 11], [0, 1, 4, 5, 6, 8, 15], [0, 1, 2, 3, 10, 11], [1, 3, 4, 5, 7], [0, 1, 5, 8], [5, 8, 10, 12, 13, 15, 16, 19, 20, 26, 30, 31, 34, 35, 36, 38], [2, 3, 5, 7, 8, 14, 15, 17, 18, 19, 24, 25, 32, 36, 37, 38, 40], [0, 1, 3, 11, 13, 15, 16], [5, 6, 7, 9], [2, 6, 7, 8, 9], [0, 4, 7, 8, 10], [1, 2, 3, 5], [0, 2, 4, 5, 7], [3, 6, 9, 10, 13, 14, 16], [0, 1, 3, 7, 8], [6, 7, 8, 10, 12, 13, 15, 18], [0, 1, 2, 10, 11, 12], [2, 3, 6, 8, 11], [1, 2, 5, 7, 8], [2, 3, 5, 8, 12, 13, 15, 16, 20], [3, 4, 5, 7, 9], [0, 1, 5, 8, 9, 10, 14, 16], [7, 10, 11, 16, 17, 20, 21, 23, 24, 27, 28, 29], [1, 2, 8, 11, 12, 14, 15], [0, 1, 7, 10, 11, 13, 14, 17], [1, 2, 4, 7, 9, 11], [0, 3, 4, 8, 9], [1, 5, 7, 8, 9, 11, 15], [1, 2, 6, 8, 9, 10, 15, 17, 21], [3, 4, 8, 10, 11, 14, 15, 16], [1, 3, 4, 10, 12, 14, 16, 17], [2, 4, 6, 9, 12, 14, 15, 19, 20], [0, 5, 6, 8, 10, 11, 14, 15], [0, 1, 2, 5, 7, 12], [0, 1, 4, 5], [0, 4, 8, 9, 10], [0, 3, 5, 8, 10, 13, 16], [1, 3, 7, 9], [0, 1, 5, 7, 8], [1, 2, 5, 7], [0, 2, 4, 7, 9, 11], [0, 1, 4, 8, 10], [1, 4, 6, 8, 9, 10, 13, 15, 20, 22, 25, 28, 31, 32], [3, 4, 5, 9, 10, 13, 17, 20, 22, 27, 28, 29, 30], [5, 8, 11, 13, 14, 15, 16], [2, 4, 9, 10, 12, 13], [2, 3, 5, 7, 8, 9, 15, 17], [1, 4, 6, 9, 10], [3, 4, 7, 9, 11, 12, 16, 17], [0, 1, 4, 5, 9, 11, 16, 17, 18, 23], [1, 2, 8, 9, 10], [0, 1, 6, 7], [0, 1, 2, 3, 5, 11, 19, 20, 21, 22], [0, 4, 5, 10, 14, 16, 17, 18], [3, 7, 10, 11, 12, 14, 17, 18, 20, 21], [0, 1, 2, 4, 6, 7, 9, 13, 16, 22, 27, 29, 32, 34], [1, 4, 6, 7, 9], [1, 2, 7, 9, 10, 13, 18, 20, 21], [0, 4, 5, 6, 11], [2, 3, 4, 9, 11, 12], [2, 3, 6, 7], [3, 4, 6, 7, 11], [0, 1, 2, 4, 7, 8, 14], [5, 7, 8, 10, 13, 14, 16], [2, 4, 6, 7, 8, 9], [0, 1, 4, 6], [2, 5, 6, 7, 11, 12, 16, 18, 19, 21, 22, 27], [0, 4, 5, 8, 10], [1, 4, 5, 10, 12, 13, 16], [0, 1, 3, 5, 12, 14, 15], [0, 1, 3, 4, 5], [0, 6, 7, 8, 9, 12, 15], [0, 4, 5], [0, 2, 7, 8, 9], [1, 2, 5, 7, 10, 14], [2, 5, 6, 8, 13, 15, 16], [1, 3, 6, 7, 12, 14], [0, 10, 11, 12, 13, 14, 16, 17], [2, 4, 6, 9, 10, 11], [0, 1, 7, 8, 9, 11, 13, 18, 19], [3, 5, 6, 7, 9], [1, 2, 4, 11, 12, 13, 19, 20, 21, 23], [0, 2, 4, 8, 9, 11], [0, 6, 7, 8, 10], [2, 4, 6, 7], [1, 5, 8, 10, 11, 13], [0, 1, 5], [0, 4, 5, 10, 12, 14, 15], [2, 5, 8, 9, 11, 12, 15, 18, 19, 21], [4, 6, 9, 10, 11, 13, 15, 17, 18], [0, 3, 4, 5], [5, 6, 7, 8, 10, 12], [0, 1, 3, 8, 10], [0, 2, 6, 8], [1, 5, 6, 7, 8], [1, 2, 4, 6, 8, 12], [0, 2, 4, 7, 8, 10], [0, 2, 6, 7, 9], [1, 6, 8, 9, 10], [0, 1, 7, 8, 10], [2, 3, 4, 6], [0, 1, 2, 3, 6], [0, 10, 11, 12, 13, 14, 16, 17], [3, 4, 8, 9, 10, 13], [0, 1, 6, 8, 9, 14, 17, 18, 20, 21], [4, 6, 7, 9, 13, 14, 15, 16], [1, 2, 3, 5, 6, 7, 10, 16, 17], [1, 2, 4, 5, 6], [0, 1, 5, 7, 9, 10, 14], [0, 3, 4, 7, 8, 9, 14], [2, 4, 5, 7, 9, 14], [0, 1, 2, 3, 9, 11, 14, 19], [3, 5, 6, 8, 9], [1, 2, 7, 8, 9, 10, 14], [0, 1, 4, 7], [2, 5, 6, 9], [0, 2, 4, 8, 13, 14, 16], [0, 3, 4, 5, 8, 9, 11], [1, 2, 5, 8], [1, 2, 5, 7, 9, 13, 14, 15, 20], [1, 2, 3, 4, 8, 11, 14, 16, 20, 22], [0, 1, 7, 8], [6, 8, 9, 10, 12, 13, 14, 17], [0, 4, 6, 7, 9], [2, 3, 4, 6, 11], [2, 5, 7, 8, 9, 14, 17, 18], [0, 3, 5, 6, 10], [2, 3, 6, 12, 14, 16, 17, 18], [1, 3, 4, 9], [0, 7, 8, 10, 11, 12], [0, 2, 6, 8, 9], [1, 3, 4, 8], [0, 2, 3, 8, 9, 11], [2, 3, 4, 6, 9, 10, 12, 13], [0, 3, 5, 8, 11], [1, 3, 6, 7, 9, 10, 16], [0, 1, 2, 6, 10, 12], [0, 1, 6, 7, 8, 12], [0, 2, 4, 5, 11, 12], [0, 2, 4, 6, 9], [4, 5, 9, 11, 12, 14, 18, 19, 20], [1, 3, 4, 5, 7, 8, 10, 13, 15, 16, 18, 21], [1, 3, 4, 5, 6, 11, 12, 14, 17, 23], [1, 8, 9, 10, 11], [1, 2, 6, 8, 9], [1, 3, 4, 5, 9, 13], [1, 3, 5, 8, 9, 10, 12, 14, 15, 22], [1, 3, 4, 5, 9], [2, 5, 7, 10, 12, 13], [3, 5, 6, 9, 10], [0, 1, 3, 7, 8, 10, 13, 15], [4, 5, 8, 10, 11, 12, 13, 14, 18], [0, 2, 5, 8, 10, 13], [0, 4, 6, 8, 9], [0, 2, 3, 6, 7], [1, 3, 5, 8, 9, 10, 12, 14, 15, 22], [1, 6, 8, 9, 12, 14], [0, 1, 3, 7], [1, 2, 3, 10, 11], [3, 5, 6, 7, 8], [1, 5, 6, 7, 9], [0, 1, 2, 4, 7, 8, 16, 19], [3, 5, 9, 10, 11], [1, 4, 6, 9, 12, 14], [3, 5, 6, 7, 8, 12, 15, 17], [0, 4, 5, 9, 10, 13], [0, 3, 4, 5], [1, 3, 4, 7, 8], [0, 4, 7, 8], [0, 2, 3, 7, 10, 11], [2, 4, 6, 7, 10], [0, 1, 4, 5, 7, 9, 14], [0, 1, 2, 3, 11], [0, 2, 4, 7, 8], [2, 3, 4, 5], [3, 4, 5, 7], [0, 3, 5, 7, 10, 12, 16, 17], [0, 4, 6, 8, 10], [0, 1, 2, 3, 9, 11, 14, 19], [1, 3, 5, 6, 7, 10, 11, 14, 15, 20, 21], [2, 3, 5, 6, 10], [1, 3, 6, 10, 11, 12], [1, 2, 3, 8], [3, 4, 10, 14, 19, 20, 22, 23, 24, 25, 26, 27, 29, 30, 33, 34, 35, 40], [0, 1, 4, 6, 7, 11], [0, 1, 2, 3], [4, 5, 7, 9, 10, 12], [2, 3, 5, 7, 10, 14, 15], [2, 6, 9, 10, 12, 13, 14, 17, 21, 23], [1, 2, 6, 7], [0, 4, 6, 7, 12, 13, 15, 16], [1, 3, 4, 9, 10, 12], [2, 4, 8, 9, 10, 11, 13, 15, 17, 18, 19, 24], [5, 7, 8, 11, 12, 14, 15], [0, 8, 9, 10, 11, 14], [1, 5, 6, 7, 8, 12, 13, 15], [0, 5, 6, 8], [0, 3, 4, 5, 7, 10, 13, 14], [0, 1, 2, 4], [0, 1, 6, 7, 9], [0, 1, 5, 6, 11], [4, 5, 6, 7, 10], [0, 5, 8, 9, 11, 12, 13, 16, 18, 19], [0, 2, 3, 4, 8], [3, 6, 8, 9, 10], [0, 1, 2, 4, 9, 10, 11], [0, 2, 4, 5, 7, 14], [0, 2, 4, 5], [1, 8, 9, 10, 12, 14], [3, 4, 5], [0, 6, 10, 12, 13, 14], [2, 3, 5, 6], [7, 10, 11, 12, 13, 14, 15, 17], [0, 6, 9, 11, 14, 15, 16, 20, 21], [1, 4, 5, 8, 10, 11, 16], [0, 1, 3, 5], [3, 4, 6, 7, 9, 11], [1, 3, 5, 7, 8, 10], [0, 2, 3, 5, 6, 7, 14], [0, 3, 6, 11, 12, 13, 14, 18, 19, 20, 25, 28, 29, 31, 34, 38], [1, 6, 7, 8, 9, 10, 13, 15], [0, 1, 7, 12, 13, 14, 15], [0, 3, 4, 6, 8, 9, 10, 12, 13, 22, 25, 27], [3, 4, 5, 9], [2, 3, 5, 7, 8, 12], [0, 2, 5, 9, 10], [0, 1, 3, 6, 10, 16, 19, 20, 21, 22], [0, 2, 4, 5, 7, 8, 10], [3, 4, 5, 6, 8, 9, 17, 18], [2, 6, 8, 9, 11], [5, 7, 9, 11, 12, 13], [6, 7, 9, 11, 13, 15, 17, 19], [0, 1, 3, 4, 8, 13], [1, 3, 4, 6, 10, 15, 16, 18], [2, 3, 4, 7], [0, 2, 7, 10, 12, 13, 15, 17], [0, 4, 5, 6, 10, 12, 13, 15]], [[1, 5, 7, 12, 13, 15, 16, 18], [0, 2, 5, 6, 10, 14, 16], [3, 4, 5, 6, 7, 11, 12, 18, 19], [2, 3, 4, 8, 11, 14, 16], [4, 5, 6, 7, 10], [0, 3, 4, 7, 12, 14, 16], [4, 6, 8, 11, 13, 14], [0, 2, 6, 7], [3, 5, 8, 9, 10, 11, 15], [0, 4, 5, 6, 7], [1, 2, 7, 8, 9, 11, 12, 13, 19, 21], [2, 3, 4, 7, 12, 13, 14, 16, 18, 20], [0, 3, 4, 9, 11, 12, 13, 15], [0, 3, 5, 6, 9, 10, 11, 13], [0, 3, 6, 7, 8, 9, 10, 15], [0, 2, 5, 6, 10, 11, 12, 15, 19, 21], [3, 5, 7, 9, 10, 12], [1, 6, 11, 16, 19, 20, 21, 22, 23, 24, 26, 27], [1, 8, 9, 10, 13, 16, 17, 18], [0, 1, 2, 5, 7, 13, 14], [1, 2, 3, 6, 8, 9, 10, 14, 19, 20], [0, 1, 5, 6, 8, 10], [2, 3, 5, 8, 11, 13, 16, 18, 19], [2, 5, 8, 10, 13, 14, 15, 19, 20], [2, 8, 9, 11, 13, 14], [0, 2, 3, 4, 6], [1, 4, 5, 6], [2, 3, 9, 13, 15, 16, 17, 18, 19], [5, 7, 8, 9, 11, 12], [0, 3, 4, 6, 8, 9, 13, 20, 21], [0, 1, 6, 7, 8, 13], [1, 2, 3, 5, 8, 9, 10, 16, 20, 22], [0, 2, 5, 6, 7, 9, 12], [2, 4, 8, 9, 11, 12], [5, 6, 7, 10, 11, 13, 14, 16, 23, 25, 26], [0, 1, 5, 7, 9, 11, 13, 15], [2, 4, 5, 7, 10, 11, 12], [3, 5, 6, 7, 9], [0, 6, 9, 11, 13, 14, 17, 18, 21, 22, 25], [2, 5, 6, 7], [3, 4, 6, 9], [2, 3, 9, 10, 11, 12, 13, 15, 17, 20, 21, 25, 26, 31], [2, 3, 4, 5, 6, 9, 16, 17], [3, 5, 9, 11, 13, 14, 15, 16], [0, 1, 6, 8, 12, 14, 16, 19, 20, 21, 24, 27], [0, 7, 9, 12, 15, 16, 17, 19, 23, 24, 26, 27, 29, 32, 33, 37], [1, 3, 4, 5, 6], [0, 1, 5, 6, 7, 10, 12, 18, 20], [1, 2, 4, 6], [3, 5, 12, 13, 14, 16, 18, 20, 22, 23], [0, 3, 5, 8, 10, 12], [1, 3, 6, 10, 11, 12, 15, 17, 20, 24], [0, 1, 2, 4, 6, 8, 9, 13, 21], [0, 2, 4, 5, 7, 8, 12, 15], [0, 1, 3, 6, 8], [0, 11, 12, 13, 14, 15, 16, 17], [0, 1, 2, 3, 4, 6, 8, 9, 11, 13, 18], [2, 4, 5, 6, 7, 13, 15, 18, 22, 24], [0, 2, 5, 6, 9, 14, 16, 19], [0, 1, 5, 6, 8, 10, 11, 12, 14, 18], [0, 5, 7, 9, 10], [4, 7, 9, 11, 13, 15, 16, 18, 19, 20], [4, 6, 8, 9, 12, 15, 18, 19, 20], [1, 4, 5, 7], [3, 4, 5, 6, 11, 12, 13], [2, 4, 5, 7, 8], [3, 4, 6, 14, 15, 18, 19, 22, 23, 25, 26], [3, 4, 5, 7, 9, 10], [1, 3, 4, 6, 7, 8, 15, 17, 18, 19, 24], [1, 5, 6, 8, 11, 13, 18, 20, 21, 22, 25], [1, 2, 3, 5, 8, 12, 13, 14, 15, 19, 22, 25], [0, 2, 4, 5], [0, 3, 4, 5, 9, 10, 12, 14], [4, 5, 6, 7, 8, 10, 13, 15], [1, 2, 3, 5, 6, 11, 12, 14, 15, 20, 24], [1, 6, 8, 9, 10, 11, 16], [0, 1, 4, 5, 11, 12], [0, 1, 2, 4, 6], [0, 1, 4, 7, 11, 12, 14, 21, 23, 24], [0, 3, 7, 10, 11, 13, 18, 19], [0, 2, 3, 7], [7, 10, 12, 15, 18, 27, 28, 32, 33, 34, 40, 41, 44, 45, 49, 51, 55, 59, 60, 66, 68, 70, 72, 75, 78, 82, 84, 86, 92, 97, 98, 99, 103, 104, 105, 106, 109, 112, 114, 116, 118, 119, 121, 124, 128, 129, 130, 131, 132, 135, 136, 138, 139, 146, 147, 149, 150, 151, 153, 154, 155, 157, 158, 160, 164, 165, 167, 168, 170, 174, 183, 184, 188, 189, 193, 195, 199, 204, 205, 206, 207, 209, 211, 212, 213, 215, 217, 220, 222, 223, 226, 228, 230, 234, 235, 236, 239, 240, 242], [0, 6, 9, 10, 13, 14, 15, 16], [1, 2, 5, 8, 9, 13, 14, 15, 16, 18], [0, 1, 2, 4, 7, 9, 11, 18, 19, 24], [1, 2, 4, 5, 9, 10, 14, 16], [0, 6, 7, 11, 13, 15, 16, 21, 22, 23], [1, 4, 5, 7, 8, 12], [0, 1, 2, 6, 7, 11, 16, 17], [1, 3, 5, 6, 7, 12, 14, 15], [0, 2, 5, 8, 9, 10, 15, 18, 20], [3, 6, 7, 8, 13, 14, 16, 17, 18, 23], [1, 5, 6, 7, 10, 12, 15, 16], [1, 6, 10, 14, 15, 17, 18, 20, 23, 26, 27, 28], [0, 1, 2, 5, 6, 8, 11, 15, 17, 19], [5, 6, 7, 10, 11, 13, 14, 16, 23, 25, 26], [0, 2, 4, 6, 7, 8], [1, 7, 9, 10, 12, 14, 16, 17, 18, 19, 25, 26], [1, 2, 4, 5, 6, 12], [0, 6, 8, 9, 12, 14], [0, 3, 10, 12, 17, 21, 22, 23, 25, 27, 29, 30], [2, 6, 7, 9, 11, 13, 15], [3, 8, 9, 12, 13, 14, 18, 19], [2, 3, 5, 7, 11, 14, 15, 18], [2, 3, 6, 7], [0, 3, 4, 12, 13, 17, 18, 19, 21, 22, 26, 27], [1, 3, 9, 13, 14, 16, 17, 18, 20], [1, 4, 6, 9, 10, 12], [0, 1, 3, 6, 9, 11, 13, 19, 20, 22, 23], [0, 1, 3, 6, 9, 11, 12, 19, 21, 24, 25], [3, 4, 7, 8, 11, 13], [1, 2, 4, 5], [6, 9, 10, 12, 14, 17, 18, 20, 21], [1, 3, 9, 10, 11, 12], [5, 12, 13, 15, 17, 19, 20, 21, 23, 24, 26], [1, 4, 5, 7, 10, 12], [0, 3, 6, 7, 8, 9, 17, 18, 21, 25, 26], [1, 2, 5, 7, 8, 10], [0, 1, 6, 7], [3, 4, 5, 8, 9, 11, 14], [0, 1, 4, 7, 9, 10], [1, 2, 7, 11, 13, 14, 15, 16], [1, 3, 5, 6, 8, 11, 14, 15, 18], [1, 2, 6, 7, 8, 10, 13], [1, 2, 3, 5, 8, 12, 13, 14, 15, 19, 22, 25], [0, 2, 3, 8, 9, 12], [0, 2, 6, 7], [1, 2, 4, 5, 7, 8, 11, 12, 19, 20], [3, 6, 9, 10, 11, 14, 15], [1, 3, 4, 7, 9, 11, 15], [0, 3, 6, 11, 12, 13, 14, 15, 19], [3, 6, 7, 9, 12, 14, 15, 19, 20, 22], [1, 4, 6, 7, 8, 11, 12, 15], [1, 2, 5, 6, 10, 12, 13, 14, 16, 23, 25, 27], [0, 2, 5, 7, 9], [0, 4, 8, 13, 14, 15, 18, 19, 21, 22], [0, 4, 7, 10, 11, 12, 16, 17, 19, 22, 23], [0, 4, 5, 6, 8, 12, 15, 17, 18, 21, 25], [1, 4, 5, 6, 9, 12, 17, 18], [0, 1, 4, 6, 11, 14, 15, 18, 21, 22, 25, 29, 31, 32, 36, 37, 38, 39, 44, 47, 49, 51], [3, 4, 6, 9, 11, 14, 15], [2, 3, 6, 8, 9], [4, 6, 7, 8, 9, 11, 14, 18, 22, 23, 28, 30, 31, 32], [3, 7, 8, 10, 11, 13, 15, 16, 18, 22], [0, 1, 3, 9, 10], [1, 2, 3, 6, 7, 8, 10, 11, 15, 17, 24, 25, 31, 33], [1, 2, 3, 6, 7, 8, 9, 10, 18, 24], [0, 2, 6, 9, 12, 14, 15], [0, 8, 9, 10, 11, 12, 19, 20, 21, 23], [3, 7, 8, 9, 11, 12, 14, 15], [2, 5, 9, 10, 11, 14, 17, 20, 24, 26, 27, 29, 30, 35, 36], [0, 3, 6, 12, 13, 15, 17, 19], [1, 4, 6, 8], [0, 1, 8, 10, 12, 13], [1, 2, 4, 6, 9, 13, 15, 20, 21], [2, 3, 4, 8, 10, 16, 18, 20, 23, 24, 25], [1, 5, 7, 8, 9, 12, 15, 17], [8, 10, 11, 12, 14, 15, 17, 18, 20, 23], [0, 1, 3, 5, 9, 10, 12, 16], [0, 3, 8, 10, 12, 14, 16, 17], [0, 7, 8, 9, 12, 14, 16], [0, 1, 4, 6, 8, 9, 12, 13, 15, 19], [1, 2, 4, 7, 10, 15, 18, 19, 21, 23, 24], [1, 3, 5, 9, 11, 15, 16, 17, 18, 21, 25, 28, 30, 33, 35, 37, 40, 49, 50, 52, 53, 56, 57, 60, 64, 65, 66, 68, 73, 74, 76, 77], [0, 6, 10, 12, 16, 18, 19, 20, 21, 23], [0, 1, 4, 6, 10], [0, 3, 8, 11, 13, 14, 16, 17, 19, 22, 24], [0, 2, 3, 9, 12, 13, 14], [2, 3, 5, 9, 10, 12, 13], [1, 2, 4], [2, 3, 7, 8, 11, 14, 15, 19, 20, 21], [7, 9, 10, 12, 14, 15, 18, 19, 21], [0, 2, 4, 5, 9], [1, 2, 5, 7], [0, 2, 5, 6, 7, 8, 9, 11, 12, 20], [0, 3, 5, 8, 9], [0, 1, 4, 5, 11, 12], [0, 2, 5, 6, 7, 11], [2, 3, 6, 8, 11, 14, 15, 16, 17, 19, 26, 28], [0, 3, 4, 5, 8], [0, 3, 4, 7, 11], [1, 6, 7, 8, 11, 12, 13, 14, 15, 16, 17, 22, 24, 27, 30, 35], [0, 1, 2, 6, 9, 10, 13, 15, 18, 23], [1, 5, 6, 7, 10, 15, 16, 17], [1, 3, 4, 6, 7, 8, 10, 11, 12, 19], [1, 3, 4, 5, 7, 8], [0, 1, 2, 3, 7, 12, 13], [1, 4, 6, 9, 10], [0, 3, 5, 6, 10, 11, 13, 17], [1, 2, 12, 13, 15, 16, 18, 19], [0, 3, 5, 6], [0, 3, 5, 9, 13, 14, 16, 17, 18, 20, 22, 24, 29, 31, 32, 36, 37, 40, 45, 46], [1, 5, 6, 9, 11, 14, 15, 17, 19], [2, 8, 10, 12, 13, 14, 17, 18], [0, 1, 5, 6, 10], [1, 2, 3, 4, 7, 11, 12, 20, 21], [3, 5, 6, 7, 8, 10], [2, 3, 5, 6, 7, 8, 9, 14, 15, 21], [0, 1, 3, 5, 6, 8, 12, 17, 19, 22, 23], [0, 1, 9, 10, 12, 13, 17, 18, 19, 21], [2, 8, 9, 16, 17, 18, 19, 20, 21, 22, 23], [3, 4, 7, 9, 11, 12, 14, 15], [2, 3, 4, 8, 9, 12], [0, 3, 5, 7, 8, 9, 11, 13, 15, 20], [0, 3, 4, 9, 10, 11, 12, 13, 14, 15, 16, 21, 27, 28], [0, 2, 6, 9, 15, 16, 19, 20, 22, 23], [0, 1, 5, 6, 10], [1, 3, 4, 7, 12, 13, 16, 18, 21, 22], [2, 8, 9, 13, 15, 16, 18, 19, 22, 23, 24], [1, 2, 4, 5, 10, 12, 13, 14], [1, 2, 6, 8], [1, 2, 3, 7, 8, 9, 15], [2, 3, 7, 12, 14, 15, 18, 19, 20], [0, 1, 7, 8, 11, 12], [1, 2, 5, 11, 12, 13, 14, 18, 19, 20, 25], [4, 6, 7, 8, 11, 16, 17, 19, 21], [0, 3, 5, 6, 8, 12, 13], [2, 3, 8, 9, 11, 12], [0, 6, 9, 11, 13, 14, 17, 18, 21, 22, 25], [1, 2, 3, 6, 9, 10, 16, 17, 19], [0, 2, 3, 7, 9, 12], [1, 3, 5, 6, 8], [1, 2, 6, 7, 9], [1, 3, 8, 9, 11, 15, 16, 18, 20, 23], [1, 2, 5], [3, 4, 5, 8, 11, 12, 14], [0, 1, 3, 6, 12, 14, 17, 18, 19, 21], [0, 3, 6, 7, 8, 13, 15, 16], [0, 2, 6, 8, 9, 14, 16, 18, 19], [0, 1], [0, 6, 7, 11, 13, 15, 16, 21, 22, 23], [0, 3, 5, 6, 10, 11, 13], [3, 5, 6, 9], [3, 7, 8, 9, 11, 12, 14, 15], [1, 4, 6, 9, 11, 12, 16, 18, 19, 20], [2, 3, 4, 8, 10, 16, 17, 21, 22, 23, 24], [2, 3, 4, 9, 11, 12, 13, 17], [1, 2, 4, 9, 10, 13, 16, 17], [4, 6, 8, 9, 11, 13, 14, 15], [2, 3, 5, 8, 9, 16, 17, 18], [0, 1, 2, 4, 5, 9, 14], [1, 2, 3, 4, 8, 10, 11, 13, 19], [0, 1, 5, 8, 10, 13, 14, 16, 19], [0, 6, 7, 8, 11, 13, 16, 17, 20, 23], [1, 3, 4, 5, 6, 9, 14, 18, 19], [0, 2, 5, 8, 9, 12], [1, 2, 4, 6, 7, 8, 9, 10, 19, 21, 22, 28, 30], [6, 7, 9, 12, 14, 15, 16, 19, 20], [0, 1, 3, 6, 8, 14, 15, 20, 21], [2, 3, 4, 5, 7, 9, 10, 14, 18], [1, 2, 5, 6, 10], [0, 3, 5, 7, 17, 18, 19, 20, 21, 25, 27, 29], [0, 1, 3, 4, 5, 15, 16, 17], [5, 6, 7, 8, 11], [1, 2, 3, 10, 11, 12], [0, 2, 3, 8, 9, 10, 12, 17, 21, 24, 25], [3, 4, 5, 7, 9, 14], [0, 1, 2, 8, 13, 14, 15], [4, 6, 9, 10, 12, 13], [4, 6, 8, 9, 10, 12, 13, 16, 18, 21, 24], [0, 1, 2, 3, 4, 5, 15, 16, 19, 22, 26], [2, 3, 4, 5, 7, 15, 16, 18, 23, 25, 26], [0, 3, 8, 9, 11, 12], [1, 2, 3, 7, 10, 13], [0, 1, 4, 6, 7, 18, 19, 20, 21, 22], [0, 1, 3, 4, 5, 6, 7, 14, 16, 17, 19, 20, 26, 27, 28, 29, 30, 32, 34, 36, 38, 39, 48, 50, 52, 53, 54, 55, 58, 59, 61, 64, 65, 66, 67, 69, 71, 76, 77, 79, 83, 85, 87, 101, 102, 107, 113, 117, 120, 121, 123, 126, 128, 133, 140, 141, 142, 147, 148, 149], [3, 5, 6, 8, 11, 15, 17, 18, 20], [1, 4, 6, 7, 10, 11, 14, 15], [0, 3, 4, 6, 8, 12], [1, 4, 5, 7, 8, 11, 12, 14, 15, 18], [0, 2, 4, 10, 13, 16, 17, 18, 19, 21], [0, 1, 5, 6, 7, 10, 16, 19, 20, 23], [0, 3, 4, 8, 10, 11, 12, 15, 16, 23], [0, 2, 5, 10, 14, 15, 16, 18, 19], [1, 6, 8, 11, 12, 14, 15, 18], [4, 6, 8, 11, 13, 14, 19, 20, 21, 23], [0, 1, 2, 4, 6, 10, 15, 16], [1, 3, 6, 9, 11, 12, 17, 18, 20, 22, 25], [4, 7, 9, 13, 14, 15, 16, 17, 22, 23], [0, 3, 5, 6, 10, 14, 17, 19, 20, 23, 24], [1, 3, 4, 7, 11, 15, 16], [3, 6, 8, 10, 11, 14, 16, 17], [2, 3, 6, 7, 8, 12, 16, 17, 20], [3, 4, 5, 7, 8, 10, 13], [2, 6, 9, 10, 11, 14], [0, 3, 5, 9, 11, 13, 15, 16, 17, 20], [0, 1, 3, 7, 14, 15, 18, 19, 20, 21], [2, 6, 7, 9, 10, 15, 17, 18, 21, 23, 26, 28, 29], [10, 11, 12, 13, 14, 15, 17, 19], [0, 3, 8, 9, 11, 12], [0, 2, 3, 5, 7, 8, 11, 15, 17, 18, 21, 27, 28, 31, 34], [0, 1, 2, 4, 5, 14, 15, 16, 21], [2, 3, 5, 7, 10, 14, 16, 18], [3, 6, 9, 10, 11, 14, 15], [4, 6, 7, 8, 10, 12, 13, 15, 16, 18], [3, 4, 6, 7, 8, 10, 11, 12, 20, 21, 24, 26], [0, 4, 8, 9, 12, 14], [3, 4, 5, 7], [4, 5, 6, 9, 10], [3, 5, 9, 10, 11, 12], [1, 2, 6, 7, 8, 11, 12], [3, 5, 6, 8, 11], [0, 5, 8, 9, 13, 14, 15, 17], [2, 3, 4, 5, 8, 10, 11], [1, 3, 6, 10, 11, 13, 15, 19], [1, 3, 5, 10, 12, 13, 15, 17, 21], [4, 5, 6, 7, 8, 10, 13, 15], [5, 9, 13, 14, 17, 20, 21, 22, 23, 24], [3, 5, 6, 8, 9, 12], [1, 3, 7, 10, 14, 20, 23, 24, 26, 27, 30, 31, 34, 35, 37, 38, 39], [0, 3, 5, 7], [0, 4, 6, 10, 13, 16, 17, 20, 21, 24, 25], [0, 5, 7, 8, 11, 12, 16, 19, 21], [0, 1, 5, 9, 11, 14], [1, 10, 11, 12, 13, 15, 16, 19, 20], [6, 8, 9, 11, 12, 13, 14, 20, 22, 23, 25, 28], [0, 2, 3, 9, 11, 13, 15, 17, 20, 21, 22], [1, 2, 5, 7, 8, 11], [0, 4, 6, 8], [0, 4, 6, 8, 9, 10, 14, 18, 19], [4, 8, 9, 10, 11, 12, 17, 19, 20, 23, 24], [2, 3, 8, 9, 11], [1, 4, 5, 6, 8, 12], [2, 4, 7, 8, 10, 16, 19, 21, 22, 24, 26, 27, 28, 29, 33], [0, 4, 5, 7, 8, 13, 14, 15, 17], [1, 2, 5, 10, 11, 14], [1, 2, 3, 7, 10], [0, 3, 6, 7, 8, 12], [0, 2, 4, 5, 9], [0, 1, 6, 10, 11, 13, 15, 18, 21, 23], [0, 4, 6, 8, 10, 11, 12, 16], [0, 3, 4, 7, 8, 10, 18, 19, 20], [1, 3, 6, 9, 10, 11, 16, 18], [5, 7, 8, 9, 13, 15, 16, 18, 19, 21, 24], [1, 10, 11, 12, 13, 15, 17, 19, 20, 22], [2, 3, 5, 7, 9, 10], [0, 1, 5, 6, 7, 8, 9, 13], [0, 4, 5, 6, 8, 12, 13, 14], [0, 2, 4, 8, 9, 13, 15, 17, 18, 19], [0, 4, 5, 6, 9, 12], [1, 3, 4, 5, 6, 10, 14, 18, 19, 20], [2, 3, 5, 6, 7, 10, 11, 12], [2, 3, 7, 9, 10, 18, 19, 20, 21, 22, 25, 26], [3, 5, 7, 8, 9, 11, 16, 17], [0, 2, 5, 10, 12, 16, 20, 22, 25, 26, 28, 29, 30], [1, 2, 5, 7], [0, 3, 5, 8, 10, 12], [0, 4, 5, 6], [1, 4, 11, 12, 14, 15, 16, 18, 21, 23, 24], [1, 3, 7, 11, 14, 17, 20, 22, 23, 24, 27, 28], [0, 2, 3, 6, 8, 9, 10, 12, 19, 21, 22, 23, 31, 32], [0, 2, 3, 12, 14, 15, 18, 19], [6, 7, 8, 11, 12, 14, 15, 17], [0, 6, 7, 9, 12, 13, 16, 18], [5, 6, 11, 12, 15, 18, 20, 21, 25, 26, 27, 28], [4, 6, 7, 8, 9, 11, 15, 18, 20], [3, 5, 6, 7, 8, 10], [1, 7, 8, 9], [0, 1, 3, 5, 6, 7, 9, 14, 15, 16], [0, 3, 7, 8, 9, 12, 13, 14], [0, 5, 8, 9, 10], [1, 4, 5, 6, 8, 11, 16, 17], [1, 5, 6, 8, 11, 13, 18, 20, 21, 22, 25], [2, 3, 4, 7, 9, 10, 12, 14, 16, 21, 25], [0, 1, 3, 9, 12, 13, 15, 19, 20], [1, 2, 3, 6, 9, 10, 16, 17, 19], [0, 3, 4, 8, 14, 15, 16, 17, 19], [6, 9, 10, 11, 12, 13, 15], [0, 4, 6, 9, 11, 15, 16, 18], [0, 2, 4, 9, 11, 13, 14, 18, 20], [0, 2, 4, 6, 7, 8], [1, 3, 4, 5, 9, 13, 17, 18, 19, 22], [1, 2, 4, 6], [1, 3, 5, 7, 10, 13, 15, 16, 18, 25, 26, 27, 30, 32], [0, 2, 4, 6, 8, 9], [1, 2, 4, 5, 11], [0, 2, 4, 6, 8, 10, 11, 17], [2, 4, 6, 8, 10, 11, 13, 16, 17, 19, 20], [0, 3, 5, 6, 11, 13, 16, 18, 22, 25, 28, 29, 30], [2, 7, 8, 9, 10, 15, 16, 17, 18, 19], [1, 2, 3, 5, 7, 10], [3, 4, 5, 7], [0, 1, 2, 4, 8, 9, 11, 13, 20, 23], [0, 1, 5, 8, 9, 11], [2, 3, 5, 9, 10], [0, 1, 2, 3, 8, 9, 12, 14, 16], [0, 1, 3, 6, 8], [2, 3, 6, 9, 13, 16, 18, 19, 21], [1, 3, 5, 6, 8, 11, 14, 15, 18], [0, 1, 5, 6, 12, 13, 16, 18, 21], [0, 1, 2, 6, 12, 17, 19, 20, 21], [0, 4, 5, 7, 9, 15, 17, 19, 22, 23], [0, 4, 8, 9, 11, 12], [0, 3, 5, 7, 8, 9], [1, 4, 8, 12, 14, 15, 17, 19], [2, 3, 5, 7], [0, 1, 2, 10, 11, 12, 16, 17, 19, 20], [2, 7, 8, 10, 11, 15, 16, 20, 21, 23], [1, 3, 5, 8, 11], [0, 3, 5, 6, 10, 14, 17, 19, 20, 23, 24], [3, 6, 9, 10, 11, 14, 15], [3, 4, 5, 6, 13, 16, 17, 18, 20], [0, 1, 5, 8, 10, 11, 14, 17, 19, 20, 25], [1, 2, 7, 8, 12, 13, 15, 16, 18, 20, 23, 24, 25, 28, 32, 37, 39, 40, 42, 43, 49, 50, 52, 54, 56, 58, 63, 65, 66, 69, 70, 78, 79, 81, 82, 83, 84, 87, 88, 91, 93, 94, 95, 96, 97, 98, 99, 104, 112, 120, 123, 124, 125, 132], [5, 6, 8, 10, 12, 13, 15, 16], [3, 4, 10, 11, 14, 15, 16, 19, 20], [1, 5, 6, 7, 10, 15, 16, 17], [2, 3, 4, 5, 7, 11, 15, 18], [1, 4, 8, 12, 14, 15, 17, 19], [0, 1, 2, 3, 9, 11, 12, 15, 18, 19, 21, 24], [1, 2, 3, 8, 11, 12], [0, 1, 3, 6, 10, 14, 17, 18, 19, 20], [6, 7, 10, 12, 13, 14], [0, 4, 7, 9, 11], [0, 2, 4, 6, 10, 13, 14, 15], [0, 1, 3, 4, 7], [3, 6, 7, 8]]]\n",
      "[(1, 13), (1, 116), (1, 372), (2, 169), (2, 483)]\n"
     ]
    }
   ],
   "source": [
    "#categorized_summary_sentence_indices, faulty_documents = get_summary_sentence_indices(categorized_articles, categorized_summaries)\n",
    "categorized_summary_sentence_indices, faulty_summary_ids = get_summary_sentence_indices(categorized_articles, categorized_summaries)\n",
    "print(categorized_summary_sentence_indices)\n",
    "print(faulty_summary_ids)\n",
    "#print(len(faulty_documents)/len(flatten(categorized_summary_sentence_indices)))"
   ]
  },
  {
   "cell_type": "code",
   "execution_count": 33,
   "metadata": {},
   "outputs": [],
   "source": [
    "def remove_entries(categorized_list: list, faulty_summary_ids: list):\n",
    "    return [content for i, cat_contents in enumerate(categorized_list) for j, content in enumerate(cat_contents) if (i,j) not in faulty_summary_ids]"
   ]
  },
  {
   "cell_type": "code",
   "execution_count": 34,
   "metadata": {},
   "outputs": [
    {
     "name": "stdout",
     "output_type": "stream",
     "text": [
      "Total number of articles:  2225\n",
      "Number of valid articles:  2220\n",
      "Total number of summaries  2225\n",
      "Number of valid summaries:  2220\n"
     ]
    }
   ],
   "source": [
    "print('Total number of articles: ', len(flatten(categorized_articles)))\n",
    "articles = remove_entries(categorized_articles, faulty_summary_ids)\n",
    "article_file_paths = remove_entries(categorized_article_file_paths, faulty_summary_ids)\n",
    "print('Number of valid articles: ', len(articles))\n",
    "print('Total number of summaries ',len(flatten(categorized_summaries)))\n",
    "summaries = remove_entries(categorized_summaries, faulty_summary_ids)\n",
    "summary_file_paths = remove_entries(summary_file_paths, faulty_summary_ids)\n",
    "print('Number of valid summaries: ', len(summaries))"
   ]
  },
  {
   "cell_type": "code",
   "execution_count": 35,
   "metadata": {},
   "outputs": [],
   "source": [
    "#summary_sentence_indices = flatten(categorized_summary_sentence_indices)\n",
    "with open(\"./testing/reference/categorized_summary_sentence_indices.json\", \"w\") as f: \n",
    "    json.dump(categorized_summary_sentence_indices, f, indent=4)"
   ]
  },
  {
   "cell_type": "markdown",
   "metadata": {},
   "source": [
    "A) **Indexing** (preprocessing and indexing options)"
   ]
  },
  {
   "cell_type": "code",
   "execution_count": 36,
   "metadata": {},
   "outputs": [],
   "source": [
    "#code, statistics and/or charts here"
   ]
  },
  {
   "cell_type": "markdown",
   "metadata": {},
   "source": [
    "imports"
   ]
  },
  {
   "cell_type": "code",
   "execution_count": 37,
   "metadata": {},
   "outputs": [
    {
     "name": "stderr",
     "output_type": "stream",
     "text": [
      "/home/mono/.local/lib/python3.10/site-packages/tqdm/auto.py:22: TqdmWarning: IProgress not found. Please update jupyter and ipywidgets. See https://ipywidgets.readthedocs.io/en/stable/user_install.html\n",
      "  from .autonotebook import tqdm as notebook_tqdm\n",
      "[nltk_data] Downloading package brown to /home/mono/nltk_data...\n",
      "[nltk_data]   Package brown is already up-to-date!\n"
     ]
    },
    {
     "data": {
      "text/plain": [
       "True"
      ]
     },
     "execution_count": 37,
     "metadata": {},
     "output_type": "execute_result"
    }
   ],
   "source": [
    "import time \n",
    "from typing import Union\n",
    "import nltk\n",
    "import numpy as np\n",
    "import torch\n",
    "import sklearn\n",
    "import json\n",
    "from nltk.tokenize import RegexpTokenizer\n",
    "from nltk.corpus import stopwords\n",
    "from nltk.stem import WordNetLemmatizer \n",
    "from collections import Counter, defaultdict\n",
    "from tabulate import tabulate\n",
    "from transformers import BertTokenizer, BertModel\n",
    "from textblob import TextBlob\n",
    "\n",
    "nltk.download('brown')"
   ]
  },
  {
   "cell_type": "code",
   "execution_count": 38,
   "metadata": {},
   "outputs": [],
   "source": [
    "# flatten list to get uncategorized collection\n",
    "N = len(articles)\n",
    "N_summaries = len(summaries)\n",
    "#article_file_paths = flatten(article_file_paths)\n",
    "dict_path_to_articleID = {path:i for i, path in enumerate(article_file_paths)}\n",
    "\n",
    "def map_path_to_articleID(path):\n",
    "    path = os.path.normpath(path)\n",
    "    return dict_path_to_articleID.get(path)"
   ]
  },
  {
   "cell_type": "code",
   "execution_count": 39,
   "metadata": {},
   "outputs": [
    {
     "data": {
      "text/plain": [
       "2220"
      ]
     },
     "execution_count": 39,
     "metadata": {},
     "output_type": "execute_result"
    }
   ],
   "source": [
    "N"
   ]
  },
  {
   "cell_type": "code",
   "execution_count": 40,
   "metadata": {},
   "outputs": [
    {
     "data": {
      "text/plain": [
       "2220"
      ]
     },
     "execution_count": 40,
     "metadata": {},
     "output_type": "execute_result"
    }
   ],
   "source": [
    "N_summaries"
   ]
  },
  {
   "cell_type": "markdown",
   "metadata": {},
   "source": [
    "# Inverted Index Structure \n",
    " \n",
    "Each term points to a dictionary of document identifier and the term frequency in the document.\n",
    "\n",
    "t1 -> [DF, {doc7: [TF_doc, ((s1, TF_sent), (s4, TF_sent), ...)], doc8: [TF_doc, ((s3, TF_sent), (s6, TF_sent), ...)], ...}]\\\n",
    "t2 -> [DF, {doc300: [TF_doc, ((s1, TF_sent), (s5, TF_sent), ...)], doc401: [TF_doc, ((s5, TF_sent), (s4, TF_sent), ...)], ...}]\\\n",
    "..."
   ]
  },
  {
   "cell_type": "code",
   "execution_count": 41,
   "metadata": {},
   "outputs": [],
   "source": [
    "max_width = 20"
   ]
  },
  {
   "cell_type": "code",
   "execution_count": 42,
   "metadata": {},
   "outputs": [],
   "source": [
    "class TermFrequencies: \n",
    "    def __init__(self) -> None:\n",
    "        self.tf_d_t = 0\n",
    "        self.sent_tf = list()\n",
    "\n",
    "    def add_sentence(self, sent_number, term_frequency):\n",
    "        self.sent_tf.append((sent_number, term_frequency))\n",
    "    \n",
    "    def get_term_frequency(self):\n",
    "        return self.tf_d_t\n",
    "    \n",
    "    def __repr__(self):\n",
    "        padding = 5 - len(str(self.tf_d_t))\n",
    "        return f'TF_d_t: {self.tf_d_t}{\" \" * padding}TF_per_sentence: {self.sent_tf}'"
   ]
  },
  {
   "cell_type": "code",
   "execution_count": 43,
   "metadata": {},
   "outputs": [],
   "source": [
    "class InvertedIndexEntry:\n",
    "    def __init__(self) -> None:\n",
    "        self.df_term = 0\n",
    "        self.term_dict = defaultdict(TermFrequencies)\n",
    "    \n",
    "    def get_document(self, document):\n",
    "        return self.term_dict.get(document, None)\n",
    "\n",
    "    def get_or_default_document(self, document):\n",
    "        return self.term_dict[document]\n",
    "    \n",
    "    def get_term_dict(self):\n",
    "        return self.term_dict\n",
    "\n",
    "    def update_document(self, document, new_value):\n",
    "        self.term_dict[document] = new_value\n",
    "    \n",
    "    def __repr__(self):\n",
    "        out = f'Document Frequency: {self.df_term}\\n {\" \" * (max_width+2)} Term frequencies:\\n'\n",
    "        for doc_number, tfs in self.term_dict.items():\n",
    "            padding = 5 - len(str(doc_number))\n",
    "            out += f'{\" \" * (max_width + 3)} Doc {doc_number}{\" \" * padding}→ {tfs}\\n'\n",
    "        return out\n",
    "    \n",
    "    def calculate_df(self):\n",
    "        self.df_term = len(self.term_dict)"
   ]
  },
  {
   "cell_type": "code",
   "execution_count": 44,
   "metadata": {},
   "outputs": [],
   "source": [
    "class InvertedIndex:\n",
    "    def __init__(self, collection_size, doc_lengths) -> None:\n",
    "        self.inverted_index = defaultdict(InvertedIndexEntry)\n",
    "        self.num_terms_in_sentences = list()\n",
    "        self.sentence_num_chars = list()\n",
    "        self.indexing_time = 0\n",
    "        self.N = collection_size\n",
    "        self.doc_lengths = np.array(doc_lengths)\n",
    "    \n",
    "    def __repr__(self):\n",
    "        out = f'Time to index: {self.indexing_time}\\nInverted Index:\\n'\n",
    "        for term, entry in self.inverted_index.items():\n",
    "            padding = max_width - len(term)\n",
    "            out += f'{term} {\" \" * padding} → {entry}\\n'\n",
    "        return out\n",
    "    \n",
    "    def get_or_default(self, term, document):\n",
    "        return self.inverted_index[term].get_or_default_document(document)\n",
    "    \n",
    "    def update(self, term, document, new_value):\n",
    "        self.inverted_index[term].update_document(document, new_value)\n",
    "    \n",
    "    def set_indexing_time(self, indexing_time):\n",
    "        self.indexing_time = indexing_time\n",
    "    \n",
    "    def calculate_dfs(self):\n",
    "        for entry in self.inverted_index.values():\n",
    "            entry.calculate_df()  \n",
    "    \n",
    "    def get_num_term_in_sentences(self, document):\n",
    "        return self.num_terms_in_sentences[document]\n",
    "\n",
    "    def get_document_info(self, document):          \n",
    "        info = {'Vocabulary': [], 'DF_t': [], 'TF_d_t': [], 'TF/sentence': []}\n",
    "        for term, entry in self.inverted_index.items():\n",
    "            doc_tfs = entry.get_document(document)\n",
    "            if doc_tfs == None:\n",
    "                continue\n",
    "            info['Vocabulary'].append(term)\n",
    "            info['DF_t'].append(entry.df_term)\n",
    "            info['TF_d_t'].append(doc_tfs.tf_d_t)\n",
    "            info['TF/sentence'].append(doc_tfs.sent_tf)\n",
    "        return info\n",
    "    \n",
    "    def doc_to_string(self, document: int):\n",
    "        out = f'Document id={document} → vocabulary and term frequencies:\\n'\n",
    "        info = self.get_document_info(document)\n",
    "        table = zip(*info.values())\n",
    "        headers = info.keys()\n",
    "        return out + tabulate(table, headers, tablefmt=\"pretty\")\n",
    "\n",
    "    def get_term_info(self, term: str) -> dict: \n",
    "        entry = self.inverted_index[term]\n",
    "        term_dict = entry.get_term_dict()\n",
    "        term_info = dict()\n",
    "        for(doc_id, tf) in term_dict.items(): \n",
    "            term_info[doc_id] = tf.get_term_frequency()\n",
    "        return term_info\n",
    "\n"
   ]
  },
  {
   "cell_type": "code",
   "execution_count": 45,
   "metadata": {},
   "outputs": [],
   "source": [
    "def sentence_tokenize(sentence):\n",
    "    sents = list()\n",
    "    for paragraph in sentence.split('\\n '):\n",
    "        # split into sentences  \n",
    "        sents_p = nltk.sent_tokenize(paragraph)\n",
    "        for sent in sents_p:\n",
    "            sents.append(sent)\n",
    "    return sents"
   ]
  },
  {
   "cell_type": "code",
   "execution_count": 46,
   "metadata": {},
   "outputs": [],
   "source": [
    "'''\n",
    "@ input a sentence to process, a tokenizer to split it into terms, a lemmatizer to normalize the terms,\n",
    "a set consisting of stop_words to ignore\n",
    "\n",
    "@behavior preprocesses the sentence\n",
    "\n",
    "@output a triple consisting of the length in characters of the sentence, the number of terms in the sentence and\n",
    "a list of terms and noun phrases appearing in the sentence (with repeated terms) \n",
    "'''\n",
    "def preprocess(sentence: str, tokenizer: nltk.tokenize.api.TokenizerI, wnl: WordNetLemmatizer, stop_words=set):\n",
    "    sent_out = list()\n",
    "    tokenized_sentence = tokenizer.tokenize(sentence.lower())\n",
    "    for term in tokenized_sentence:\n",
    "        lem_term = wnl.lemmatize(term)\n",
    "        if lem_term not in stop_words:      \n",
    "            sent_out.append(lem_term)\n",
    "    blobbed_sentence = TextBlob(sentence)\n",
    "    all_noun_phrases = blobbed_sentence.noun_phrases\n",
    "    # only include those that have multiple words\n",
    "    noun_phrases = [n_p for n_p in all_noun_phrases if ' ' in n_p]\n",
    "    sent_out.extend(noun_phrases)\n",
    "    return len(sentence), len(tokenized_sentence), sent_out"
   ]
  },
  {
   "cell_type": "code",
   "execution_count": 47,
   "metadata": {},
   "outputs": [],
   "source": [
    "'''\n",
    "indexing(D,args)\n",
    "    @input document collection D and optional arguments on text preprocessing\n",
    "\n",
    "    @behavior preprocesses the collection and, using existing libraries, \n",
    "    builds an inverted index with the relevant statistics for the subsequent summarization functions\n",
    "    \n",
    "    @output pair with the inverted index I and indexing time\n",
    "'''\n",
    "def indexing(articles, **args) -> InvertedIndex:\n",
    "    start_time = time.time()\n",
    "    inverted_index = InvertedIndex(len(articles), [len(article) for article in articles])\n",
    "\n",
    "    # tokenizer split words and keep hyphens e.g. state-of-the-art\n",
    "    tokenizer = RegexpTokenizer(r'[\\w|-]+')\n",
    "    stop_words = set(stopwords.words('english'))\n",
    "    wnl = WordNetLemmatizer()\n",
    "\n",
    "    # loop through collection \n",
    "    for article_id, article in enumerate(articles): \n",
    "        sents = sentence_tokenize(article)\n",
    "        # remove title (not needed for summarization task)\n",
    "        #sents = sents[1:]\n",
    "        preprocessing_results = [preprocess(sent, tokenizer, wnl, stop_words) for sent in sents]\n",
    "        sent_num_chars, sent_term_counts, preprocessed_sentences = zip(*preprocessing_results)\n",
    "        inverted_index.sentence_num_chars.append(list(sent_num_chars))\n",
    "        inverted_index.num_terms_in_sentences.append(list(sent_term_counts))\n",
    "        # count the term frequencies per sentence\n",
    "        term_counter_per_sent = [Counter(sentence_terms) for sentence_terms in preprocessed_sentences]\n",
    "        for sent_number, term_counter in enumerate(term_counter_per_sent):\n",
    "            for term in term_counter: \n",
    "                tf = term_counter[term]\n",
    "                term_document_tfs = inverted_index.get_or_default(term, article_id)\n",
    "                term_document_tfs.tf_d_t += tf \n",
    "                term_document_tfs.add_sentence(sent_number, tf)\n",
    "                inverted_index.update(term, article_id, term_document_tfs)\n",
    "    inverted_index.calculate_dfs()\n",
    "    end_time = time.time()\n",
    "    indexing_time = end_time - start_time\n",
    "    inverted_index.set_indexing_time(indexing_time)\n",
    "    return inverted_index\n"
   ]
  },
  {
   "cell_type": "code",
   "execution_count": 48,
   "metadata": {},
   "outputs": [
    {
     "data": {
      "text/plain": [
       "'played'"
      ]
     },
     "execution_count": 48,
     "metadata": {},
     "output_type": "execute_result"
    }
   ],
   "source": [
    "WordNetLemmatizer().lemmatize(\"played\")"
   ]
  },
  {
   "cell_type": "code",
   "execution_count": 49,
   "metadata": {},
   "outputs": [
    {
     "data": {
      "text/plain": [
       "['data scientist',\n",
       " 'machine learning enthusiast',\n",
       " 'john williams',\n",
       " 'data scientist',\n",
       " 'centuries-old oak tree']"
      ]
     },
     "execution_count": 49,
     "metadata": {},
     "output_type": "execute_result"
    }
   ],
   "source": [
    "sent_removed = 'Hello, I\\'m a data scientist and machine learning enthusiast. My name is John Williams and am a data scientist. The majestic, centuries-old oak tree stood proudly at the edge of the meadow'\n",
    "blob = TextBlob(sent_removed)\n",
    "[a for a in blob.noun_phrases if ' ' in a]"
   ]
  },
  {
   "cell_type": "code",
   "execution_count": 50,
   "metadata": {},
   "outputs": [],
   "source": [
    "s0 = 'Title. The little white little rabbit. The person played with the ball.'\n",
    "s1 = 'Title. The white rabbit\\'s ball. Rabbit rabbit ball rabbit.'\n",
    "s2 = 'Title.  White, the little white rabbit. Little, little.'\n",
    "test = [s0, s1, s2]\n",
    "I_test = indexing(test)"
   ]
  },
  {
   "cell_type": "code",
   "execution_count": 51,
   "metadata": {},
   "outputs": [
    {
     "name": "stdout",
     "output_type": "stream",
     "text": [
      "Time to index: 0.0027947425842285156\n",
      "Inverted Index:\n",
      "title                 → Document Frequency: 3\n",
      "                        Term frequencies:\n",
      "                        Doc 0    → TF_d_t: 1    TF_per_sentence: [(0, 1)]\n",
      "                        Doc 1    → TF_d_t: 1    TF_per_sentence: [(0, 1)]\n",
      "                        Doc 2    → TF_d_t: 1    TF_per_sentence: [(0, 1)]\n",
      "\n",
      "little                → Document Frequency: 2\n",
      "                        Term frequencies:\n",
      "                        Doc 0    → TF_d_t: 2    TF_per_sentence: [(1, 2)]\n",
      "                        Doc 2    → TF_d_t: 3    TF_per_sentence: [(1, 1), (2, 2)]\n",
      "\n",
      "white                 → Document Frequency: 3\n",
      "                        Term frequencies:\n",
      "                        Doc 0    → TF_d_t: 1    TF_per_sentence: [(1, 1)]\n",
      "                        Doc 1    → TF_d_t: 1    TF_per_sentence: [(1, 1)]\n",
      "                        Doc 2    → TF_d_t: 2    TF_per_sentence: [(1, 2)]\n",
      "\n",
      "rabbit                → Document Frequency: 3\n",
      "                        Term frequencies:\n",
      "                        Doc 0    → TF_d_t: 1    TF_per_sentence: [(1, 1)]\n",
      "                        Doc 1    → TF_d_t: 4    TF_per_sentence: [(1, 1), (2, 3)]\n",
      "                        Doc 2    → TF_d_t: 1    TF_per_sentence: [(1, 1)]\n",
      "\n",
      "white little rabbit   → Document Frequency: 1\n",
      "                        Term frequencies:\n",
      "                        Doc 0    → TF_d_t: 1    TF_per_sentence: [(1, 1)]\n",
      "\n",
      "person                → Document Frequency: 1\n",
      "                        Term frequencies:\n",
      "                        Doc 0    → TF_d_t: 1    TF_per_sentence: [(2, 1)]\n",
      "\n",
      "played                → Document Frequency: 1\n",
      "                        Term frequencies:\n",
      "                        Doc 0    → TF_d_t: 1    TF_per_sentence: [(2, 1)]\n",
      "\n",
      "ball                  → Document Frequency: 2\n",
      "                        Term frequencies:\n",
      "                        Doc 0    → TF_d_t: 1    TF_per_sentence: [(2, 1)]\n",
      "                        Doc 1    → TF_d_t: 2    TF_per_sentence: [(1, 1), (2, 1)]\n",
      "\n",
      "white rabbit 's ball  → Document Frequency: 1\n",
      "                        Term frequencies:\n",
      "                        Doc 1    → TF_d_t: 1    TF_per_sentence: [(1, 1)]\n",
      "\n",
      "rabbit ball rabbit    → Document Frequency: 1\n",
      "                        Term frequencies:\n",
      "                        Doc 1    → TF_d_t: 1    TF_per_sentence: [(2, 1)]\n",
      "\n",
      "white rabbit          → Document Frequency: 1\n",
      "                        Term frequencies:\n",
      "                        Doc 2    → TF_d_t: 1    TF_per_sentence: [(1, 1)]\n",
      "\n",
      "\n"
     ]
    }
   ],
   "source": [
    "print(I_test)"
   ]
  },
  {
   "cell_type": "code",
   "execution_count": 52,
   "metadata": {},
   "outputs": [
    {
     "name": "stdout",
     "output_type": "stream",
     "text": [
      "Document id=2 → vocabulary and term frequencies:\n",
      "+--------------+------+--------+------------------+\n",
      "|  Vocabulary  | DF_t | TF_d_t |   TF/sentence    |\n",
      "+--------------+------+--------+------------------+\n",
      "|    title     |  3   |   1    |     [(0, 1)]     |\n",
      "|    little    |  2   |   3    | [(1, 1), (2, 2)] |\n",
      "|    white     |  3   |   2    |     [(1, 2)]     |\n",
      "|    rabbit    |  3   |   1    |     [(1, 1)]     |\n",
      "| white rabbit |  1   |   1    |     [(1, 1)]     |\n",
      "+--------------+------+--------+------------------+\n"
     ]
    }
   ],
   "source": [
    "print(I_test.doc_to_string(2))"
   ]
  },
  {
   "cell_type": "code",
   "execution_count": 53,
   "metadata": {},
   "outputs": [],
   "source": [
    "I = indexing(articles)\n",
    "t = 0"
   ]
  },
  {
   "cell_type": "code",
   "execution_count": 54,
   "metadata": {},
   "outputs": [
    {
     "name": "stdout",
     "output_type": "stream",
     "text": [
      "Document id=1433 → vocabulary and term frequencies:\n",
      "+---------------------------+------+--------+-------------------------------------------------------------+\n",
      "|        Vocabulary         | DF_t | TF_d_t |                         TF/sentence                         |\n",
      "+---------------------------+------+--------+-------------------------------------------------------------+\n",
      "|           also            | 1261 |   1    |                          [(10, 1)]                          |\n",
      "|           many            | 525  |   1    |                          [(7, 1)]                           |\n",
      "|            new            | 962  |   2    |                      [(6, 1), (13, 1)]                      |\n",
      "|           world           | 667  |   3    |                  [(0, 1), (7, 1), (14, 1)]                  |\n",
      "|           last            | 903  |   2    |                      [(9, 1), (14, 1)]                      |\n",
      "|           seen            | 276  |   1    |                          [(12, 1)]                          |\n",
      "|          around           | 313  |   2    |                      [(0, 1), (7, 1)]                       |\n",
      "|           even            | 351  |   1    |                          [(12, 1)]                          |\n",
      "|           kill            |  16  |   1    |                          [(11, 1)]                          |\n",
      "|          problem          | 343  |   1    |                          [(12, 1)]                          |\n",
      "|           much            | 450  |   1    |                          [(5, 1)]                           |\n",
      "|        competition        | 151  |   2    |                      [(1, 1), (9, 1)]                       |\n",
      "|            ha             | 1825 |   2    |                      [(9, 1), (11, 1)]                      |\n",
      "|           trend           |  64  |   1    |                          [(11, 1)]                          |\n",
      "|           time            | 877  |   1    |                          [(5, 1)]                           |\n",
      "|            red            |  73  |   1    |                          [(7, 1)]                           |\n",
      "|        confidence         |  86  |   1    |                          [(2, 1)]                           |\n",
      "|             -             | 1087 |   7    |             [(2, 2), (5, 2), (11, 2), (14, 1)]              |\n",
      "|           year            | 1318 |   4    |              [(2, 1), (3, 1), (9, 1), (12, 1)]              |\n",
      "|           could           | 869  |   1    |                          [(10, 1)]                          |\n",
      "|           plan            | 373  |   1    |                          [(8, 1)]                           |\n",
      "|            one            | 1042 |   5    |                  [(2, 1), (9, 1), (11, 3)]                  |\n",
      "|           home            | 408  |   1    |                          [(10, 1)]                          |\n",
      "|            wa             | 1746 |   1    |                          [(12, 1)]                          |\n",
      "|           firm            | 459  |   1    |                          [(2, 1)]                           |\n",
      "|           three           | 557  |   1    |                          [(14, 1)]                          |\n",
      "|           deal            | 262  |   1    |                          [(7, 1)]                           |\n",
      "|          growing          | 130  |   1    |                          [(10, 1)]                          |\n",
      "|          service          | 368  |   1    |                          [(10, 1)]                          |\n",
      "|          company          | 534  |   7    | [(0, 1), (5, 1), (6, 1), (9, 1), (10, 1), (11, 1), (13, 1)] |\n",
      "|           said            | 1884 |   2    |                     [(10, 1), (13, 1)]                      |\n",
      "|          others           | 158  |   1    |                          [(13, 1)]                          |\n",
      "|          number           | 546  |   1    |                          [(10, 1)]                          |\n",
      "|           huge            | 180  |   1    |                          [(12, 1)]                          |\n",
      "|           chief           | 353  |   4    |             [(7, 1), (10, 1), (13, 1), (14, 1)]             |\n",
      "|          country          | 440  |   2    |                      [(8, 1), (10, 1)]                      |\n",
      "|          market           | 390  |   1    |                          [(10, 1)]                          |\n",
      "|           price           | 233  |   1    |                          [(1, 1)]                           |\n",
      "|           large           | 137  |   2    |                      [(0, 1), (11, 1)]                      |\n",
      "|           2004            | 390  |   1    |                          [(14, 1)]                          |\n",
      "|          threat           |  89  |   4    |                  [(1, 1), (9, 2), (12, 1)]                  |\n",
      "|         according         | 332  |   1    |                          [(11, 1)]                          |\n",
      "|             u             | 829  |   1    |                          [(12, 1)]                          |\n",
      "|          europe           | 248  |   2    |                      [(2, 1), (6, 1)]                       |\n",
      "|           month           | 577  |   1    |                          [(14, 1)]                          |\n",
      "|          growth           | 229  |   1    |                          [(2, 1)]                           |\n",
      "|            say            | 665  |   2    |                      [(4, 1), (8, 1)]                       |\n",
      "|          called           | 261  |   1    |                          [(6, 1)]                           |\n",
      "|            mr             | 794  |   1    |                          [(13, 1)]                          |\n",
      "|         suggests          |  78  |   2    |                      [(0, 1), (12, 1)]                      |\n",
      "|         executive         | 262  |   4    |             [(7, 1), (10, 1), (13, 1), (14, 1)]             |\n",
      "|          global           | 150  |   4    |                 [(4, 1), (10, 1), (11, 2)]                  |\n",
      "|          result           | 277  |   1    |                          [(9, 1)]                           |\n",
      "|            uk             | 513  |   1    |                          [(2, 1)]                           |\n",
      "|         currently         | 224  |   1    |                          [(6, 1)]                           |\n",
      "|          fallen           |  51  |   1    |                          [(9, 1)]                           |\n",
      "|         slightly          |  58  |   1    |                          [(9, 1)]                           |\n",
      "|           move            | 324  |   1    |                          [(10, 1)]                          |\n",
      "|          future           | 270  |   1    |                          [(8, 1)]                           |\n",
      "|          already          | 373  |   1    |                          [(8, 1)]                           |\n",
      "|         corporate         |  67  |   1    |                          [(5, 1)]                           |\n",
      "|           cost            | 286  |   1    |                          [(5, 1)]                           |\n",
      "|          nearly           |  96  |   1    |                          [(3, 1)]                           |\n",
      "|            lot            | 268  |   1    |                          [(5, 1)]                           |\n",
      "|           clear           | 185  |   1    |                          [(11, 1)]                          |\n",
      "|         customer          | 117  |   1    |                          [(10, 1)]                          |\n",
      "|          region           |  60  |   1    |                          [(11, 1)]                          |\n",
      "|             1             | 463  |   3    |                 [(0, 1), (13, 1), (14, 1)]                  |\n",
      "|           force           | 133  |   1    |                          [(5, 1)]                           |\n",
      "|       successfully        |  21  |   1    |                          [(13, 1)]                          |\n",
      "|           moved           |  93  |   1    |                          [(8, 1)]                           |\n",
      "|          reality          |  41  |   1    |                          [(13, 1)]                          |\n",
      "|         standard          | 135  |   1    |                          [(6, 1)]                           |\n",
      "|            two            | 812  |   1    |                          [(3, 1)]                           |\n",
      "|          quality          |  91  |   1    |                          [(10, 1)]                          |\n",
      "|           work            | 448  |   1    |                          [(10, 1)]                          |\n",
      "|            ago            | 199  |   2    |                      [(3, 1), (12, 1)]                      |\n",
      "|           money           | 276  |   1    |                          [(5, 1)]                           |\n",
      "|          across           | 196  |   1    |                          [(6, 1)]                           |\n",
      "|          complex          |  40  |   1    |                          [(6, 1)]                           |\n",
      "|        throughout         |  65  |   1    |                          [(14, 1)]                          |\n",
      "|            buy            | 144  |   1    |                          [(13, 1)]                          |\n",
      "|            11             | 188  |   1    |                          [(8, 1)]                           |\n",
      "|         possibly          |  26  |   1    |                          [(9, 1)]                           |\n",
      "|          decided          | 114  |   1    |                          [(7, 1)]                           |\n",
      "|           worry           |  62  |   2    |                      [(1, 1), (9, 1)]                       |\n",
      "|           part            | 461  |   1    |                          [(8, 1)]                           |\n",
      "|          cheaper          |  37  |   1    |                          [(10, 1)]                          |\n",
      "|           state           | 269  |   1    |                          [(5, 1)]                           |\n",
      "|          example          | 111  |   1    |                          [(11, 1)]                          |\n",
      "|          process          | 120  |   1    |                          [(6, 1)]                           |\n",
      "|           slow            |  57  |   1    |                          [(2, 1)]                           |\n",
      "|          survey           |  80  |   5    |         [(0, 1), (3, 1), (8, 1), (12, 1), (14, 1)]          |\n",
      "|           rate            | 179  |   1    |                          [(13, 1)]                          |\n",
      "|        significant        |  94  |   1    |                          [(9, 1)]                           |\n",
      "|           risk            | 119  |   1    |                          [(11, 1)]                          |\n",
      "|            30             | 181  |   2    |                      [(3, 1), (13, 1)]                      |\n",
      "|            28             |  64  |   1    |                          [(8, 1)]                           |\n",
      "|          hacking          |  5   |   1    |                          [(7, 1)]                           |\n",
      "|          another          | 314  |   1    |                          [(8, 1)]                           |\n",
      "|         business          | 302  |   4    |              [(3, 1), (4, 1), (8, 1), (11, 1)]              |\n",
      "|            act            | 150  |   1    |                          [(5, 1)]                           |\n",
      "|          appear           |  83  |   1    |                          [(7, 1)]                           |\n",
      "|          provide          | 121  |   1    |                          [(10, 1)]                          |\n",
      "|         position          | 154  |   1    |                          [(13, 1)]                          |\n",
      "|           rapid           |  29  |   1    |                          [(12, 1)]                          |\n",
      "|          highly           |  47  |   1    |                          [(0, 1)]                           |\n",
      "|          biggest          | 235  |   2    |                      [(1, 1), (9, 1)]                       |\n",
      "|          unlike           |  25  |   1    |                          [(12, 1)]                          |\n",
      "|            300            |  43  |   1    |                          [(0, 1)]                           |\n",
      "|         concerned         | 105  |   1    |                          [(10, 1)]                          |\n",
      "|          middle           |  65  |   1    |                          [(11, 1)]                          |\n",
      "|          moving           |  67  |   1    |                          [(6, 1)]                           |\n",
      "|            90             |  63  |   1    |                          [(0, 1)]                           |\n",
      "|        regulatory         |  17  |   1    |                          [(4, 1)]                           |\n",
      "|          assault          |  19  |   1    |                          [(4, 1)]                           |\n",
      "|            54             |  20  |   1    |                          [(9, 1)]                           |\n",
      "|         suggested         | 102  |   1    |                          [(13, 1)]                          |\n",
      "|         meanwhile         | 127  |   1    |                          [(6, 1)]                           |\n",
      "|        transparent        |  12  |   1    |                          [(5, 1)]                           |\n",
      "|           harm            |  24  |   1    |                          [(10, 1)]                          |\n",
      "|           boss            |  20  |   3    |                  [(0, 1), (3, 1), (8, 1)]                   |\n",
      "|           hurt            |  35  |   1    |                          [(10, 1)]                          |\n",
      "|          calling          |  43  |   1    |                          [(9, 1)]                           |\n",
      "|         conducted         |  34  |   1    |                          [(3, 1)]                           |\n",
      "|        interviewed        |  19  |   1    |                          [(14, 1)]                          |\n",
      "|           stock           | 104  |   1    |                          [(6, 1)]                           |\n",
      "|           frank           |  38  |   1    |                          [(11, 1)]                          |\n",
      "|          facing           |  85  |   1    |                          [(4, 1)]                           |\n",
      "|        competitor         |  29  |   1    |                          [(7, 1)]                           |\n",
      "|         operation         | 102  |   1    |                          [(11, 1)]                          |\n",
      "|          locked           |  17  |   1    |                          [(13, 1)]                          |\n",
      "|          hardly           |  26  |   1    |                          [(7, 1)]                           |\n",
      "|          united           | 164  |   1    |                          [(5, 1)]                           |\n",
      "|          decline          |  58  |   1    |                          [(12, 1)]                          |\n",
      "|         exception         |  8   |   1    |                          [(2, 1)]                           |\n",
      "|           euro            | 105  |   1    |                          [(13, 1)]                          |\n",
      "|          dollar           | 125  |   1    |                          [(12, 1)]                          |\n",
      "|          samuel           |  9   |   1    |                          [(10, 1)]                          |\n",
      "|          western          |  33  |   1    |                          [(2, 1)]                           |\n",
      "|         prospect          |  51  |   2    |                      [(0, 1), (3, 1)]                       |\n",
      "|          lacking          |  11  |   1    |                          [(2, 1)]                           |\n",
      "|        accounting         |  26  |   1    |                          [(6, 1)]                           |\n",
      "|         advisory          |  10  |   1    |                          [(11, 1)]                          |\n",
      "|       surprisingly        |  9   |   1    |                          [(12, 1)]                          |\n",
      "|            oil            | 109  |   1    |                          [(1, 1)]                           |\n",
      "|          adviser          |  26  |   1    |                          [(3, 1)]                           |\n",
      "|          leader           | 246  |   2    |                      [(4, 1), (11, 1)]                      |\n",
      "|         interview         |  68  |   1    |                          [(13, 1)]                          |\n",
      "|          string           |  23  |   1    |                          [(5, 1)]                           |\n",
      "|         exchange          | 100  |   1    |                          [(13, 1)]                          |\n",
      "|        optimistic         |  40  |   1    |                          [(0, 1)]                           |\n",
      "|          wo n't           |  41  |   1    |                          [(11, 1)]                          |\n",
      "|         economic          | 190  |   1    |                          [(0, 1)]                           |\n",
      "|         us dollar         |  24  |   1    |                          [(12, 1)]                          |\n",
      "|          avoided          |  22  |   1    |                          [(7, 1)]                           |\n",
      "|         adjusted          |  13  |   1    |                          [(13, 1)]                          |\n",
      "|          anymore          |  13  |   2    |                     [(11, 1), (12, 1)]                      |\n",
      "|        reputation         |  35  |   1    |                          [(10, 1)]                          |\n",
      "|            ups            |  5   |   1    |                          [(1, 1)]                           |\n",
      "|           east            |  83  |   1    |                          [(11, 1)]                          |\n",
      "|      large companies      |  6   |   2    |                      [(0, 1), (11, 1)]                      |\n",
      "|         low-cost          |  21  |   3    |                  [(1, 1), (7, 1), (9, 1)]                   |\n",
      "|           cited           |  13  |   1    |                          [(12, 1)]                          |\n",
      "|            324            |  2   |   1    |                          [(14, 1)]                          |\n",
      "|           wild            |  27  |   1    |                          [(1, 1)]                           |\n",
      "|          terror           |  33  |   1    |                          [(1, 1)]                           |\n",
      "|          upside           |  3   |   1    |                          [(11, 1)]                          |\n",
      "|           brown           | 126  |   1    |                          [(11, 1)]                          |\n",
      "|          gloomy           |  6   |   1    |                          [(3, 1)]                           |\n",
      "|           tape            |  18  |   1    |                          [(7, 1)]                           |\n",
      "|          scandal          |  41  |   1    |                          [(5, 1)]                           |\n",
      "|        huge threat        |  2   |   1    |                          [(12, 1)]                          |\n",
      "|        favourable         |  9   |   1    |                          [(13, 1)]                          |\n",
      "|        oil prices         |  31  |   1    |                          [(1, 1)]                           |\n",
      "|         worldcom          |  15  |   1    |                          [(5, 1)]                           |\n",
      "|           enron           |  10  |   1    |                          [(5, 1)]                           |\n",
      "|         outsource         |  2   |   1    |                          [(10, 1)]                          |\n",
      "|    economic prospects     |  2   |   1    |                          [(0, 1)]                           |\n",
      "|      bosses suggests      |  1   |   1    |                          [(0, 1)]                           |\n",
      "|      over-regulation      |  1   |   1    |                          [(1, 1)]                           |\n",
      "|      terror threats       |  2   |   1    |                          [(1, 1)]                           |\n",
      "|   low-cost competition    |  1   |   2    |                      [(1, 1), (9, 1)]                       |\n",
      "|         wild ups          |  1   |   1    |                          [(1, 1)]                           |\n",
      "|        slow growth        |  2   |   1    |                          [(2, 1)]                           |\n",
      "|  pricewaterhousecoopers   |  3   |   2    |                      [(3, 1), (14, 1)]                      |\n",
      "|            pwc            |  2   |   3    |                 [(3, 1), (10, 1), (11, 1)]                  |\n",
      "|     business advisers     |  1   |   1    |                          [(3, 1)]                           |\n",
      "|        two-pronged        |  1   |   1    |                          [(4, 1)]                           |\n",
      "|     business leaders      |  7   |   1    |                          [(4, 1)]                           |\n",
      "|    regulatory assault     |  1   |   1    |                          [(4, 1)]                           |\n",
      "|      sarbanes-oxley       |  4   |   1    |                          [(5, 1)]                           |\n",
      "|         paperwork         |  4   |   1    |                          [(5, 1)]                           |\n",
      "|    corporate scandals     |  2   |   1    |                          [(5, 1)]                           |\n",
      "|   act forces companies    |  1   |   1    |                          [(5, 1)]                           |\n",
      "|      paperwork costs      |  1   |   1    |                          [(5, 1)]                           |\n",
      "|      exchange-listed      |  1   |   1    |                          [(6, 1)]                           |\n",
      "|           ifrs            |  1   |   1    |                          [(6, 1)]                           |\n",
      "|       across europe       |  1   |   1    |                          [(6, 1)]                           |\n",
      "|         red tape          |  6   |   1    |                          [(7, 1)]                           |\n",
      "|     chief executives      |  4   |   3    |                 [(7, 1), (13, 1), (14, 1)]                  |\n",
      "|   low-cost competitors    |  1   |   1    |                          [(7, 1)]                           |\n",
      "|          polled           |  5   |   1    |                          [(8, 1)]                           |\n",
      "|         low-wage          |  1   |   1    |                          [(8, 1)]                           |\n",
      "|    low-wage countries     |  1   |   1    |                          [(8, 1)]                           |\n",
      "|          % plan           |  1   |   1    |                          [(8, 1)]                           |\n",
      "|    significant threat     |  1   |   1    |                          [(9, 1)]                           |\n",
      "|         dipiazza          |  1   |   2    |                     [(10, 1), (13, 1)]                      |\n",
      "|  global chief executive   |  1   |   1    |                          [(10, 1)]                          |\n",
      "|      samuel dipiazza      |  1   |   1    |                          [(10, 1)]                          |\n",
      "|      outsource work       |  1   |   1    |                          [(10, 1)]                          |\n",
      "|       home markets        |  1   |   1    |                          [(10, 1)]                          |\n",
      "|        frank brown        |  1   |   1    |                          [(11, 1)]                          |\n",
      "|  global advisory leader   |  1   |   1    |                          [(11, 1)]                          |\n",
      "|     global operations     |  1   |   1    |                          [(11, 1)]                          |\n",
      "|       clear upside        |  1   |   1    |                          [(11, 1)]                          |\n",
      "|       third-largest       |  4   |   1    |                          [(12, 1)]                          |\n",
      "|      survey suggests      |  3   |   1    |                          [(12, 1)]                          |\n",
      "|       rapid decline       |  1   |   1    |                          [(12, 1)]                          |\n",
      "|   third-largest problem   |  1   |   1    |                          [(12, 1)]                          |\n",
      "|          hedged           |  1   |   1    |                          [(13, 1)]                          |\n",
      "|        mr dipiazza        |  1   |   1    |                          [(13, 1)]                          |\n",
      "|        new reality        |  1   |   1    |                          [(13, 1)]                          |\n",
      "| favourable exchange rates |  1   |   1    |                          [(13, 1)]                          |\n",
      "+---------------------------+------+--------+-------------------------------------------------------------+\n"
     ]
    }
   ],
   "source": [
    "document_path = os.path.join(\"BBC News Summary\", \"BBC News Summary\", \"News Articles\", \"business\", \"509.txt\")\n",
    "\n",
    "print(I.doc_to_string(map_path_to_articleID(document_path)))"
   ]
  },
  {
   "cell_type": "markdown",
   "metadata": {},
   "source": [
    "# Summarization \n",
    "\n",
    "TF: \n",
    "* Document: Term frequencies are assessed on document level.\n",
    "* Sentence: Term frequencies are assessed on sentence level.\n",
    "\n",
    "IDF: Inverted document frequencies is assessed on collection level.\\\n",
    "\\\n",
    "Additional parameter \"N\" and \"article_id\". Is this allowed?\n",
    "\n",
    "TODO: \n",
    "* Evaluate choice and give reason: \n",
    "    * IDF on document level?\n",
    "    * TF on document level for sentences? \n",
    "* \"order\" parameter o\n",
    "* BM25\n",
    "* BERT embedding"
   ]
  },
  {
   "cell_type": "code",
   "execution_count": 55,
   "metadata": {},
   "outputs": [],
   "source": [
    "def log10_tf(x):\n",
    "    try:\n",
    "        return (1 + np.log10(x)) \n",
    "    except ValueError:\n",
    "        return 0"
   ]
  },
  {
   "cell_type": "code",
   "execution_count": 56,
   "metadata": {},
   "outputs": [],
   "source": [
    "def tf_idf_term(N, df_t, tf_t_d):\n",
    "    return log10_tf(tf_t_d) * np.log10(N/df_t)"
   ]
  },
  {
   "cell_type": "code",
   "execution_count": 57,
   "metadata": {},
   "outputs": [],
   "source": [
    "def tf_idf_relevance_scores(info: list, N: int):\n",
    "    scores = defaultdict(int)\n",
    "    sq_normalization_term = defaultdict(int)\n",
    "    for _, df_t, tf_t_d, tf_per_sentence in info:\n",
    "        rel_t_d = tf_idf_term(N, df_t, tf_t_d)\n",
    "        for sent_number, tf_s_t in tf_per_sentence:\n",
    "            scores[sent_number] += rel_t_d * log10_tf(tf_s_t)\n",
    "            sq_normalization_term[sent_number] = log10_tf(tf_s_t)**2\n",
    "    # normalization\n",
    "    for sent_number, score in scores.items():\n",
    "        scores[sent_number] = score / np.sqrt(sq_normalization_term[sent_number])\n",
    "    return scores"
   ]
  },
  {
   "cell_type": "code",
   "execution_count": 58,
   "metadata": {},
   "outputs": [],
   "source": [
    "def compute_similarities_between_sentences(info: list, N: int, num_sentences: int):\n",
    "    similarity_matrix = np.zeros((num_sentences, num_sentences))\n",
    "    sq_norm_sentence = np.zeros(num_sentences)\n",
    "    for _, df_t, tf_t_d, tf_per_sentence in info:\n",
    "        log10_tfs = np.zeros(num_sentences)\n",
    "        for sent_number, tf_s_t in tf_per_sentence:\n",
    "            log10_tfs[sent_number] = log10_tf(tf_s_t)\n",
    "        scores_for_term = np.log10(N/df_t) * np.outer(log10_tfs, log10_tfs)\n",
    "        similarity_matrix += scores_for_term\n",
    "        sq_norm_sentence += log10_tfs**2\n",
    "    norm_sentence = np.sqrt(sq_norm_sentence)\n",
    "    normalization = np.outer(norm_sentence, norm_sentence)\n",
    "    return similarity_matrix / normalization"
   ]
  },
  {
   "cell_type": "code",
   "execution_count": 59,
   "metadata": {},
   "outputs": [],
   "source": [
    "def BM25_term(df_t, tf_t_d, N, s_len_avg, s_len, k, b): \n",
    "    idf_t = np.log10(N/df_t)\n",
    "    B = 1 - b + b * (s_len/s_len_avg)\n",
    "    return idf_t * (tf_t_d * (k + 1))/(tf_t_d + k * B)"
   ]
  },
  {
   "cell_type": "code",
   "execution_count": 60,
   "metadata": {},
   "outputs": [],
   "source": [
    "def sort_by_value(d: dict, max_elements: int, reverse=False) -> dict: \n",
    "    return dict(sorted(d.items(), key=lambda item: item[1], reverse=reverse)[:max_elements])"
   ]
  },
  {
   "cell_type": "code",
   "execution_count": 61,
   "metadata": {},
   "outputs": [],
   "source": [
    "def max_by_value(d: dict) -> tuple:\n",
    "    return max(d.items(), key=lambda item: item[1])"
   ]
  },
  {
   "cell_type": "code",
   "execution_count": 62,
   "metadata": {},
   "outputs": [],
   "source": [
    "def sort_by_key(d: dict) -> dict: \n",
    "    return dict(sorted(d.items()))"
   ]
  },
  {
   "cell_type": "code",
   "execution_count": 63,
   "metadata": {},
   "outputs": [],
   "source": [
    "def select_and_sort(scores: dict, o: str, p: int, l: int, sentence_lengths: list): \n",
    "    # Don't exceed maximum number of sentences. If it doesn't matter it should be set to 0\n",
    "    max_elements = p if p else len(scores)\n",
    "    sorted_scores = sort_by_value(scores, max_elements=max_elements, reverse=True)\n",
    "\n",
    "    # Don't exceed maximum number of characters. If it doesn't matter it should be set to 0\n",
    "    if l:\n",
    "        total_length = 0\n",
    "        cropped_sorted_scores = dict()\n",
    "        for sent_number, score in sorted_scores.items():\n",
    "            sent_length = sentence_lengths[sent_number]\n",
    "            total_length += sent_length\n",
    "            if total_length > l:\n",
    "                break\n",
    "            cropped_sorted_scores[sent_number] = score\n",
    "        sorted_scores = cropped_sorted_scores\n",
    "\n",
    "    if o == \"rel\": \n",
    "        return sorted_scores\n",
    "    elif o == \"app\": \n",
    "        return sort_by_key(sorted_scores)\n",
    "    else:\n",
    "        return scores"
   ]
  },
  {
   "cell_type": "code",
   "execution_count": 64,
   "metadata": {},
   "outputs": [],
   "source": [
    "def get_embedding(sentence: str, model, tokenizer, device, max_length=512) -> torch.tensor: \n",
    "    encoded_input = tokenizer(sentence, return_tensors='pt', truncation=True, max_length=max_length)\n",
    "    encoded_input.to(device)\n",
    "    with torch.no_grad():\n",
    "        output = model(**encoded_input)\n",
    "    embedding = output[\"pooler_output\"].squeeze()\n",
    "    # mean pooled embedding might be better\n",
    "    # mean_pooled_embedding = last_hidden_states.mean(axis=1)\n",
    "    return embedding"
   ]
  },
  {
   "cell_type": "code",
   "execution_count": 65,
   "metadata": {},
   "outputs": [],
   "source": [
    "def get_embeddings(sentences: list, model, tokenizer, device, max_length=512) -> list: \n",
    "    encoded_input = tokenizer(sentences, return_tensors='pt', truncation=True, padding=True, max_length=max_length)\n",
    "    encoded_input.to(device)\n",
    "    output = model(**encoded_input)\n",
    "    embedding = output[\"pooler_output\"].squeeze()\n",
    "    # mean pooled embedding might be better\n",
    "    # mean_pooled_embedding = last_hidden_states.mean(axis=1)\n",
    "    return embedding"
   ]
  },
  {
   "cell_type": "code",
   "execution_count": 66,
   "metadata": {},
   "outputs": [],
   "source": [
    "def update_info_after_sent_removal(info: list, sent_removed: int):\n",
    "    for i, (term, df_t, tf_t_d, tf_per_sentence) in enumerate(info):\n",
    "        # decrease term frequency of info of the terms in the removed sentence\n",
    "        info[i][2] -= tf_per_sentence[sent_removed]  \n",
    "        # remove the sentence from info\n",
    "        info[i][3] = [(sent_number, score) for sent_number, score in info[i][3] if sent_number != sent_removed]\n",
    "        if info[i][2] == 0:\n",
    "            info[i][1] -= 1    "
   ]
  },
  {
   "cell_type": "code",
   "execution_count": 67,
   "metadata": {},
   "outputs": [],
   "source": [
    "'''\n",
    "summarization(d,p,l,o,I,args)\n",
    "    @input document d (the index in I/D), maximum number of sentences (p) and/or characters (l), order\n",
    "    of presentation o (appearance in text vs relevance), inverted index I or the\n",
    "    collection D, and optional arguments on IR models\n",
    "\n",
    "    @behavior preprocesses d, assesses the relevance of each sentence in d against I ac-\n",
    "    cording to args, and presents them in accordance with p, l and o\n",
    "    \n",
    "    @output summary s of document d, i.e. ordered pairs (sentence position in d, score)\n",
    "'''\n",
    "def summarization(d: int, p: int, l: int, o: int, I_or_D: Union[InvertedIndex, list], **args) -> list:\n",
    "\n",
    "    ## if we receive the collection instead of the inverted index we must compute it first\n",
    "    if type(I_or_D) == list:\n",
    "        I = indexing(I_or_D)         \n",
    "    else: \n",
    "        I = I_or_D\n",
    "    model =  ('model' in args and args['model']) or 'TF-IDF'\n",
    "        \n",
    "    doc_info = I.get_document_info(d)\n",
    "    term_doc_info = zip(*doc_info.values())      \n",
    "    num_terms_in_sentences = I.get_num_term_in_sentences(d)\n",
    "    sentence_lengths = I.sentence_num_chars[d]\n",
    "    num_sentences = len(num_terms_in_sentences)\n",
    "    scores = defaultdict(int)\n",
    "\n",
    "    if model == 'TF-IDF':\n",
    "        scores = tf_idf_relevance_scores(term_doc_info, I.N)\n",
    "    \n",
    "    elif model == 'BM25':\n",
    "        k =  ('k' in args and args['k']) or 0.2\n",
    "        b = ('b' in args and args['b']) or 0.75\n",
    "        avg_sentence_length = sum(num_terms_in_sentences)/num_sentences\n",
    "        for term, df_t, tf_t_d, tf_per_sentence in term_doc_info: \n",
    "            for sent_number, tf_s_t in tf_per_sentence: \n",
    "                scores[sent_number] += BM25_term(df_t, tf_s_t, I.N, avg_sentence_length, num_terms_in_sentences[sent_number], k, b)\n",
    "    \n",
    "    elif model == 'BERT':\n",
    "        document = I_or_D[d]\n",
    "        \n",
    "        tokenizer = args['bert_tokenizer']\n",
    "        bert_model = args['bert_model']\n",
    "        device = torch.device('cuda' if torch.cuda.is_available() else 'cpu')\n",
    "        bert_model.to(device)\n",
    "        \n",
    "        scores = defaultdict(float)\n",
    "        # sentences \n",
    "        sentences = nltk.sent_tokenize(document)\n",
    "        #sentences = sentences[1:]\n",
    "        sent_embeddings = list()\n",
    "        # every sentences on its own, no padding needed, faster on cpu\n",
    "        # for gpu batches are better \n",
    "        for sent in sentences: \n",
    "            sent_embeddings.append(get_embeddings(sent, bert_model, tokenizer, device))\n",
    "        #sent_embeddings = get_embeddings(sentences, bert_model, tokenizer, device)\n",
    "        # document\n",
    "        doc_embedding = get_embedding(document, bert_model, tokenizer, device, max_length=512)\n",
    "        for sent_id in range(0, num_sentences): \n",
    "            sent_vec = sent_embeddings[sent_id]\n",
    "            score = torch.nn.functional.cosine_similarity(doc_embedding, sent_vec, dim=0)\n",
    "            scores[sent_id] = score.item()\n",
    "    \n",
    "    elif model == 'MMR-TFIDF':\n",
    "        λ =  ('λ' in args and args['λ']) or 0.5\n",
    "        # if p is 0 it means select all sentences\n",
    "        runs = min(p, num_sentences) or num_sentences\n",
    "        term_doc_info = list(zip(*doc_info.values()))\n",
    "        similarity_matrix = compute_similarities_between_sentences(term_doc_info, I.N, num_sentences)\n",
    "        available_sentence_relevance = tf_idf_relevance_scores(term_doc_info, I.N)\n",
    "        selected_sentences = defaultdict(int)\n",
    "        selected_sentences_bool = np.zeros(num_sentences)\n",
    "        for _ in range(runs):\n",
    "            max_score = np.NINF\n",
    "            best_sentence = None\n",
    "            for sent_num, rel_score in available_sentence_relevance.items():\n",
    "                redundancy = np.max(similarity_matrix[sent_num, :], where=selected_sentences_bool == 1, initial=0)\n",
    "                mmr_score = (1-λ) * rel_score - λ * redundancy\n",
    "                if mmr_score > max_score:\n",
    "                    max_score = mmr_score\n",
    "                    best_sentence = sent_num\n",
    "            selected_sentences[best_sentence] = max_score\n",
    "            available_sentence_relevance.pop(best_sentence)\n",
    "            selected_sentences_bool[best_sentence] = 1\n",
    "        scores = selected_sentences\n",
    "\n",
    "    else:\n",
    "        raise ValueError(\"Currently we only support the following models for summarization:\\n→ TF-IDF\\n→ BM-25\\n→ BERT\\n→MMR-TFIDF\")\n",
    "    \n",
    "    return select_and_sort(scores, o, p, l, sentence_lengths)"
   ]
  },
  {
   "cell_type": "code",
   "execution_count": 68,
   "metadata": {},
   "outputs": [
    {
     "data": {
      "text/plain": [
       "5"
      ]
     },
     "execution_count": 68,
     "metadata": {},
     "output_type": "execute_result"
    }
   ],
   "source": [
    "a = np.array([[1,2,3], [4,5,6]])\n",
    "np.max(a[1:], where=np.array([1,1,0]) == 1, initial=-1)"
   ]
  },
  {
   "cell_type": "code",
   "execution_count": 69,
   "metadata": {},
   "outputs": [
    {
     "name": "stdout",
     "output_type": "stream",
     "text": [
      "ORIGINAL DOCUMENT\n",
      "More than 90% of large companies around the world are highly optimistic about their economic prospects, a survey of 1,300 bosses suggests. Their biggest worries are not terror threats, but over-regulation, low-cost competition and the wild ups and downs of oil prices. There is one exception: Firms in Western Europe - but not the UK - are lacking confidence after years of slow growth. When business advisers PricewaterhouseCoopers (PwC) conducted the same survey two years ago, nearly 30% of bosses were gloomy about their prospects. Global business leaders say that they are facing a two-pronged regulatory assault. After a string of corporate scandals in the United States - from Enron to WorldCom - the Sarbanes-Oxley act forces companies to be much more transparent, but doing all the paperwork costs a lot of time and money. Across Europe, meanwhile, all stock exchange-listed companies are currently in the process of moving to new and complex accounting standards called IFRS. Hacking through the red tape can hardly be avoided, but many chief executives around the world appear to have decided on how to deal with low-cost competitors. Already, about 28% of the bosses polled for the survey say that they have moved parts of their business into low-wage countries, and another 11% plan to do so in the future. Possibly as a result, the worry about low-cost competition has slightly fallen from last year, with just 54% of companies calling it a \"significant threat\" or \"one of the biggest threats\". But PwC's global chief executive, Samuel DiPiazza, said a growing number of companies were also concerned that moves to outsource work to cheaper countries could both hurt their reputation in their home markets and harm the quality of service they provide to their customers. According to Frank Brown, global advisory leader at PwC , the trend of large companies to have global operations has one clear upside: \"One risk in one region - for example the Middle East - won't kill your business anymore.\" Surprisingly, the survey suggests that the rapid decline of the US dollar is not seen as a huge threat anymore, unlike even a year ago, when it was cited as the third-largest problem. Mr DiPiazza said the interviews with chief executives suggested that companies had \"adjusted\" to the new reality of a euro that buys $1.30 and more, while others had successfully hedged their positions and locked in more favourable exchange rates. - For the survey, PricewaterhouseCoopers interviewed 1,324 chief executives throughout the world during the last three months of 2004.\n",
      "SUMMARY\n",
      "53.36: But PwC's global chief executive, Samuel DiPiazza, said a growing number of companies were also concerned that moves to outsource work to cheaper countries could both hurt their reputation in their home markets and harm the quality of service they provide to their customers.\n",
      "57.58: According to Frank Brown, global advisory leader at PwC , the trend of large companies to have global operations has one clear upside: \"One risk in one region - for example the Middle East - won't kill your business anymore.\"\n",
      "43.96: Surprisingly, the survey suggests that the rapid decline of the US dollar is not seen as a huge threat anymore, unlike even a year ago, when it was cited as the third-largest problem.\n",
      "49.74: Mr DiPiazza said the interviews with chief executives suggested that companies had \"adjusted\" to the new reality of a euro that buys $1.30 and more, while others had successfully hedged their positions and locked in more favourable exchange rates.\n"
     ]
    }
   ],
   "source": [
    "article_id = map_path_to_articleID(document_path)\n",
    "print(\"ORIGINAL DOCUMENT\")\n",
    "print(articles[article_id])\n",
    "all_scores = summarization(d=article_id, p=7, l=1000, o=\"app\", I_or_D=I, model='TF-IDF')\n",
    "\n",
    "print(\"SUMMARY\")\n",
    "sentences = nltk.sent_tokenize(articles[article_id])\n",
    "for sent_id, score in all_scores.items(): \n",
    "    print(f\"{score:.2f}: {sentences[sent_id]}\")"
   ]
  },
  {
   "cell_type": "code",
   "execution_count": 70,
   "metadata": {},
   "outputs": [
    {
     "name": "stdout",
     "output_type": "stream",
     "text": [
      "ORIGINAL DOCUMENT\n",
      "More than 90% of large companies around the world are highly optimistic about their economic prospects, a survey of 1,300 bosses suggests. Their biggest worries are not terror threats, but over-regulation, low-cost competition and the wild ups and downs of oil prices. There is one exception: Firms in Western Europe - but not the UK - are lacking confidence after years of slow growth. When business advisers PricewaterhouseCoopers (PwC) conducted the same survey two years ago, nearly 30% of bosses were gloomy about their prospects. Global business leaders say that they are facing a two-pronged regulatory assault. After a string of corporate scandals in the United States - from Enron to WorldCom - the Sarbanes-Oxley act forces companies to be much more transparent, but doing all the paperwork costs a lot of time and money. Across Europe, meanwhile, all stock exchange-listed companies are currently in the process of moving to new and complex accounting standards called IFRS. Hacking through the red tape can hardly be avoided, but many chief executives around the world appear to have decided on how to deal with low-cost competitors. Already, about 28% of the bosses polled for the survey say that they have moved parts of their business into low-wage countries, and another 11% plan to do so in the future. Possibly as a result, the worry about low-cost competition has slightly fallen from last year, with just 54% of companies calling it a \"significant threat\" or \"one of the biggest threats\". But PwC's global chief executive, Samuel DiPiazza, said a growing number of companies were also concerned that moves to outsource work to cheaper countries could both hurt their reputation in their home markets and harm the quality of service they provide to their customers. According to Frank Brown, global advisory leader at PwC , the trend of large companies to have global operations has one clear upside: \"One risk in one region - for example the Middle East - won't kill your business anymore.\" Surprisingly, the survey suggests that the rapid decline of the US dollar is not seen as a huge threat anymore, unlike even a year ago, when it was cited as the third-largest problem. Mr DiPiazza said the interviews with chief executives suggested that companies had \"adjusted\" to the new reality of a euro that buys $1.30 and more, while others had successfully hedged their positions and locked in more favourable exchange rates. - For the survey, PricewaterhouseCoopers interviewed 1,324 chief executives throughout the world during the last three months of 2004.\n",
      "SUMMARY\n",
      "48.51: According to Frank Brown, global advisory leader at PwC , the trend of large companies to have global operations has one clear upside: \"One risk in one region - for example the Middle East - won't kill your business anymore.\"\n",
      "45.11: But PwC's global chief executive, Samuel DiPiazza, said a growing number of companies were also concerned that moves to outsource work to cheaper countries could both hurt their reputation in their home markets and harm the quality of service they provide to their customers.\n",
      "42.89: Mr DiPiazza said the interviews with chief executives suggested that companies had \"adjusted\" to the new reality of a euro that buys $1.30 and more, while others had successfully hedged their positions and locked in more favourable exchange rates.\n",
      "39.74: Surprisingly, the survey suggests that the rapid decline of the US dollar is not seen as a huge threat anymore, unlike even a year ago, when it was cited as the third-largest problem.\n"
     ]
    }
   ],
   "source": [
    "article_id = map_path_to_articleID(document_path)\n",
    "print(\"ORIGINAL DOCUMENT\")\n",
    "print(articles[article_id])\n",
    "all_scores = summarization(d=article_id, p=5, l=1000, o=\"rel\", I_or_D=I, model='BM25')\n",
    "\n",
    "print(\"SUMMARY\")\n",
    "sentences = nltk.sent_tokenize(articles[article_id])\n",
    "for sent_id, score in all_scores.items(): \n",
    "    print(f\"{score:.2f}: {sentences[sent_id]}\")"
   ]
  },
  {
   "cell_type": "code",
   "execution_count": 71,
   "metadata": {},
   "outputs": [
    {
     "name": "stderr",
     "output_type": "stream",
     "text": [
      "Some weights of the model checkpoint at bert-base-uncased were not used when initializing BertModel: ['cls.predictions.transform.dense.bias', 'cls.predictions.transform.LayerNorm.bias', 'cls.predictions.transform.dense.weight', 'cls.seq_relationship.bias', 'cls.seq_relationship.weight', 'cls.predictions.decoder.weight', 'cls.predictions.transform.LayerNorm.weight', 'cls.predictions.bias']\n",
      "- This IS expected if you are initializing BertModel from the checkpoint of a model trained on another task or with another architecture (e.g. initializing a BertForSequenceClassification model from a BertForPreTraining model).\n",
      "- This IS NOT expected if you are initializing BertModel from the checkpoint of a model that you expect to be exactly identical (initializing a BertForSequenceClassification model from a BertForSequenceClassification model).\n",
      "/home/mono/.local/lib/python3.10/site-packages/torch/cuda/__init__.py:83: UserWarning: CUDA initialization: CUDA unknown error - this may be due to an incorrectly set up environment, e.g. changing env variable CUDA_VISIBLE_DEVICES after program start. Setting the available devices to be zero. (Triggered internally at  ../c10/cuda/CUDAFunctions.cpp:109.)\n",
      "  return torch._C._cuda_getDeviceCount() > 0\n"
     ]
    },
    {
     "data": {
      "text/plain": [
       "BertModel(\n",
       "  (embeddings): BertEmbeddings(\n",
       "    (word_embeddings): Embedding(30522, 768, padding_idx=0)\n",
       "    (position_embeddings): Embedding(512, 768)\n",
       "    (token_type_embeddings): Embedding(2, 768)\n",
       "    (LayerNorm): LayerNorm((768,), eps=1e-12, elementwise_affine=True)\n",
       "    (dropout): Dropout(p=0.1, inplace=False)\n",
       "  )\n",
       "  (encoder): BertEncoder(\n",
       "    (layer): ModuleList(\n",
       "      (0): BertLayer(\n",
       "        (attention): BertAttention(\n",
       "          (self): BertSelfAttention(\n",
       "            (query): Linear(in_features=768, out_features=768, bias=True)\n",
       "            (key): Linear(in_features=768, out_features=768, bias=True)\n",
       "            (value): Linear(in_features=768, out_features=768, bias=True)\n",
       "            (dropout): Dropout(p=0.1, inplace=False)\n",
       "          )\n",
       "          (output): BertSelfOutput(\n",
       "            (dense): Linear(in_features=768, out_features=768, bias=True)\n",
       "            (LayerNorm): LayerNorm((768,), eps=1e-12, elementwise_affine=True)\n",
       "            (dropout): Dropout(p=0.1, inplace=False)\n",
       "          )\n",
       "        )\n",
       "        (intermediate): BertIntermediate(\n",
       "          (dense): Linear(in_features=768, out_features=3072, bias=True)\n",
       "          (intermediate_act_fn): GELUActivation()\n",
       "        )\n",
       "        (output): BertOutput(\n",
       "          (dense): Linear(in_features=3072, out_features=768, bias=True)\n",
       "          (LayerNorm): LayerNorm((768,), eps=1e-12, elementwise_affine=True)\n",
       "          (dropout): Dropout(p=0.1, inplace=False)\n",
       "        )\n",
       "      )\n",
       "      (1): BertLayer(\n",
       "        (attention): BertAttention(\n",
       "          (self): BertSelfAttention(\n",
       "            (query): Linear(in_features=768, out_features=768, bias=True)\n",
       "            (key): Linear(in_features=768, out_features=768, bias=True)\n",
       "            (value): Linear(in_features=768, out_features=768, bias=True)\n",
       "            (dropout): Dropout(p=0.1, inplace=False)\n",
       "          )\n",
       "          (output): BertSelfOutput(\n",
       "            (dense): Linear(in_features=768, out_features=768, bias=True)\n",
       "            (LayerNorm): LayerNorm((768,), eps=1e-12, elementwise_affine=True)\n",
       "            (dropout): Dropout(p=0.1, inplace=False)\n",
       "          )\n",
       "        )\n",
       "        (intermediate): BertIntermediate(\n",
       "          (dense): Linear(in_features=768, out_features=3072, bias=True)\n",
       "          (intermediate_act_fn): GELUActivation()\n",
       "        )\n",
       "        (output): BertOutput(\n",
       "          (dense): Linear(in_features=3072, out_features=768, bias=True)\n",
       "          (LayerNorm): LayerNorm((768,), eps=1e-12, elementwise_affine=True)\n",
       "          (dropout): Dropout(p=0.1, inplace=False)\n",
       "        )\n",
       "      )\n",
       "      (2): BertLayer(\n",
       "        (attention): BertAttention(\n",
       "          (self): BertSelfAttention(\n",
       "            (query): Linear(in_features=768, out_features=768, bias=True)\n",
       "            (key): Linear(in_features=768, out_features=768, bias=True)\n",
       "            (value): Linear(in_features=768, out_features=768, bias=True)\n",
       "            (dropout): Dropout(p=0.1, inplace=False)\n",
       "          )\n",
       "          (output): BertSelfOutput(\n",
       "            (dense): Linear(in_features=768, out_features=768, bias=True)\n",
       "            (LayerNorm): LayerNorm((768,), eps=1e-12, elementwise_affine=True)\n",
       "            (dropout): Dropout(p=0.1, inplace=False)\n",
       "          )\n",
       "        )\n",
       "        (intermediate): BertIntermediate(\n",
       "          (dense): Linear(in_features=768, out_features=3072, bias=True)\n",
       "          (intermediate_act_fn): GELUActivation()\n",
       "        )\n",
       "        (output): BertOutput(\n",
       "          (dense): Linear(in_features=3072, out_features=768, bias=True)\n",
       "          (LayerNorm): LayerNorm((768,), eps=1e-12, elementwise_affine=True)\n",
       "          (dropout): Dropout(p=0.1, inplace=False)\n",
       "        )\n",
       "      )\n",
       "      (3): BertLayer(\n",
       "        (attention): BertAttention(\n",
       "          (self): BertSelfAttention(\n",
       "            (query): Linear(in_features=768, out_features=768, bias=True)\n",
       "            (key): Linear(in_features=768, out_features=768, bias=True)\n",
       "            (value): Linear(in_features=768, out_features=768, bias=True)\n",
       "            (dropout): Dropout(p=0.1, inplace=False)\n",
       "          )\n",
       "          (output): BertSelfOutput(\n",
       "            (dense): Linear(in_features=768, out_features=768, bias=True)\n",
       "            (LayerNorm): LayerNorm((768,), eps=1e-12, elementwise_affine=True)\n",
       "            (dropout): Dropout(p=0.1, inplace=False)\n",
       "          )\n",
       "        )\n",
       "        (intermediate): BertIntermediate(\n",
       "          (dense): Linear(in_features=768, out_features=3072, bias=True)\n",
       "          (intermediate_act_fn): GELUActivation()\n",
       "        )\n",
       "        (output): BertOutput(\n",
       "          (dense): Linear(in_features=3072, out_features=768, bias=True)\n",
       "          (LayerNorm): LayerNorm((768,), eps=1e-12, elementwise_affine=True)\n",
       "          (dropout): Dropout(p=0.1, inplace=False)\n",
       "        )\n",
       "      )\n",
       "      (4): BertLayer(\n",
       "        (attention): BertAttention(\n",
       "          (self): BertSelfAttention(\n",
       "            (query): Linear(in_features=768, out_features=768, bias=True)\n",
       "            (key): Linear(in_features=768, out_features=768, bias=True)\n",
       "            (value): Linear(in_features=768, out_features=768, bias=True)\n",
       "            (dropout): Dropout(p=0.1, inplace=False)\n",
       "          )\n",
       "          (output): BertSelfOutput(\n",
       "            (dense): Linear(in_features=768, out_features=768, bias=True)\n",
       "            (LayerNorm): LayerNorm((768,), eps=1e-12, elementwise_affine=True)\n",
       "            (dropout): Dropout(p=0.1, inplace=False)\n",
       "          )\n",
       "        )\n",
       "        (intermediate): BertIntermediate(\n",
       "          (dense): Linear(in_features=768, out_features=3072, bias=True)\n",
       "          (intermediate_act_fn): GELUActivation()\n",
       "        )\n",
       "        (output): BertOutput(\n",
       "          (dense): Linear(in_features=3072, out_features=768, bias=True)\n",
       "          (LayerNorm): LayerNorm((768,), eps=1e-12, elementwise_affine=True)\n",
       "          (dropout): Dropout(p=0.1, inplace=False)\n",
       "        )\n",
       "      )\n",
       "      (5): BertLayer(\n",
       "        (attention): BertAttention(\n",
       "          (self): BertSelfAttention(\n",
       "            (query): Linear(in_features=768, out_features=768, bias=True)\n",
       "            (key): Linear(in_features=768, out_features=768, bias=True)\n",
       "            (value): Linear(in_features=768, out_features=768, bias=True)\n",
       "            (dropout): Dropout(p=0.1, inplace=False)\n",
       "          )\n",
       "          (output): BertSelfOutput(\n",
       "            (dense): Linear(in_features=768, out_features=768, bias=True)\n",
       "            (LayerNorm): LayerNorm((768,), eps=1e-12, elementwise_affine=True)\n",
       "            (dropout): Dropout(p=0.1, inplace=False)\n",
       "          )\n",
       "        )\n",
       "        (intermediate): BertIntermediate(\n",
       "          (dense): Linear(in_features=768, out_features=3072, bias=True)\n",
       "          (intermediate_act_fn): GELUActivation()\n",
       "        )\n",
       "        (output): BertOutput(\n",
       "          (dense): Linear(in_features=3072, out_features=768, bias=True)\n",
       "          (LayerNorm): LayerNorm((768,), eps=1e-12, elementwise_affine=True)\n",
       "          (dropout): Dropout(p=0.1, inplace=False)\n",
       "        )\n",
       "      )\n",
       "      (6): BertLayer(\n",
       "        (attention): BertAttention(\n",
       "          (self): BertSelfAttention(\n",
       "            (query): Linear(in_features=768, out_features=768, bias=True)\n",
       "            (key): Linear(in_features=768, out_features=768, bias=True)\n",
       "            (value): Linear(in_features=768, out_features=768, bias=True)\n",
       "            (dropout): Dropout(p=0.1, inplace=False)\n",
       "          )\n",
       "          (output): BertSelfOutput(\n",
       "            (dense): Linear(in_features=768, out_features=768, bias=True)\n",
       "            (LayerNorm): LayerNorm((768,), eps=1e-12, elementwise_affine=True)\n",
       "            (dropout): Dropout(p=0.1, inplace=False)\n",
       "          )\n",
       "        )\n",
       "        (intermediate): BertIntermediate(\n",
       "          (dense): Linear(in_features=768, out_features=3072, bias=True)\n",
       "          (intermediate_act_fn): GELUActivation()\n",
       "        )\n",
       "        (output): BertOutput(\n",
       "          (dense): Linear(in_features=3072, out_features=768, bias=True)\n",
       "          (LayerNorm): LayerNorm((768,), eps=1e-12, elementwise_affine=True)\n",
       "          (dropout): Dropout(p=0.1, inplace=False)\n",
       "        )\n",
       "      )\n",
       "      (7): BertLayer(\n",
       "        (attention): BertAttention(\n",
       "          (self): BertSelfAttention(\n",
       "            (query): Linear(in_features=768, out_features=768, bias=True)\n",
       "            (key): Linear(in_features=768, out_features=768, bias=True)\n",
       "            (value): Linear(in_features=768, out_features=768, bias=True)\n",
       "            (dropout): Dropout(p=0.1, inplace=False)\n",
       "          )\n",
       "          (output): BertSelfOutput(\n",
       "            (dense): Linear(in_features=768, out_features=768, bias=True)\n",
       "            (LayerNorm): LayerNorm((768,), eps=1e-12, elementwise_affine=True)\n",
       "            (dropout): Dropout(p=0.1, inplace=False)\n",
       "          )\n",
       "        )\n",
       "        (intermediate): BertIntermediate(\n",
       "          (dense): Linear(in_features=768, out_features=3072, bias=True)\n",
       "          (intermediate_act_fn): GELUActivation()\n",
       "        )\n",
       "        (output): BertOutput(\n",
       "          (dense): Linear(in_features=3072, out_features=768, bias=True)\n",
       "          (LayerNorm): LayerNorm((768,), eps=1e-12, elementwise_affine=True)\n",
       "          (dropout): Dropout(p=0.1, inplace=False)\n",
       "        )\n",
       "      )\n",
       "      (8): BertLayer(\n",
       "        (attention): BertAttention(\n",
       "          (self): BertSelfAttention(\n",
       "            (query): Linear(in_features=768, out_features=768, bias=True)\n",
       "            (key): Linear(in_features=768, out_features=768, bias=True)\n",
       "            (value): Linear(in_features=768, out_features=768, bias=True)\n",
       "            (dropout): Dropout(p=0.1, inplace=False)\n",
       "          )\n",
       "          (output): BertSelfOutput(\n",
       "            (dense): Linear(in_features=768, out_features=768, bias=True)\n",
       "            (LayerNorm): LayerNorm((768,), eps=1e-12, elementwise_affine=True)\n",
       "            (dropout): Dropout(p=0.1, inplace=False)\n",
       "          )\n",
       "        )\n",
       "        (intermediate): BertIntermediate(\n",
       "          (dense): Linear(in_features=768, out_features=3072, bias=True)\n",
       "          (intermediate_act_fn): GELUActivation()\n",
       "        )\n",
       "        (output): BertOutput(\n",
       "          (dense): Linear(in_features=3072, out_features=768, bias=True)\n",
       "          (LayerNorm): LayerNorm((768,), eps=1e-12, elementwise_affine=True)\n",
       "          (dropout): Dropout(p=0.1, inplace=False)\n",
       "        )\n",
       "      )\n",
       "      (9): BertLayer(\n",
       "        (attention): BertAttention(\n",
       "          (self): BertSelfAttention(\n",
       "            (query): Linear(in_features=768, out_features=768, bias=True)\n",
       "            (key): Linear(in_features=768, out_features=768, bias=True)\n",
       "            (value): Linear(in_features=768, out_features=768, bias=True)\n",
       "            (dropout): Dropout(p=0.1, inplace=False)\n",
       "          )\n",
       "          (output): BertSelfOutput(\n",
       "            (dense): Linear(in_features=768, out_features=768, bias=True)\n",
       "            (LayerNorm): LayerNorm((768,), eps=1e-12, elementwise_affine=True)\n",
       "            (dropout): Dropout(p=0.1, inplace=False)\n",
       "          )\n",
       "        )\n",
       "        (intermediate): BertIntermediate(\n",
       "          (dense): Linear(in_features=768, out_features=3072, bias=True)\n",
       "          (intermediate_act_fn): GELUActivation()\n",
       "        )\n",
       "        (output): BertOutput(\n",
       "          (dense): Linear(in_features=3072, out_features=768, bias=True)\n",
       "          (LayerNorm): LayerNorm((768,), eps=1e-12, elementwise_affine=True)\n",
       "          (dropout): Dropout(p=0.1, inplace=False)\n",
       "        )\n",
       "      )\n",
       "      (10): BertLayer(\n",
       "        (attention): BertAttention(\n",
       "          (self): BertSelfAttention(\n",
       "            (query): Linear(in_features=768, out_features=768, bias=True)\n",
       "            (key): Linear(in_features=768, out_features=768, bias=True)\n",
       "            (value): Linear(in_features=768, out_features=768, bias=True)\n",
       "            (dropout): Dropout(p=0.1, inplace=False)\n",
       "          )\n",
       "          (output): BertSelfOutput(\n",
       "            (dense): Linear(in_features=768, out_features=768, bias=True)\n",
       "            (LayerNorm): LayerNorm((768,), eps=1e-12, elementwise_affine=True)\n",
       "            (dropout): Dropout(p=0.1, inplace=False)\n",
       "          )\n",
       "        )\n",
       "        (intermediate): BertIntermediate(\n",
       "          (dense): Linear(in_features=768, out_features=3072, bias=True)\n",
       "          (intermediate_act_fn): GELUActivation()\n",
       "        )\n",
       "        (output): BertOutput(\n",
       "          (dense): Linear(in_features=3072, out_features=768, bias=True)\n",
       "          (LayerNorm): LayerNorm((768,), eps=1e-12, elementwise_affine=True)\n",
       "          (dropout): Dropout(p=0.1, inplace=False)\n",
       "        )\n",
       "      )\n",
       "      (11): BertLayer(\n",
       "        (attention): BertAttention(\n",
       "          (self): BertSelfAttention(\n",
       "            (query): Linear(in_features=768, out_features=768, bias=True)\n",
       "            (key): Linear(in_features=768, out_features=768, bias=True)\n",
       "            (value): Linear(in_features=768, out_features=768, bias=True)\n",
       "            (dropout): Dropout(p=0.1, inplace=False)\n",
       "          )\n",
       "          (output): BertSelfOutput(\n",
       "            (dense): Linear(in_features=768, out_features=768, bias=True)\n",
       "            (LayerNorm): LayerNorm((768,), eps=1e-12, elementwise_affine=True)\n",
       "            (dropout): Dropout(p=0.1, inplace=False)\n",
       "          )\n",
       "        )\n",
       "        (intermediate): BertIntermediate(\n",
       "          (dense): Linear(in_features=768, out_features=3072, bias=True)\n",
       "          (intermediate_act_fn): GELUActivation()\n",
       "        )\n",
       "        (output): BertOutput(\n",
       "          (dense): Linear(in_features=3072, out_features=768, bias=True)\n",
       "          (LayerNorm): LayerNorm((768,), eps=1e-12, elementwise_affine=True)\n",
       "          (dropout): Dropout(p=0.1, inplace=False)\n",
       "        )\n",
       "      )\n",
       "    )\n",
       "  )\n",
       "  (pooler): BertPooler(\n",
       "    (dense): Linear(in_features=768, out_features=768, bias=True)\n",
       "    (activation): Tanh()\n",
       "  )\n",
       ")"
      ]
     },
     "execution_count": 71,
     "metadata": {},
     "output_type": "execute_result"
    }
   ],
   "source": [
    "bert_tokenizer = BertTokenizer.from_pretrained('bert-base-uncased', do_lower_case=True)\n",
    "bert_model = BertModel.from_pretrained(\"bert-base-uncased\")\n",
    "device = torch.device('cuda' if torch.cuda.is_available() else 'cpu')\n",
    "bert_model.to(device)"
   ]
  },
  {
   "cell_type": "code",
   "execution_count": 72,
   "metadata": {},
   "outputs": [
    {
     "name": "stdout",
     "output_type": "stream",
     "text": [
      "ORIGINAL DOCUMENT\n",
      "More than 90% of large companies around the world are highly optimistic about their economic prospects, a survey of 1,300 bosses suggests. Their biggest worries are not terror threats, but over-regulation, low-cost competition and the wild ups and downs of oil prices. There is one exception: Firms in Western Europe - but not the UK - are lacking confidence after years of slow growth. When business advisers PricewaterhouseCoopers (PwC) conducted the same survey two years ago, nearly 30% of bosses were gloomy about their prospects. Global business leaders say that they are facing a two-pronged regulatory assault. After a string of corporate scandals in the United States - from Enron to WorldCom - the Sarbanes-Oxley act forces companies to be much more transparent, but doing all the paperwork costs a lot of time and money. Across Europe, meanwhile, all stock exchange-listed companies are currently in the process of moving to new and complex accounting standards called IFRS. Hacking through the red tape can hardly be avoided, but many chief executives around the world appear to have decided on how to deal with low-cost competitors. Already, about 28% of the bosses polled for the survey say that they have moved parts of their business into low-wage countries, and another 11% plan to do so in the future. Possibly as a result, the worry about low-cost competition has slightly fallen from last year, with just 54% of companies calling it a \"significant threat\" or \"one of the biggest threats\". But PwC's global chief executive, Samuel DiPiazza, said a growing number of companies were also concerned that moves to outsource work to cheaper countries could both hurt their reputation in their home markets and harm the quality of service they provide to their customers. According to Frank Brown, global advisory leader at PwC , the trend of large companies to have global operations has one clear upside: \"One risk in one region - for example the Middle East - won't kill your business anymore.\" Surprisingly, the survey suggests that the rapid decline of the US dollar is not seen as a huge threat anymore, unlike even a year ago, when it was cited as the third-largest problem. Mr DiPiazza said the interviews with chief executives suggested that companies had \"adjusted\" to the new reality of a euro that buys $1.30 and more, while others had successfully hedged their positions and locked in more favourable exchange rates. - For the survey, PricewaterhouseCoopers interviewed 1,324 chief executives throughout the world during the last three months of 2004.\n",
      "SUMMARY\n",
      "0.95: When business advisers PricewaterhouseCoopers (PwC) conducted the same survey two years ago, nearly 30% of bosses were gloomy about their prospects.\n",
      "0.94: According to Frank Brown, global advisory leader at PwC , the trend of large companies to have global operations has one clear upside: \"One risk in one region - for example the Middle East - won't kill your business anymore.\"\n",
      "0.92: But PwC's global chief executive, Samuel DiPiazza, said a growing number of companies were also concerned that moves to outsource work to cheaper countries could both hurt their reputation in their home markets and harm the quality of service they provide to their customers.\n",
      "0.91: Mr DiPiazza said the interviews with chief executives suggested that companies had \"adjusted\" to the new reality of a euro that buys $1.30 and more, while others had successfully hedged their positions and locked in more favourable exchange rates.\n"
     ]
    }
   ],
   "source": [
    "article_id = map_path_to_articleID(document_path)\n",
    "print(\"ORIGINAL DOCUMENT\")\n",
    "print(articles[article_id])\n",
    "all_scores = summarization(d=article_id, p=5, l=1000, o=\"rel\", I_or_D=articles, model='BERT', bert_model=bert_model, bert_tokenizer=bert_tokenizer)\n",
    "\n",
    "print(\"SUMMARY\")\n",
    "sentences = nltk.sent_tokenize(articles[article_id])\n",
    "for sent_id, score in all_scores.items(): \n",
    "    print(f\"{score:.2f}: {sentences[sent_id]}\")"
   ]
  },
  {
   "cell_type": "code",
   "execution_count": 73,
   "metadata": {},
   "outputs": [],
   "source": [
    "def json_dump(content, path):\n",
    "    with open(path, 'w') as f: \n",
    "        json.dump(content, f, indent=4)"
   ]
  },
  {
   "cell_type": "code",
   "execution_count": 74,
   "metadata": {},
   "outputs": [],
   "source": [
    "def summary_compute(categorized_set_of_articles, summarization_function):\n",
    "    all_scores = list()\n",
    "    for category_id, category in enumerate(categorized_set_of_articles): \n",
    "        all_scores.append([])\n",
    "        for cat_path in category: \n",
    "            article_id = map_path_to_articleID(cat_path)\n",
    "            try:\n",
    "                article_score = summarization_function(article_id)\n",
    "            except TypeError:\n",
    "                continue\n",
    "            all_scores[-1].append(article_score)\n",
    "    return all_scores\n",
    "    "
   ]
  },
  {
   "cell_type": "code",
   "execution_count": 75,
   "metadata": {},
   "outputs": [],
   "source": [
    "def summary_batch_writer(extract_path, summarization_function, batch_size, subset = None):\n",
    "    if os.path.isfile(extract_path):\n",
    "        with open(extract_path, 'r') as f:  \n",
    "            extract = json.load(f)\n",
    "            curr_summarized = len(extract[0])\n",
    "    else:\n",
    "        extract = [list() for _ in range(len(categorized_article_file_paths))]\n",
    "        curr_summarized = 0\n",
    "    subset = subset or [paths[curr_summarized:curr_summarized + batch_size] for paths in categorized_article_file_paths]\n",
    "    scores = summary_compute(subset, summarization_function)\n",
    "    for i in range(len(extract)):\n",
    "        extract[i].extend(scores[i])\n",
    "    json_dump(extract, extract_path)    "
   ]
  },
  {
   "cell_type": "code",
   "execution_count": 97,
   "metadata": {},
   "outputs": [],
   "source": [
    "# TF-IDF\n",
    "summarization_function = lambda article_id: summarization(d=article_id, p=0, l=0, o=\"rel\", I_or_D=I, model='TF-IDF')\n",
    "path = './testing/extracts/tf_idf/categorized_scores.json'\n",
    "all_scores = summary_compute(categorized_article_file_paths, summarization_function)\n",
    "json_dump(all_scores, path)"
   ]
  },
  {
   "cell_type": "code",
   "execution_count": 94,
   "metadata": {},
   "outputs": [],
   "source": [
    "# BM25\n",
    "summarization_function = lambda article_id: summarization(d=article_id, p=0, l=0, o=\"rel\", I_or_D=I, model='BM25')\n",
    "path = './testing/extracts/bm25/categorized_scores.json' \n",
    "all_scores = summary_compute(categorized_article_file_paths, summarization_function)\n",
    "json_dump(all_scores, path)"
   ]
  },
  {
   "cell_type": "code",
   "execution_count": 78,
   "metadata": {},
   "outputs": [],
   "source": [
    "# BERT\n",
    "#summarization_function = lambda article_id: summarization(d=article_id, p=0, l=0, o=\"rel\", I_or_D=articles, model='BERT', bert_model=bert_model, bert_tokenizer=bert_tokenizer)\n",
    "#path = './testing/extracts/bert/categorized_scores.json' \n",
    "#batch_size = 1\n",
    "#summary_batch_writer(batch_size, path, summarization_function)"
   ]
  },
  {
   "cell_type": "markdown",
   "metadata": {},
   "source": [
    "# Keyword Extraction"
   ]
  },
  {
   "cell_type": "code",
   "execution_count": 79,
   "metadata": {},
   "outputs": [
    {
     "data": {
      "text/plain": [
       "'\\nkeyword extraction(d,p,I,args)\\n    @input document d, maximum number of keywords p, inverted index I, and op-\\n    tional arguments on IR model choices\\n\\n    @behavior extracts the top informative p keywords in d against I according to args\\n    \\n    @output ordered set of p keywords\\n'"
      ]
     },
     "execution_count": 79,
     "metadata": {},
     "output_type": "execute_result"
    }
   ],
   "source": [
    "'''\n",
    "keyword extraction(d,p,I,args)\n",
    "    @input document d, maximum number of keywords p, inverted index I, and op-\n",
    "    tional arguments on IR model choices\n",
    "\n",
    "    @behavior extracts the top informative p keywords in d against I according to args\n",
    "    \n",
    "    @output ordered set of p keywords\n",
    "'''"
   ]
  },
  {
   "cell_type": "code",
   "execution_count": 80,
   "metadata": {},
   "outputs": [],
   "source": [
    "def keyword_extraction(d: int, p: int, I: InvertedIndex, **args) -> dict:\n",
    "     \n",
    "    model =  ('model' in args and args['model']) or 'TF-IDF'\n",
    "    doc_info = I.get_document_info(d)\n",
    "    term_doc_info = zip(*doc_info.values())    \n",
    "\n",
    "    scores = defaultdict(str)\n",
    "\n",
    "    if model == 'TF-IDF':\n",
    "        for term, df_t, tf_t_d, tf_per_sentence in term_doc_info:\n",
    "            rel_t_d = tf_idf_term(I.N, df_t, tf_t_d)\n",
    "            scores[term] = rel_t_d\n",
    "\n",
    "    elif model == 'BM25':\n",
    "        k =  ('k' in args and args['k']) or 0.2\n",
    "        b = ('b' in args and args['b']) or 0.75\n",
    "        avg_doc_size = np.sum(I.doc_lengths)/I.N\n",
    "        for term, df_t, tf_t_d, tf_per_sentence in term_doc_info:\n",
    "            rel_t_d += BM25_term(df_t, tf_t_d, I.N, avg_doc_size, I.doc_lengths[d], k, b)\n",
    "            scores[term] = rel_t_d\n",
    "    \n",
    "    else:\n",
    "        raise ValueError(\"Currently we only support the following models for keyword extraction:\\n→ TF-IDF\\n→ BM-25\")\n",
    "\n",
    "    scores = sort_by_value(scores, p, reverse=True)\n",
    "    return scores         "
   ]
  },
  {
   "cell_type": "code",
   "execution_count": 81,
   "metadata": {},
   "outputs": [
    {
     "name": "stdout",
     "output_type": "stream",
     "text": [
      "{'pwc': 4.498311299451967, 'low-cost competition': 4.353705595839665, 'dipiazza': 4.353705595839665, 'chief executives': 4.0536534945485325, 'pricewaterhousecoopers': 3.7329565318805495, 'bosses suggests': 3.346352974450639, 'over-regulation': 3.346352974450639, 'wild ups': 3.346352974450639, 'business advisers': 3.346352974450639, 'two-pronged': 3.346352974450639}\n",
      "Document id=1433 → vocabulary and term frequencies:\n",
      "+---------------------------+------+--------+-------------------------------------------------------------+\n",
      "|        Vocabulary         | DF_t | TF_d_t |                         TF/sentence                         |\n",
      "+---------------------------+------+--------+-------------------------------------------------------------+\n",
      "|           also            | 1261 |   1    |                          [(10, 1)]                          |\n",
      "|           many            | 525  |   1    |                          [(7, 1)]                           |\n",
      "|            new            | 962  |   2    |                      [(6, 1), (13, 1)]                      |\n",
      "|           world           | 667  |   3    |                  [(0, 1), (7, 1), (14, 1)]                  |\n",
      "|           last            | 903  |   2    |                      [(9, 1), (14, 1)]                      |\n",
      "|           seen            | 276  |   1    |                          [(12, 1)]                          |\n",
      "|          around           | 313  |   2    |                      [(0, 1), (7, 1)]                       |\n",
      "|           even            | 351  |   1    |                          [(12, 1)]                          |\n",
      "|           kill            |  16  |   1    |                          [(11, 1)]                          |\n",
      "|          problem          | 343  |   1    |                          [(12, 1)]                          |\n",
      "|           much            | 450  |   1    |                          [(5, 1)]                           |\n",
      "|        competition        | 151  |   2    |                      [(1, 1), (9, 1)]                       |\n",
      "|            ha             | 1825 |   2    |                      [(9, 1), (11, 1)]                      |\n",
      "|           trend           |  64  |   1    |                          [(11, 1)]                          |\n",
      "|           time            | 877  |   1    |                          [(5, 1)]                           |\n",
      "|            red            |  73  |   1    |                          [(7, 1)]                           |\n",
      "|        confidence         |  86  |   1    |                          [(2, 1)]                           |\n",
      "|             -             | 1087 |   7    |             [(2, 2), (5, 2), (11, 2), (14, 1)]              |\n",
      "|           year            | 1318 |   4    |              [(2, 1), (3, 1), (9, 1), (12, 1)]              |\n",
      "|           could           | 869  |   1    |                          [(10, 1)]                          |\n",
      "|           plan            | 373  |   1    |                          [(8, 1)]                           |\n",
      "|            one            | 1042 |   5    |                  [(2, 1), (9, 1), (11, 3)]                  |\n",
      "|           home            | 408  |   1    |                          [(10, 1)]                          |\n",
      "|            wa             | 1746 |   1    |                          [(12, 1)]                          |\n",
      "|           firm            | 459  |   1    |                          [(2, 1)]                           |\n",
      "|           three           | 557  |   1    |                          [(14, 1)]                          |\n",
      "|           deal            | 262  |   1    |                          [(7, 1)]                           |\n",
      "|          growing          | 130  |   1    |                          [(10, 1)]                          |\n",
      "|          service          | 368  |   1    |                          [(10, 1)]                          |\n",
      "|          company          | 534  |   7    | [(0, 1), (5, 1), (6, 1), (9, 1), (10, 1), (11, 1), (13, 1)] |\n",
      "|           said            | 1884 |   2    |                     [(10, 1), (13, 1)]                      |\n",
      "|          others           | 158  |   1    |                          [(13, 1)]                          |\n",
      "|          number           | 546  |   1    |                          [(10, 1)]                          |\n",
      "|           huge            | 180  |   1    |                          [(12, 1)]                          |\n",
      "|           chief           | 353  |   4    |             [(7, 1), (10, 1), (13, 1), (14, 1)]             |\n",
      "|          country          | 440  |   2    |                      [(8, 1), (10, 1)]                      |\n",
      "|          market           | 390  |   1    |                          [(10, 1)]                          |\n",
      "|           price           | 233  |   1    |                          [(1, 1)]                           |\n",
      "|           large           | 137  |   2    |                      [(0, 1), (11, 1)]                      |\n",
      "|           2004            | 390  |   1    |                          [(14, 1)]                          |\n",
      "|          threat           |  89  |   4    |                  [(1, 1), (9, 2), (12, 1)]                  |\n",
      "|         according         | 332  |   1    |                          [(11, 1)]                          |\n",
      "|             u             | 829  |   1    |                          [(12, 1)]                          |\n",
      "|          europe           | 248  |   2    |                      [(2, 1), (6, 1)]                       |\n",
      "|           month           | 577  |   1    |                          [(14, 1)]                          |\n",
      "|          growth           | 229  |   1    |                          [(2, 1)]                           |\n",
      "|            say            | 665  |   2    |                      [(4, 1), (8, 1)]                       |\n",
      "|          called           | 261  |   1    |                          [(6, 1)]                           |\n",
      "|            mr             | 794  |   1    |                          [(13, 1)]                          |\n",
      "|         suggests          |  78  |   2    |                      [(0, 1), (12, 1)]                      |\n",
      "|         executive         | 262  |   4    |             [(7, 1), (10, 1), (13, 1), (14, 1)]             |\n",
      "|          global           | 150  |   4    |                 [(4, 1), (10, 1), (11, 2)]                  |\n",
      "|          result           | 277  |   1    |                          [(9, 1)]                           |\n",
      "|            uk             | 513  |   1    |                          [(2, 1)]                           |\n",
      "|         currently         | 224  |   1    |                          [(6, 1)]                           |\n",
      "|          fallen           |  51  |   1    |                          [(9, 1)]                           |\n",
      "|         slightly          |  58  |   1    |                          [(9, 1)]                           |\n",
      "|           move            | 324  |   1    |                          [(10, 1)]                          |\n",
      "|          future           | 270  |   1    |                          [(8, 1)]                           |\n",
      "|          already          | 373  |   1    |                          [(8, 1)]                           |\n",
      "|         corporate         |  67  |   1    |                          [(5, 1)]                           |\n",
      "|           cost            | 286  |   1    |                          [(5, 1)]                           |\n",
      "|          nearly           |  96  |   1    |                          [(3, 1)]                           |\n",
      "|            lot            | 268  |   1    |                          [(5, 1)]                           |\n",
      "|           clear           | 185  |   1    |                          [(11, 1)]                          |\n",
      "|         customer          | 117  |   1    |                          [(10, 1)]                          |\n",
      "|          region           |  60  |   1    |                          [(11, 1)]                          |\n",
      "|             1             | 463  |   3    |                 [(0, 1), (13, 1), (14, 1)]                  |\n",
      "|           force           | 133  |   1    |                          [(5, 1)]                           |\n",
      "|       successfully        |  21  |   1    |                          [(13, 1)]                          |\n",
      "|           moved           |  93  |   1    |                          [(8, 1)]                           |\n",
      "|          reality          |  41  |   1    |                          [(13, 1)]                          |\n",
      "|         standard          | 135  |   1    |                          [(6, 1)]                           |\n",
      "|            two            | 812  |   1    |                          [(3, 1)]                           |\n",
      "|          quality          |  91  |   1    |                          [(10, 1)]                          |\n",
      "|           work            | 448  |   1    |                          [(10, 1)]                          |\n",
      "|            ago            | 199  |   2    |                      [(3, 1), (12, 1)]                      |\n",
      "|           money           | 276  |   1    |                          [(5, 1)]                           |\n",
      "|          across           | 196  |   1    |                          [(6, 1)]                           |\n",
      "|          complex          |  40  |   1    |                          [(6, 1)]                           |\n",
      "|        throughout         |  65  |   1    |                          [(14, 1)]                          |\n",
      "|            buy            | 144  |   1    |                          [(13, 1)]                          |\n",
      "|            11             | 188  |   1    |                          [(8, 1)]                           |\n",
      "|         possibly          |  26  |   1    |                          [(9, 1)]                           |\n",
      "|          decided          | 114  |   1    |                          [(7, 1)]                           |\n",
      "|           worry           |  62  |   2    |                      [(1, 1), (9, 1)]                       |\n",
      "|           part            | 461  |   1    |                          [(8, 1)]                           |\n",
      "|          cheaper          |  37  |   1    |                          [(10, 1)]                          |\n",
      "|           state           | 269  |   1    |                          [(5, 1)]                           |\n",
      "|          example          | 111  |   1    |                          [(11, 1)]                          |\n",
      "|          process          | 120  |   1    |                          [(6, 1)]                           |\n",
      "|           slow            |  57  |   1    |                          [(2, 1)]                           |\n",
      "|          survey           |  80  |   5    |         [(0, 1), (3, 1), (8, 1), (12, 1), (14, 1)]          |\n",
      "|           rate            | 179  |   1    |                          [(13, 1)]                          |\n",
      "|        significant        |  94  |   1    |                          [(9, 1)]                           |\n",
      "|           risk            | 119  |   1    |                          [(11, 1)]                          |\n",
      "|            30             | 181  |   2    |                      [(3, 1), (13, 1)]                      |\n",
      "|            28             |  64  |   1    |                          [(8, 1)]                           |\n",
      "|          hacking          |  5   |   1    |                          [(7, 1)]                           |\n",
      "|          another          | 314  |   1    |                          [(8, 1)]                           |\n",
      "|         business          | 302  |   4    |              [(3, 1), (4, 1), (8, 1), (11, 1)]              |\n",
      "|            act            | 150  |   1    |                          [(5, 1)]                           |\n",
      "|          appear           |  83  |   1    |                          [(7, 1)]                           |\n",
      "|          provide          | 121  |   1    |                          [(10, 1)]                          |\n",
      "|         position          | 154  |   1    |                          [(13, 1)]                          |\n",
      "|           rapid           |  29  |   1    |                          [(12, 1)]                          |\n",
      "|          highly           |  47  |   1    |                          [(0, 1)]                           |\n",
      "|          biggest          | 235  |   2    |                      [(1, 1), (9, 1)]                       |\n",
      "|          unlike           |  25  |   1    |                          [(12, 1)]                          |\n",
      "|            300            |  43  |   1    |                          [(0, 1)]                           |\n",
      "|         concerned         | 105  |   1    |                          [(10, 1)]                          |\n",
      "|          middle           |  65  |   1    |                          [(11, 1)]                          |\n",
      "|          moving           |  67  |   1    |                          [(6, 1)]                           |\n",
      "|            90             |  63  |   1    |                          [(0, 1)]                           |\n",
      "|        regulatory         |  17  |   1    |                          [(4, 1)]                           |\n",
      "|          assault          |  19  |   1    |                          [(4, 1)]                           |\n",
      "|            54             |  20  |   1    |                          [(9, 1)]                           |\n",
      "|         suggested         | 102  |   1    |                          [(13, 1)]                          |\n",
      "|         meanwhile         | 127  |   1    |                          [(6, 1)]                           |\n",
      "|        transparent        |  12  |   1    |                          [(5, 1)]                           |\n",
      "|           harm            |  24  |   1    |                          [(10, 1)]                          |\n",
      "|           boss            |  20  |   3    |                  [(0, 1), (3, 1), (8, 1)]                   |\n",
      "|           hurt            |  35  |   1    |                          [(10, 1)]                          |\n",
      "|          calling          |  43  |   1    |                          [(9, 1)]                           |\n",
      "|         conducted         |  34  |   1    |                          [(3, 1)]                           |\n",
      "|        interviewed        |  19  |   1    |                          [(14, 1)]                          |\n",
      "|           stock           | 104  |   1    |                          [(6, 1)]                           |\n",
      "|           frank           |  38  |   1    |                          [(11, 1)]                          |\n",
      "|          facing           |  85  |   1    |                          [(4, 1)]                           |\n",
      "|        competitor         |  29  |   1    |                          [(7, 1)]                           |\n",
      "|         operation         | 102  |   1    |                          [(11, 1)]                          |\n",
      "|          locked           |  17  |   1    |                          [(13, 1)]                          |\n",
      "|          hardly           |  26  |   1    |                          [(7, 1)]                           |\n",
      "|          united           | 164  |   1    |                          [(5, 1)]                           |\n",
      "|          decline          |  58  |   1    |                          [(12, 1)]                          |\n",
      "|         exception         |  8   |   1    |                          [(2, 1)]                           |\n",
      "|           euro            | 105  |   1    |                          [(13, 1)]                          |\n",
      "|          dollar           | 125  |   1    |                          [(12, 1)]                          |\n",
      "|          samuel           |  9   |   1    |                          [(10, 1)]                          |\n",
      "|          western          |  33  |   1    |                          [(2, 1)]                           |\n",
      "|         prospect          |  51  |   2    |                      [(0, 1), (3, 1)]                       |\n",
      "|          lacking          |  11  |   1    |                          [(2, 1)]                           |\n",
      "|        accounting         |  26  |   1    |                          [(6, 1)]                           |\n",
      "|         advisory          |  10  |   1    |                          [(11, 1)]                          |\n",
      "|       surprisingly        |  9   |   1    |                          [(12, 1)]                          |\n",
      "|            oil            | 109  |   1    |                          [(1, 1)]                           |\n",
      "|          adviser          |  26  |   1    |                          [(3, 1)]                           |\n",
      "|          leader           | 246  |   2    |                      [(4, 1), (11, 1)]                      |\n",
      "|         interview         |  68  |   1    |                          [(13, 1)]                          |\n",
      "|          string           |  23  |   1    |                          [(5, 1)]                           |\n",
      "|         exchange          | 100  |   1    |                          [(13, 1)]                          |\n",
      "|        optimistic         |  40  |   1    |                          [(0, 1)]                           |\n",
      "|          wo n't           |  41  |   1    |                          [(11, 1)]                          |\n",
      "|         economic          | 190  |   1    |                          [(0, 1)]                           |\n",
      "|         us dollar         |  24  |   1    |                          [(12, 1)]                          |\n",
      "|          avoided          |  22  |   1    |                          [(7, 1)]                           |\n",
      "|         adjusted          |  13  |   1    |                          [(13, 1)]                          |\n",
      "|          anymore          |  13  |   2    |                     [(11, 1), (12, 1)]                      |\n",
      "|        reputation         |  35  |   1    |                          [(10, 1)]                          |\n",
      "|            ups            |  5   |   1    |                          [(1, 1)]                           |\n",
      "|           east            |  83  |   1    |                          [(11, 1)]                          |\n",
      "|      large companies      |  6   |   2    |                      [(0, 1), (11, 1)]                      |\n",
      "|         low-cost          |  21  |   3    |                  [(1, 1), (7, 1), (9, 1)]                   |\n",
      "|           cited           |  13  |   1    |                          [(12, 1)]                          |\n",
      "|            324            |  2   |   1    |                          [(14, 1)]                          |\n",
      "|           wild            |  27  |   1    |                          [(1, 1)]                           |\n",
      "|          terror           |  33  |   1    |                          [(1, 1)]                           |\n",
      "|          upside           |  3   |   1    |                          [(11, 1)]                          |\n",
      "|           brown           | 126  |   1    |                          [(11, 1)]                          |\n",
      "|          gloomy           |  6   |   1    |                          [(3, 1)]                           |\n",
      "|           tape            |  18  |   1    |                          [(7, 1)]                           |\n",
      "|          scandal          |  41  |   1    |                          [(5, 1)]                           |\n",
      "|        huge threat        |  2   |   1    |                          [(12, 1)]                          |\n",
      "|        favourable         |  9   |   1    |                          [(13, 1)]                          |\n",
      "|        oil prices         |  31  |   1    |                          [(1, 1)]                           |\n",
      "|         worldcom          |  15  |   1    |                          [(5, 1)]                           |\n",
      "|           enron           |  10  |   1    |                          [(5, 1)]                           |\n",
      "|         outsource         |  2   |   1    |                          [(10, 1)]                          |\n",
      "|    economic prospects     |  2   |   1    |                          [(0, 1)]                           |\n",
      "|      bosses suggests      |  1   |   1    |                          [(0, 1)]                           |\n",
      "|      over-regulation      |  1   |   1    |                          [(1, 1)]                           |\n",
      "|      terror threats       |  2   |   1    |                          [(1, 1)]                           |\n",
      "|   low-cost competition    |  1   |   2    |                      [(1, 1), (9, 1)]                       |\n",
      "|         wild ups          |  1   |   1    |                          [(1, 1)]                           |\n",
      "|        slow growth        |  2   |   1    |                          [(2, 1)]                           |\n",
      "|  pricewaterhousecoopers   |  3   |   2    |                      [(3, 1), (14, 1)]                      |\n",
      "|            pwc            |  2   |   3    |                 [(3, 1), (10, 1), (11, 1)]                  |\n",
      "|     business advisers     |  1   |   1    |                          [(3, 1)]                           |\n",
      "|        two-pronged        |  1   |   1    |                          [(4, 1)]                           |\n",
      "|     business leaders      |  7   |   1    |                          [(4, 1)]                           |\n",
      "|    regulatory assault     |  1   |   1    |                          [(4, 1)]                           |\n",
      "|      sarbanes-oxley       |  4   |   1    |                          [(5, 1)]                           |\n",
      "|         paperwork         |  4   |   1    |                          [(5, 1)]                           |\n",
      "|    corporate scandals     |  2   |   1    |                          [(5, 1)]                           |\n",
      "|   act forces companies    |  1   |   1    |                          [(5, 1)]                           |\n",
      "|      paperwork costs      |  1   |   1    |                          [(5, 1)]                           |\n",
      "|      exchange-listed      |  1   |   1    |                          [(6, 1)]                           |\n",
      "|           ifrs            |  1   |   1    |                          [(6, 1)]                           |\n",
      "|       across europe       |  1   |   1    |                          [(6, 1)]                           |\n",
      "|         red tape          |  6   |   1    |                          [(7, 1)]                           |\n",
      "|     chief executives      |  4   |   3    |                 [(7, 1), (13, 1), (14, 1)]                  |\n",
      "|   low-cost competitors    |  1   |   1    |                          [(7, 1)]                           |\n",
      "|          polled           |  5   |   1    |                          [(8, 1)]                           |\n",
      "|         low-wage          |  1   |   1    |                          [(8, 1)]                           |\n",
      "|    low-wage countries     |  1   |   1    |                          [(8, 1)]                           |\n",
      "|          % plan           |  1   |   1    |                          [(8, 1)]                           |\n",
      "|    significant threat     |  1   |   1    |                          [(9, 1)]                           |\n",
      "|         dipiazza          |  1   |   2    |                     [(10, 1), (13, 1)]                      |\n",
      "|  global chief executive   |  1   |   1    |                          [(10, 1)]                          |\n",
      "|      samuel dipiazza      |  1   |   1    |                          [(10, 1)]                          |\n",
      "|      outsource work       |  1   |   1    |                          [(10, 1)]                          |\n",
      "|       home markets        |  1   |   1    |                          [(10, 1)]                          |\n",
      "|        frank brown        |  1   |   1    |                          [(11, 1)]                          |\n",
      "|  global advisory leader   |  1   |   1    |                          [(11, 1)]                          |\n",
      "|     global operations     |  1   |   1    |                          [(11, 1)]                          |\n",
      "|       clear upside        |  1   |   1    |                          [(11, 1)]                          |\n",
      "|       third-largest       |  4   |   1    |                          [(12, 1)]                          |\n",
      "|      survey suggests      |  3   |   1    |                          [(12, 1)]                          |\n",
      "|       rapid decline       |  1   |   1    |                          [(12, 1)]                          |\n",
      "|   third-largest problem   |  1   |   1    |                          [(12, 1)]                          |\n",
      "|          hedged           |  1   |   1    |                          [(13, 1)]                          |\n",
      "|        mr dipiazza        |  1   |   1    |                          [(13, 1)]                          |\n",
      "|        new reality        |  1   |   1    |                          [(13, 1)]                          |\n",
      "| favourable exchange rates |  1   |   1    |                          [(13, 1)]                          |\n",
      "+---------------------------+------+--------+-------------------------------------------------------------+\n"
     ]
    }
   ],
   "source": [
    "article_id = map_path_to_articleID(document_path)\n",
    "all_scores = keyword_extraction(article_id, 10, I, model='TF-IDF')\n",
    "print(all_scores)\n",
    "\n",
    "print(I.doc_to_string(article_id))"
   ]
  },
  {
   "cell_type": "markdown",
   "metadata": {},
   "source": [
    "# Evaluation\n",
    "\n",
    "TODO:\n",
    "* Implement evaluation\n",
    "* Evaluation:\n",
    "    * Statistics \n",
    "    * F-meassure\n",
    "    * Recall-precision-curve\n",
    "    * MAP\n",
    "    * Efficiency"
   ]
  },
  {
   "cell_type": "code",
   "execution_count": 82,
   "metadata": {},
   "outputs": [],
   "source": [
    "import statistics\n",
    "from matplotlib import pyplot as plt"
   ]
  },
  {
   "cell_type": "code",
   "execution_count": 83,
   "metadata": {},
   "outputs": [
    {
     "data": {
      "text/plain": [
       "'\\nevaluation(Sset,Rset,args)\\n    @input the set of summaries Sset produced from selected documents Dset ⊆ D\\n    (e.g. a single document, a category of documents, the whole collection),\\n    the corresponding reference extracts Rset, and optional arguments (evalu-\\n    ation, preprocessing, model options)\\n\\n    @behavior assesses the produced summaries against the reference ones using the tar-\\n    get evaluation criteria\\n\\n    @output evaluation statistics, including F-measuring at predefined p-or-l summary\\n    limits, recall-and-precision curves, MAP, and efficiency\\n'"
      ]
     },
     "execution_count": 83,
     "metadata": {},
     "output_type": "execute_result"
    }
   ],
   "source": [
    "'''\n",
    "evaluation(Sset,Rset,args)\n",
    "    @input the set of summaries Sset produced from selected documents Dset ⊆ D\n",
    "    (e.g. a single document, a category of documents, the whole collection),\n",
    "    the corresponding reference extracts Rset, and optional arguments (evalu-\n",
    "    ation, preprocessing, model options)\n",
    "\n",
    "    @behavior assesses the produced summaries against the reference ones using the tar-\n",
    "    get evaluation criteria\n",
    "\n",
    "    @output evaluation statistics, including F-measuring at predefined p-or-l summary\n",
    "    limits, recall-and-precision curves, MAP, and efficiency\n",
    "'''"
   ]
  },
  {
   "cell_type": "code",
   "execution_count": 84,
   "metadata": {},
   "outputs": [],
   "source": [
    "def get_precision(extracted_indices, relevant_indices):\n",
    "    extracted_indices = set(extracted_indices)\n",
    "    relevant_indices = set(relevant_indices)\n",
    "    return len(relevant_indices.intersection(extracted_indices))/len(extracted_indices)\n",
    "\n",
    "def get_recall(extracted_indices, relevant_indices):\n",
    "    extracted_indices = set(extracted_indices)\n",
    "    relevant_indices = set(relevant_indices)\n",
    "    return len(relevant_indices.intersection(extracted_indices))/len(relevant_indices)\n",
    "\n",
    "def get_F1(extracted_indices, relevant_indices):\n",
    "    extracted_indices = set(extracted_indices)\n",
    "    relevant_indices = set(relevant_indices)\n",
    "    p = get_precision(extracted_indices, relevant_indices)\n",
    "    r = get_recall(extracted_indices, relevant_indices)\n",
    "    if p+r == 0: return 0\n",
    "    return 2 * (p*r) / (p+r)"
   ]
  },
  {
   "cell_type": "code",
   "execution_count": 108,
   "metadata": {},
   "outputs": [],
   "source": [
    "import matplotlib.colors as mcolors"
   ]
  },
  {
   "cell_type": "code",
   "execution_count": 126,
   "metadata": {},
   "outputs": [],
   "source": [
    "def plot_f1_per_category(f1_per_category, std_per_category, category_names, title):\n",
    "# Choose a qualitative palette with 5 colors\n",
    "    plt.style.use('ggplot')\n",
    "# Create a list of colors from a color map\n",
    "    import matplotlib.colors as mcolors\n",
    "    color = [mcolors.to_hex(c) for c in plt.cm.Set3(np.arange(5))]\n",
    "    x = category_names\n",
    "    plt.style.use('ggplot')\n",
    "    color = [mcolors.to_hex(c) for c in plt.cm.Set3(np.arange(5))]\n",
    "    plt.bar(x, f1_per_category, color=color)\n",
    "    plt.errorbar(x, f1_per_category, std_per_category, fmt='.', color='Black', elinewidth=2,capthick=10,errorevery=1, alpha=0.5, ms=4, capsize = 2)\n",
    "    plt.xlabel(\"Category\")\n",
    "    plt.ylabel(\"F1 Score\")\n",
    "    plt.ylim(0, 0.65)\n",
    "    plt.title(title)\n",
    "    plt.show()\n"
   ]
  },
  {
   "cell_type": "code",
   "execution_count": 86,
   "metadata": {},
   "outputs": [],
   "source": [
    "def get_precision_recall_curve_data(extracted_indices, relevant_indices):\n",
    "    extracted_indices = list(extracted_indices.keys())\n",
    "    extracted_indices = list(map(int, extracted_indices))\n",
    "    relevant_indices = set(relevant_indices)\n",
    "    precision_level = list()\n",
    "    recall_level = list()\n",
    "    for k in range(len(extracted_indices)): \n",
    "        extracted_indices_at_k = set(extracted_indices[:k+1])\n",
    "        intersect = extracted_indices_at_k.intersection(relevant_indices)\n",
    "        precision = len(intersect)/len(extracted_indices_at_k)\n",
    "        precision_level.append(precision)\n",
    "        recall_level.append((k+1)/len(extracted_indices))\n",
    "    return precision_level, recall_level"
   ]
  },
  {
   "cell_type": "code",
   "execution_count": 87,
   "metadata": {},
   "outputs": [],
   "source": [
    "def plot_precision_recall_curve(precision_level, recall_level): \n",
    "    plt.plot(recall_level, precision_level)\n",
    "    plt.xlim(0, 1)\n",
    "    plt.ylim(0, 1.01)\n",
    "    plt.xlabel(\"Recall\")\n",
    "    plt.ylabel(\"Precision\")\n",
    "    plt.title(\"Precision-Recall\")\n",
    "    plt.plot()"
   ]
  },
  {
   "cell_type": "code",
   "execution_count": 121,
   "metadata": {},
   "outputs": [],
   "source": [
    "def evaluation(S: list, R: list, **args) -> list:\n",
    "    precisions = list()\n",
    "    recalls = list() \n",
    "    f1_scores = list()\n",
    "    for category_id, (category_extracted_indices_rel, category_relevant_indices) in enumerate(zip(R, S)):\n",
    "            precisions.append([])\n",
    "            recalls.append([])\n",
    "            f1_scores.append([])\n",
    "            for extracted_indices_rel, relevant_indices in zip(category_extracted_indices_rel, category_relevant_indices):\n",
    "                extracted_indices = list(extracted_indices_rel.keys())\n",
    "                extracted_indices = list(map(int, extracted_indices))\n",
    "                extracted_indices = extracted_indices[:args[\"p\"]]\n",
    "                precisions[-1].append(get_precision(extracted_indices, relevant_indices))\n",
    "                recalls[-1].append(get_recall(extracted_indices, relevant_indices))\n",
    "                f1_scores[-1].append(get_F1(extracted_indices, relevant_indices))\n",
    "    \n",
    "    mean_f1_per_catgory = list()\n",
    "    mean_std_per_category = list()\n",
    "    for f1 in f1_scores: \n",
    "        mean_f1_per_catgory.append(statistics.mean(f1))\n",
    "        mean_std_per_category.append(statistics.stdev(f1))\n",
    "\n",
    "    plot_f1_per_category(mean_f1_per_catgory, mean_std_per_category, args['category_names'], args['model_name'])\n",
    "\n",
    "    mean_precision = statistics.mean(flatten(precisions))\n",
    "    mean_recall = statistics.mean(flatten(recalls))\n",
    "    mean_f1_scores = statistics.mean(flatten(f1_scores))\n",
    "    \n",
    "    # precision-recall curve only for one document \n",
    "    example_category = 0\n",
    "    example_article = 1\n",
    "    precision_c, recall_c = get_precision_recall_curve_data(R[example_category][example_article], S[example_category][example_article])\n",
    "    plot_precision_recall_curve(precision_c, recall_c)\n",
    "    mAP = statistics.mean(precision_c)\n",
    "    print(f\"Mean average precision: {mAP}\")\n",
    "    metrics = {'mean_precision': mean_precision, 'mean_recall': mean_recall, 'mean_f1_scores': mean_f1_scores}\n",
    "    return metrics"
   ]
  },
  {
   "cell_type": "code",
   "execution_count": 89,
   "metadata": {},
   "outputs": [],
   "source": [
    "with open(\"./testing/reference/categorized_summary_sentence_indices.json\", \"r\") as f:\n",
    "    categorized_summary_sentence_indices = json.load(f)"
   ]
  },
  {
   "cell_type": "code",
   "execution_count": 98,
   "metadata": {},
   "outputs": [],
   "source": [
    "with open(\"./testing/extracts/tf_idf/categorized_scores.json\", \"r\") as f: \n",
    "    tf_idf_extract = json.load(f)"
   ]
  },
  {
   "cell_type": "code",
   "execution_count": 95,
   "metadata": {},
   "outputs": [],
   "source": [
    "with open(\"./testing/extracts/bm25/categorized_scores.json\", \"r\") as f: \n",
    "    bm25_extract = json.load(f)"
   ]
  },
  {
   "cell_type": "code",
   "execution_count": 105,
   "metadata": {},
   "outputs": [],
   "source": [
    "with open(\"./testing/extracts/bert/categorized_scores.json\", \"r\") as f: \n",
    "    bert_extract = json.load(f)"
   ]
  },
  {
   "cell_type": "code",
   "execution_count": 127,
   "metadata": {},
   "outputs": [
    {
     "data": {
      "image/png": "[encoded data removed]",
      "text/plain": [
       "<Figure size 640x480 with 1 Axes>"
      ]
     },
     "metadata": {},
     "output_type": "display_data"
    },
    {
     "name": "stdout",
     "output_type": "stream",
     "text": [
      "Mean average precision: 0.4284003034003034\n"
     ]
    },
    {
     "data": {
      "text/plain": [
       "{'mean_precision': 0.4058880308880309,\n",
       " 'mean_recall': 0.4327231339346132,\n",
       " 'mean_f1_scores': 0.40252613832986345}"
      ]
     },
     "execution_count": 127,
     "metadata": {},
     "output_type": "execute_result"
    },
    {
     "data": {
      "image/png": "[encoded data removed]",
      "text/plain": [
       "<Figure size 640x480 with 1 Axes>"
      ]
     },
     "metadata": {},
     "output_type": "display_data"
    }
   ],
   "source": [
    "evaluation(categorized_summary_sentence_indices, tf_idf_extract, category_names=category_names, model_name=\"TF-IDF\", p=7)"
   ]
  },
  {
   "cell_type": "code",
   "execution_count": 128,
   "metadata": {},
   "outputs": [
    {
     "data": {
      "image/png": "[encoded data removed]",
      "text/plain": [
       "<Figure size 640x480 with 1 Axes>"
      ]
     },
     "metadata": {},
     "output_type": "display_data"
    },
    {
     "name": "stdout",
     "output_type": "stream",
     "text": [
      "Mean average precision: 0.37673363673363675\n"
     ]
    },
    {
     "data": {
      "text/plain": [
       "{'mean_precision': 0.40466537966537963,\n",
       " 'mean_recall': 0.4308009900972862,\n",
       " 'mean_f1_scores': 0.400979524496153}"
      ]
     },
     "execution_count": 128,
     "metadata": {},
     "output_type": "execute_result"
    },
    {
     "data": {
      "image/png": "[encoded data removed]",
      "text/plain": [
       "<Figure size 640x480 with 1 Axes>"
      ]
     },
     "metadata": {},
     "output_type": "display_data"
    }
   ],
   "source": [
    "evaluation(categorized_summary_sentence_indices, bm25_extract, category_names=category_names, model_name=\"BM25\", p=7)"
   ]
  },
  {
   "cell_type": "code",
   "execution_count": 129,
   "metadata": {},
   "outputs": [
    {
     "data": {
      "image/png": "[encoded data removed]",
      "text/plain": [
       "<Figure size 640x480 with 1 Axes>"
      ]
     },
     "metadata": {},
     "output_type": "display_data"
    },
    {
     "name": "stdout",
     "output_type": "stream",
     "text": [
      "Mean average precision: 0.4133209383209383\n"
     ]
    },
    {
     "data": {
      "text/plain": [
       "{'mean_precision': 0.358670260557053,\n",
       " 'mean_recall': 0.38175667430880933,\n",
       " 'mean_f1_scores': 0.3562491215442333}"
      ]
     },
     "execution_count": 129,
     "metadata": {},
     "output_type": "execute_result"
    },
    {
     "data": {
      "image/png": "[encoded data removed]",
      "text/plain": [
       "<Figure size 640x480 with 1 Axes>"
      ]
     },
     "metadata": {},
     "output_type": "display_data"
    }
   ],
   "source": [
    "evaluation(categorized_summary_sentence_indices, bert_extract, category_names=category_names, model_name=\"BERT - Samples\", p=7)"
   ]
  },
  {
   "cell_type": "markdown",
   "metadata": {},
   "source": [
    "subset for BERT comparison\\\n",
    "takes too long otherwise\\ \n",
    "\n",
    "TODO: \n",
    "* evaluation + first question -> Sebastian   \n",
    "* question 2, 3, 4 -> Francisco\n",
    "* question 5 and 6 -> Tuna"
   ]
  },
  {
   "cell_type": "markdown",
   "metadata": {},
   "source": [
    "B) **Summarization**"
   ]
  },
  {
   "cell_type": "markdown",
   "metadata": {},
   "source": [
    "*B.1 Summarization solution: results for a given document*"
   ]
  },
  {
   "cell_type": "code",
   "execution_count": null,
   "metadata": {},
   "outputs": [],
   "source": [
    "#code, statistics and/or charts here\n",
    "article_id = 0\n",
    "print(articles[article_id])\n",
    "summarization(article_id, p=5, l=100, o=\"rel\", I_or_D=I) "
   ]
  },
  {
   "cell_type": "markdown",
   "metadata": {},
   "source": [
    "*B.2 IR models (TF-IDF, BM25 and EBRT)*"
   ]
  },
  {
   "cell_type": "code",
   "execution_count": null,
   "metadata": {},
   "outputs": [],
   "source": [
    "#code, statistics and/or charts here"
   ]
  },
  {
   "cell_type": "markdown",
   "metadata": {},
   "source": [
    "*B.3 Reciprocal rank funsion*"
   ]
  },
  {
   "cell_type": "code",
   "execution_count": null,
   "metadata": {},
   "outputs": [],
   "source": [
    "def extract_RRF(bert_extract, bm25_extract, mu=5, p=5):\n",
    "    res_rrf = list()\n",
    "    for category_id in range(len(bert_extract)):\n",
    "        cat_res = list()\n",
    "        bert_extract_cat = bert_extract[category_id]\n",
    "        bm25_extract_cat = bm25_extract[category_id]\n",
    "        \n",
    "        for document_id in range(len(bert_extract_cat)):\n",
    "            ranks_bert = {key: rank for rank, key in enumerate(bert_extract[category_id][document_id], 1)}\n",
    "            ranks_bm25 = {key: rank for rank, key in enumerate(bm25_extract[category_id][document_id], 1)}\n",
    "            \n",
    "            scores_rrf = dict()\n",
    "            for sent_number in ranks_bm25.keys():\n",
    "                scores_rrf[sent_number] = (1/(mu + ranks_bert[sent_number])) + (1/(mu + ranks_bm25[sent_number]))\n",
    "\n",
    "            scores_rrf = sort_by_value(scores_rrf, p, reverse=True)\n",
    "            cat_res.append(scores_rrf)\n",
    "        \n",
    "        res_rrf.append(cat_res)\n",
    "        \n",
    "    return res_rrf"
   ]
  },
  {
   "cell_type": "code",
   "execution_count": null,
   "metadata": {},
   "outputs": [],
   "source": [
    "categorized_summary_sentence_indices[0][0]"
   ]
  },
  {
   "cell_type": "code",
   "execution_count": null,
   "metadata": {},
   "outputs": [],
   "source": [
    "with open(\"./testing/extracts/bert/categorized_scores.json\", \"r\") as f: \n",
    "    bert_extract = json.load(f)\n",
    "    \n",
    "with open(\"./testing/reference/categorized_summary_sentence_indices.json\", \"r\") as f:\n",
    "    categorized_summary_sentence_indices = json.load(f)\n",
    "    \n",
    "with open(\"./testing/extracts/bm25/categorized_scores.json\", \"r\") as f: \n",
    "    bm25_extract = json.load(f)\n",
    "\n",
    "bm25_extract_sliced_by_bert = list()\n",
    "summary_extract_sliced_by_bert = list()\n",
    "for i in range(len(bert_extract)):\n",
    "    bert_category_len = len(bert_extract[i])\n",
    "    bm25_extract_sliced_by_bert.append(([summ[0:bert_category_len] for summ in bm25_extract])[i])\n",
    "    summary_extract_sliced_by_bert.append(([summ[0:bert_category_len] for summ in categorized_summary_sentence_indices])[i])\n",
    "    \n",
    "rrf_extract = extract_RRF(bert_extract, bm25_extract_sliced_by_bert, mu=5, p=7)"
   ]
  },
  {
   "cell_type": "code",
   "execution_count": null,
   "metadata": {},
   "outputs": [],
   "source": [
    "evaluation(summary_extract_sliced_by_bert, rrf_extract, category_names=category_names, model_name=\"RRF(BERT & BM-25) - Sample\")"
   ]
  },
  {
   "cell_type": "code",
   "execution_count": null,
   "metadata": {},
   "outputs": [],
   "source": [
    "import itertools\n",
    "bm25_sample = [[dict(itertools.islice(d.items(), 7)) for d in sublist] for sublist in bm25_extract_sliced_by_bert]\n",
    "bert_sample = [[dict(itertools.islice(d.items(), 7)) for d in sublist] for sublist in bert_extract]"
   ]
  },
  {
   "cell_type": "code",
   "execution_count": null,
   "metadata": {},
   "outputs": [],
   "source": [
    "evaluation(summary_extract_sliced_by_bert, bm25_sample, category_names=category_names, model_name=\"BM-25 - Sample\")"
   ]
  },
  {
   "cell_type": "code",
   "execution_count": null,
   "metadata": {},
   "outputs": [],
   "source": [
    "evaluation(summary_extract_sliced_by_bert, bert_sample, category_names=category_names, model_name=\"BERT - Sample\")"
   ]
  },
  {
   "cell_type": "code",
   "execution_count": null,
   "metadata": {},
   "outputs": [],
   "source": [
    "def get_RRF(article_id, index, collection, mu=5, p=5):\n",
    "    \n",
    "    #get all scores for BERT\n",
    "    scores_bert = summarization(d=article_id, p=0, l=0, o=\"rel\", I_or_D=collection, model='BERT', bert_model=bert_model, bert_tokenizer=bert_tokenizer)\n",
    "    ranks_bert = {key: rank for rank, key in enumerate(scores_bert, 1)}\n",
    "    #get all scores of BM25\n",
    "    scores_bm25 = summarization(d=article_id, p=0, l=0, o=\"rel\", I_or_D=index, model='BM25')\n",
    "    ranks_bm25 = {key: rank for rank, key in enumerate(scores_bm25, 1)} \n",
    "    \n",
    "    #get RRF\n",
    "    scores_rrf = defaultdict(int)\n",
    "    for sent_number in ranks_bert.keys():\n",
    "        scores_rrf[sent_number] = 1/(mu + ranks_bert[sent_number]) + 1/(mu + ranks_bm25[sent_number])\n",
    "        \n",
    "    return sort_by_value(scores_rrf, p, reverse=True)\n",
    "\n",
    "article_id = map_path_to_articleID(document_path)\n",
    "print(\"ORIGINAL DOCUMENT\")\n",
    "print(articles[article_id])\n",
    "all_scores = get_RRF (article_id, I, articles, mu=5, p=5)\n",
    "all_scores = dict(sorted(all_scores.items()))\n",
    "print(\"SUMMARY\")\n",
    "sentences = nltk.sent_tokenize(articles[article_id])\n",
    "for sent_id, rank in all_scores.items(): \n",
    "    print(f\"{rank:.2f}: {sentences[sent_id]}\")"
   ]
  },
  {
   "cell_type": "markdown",
   "metadata": {},
   "source": [
    "*B.4 Maximal Marginal Relevance*"
   ]
  },
  {
   "cell_type": "markdown",
   "metadata": {},
   "source": [
    "# MMR \n",
    "Maximal Marginal Relevance (MRR) is a method that can be used to increase sentence diversity. \n",
    "\n",
    "The proposed method iteratively selects the most informative sentence according to a given IR model, adding it to the set of sentences in the summary and removing it from the document. Next sentence selection is based on the MMR score that simultaneously attempts to select sentences that are relevant and dissimilar to the sentences selected so far (non-redundancy)."
   ]
  },
  {
   "cell_type": "code",
   "execution_count": null,
   "metadata": {},
   "outputs": [],
   "source": [
    "#code, statistics and/or charts here\n",
    "summarization(10, 0, 0, 'rel', I, model='MMR-TFIDF', λ=0.5)"
   ]
  },
  {
   "cell_type": "code",
   "execution_count": null,
   "metadata": {},
   "outputs": [],
   "source": [
    "#code, statistics and/or charts here\n",
    "summarization(10, 0, 0, 'rel', I, model='MMR-TFIDF', λ=0.99)"
   ]
  },
  {
   "cell_type": "markdown",
   "metadata": {},
   "source": [
    "# Question 6: Classification Metrics Over P"
   ]
  },
  {
   "cell_type": "code",
   "execution_count": null,
   "metadata": {},
   "outputs": [],
   "source": [
    "import itertools\n",
    "\n",
    "\n",
    "def get_conf_matrix_stats(article_file_paths, index, collection, summaries):\n",
    "    conf_stats = []\n",
    "    \n",
    "    for path in article_file_paths: \n",
    "        article_id = map_path_to_articleID(path)\n",
    "        article = nltk.sent_tokenize(articles[article_id])\n",
    "\n",
    "        start_time = time.time()\n",
    "\n",
    "        #Calculating scores for all sentences using summarization function\n",
    "        scores_bm25 = summarization(d=article_id, p=0, l=0, o=\"rel\", I_or_D=index, model='BM25')\n",
    "        scores_bm25= sort_by_value(scores_bm25, 1000, reverse=True)\n",
    "        scores_tfidf = summarization(d=article_id, p=0, l=0, o=\"rel\", I_or_D=index, model='TF-IDF')\n",
    "        scores_tfidf = sort_by_value(scores_tfidf, 1000, reverse=True)\n",
    "\n",
    "        #Now we are iterating over different p to see how our summarization results under different p\n",
    "        for p in range(16):        \n",
    "            if p==0:\n",
    "                continue\n",
    "\n",
    "            #initializing tp, fp, tn, fn for the two models    \n",
    "            tp_tfidf, fp_tfidf, tn_tfidf, fn_tfidf = 0, 0, 0, 0\n",
    "            tp_bm25, fp_bm25, tn_bm25, fn_bm25 = 0, 0, 0, 0\n",
    "\n",
    "            #iterating over all sentences in our articles to classify them as tp,fp,tn,fn\n",
    "            for key in range(len(article)):\n",
    "\n",
    "                #TP, FP, TN, FN for BM-25  \n",
    "                if (key in dict(itertools.islice(scores_bm25.items(), p)).keys()) & (article[key] in summaries[article_id]):\n",
    "                    tp_bm25 +=1     \n",
    "                elif (key not in dict(itertools.islice(scores_bm25.items(), p)).keys()) & (article[key] in summaries[article_id]):\n",
    "                    fn_bm25 +=1\n",
    "                elif (key in dict(itertools.islice(scores_bm25.items(), p)).keys()) & (article[key] not in summaries[article_id]):\n",
    "                    fp_bm25 +=1\n",
    "                else:\n",
    "                    tn_bm25 +=1\n",
    "\n",
    "                #TP, FP, TN, FN for TF-IDF\n",
    "                if (key in dict(itertools.islice(scores_tfidf.items(), p)).keys()) & (article[key] in summaries[article_id]):\n",
    "                    tp_tfidf +=1     \n",
    "                elif (key not in dict(itertools.islice(scores_tfidf.items(), p)).keys()) & (article[key] in summaries[article_id]):\n",
    "                    fn_tfidf +=1\n",
    "                elif (key in dict(itertools.islice(scores_tfidf.items(), p)).keys()) & (article[key] not in summaries[article_id]):\n",
    "                    fp_tfidf +=1\n",
    "                else:\n",
    "                    tn_tfidf +=1 \n",
    "\n",
    "\n",
    "            acc_bm25 = (tp_bm25 + tn_bm25)/ (tp_bm25 + fn_bm25 + tn_bm25 + fp_bm25)\n",
    "            precision_bm25 = tp_bm25/ (tp_bm25 + fp_bm25)\n",
    "            recall_bm25 = tp_bm25/ (tp_bm25 + fn_bm25)\n",
    "            f1_bm25 = 0 if precision_bm25+recall_bm25==0 else 2 * (precision_bm25*recall_bm25) / (precision_bm25+recall_bm25)\n",
    "            specificity_bm25 = tn_bm25/ (tn_bm25 + fp_bm25)\n",
    "\n",
    "            acc_tfidf = (tp_tfidf + tn_tfidf)/ (tp_tfidf + fn_tfidf + tn_tfidf + fp_tfidf)\n",
    "            precision_tfidf = tp_tfidf/ (tp_tfidf + fp_tfidf)\n",
    "            recall_tfidf = tp_tfidf/ (tp_tfidf + fn_tfidf)\n",
    "            f1_tfidf = 0 if precision_tfidf+recall_tfidf==0 else 2 * (precision_tfidf*recall_tfidf) / (precision_tfidf+recall_tfidf)\n",
    "            specificity_tfidf = tn_tfidf/ (tn_tfidf + fp_tfidf)\n",
    "\n",
    "            #append stats\n",
    "            conf_stats.append({'article': article_id , 'p': p,\n",
    "                               'tp_bm25':tp_bm25, 'fn_bm25':fn_bm25, 'fp_bm25':fp_bm25, 'tn_bm25':tn_bm25,\n",
    "                               'acc_bm25':acc_bm25, 'precision_bm25':precision_bm25, 'recall_bm25':recall_bm25,\n",
    "                               'f1_bm25':f1_bm25, 'specificity_bm25':specificity_bm25,\n",
    "                               'tp_tfidf':tp_tfidf, 'fn_tfidf':fn_tfidf, 'fp_tfidf':fp_tfidf, 'tn_tfidf':tn_tfidf,\n",
    "                               'acc_tfidf':acc_tfidf, 'precision_tfidf':precision_tfidf, 'recall_tfidf':recall_tfidf,\n",
    "                               'f1_tfidf':f1_tfidf, 'specificity_tfidf':specificity_tfidf})\n",
    "            #print(\"article:\", article_id, \"for\", p, \"-length is done!\")\n",
    "    #print(\"time spent is:\", time.time() - start_time)           \n",
    "    return conf_stats"
   ]
  },
  {
   "cell_type": "code",
   "execution_count": null,
   "metadata": {},
   "outputs": [],
   "source": [
    "import pandas as pd\n",
    "\n",
    "conf_stats_over_p = get_conf_matrix_stats(article_file_paths, I, articles, summaries)\n",
    "conf_stats_over_p = pd.DataFrame.from_dict(conf_stats_over_p, orient='columns')"
   ]
  },
  {
   "cell_type": "code",
   "execution_count": null,
   "metadata": {},
   "outputs": [],
   "source": [
    "df_mean_p = conf_stats_over_p.iloc[:,1:].groupby('p').mean()\n",
    "df_mean_p.reset_index(drop=False, inplace=True)\n",
    "df_mean_p.plot(x='p', y=['precision_bm25', 'recall_bm25', 'f1_bm25'], title='BM-25 Mean-Performance',  grid=True, xticks=df_mean_p['p'], legend=['mean_precision_bm25', 'mean_recall_bm25', 'mean_f1_bm25'])\n",
    "df_mean_p.plot(x='p', y=['precision_tfidf', 'recall_tfidf', 'f1_tfidf'], title='TF-IDF Mean-Performance',  grid=True, xticks=df_mean_p['p'], legend=['mean_precision_bm25', 'mean_recall_bm25', 'mean_f1_bm25'])"
   ]
  },
  {
   "cell_type": "code",
   "execution_count": null,
   "metadata": {},
   "outputs": [],
   "source": [
    "df_art_p = conf_stats_over_p.iloc[:,1:].groupby('p').sum()\n",
    "df_art_p.reset_index(drop=False, inplace=True)\n",
    "\n",
    "df_art_p['acc_bm25'] = (df_art_p['tp_bm25'] + df_art_p['tn_bm25'])/ (df_art_p['tp_bm25'] + df_art_p['fn_bm25'] + df_art_p['tn_bm25'] + df_art_p['fp_bm25'])\n",
    "df_art_p['precision_bm25'] = df_art_p['tp_bm25']/ (df_art_p['tp_bm25'] + df_art_p['fp_bm25'])\n",
    "df_art_p['recall_bm25'] = df_art_p['tp_bm25']/ (df_art_p['tp_bm25'] + df_art_p['fn_bm25'])\n",
    "df_art_p['f1_bm25'] = df_art_p.apply(lambda x: 0 if (x['precision_bm25'] + x['recall_bm25'])==0 else 2 * (x['precision_bm25']*x['recall_bm25']) / (x['precision_bm25']+x['recall_bm25']),  axis=1)\n",
    "df_art_p['specificity_bm25'] = df_art_p['tn_bm25']/ (df_art_p['tn_bm25'] + df_art_p['fp_bm25'])\n",
    "\n",
    "df_art_p['acc_tfidf'] = (df_art_p['tp_tfidf'] + df_art_p['tn_tfidf'])/ (df_art_p['tp_tfidf'] + df_art_p['fn_tfidf'] + df_art_p['tn_tfidf'] + df_art_p['fp_tfidf'])\n",
    "df_art_p['precision_tfidf'] = df_art_p['tp_tfidf']/ (df_art_p['tp_tfidf'] + df_art_p['fp_tfidf'])\n",
    "df_art_p['recall_tfidf'] = df_art_p['tp_tfidf']/ (df_art_p['tp_tfidf'] + df_art_p['fn_tfidf'])\n",
    "df_art_p['f1_tfidf'] = df_art_p.apply(lambda x: 0 if (x['precision_tfidf'] + x['recall_tfidf'])==0 else 2 * (x['precision_tfidf']*x['recall_tfidf']) / (x['precision_tfidf']+x['recall_tfidf']),  axis=1)\n",
    "df_art_p['specificity_tfidf'] = df_art_p['tn_tfidf']/ (df_art_p['tn_tfidf'] + df_art_p['fp_tfidf'])\n",
    "\n",
    "df_art_p.plot(x='p', y=['precision_bm25', 'recall_bm25', 'f1_bm25'], title='BM-25 Performance Over The Collection',  grid=True, xticks=df_art_p['p'])\n",
    "df_art_p.plot(x='p', y=['precision_tfidf', 'recall_tfidf', 'f1_tfidf'], title='TF-IDF Performance Over The Collection',  grid=True, xticks=df_art_p['p'])\n"
   ]
  },
  {
   "cell_type": "markdown",
   "metadata": {},
   "source": [
    "C) **Keyword extraction**"
   ]
  },
  {
   "cell_type": "code",
   "execution_count": null,
   "metadata": {},
   "outputs": [],
   "source": [
    "#code, statistics and/or charts here\n",
    "article_id = 0\n",
    "print(articles[article_id])\n",
    "keyword_extraction(article_id, 10, I)"
   ]
  },
  {
   "cell_type": "markdown",
   "metadata": {},
   "source": [
    "D) **Evaluation**"
   ]
  },
  {
   "cell_type": "code",
   "execution_count": null,
   "metadata": {},
   "outputs": [],
   "source": [
    "#code, statistics and/or charts here"
   ]
  },
  {
   "cell_type": "markdown",
   "metadata": {},
   "source": [
    "<H3>Part II: questions materials (optional)</H3>"
   ]
  },
  {
   "cell_type": "markdown",
   "metadata": {},
   "source": [
    "**(1)** Corpus *D* and summaries *S* description."
   ]
  },
  {
   "cell_type": "code",
   "execution_count": null,
   "metadata": {},
   "outputs": [],
   "source": [
    "import statistics\n",
    "from matplotlib import pyplot as plt\n",
    "import numpy as np"
   ]
  },
  {
   "cell_type": "code",
   "execution_count": null,
   "metadata": {},
   "outputs": [],
   "source": [
    "def get_number_of_sentences(documents: list) -> list: \n",
    "    number_of_sentences = list()\n",
    "    for document in documents: \n",
    "        sents = sent_tokenize(document) \n",
    "        number_of_sentences.append(len(sents))\n",
    "    return number_of_sentences"
   ]
  },
  {
   "cell_type": "code",
   "execution_count": null,
   "metadata": {},
   "outputs": [],
   "source": [
    "def get_statistics(documents: list) -> Union[float, float, float]: \n",
    "    number_of_sentences = get_number_of_sentences(documents)\n",
    "    mean = statistics.mean(number_of_sentences)\n",
    "    median = statistics.median(number_of_sentences)\n",
    "    std = statistics.stdev(number_of_sentences)\n",
    "    return mean, std, median "
   ]
  },
  {
   "cell_type": "code",
   "execution_count": null,
   "metadata": {},
   "outputs": [],
   "source": [
    "def plot_distribution(documents: list):\n",
    "    number_of_sentences = get_number_of_sentences(documents)\n",
    "    mean, std, median = get_statistics(documents)\n",
    "    plt.hist(number_of_sentences, bins=80)\n",
    "    plt.title(f\"mean: {mean:.2f}, std: {std:.2f}, median: {median:.2f}\")\n",
    "    plt.xlabel(\"Number of sentences\")\n",
    "    plt.ylabel(\"Frequency\")\n",
    "    plt.show()"
   ]
  },
  {
   "cell_type": "code",
   "execution_count": null,
   "metadata": {},
   "outputs": [],
   "source": [
    "#code, statistics and/or charts here\n",
    "\n",
    "# average number of sentences \n",
    "mean, std, median = get_statistics(articles)\n",
    "plot_distribution(articles)\n",
    "print(f\"Mean: {mean}\")\n",
    "print(f\"Standard deviation: {std}\")\n",
    "print(f\"Median: {median}\")"
   ]
  },
  {
   "cell_type": "code",
   "execution_count": null,
   "metadata": {},
   "outputs": [],
   "source": [
    "##mean, std, median = get_statistics(summaries)\n",
    "#plot_distribution(summaries)\n",
    "#print(f\"Mean: {mean}\")\n",
    "##print(f\"Standard deviation: {std}\")\n",
    "#print(f\"Median: {median}\")"
   ]
  },
  {
   "cell_type": "markdown",
   "metadata": {},
   "source": [
    "Number of Articles in 'tech' Category: 401\\\n",
    "Number of Articles in 'entertainment' Category: 386\\\n",
    "Number of Articles in 'sport' Category: 511\\\n",
    "Number of Articles in 'business' Category: 510\\\n",
    "Number of Articles in 'politics' Category: 417"
   ]
  },
  {
   "cell_type": "code",
   "execution_count": null,
   "metadata": {},
   "outputs": [],
   "source": [
    "#number_of_sentences = [len(l) for l in flatten(categorized_summary_sentence_indices[0])]\n",
    "number_of_sentences = [len(l) for l in categorized_summary_sentence_indices[4]]\n",
    "mean = statistics.mean(number_of_sentences)\n",
    "median = statistics.median(number_of_sentences)\n",
    "std = statistics.stdev(number_of_sentences)\n",
    "plt.hist(number_of_sentences, 15)\n",
    "plt.title(f\"mean: {mean:.2f}, std: {std:.2f}, median: {median:.2f}\")\n",
    "plt.xlabel(\"Number of sentences\")\n",
    "plt.ylabel(\"Frequency\")\n",
    "plt.show()"
   ]
  },
  {
   "cell_type": "code",
   "execution_count": null,
   "metadata": {},
   "outputs": [],
   "source": [
    "term_info = I.get_term_info(\"dance\")\n",
    "term_frequencies = list(term_info.values())\n",
    "\n",
    "\n",
    "mean = statistics.mean(term_frequencies)\n",
    "median = statistics.median(term_frequencies)\n",
    "std = statistics.stdev(term_frequencies)\n",
    "plt.hist(term_frequencies, len(set(term_frequencies)))\n",
    "plt.title(f\"mean: {mean:.2f}, std: {std:.2f}, median: {median:.2f}\")\n",
    "plt.xlabel(\"Term Frequency Score\")\n",
    "plt.ylabel(\"Frequency\")\n",
    "plt.show()\n",
    "t = 0"
   ]
  },
  {
   "cell_type": "code",
   "execution_count": null,
   "metadata": {},
   "outputs": [],
   "source": [
    "term_info = I.get_term_info(\"say\")\n",
    "#term_frequencies = list(term_info.values())\n",
    "\n",
    "plot_dict = dict() \n",
    "for i in range(N): \n",
    "    plot_dict[i] = 0\n",
    "\n",
    "plot_dict.update(term_info)\n",
    "\n",
    "mean = statistics.mean(list(plot_dict.values()))\n",
    "median = statistics.median(list(plot_dict.values()))\n",
    "std = statistics.stdev(list(plot_dict.values()))\n",
    "\n",
    "plt.plot(list(plot_dict.keys()), list(plot_dict.values()))\n",
    "plt.title(f\"mean: {mean:.2f}, std: {std:.2f}, median: {median:.2f}\")\n",
    "plt.xlim(0)\n",
    "plt.xlabel(\"Document ID\")\n",
    "plt.ylabel(\"Frequency\")\n",
    "plt.show()\n",
    "t = 0"
   ]
  },
  {
   "cell_type": "markdown",
   "metadata": {},
   "source": [
    "**(2)** Summarization performance for the overall and category-conditional corpora."
   ]
  },
  {
   "cell_type": "code",
   "execution_count": null,
   "metadata": {},
   "outputs": [],
   "source": [
    "#code, statistics and/or charts here"
   ]
  },
  {
   "cell_type": "markdown",
   "metadata": {},
   "source": [
    "**...** (additional questions with empirical results)"
   ]
  },
  {
   "cell_type": "markdown",
   "metadata": {},
   "source": [
    "<H3>END</H3>"
   ]
  }
 ],
 "metadata": {
  "kernelspec": {
   "display_name": "Python 3 (ipykernel)",
   "language": "python",
   "name": "python3"
  },
  "language_info": {
   "codemirror_mode": {
    "name": "ipython",
    "version": 3
   },
   "file_extension": ".py",
   "mimetype": "text/x-python",
   "name": "python",
   "nbconvert_exporter": "python",
   "pygments_lexer": "ipython3",
   "version": "3.11.5"
  }
 },
 "nbformat": 4,
 "nbformat_minor": 4
}
